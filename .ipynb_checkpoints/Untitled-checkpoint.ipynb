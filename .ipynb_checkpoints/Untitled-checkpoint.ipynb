{
 "cells": [
  {
   "cell_type": "markdown",
   "id": "8ab950b4-0c35-4685-bb52-1375da489536",
   "metadata": {
    "editable": true,
    "slideshow": {
     "slide_type": ""
    },
    "tags": []
   },
   "source": [
    "# <center>__Képfeldolgozás__<center> #\n",
    "#### <center>Készítette: Váradi Sándor<center> ####"
   ]
  },
  {
   "cell_type": "raw",
   "id": "1e142a0d-5dbf-4ded-8b79-b472289cc781",
   "metadata": {},
   "source": [
    "Bla bla"
   ]
  },
  {
   "cell_type": "code",
   "execution_count": null,
   "id": "ef703149-81f3-4cad-9dff-25218871e449",
   "metadata": {},
   "outputs": [],
   "source": [
    "pip install opencv-python"
   ]
  },
  {
   "cell_type": "code",
   "execution_count": null,
   "id": "98eac5b6-7914-41f6-8293-a36b33d253c3",
   "metadata": {},
   "outputs": [],
   "source": [
    "import cv2"
   ]
  },
  {
   "cell_type": "code",
   "execution_count": null,
   "id": "b956a255-035a-4119-8e60-1f482a5969f2",
   "metadata": {},
   "outputs": [],
   "source": [
    "img_grayscale = cv2.imread('img/Lenna.png',0)\n",
    "cv2.imshow('graycsale image',img_grayscale)\n",
    "cv2.waitKey(0)\n",
    "cv2.destroyAllWindows()\n",
    "cv2.imwrite('grayscale.jpg',img_grayscale)"
   ]
  },
  {
   "cell_type": "code",
   "execution_count": null,
   "id": "b6887fce-1590-421a-820a-e22194e7f72f",
   "metadata": {},
   "outputs": [],
   "source": []
  },
  {
   "cell_type": "code",
   "execution_count": null,
   "id": "00c31db6-f4c4-4d5d-b040-ea0ec491786b",
   "metadata": {},
   "outputs": [],
   "source": []
  }
 ],
 "metadata": {
  "kernelspec": {
   "display_name": "Python 3 (ipykernel)",
   "language": "python",
   "name": "python3"
  },
  "language_info": {
   "codemirror_mode": {
    "name": "ipython",
    "version": 3
   },
   "file_extension": ".py",
   "mimetype": "text/x-python",
   "name": "python",
   "nbconvert_exporter": "python",
   "pygments_lexer": "ipython3",
   "version": "3.11.4"
  }
 },
 "nbformat": 4,
 "nbformat_minor": 5
}
