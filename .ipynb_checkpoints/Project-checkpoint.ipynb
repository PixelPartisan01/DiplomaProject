{
 "cells": [
  {
   "cell_type": "markdown",
   "id": "90ec2938-341d-4c87-bb78-d6ec3aeb2ff6",
   "metadata": {
    "editable": true,
    "slideshow": {
     "slide_type": "slide"
    },
    "tags": []
   },
   "source": [
    "# <div STYLE=\"width:65%;margin:auto;\" align = \"center\"><a id=\"1\"><center>__Képfeldolgozás__</center></a></div> #\n",
    "<font size=\"2\"><center>`Írta: Váradi Sándor`<center></font><br><br>"
   ]
  },
  {
   "cell_type": "markdown",
   "id": "06eb313f-b2f3-4308-8105-1f177d2063ab",
   "metadata": {},
   "source": [
    "# <div STYLE=\"width:70%;margin:auto;\" align = \"center\"><br><a id=\"index\"><center>Tartalomjegyzék<center></a></div> #"
   ]
  },
  {
   "cell_type": "markdown",
   "id": "38e0f492-51c8-4fa2-ad6a-f5ebef0712ec",
   "metadata": {},
   "source": [
    "<div STYLE=\"width:65%;margin:auto;align: center\">\n",
    "<p><a href=\"#1\">Képfeldolgozás</a><br></p>\n",
    "<p><a href=\"#index\">Tartalomjegyzék</a><br></p>\n",
    "<p STYLE=\"text-indent: 25px;\"><a href=\"#1.1\">A képfeldolgozás és annak nehézségei</a></p>\n",
    "<p STYLE=\"text-indent: 25px;\"><a href=\"#1.2\">A képek matematikai háttere</a></p>\n",
    "    <p STYLE=\"text-indent: 50px;\"><a href=\"#1.21\">Önellenőrző teszt</a></p>\n",
    "<p STYLE=\"text-indent: 25px;\"><a href=\"#1.3\">Képek előfeldolgozása</a></p>\n",
    "    <p STYLE=\"text-indent: 50px;\"><a href=\"#1.31\">Pixelfényerő transzformáció</a></p>\n",
    "        <p STYLE=\"text-indent: 75px;\"><a href=\"#1.311\">Szürkeárnyalatos transzformáció</a></p>\n",
    "        <p STYLE=\"text-indent: 75px;\"><a href=\"#1.312\">Hisztogram kiegyenlítés</a></p>\n",
    "    <p STYLE=\"text-indent: 50px;\"><a href=\"#1.32\">Szűrés</a></p>\n",
    "        <p STYLE=\"text-indent: 75px;\"><a href=\"#1.321\">Zaj szűrése</a></p>\n",
    "<p STYLE=\"text-indent: 25px;\"><a href=\"#1.4\">Matematikai Morfológia</a></p>\n",
    "    <p STYLE=\"text-indent: 50px;\"><a href=\"#1.41\">Dilatáció és Erózió</a></p>\n",
    "    <p STYLE=\"text-indent: 50px;\"><a href=\"#1.42\">Nyitás és Zárás</a></p>\n",
    "    <p STYLE=\"text-indent: 50px;\"><a href=\"#1.43\">\"Hit-or-Miss\" transzformáció</a></p>\n",
    "<p STYLE=\"text-indent: 25px;\"><a href=\"#1.5\">Fourier-transzformáció</a></p>\n",
    "    <p STYLE=\"text-indent: 50px;\"><a href=\"#1.51\">Ideális Aluláteresztő szűrő</a></p>\n",
    "    <p STYLE=\"text-indent: 50px;\"><a href=\"#1.52\">Ideális Felüláteresztő Szűrő</a></p>\n",
    "    <p STYLE=\"text-indent: 50px;\"><a href=\"#1.53\">Butterworth Szűrő</a></p>\n",
    "    <p STYLE=\"text-indent: 50px;\"><a href=\"#1.54\">Gauss Szűrő</a></p>\n",
    "    <p STYLE=\"text-indent: 50px;\"><a href=\"#1.55\">Mire használhatunk aluláteresztő szűrőt?</a></p>\n",
    "    <p STYLE=\"text-indent: 50px;\"><a href=\"#1.56\">Mire használhatunk felüláteresztő szűrőt?</a></p>\n",
    "    <p STYLE=\"text-indent: 50px;\"><a href=\"#1.57\">Sávszűrők</a></p>\n",
    "    <p STYLE=\"text-indent: 50px;\"><a href=\"#1.58\">Sávzáró szűrők</a></p>\n",
    "<p STYLE=\"text-indent: 25px;\"><a href=\"#1.6\">Szegmentáció</a></p>\n",
    "    <p STYLE=\"text-indent: 50px;\"><a href=\"#1.61\">Él alapú szegmentáció</a></p>\n",
    "        <p STYLE=\"text-indent: 75px;\"><a href=\"#1.611\">Belsőhatár-követés</a></p>\n",
    "        <p STYLE=\"text-indent: 75px;\"><a href=\"#1.612\">Külsőhatár-követés</a></p>\n",
    "        <p STYLE=\"text-indent: 75px;\"><a href=\"#1.613\">Éldetektorok</a></p>\n",
    "<p><a href=\"#2\">Felhasznált irodalom</a><br></p>\n",
    "</div>"
   ]
  },
  {
   "cell_type": "markdown",
   "id": "499c4fd9-cdcf-47f0-9f93-dd73d6a33739",
   "metadata": {
    "editable": true,
    "slideshow": {
     "slide_type": "slide"
    },
    "tags": []
   },
   "source": [
    "## <div STYLE=\"width:70%;margin:auto;\" align = \"center\"><br><a id=\"1.1\"><center>A képfeldolgozás és annak nehézségei<center></a></div> ##"
   ]
  },
  {
   "cell_type": "markdown",
   "id": "bf75d6d8-2fd1-413d-b344-f9cdfdd9f277",
   "metadata": {
    "editable": true,
    "slideshow": {
     "slide_type": "subslide"
    },
    "tags": []
   },
   "source": [
    "<div STYLE=\"width:65%;margin:auto;text-align:justify; align: center\"><p STYLE = \"text-align:justify\">Számunkra a világ megértésében, elengedhetetlen szerepet játszik az érzékelés, többek között a látás. Így, ha mesterséges úton kívánunk olyan intelligenciát létrehozni (MI), amely az emberi intelligenciát hivatott imitálni, a látás szintén egy elengedhetetlen tényező. Viszont egy számítógép felépítése igencsak eltér az emberétől, így a gépi látás egyáltalán nem egy triviális probléma. Egyrészről szeretnénk a képeket az ember számára felfogható, másrészről pedig a gép számára értelmezhető  formába alakítani. A képfeldolgozás pontosan ezekre a problémákra keresi a megoldást.</p></div>"
   ]
  },
  {
   "cell_type": "markdown",
   "id": "4953c455-713c-4347-a31b-7d0f25c3951e",
   "metadata": {
    "editable": true,
    "raw_mimetype": "",
    "slideshow": {
     "slide_type": "subslide"
    },
    "tags": []
   },
   "source": [
    "<div STYLE=\"width:65%;margin:auto;text-align:justify; align: center\">\n",
    "    <p STYLE=\"text-align:justify\">Habár képfeldolgozásról hivatalosan az 1960-as évektől kezdve beszélhetünk, a legelső digitális képfeldolgozás már az 1920-as években megtörtént, amikor Londonból New York-ba küldtek képeket víz alatti kábeleken keresztül.<br>1964-ben a <i>Ranger 7</i> nevezetű űrszonda sikeresen képeket továbbított a hold felszínéről. A hold felszínének számítógépes feltérképezése hatalmas siker volt.<br>A 2000-es évekre az általános célú számítógépek gyors elterjedésével a digitális képfeldolgozás lett a leggyakoribb képfeldolgozási forma.\n",
    "    </p>\n",
    "</div>"
   ]
  },
  {
   "cell_type": "markdown",
   "id": "841d25c8-02ff-4c3c-b795-962510be06c3",
   "metadata": {
    "editable": true,
    "slideshow": {
     "slide_type": "subslide"
    },
    "tags": []
   },
   "source": [
    "<div STYLE=\"width:65%;margin:auto;text-align:justify; align: center\">\n",
    "    <p>A számítógépes képfeldolgozás során különféle nehézségekkel kel szembenéznünk. Az alábbi lista tartalmaz ezek közül egy párat:\n",
    "    <ul STYLE=\"text-align:justify\">\n",
    "        <li>Információ veszteség 3D-ből 2D-be alakítás során</li>\n",
    "            <dd>A képrögzítő eszközök (pl.: kamerák) általában csak 2D-ben tudnak rögzíteni, és csak egy szögből, így nehézséget jelenthet az objektumok térben való elhelyezkedésének megállapítása.</dd>\n",
    "        <li>Kép értelmezése</li>\n",
    "            <dd>Akárcsak számunkra, a számítógép számára is nehézséget okozhat a kép, illetve az azon megjelenő formák, objektumok felismerése, értelmezése.</dd>\n",
    "        <li>Zaj</li>\n",
    "            <dd>A túl sok zaj a kép olyan mértékű torzulásához vezethet, amelynél az eredeti információ visszaállítása nagyon nehéz, vagy akár nem is lehetséges.</dd>\n",
    "        <li>Túl sok adat</li>\n",
    "            <dd>Nagy felbontású képek lassíthatják a képfeldolgozási algoritmusokat.</dd>\n",
    "    </ul><br>\n",
    "    </p>\n",
    "</div>"
   ]
  },
  {
   "cell_type": "markdown",
   "id": "5c9bf324-ca9f-4436-bf75-173733c4f065",
   "metadata": {
    "editable": true,
    "slideshow": {
     "slide_type": "fragment"
    },
    "tags": []
   },
   "source": [
    "<div STYLE=\"width:70%;margin:auto;\" align = \"center\">\n",
    "    <div class=\"alert alert-block alert-info\">\n",
    "        <center><b>Feladat:</b> Próbáld meg megállapítani, hogy mit ábrázol az alábbi kép</center>\n",
    "    </div>\n",
    "</div>"
   ]
  },
  {
   "cell_type": "markdown",
   "id": "7110e981-4d7d-4d1f-807e-d3dbf41fc23a",
   "metadata": {
    "editable": true,
    "slideshow": {
     "slide_type": "fragment"
    },
    "tags": []
   },
   "source": [
    "<div STYLE=\"width:65%;margin:auto;\" align = \"center\">\n",
    "    <center>\n",
    "        <figure>\n",
    "            <img src=\"img/ezmiez.jpg\" alt=\"Mi van a képen?\" style=\"width:40%;padding:20px\">\n",
    "            <figcaption>Ez meg mi?</figcaption>\n",
    "        </figure>\n",
    "    </center>\n",
    "</div>"
   ]
  },
  {
   "cell_type": "raw",
   "id": "ccfcfe1f-5ef4-4c34-97c7-f6a12c89bbac",
   "metadata": {},
   "source": [
    "A jupyter valamiért teljesen tönkreteszi a LateX kódokat amiket írok."
   ]
  },
  {
   "cell_type": "code",
   "execution_count": null,
   "id": "a576fd1d-2ab4-449e-bcb5-789d83824b90",
   "metadata": {
    "editable": true,
    "slideshow": {
     "slide_type": ""
    },
    "tags": [
     "hide_output"
    ]
   },
   "outputs": [],
   "source": [
    "pip install jupyterquiz==2.7.0a3 jupytercards opencv-python -q"
   ]
  },
  {
   "cell_type": "code",
   "execution_count": null,
   "id": "c470caf0-16c8-440d-9681-69e8d1ae400e",
   "metadata": {
    "editable": true,
    "slideshow": {
     "slide_type": "fragment"
    },
    "tags": [
     "card"
    ]
   },
   "outputs": [],
   "source": [
    "#Ha nem jelenik meg a kártya, futtasd le a kódot\n",
    "#from jupytercards import md2json, display_flashcards\n",
    "#import json\n",
    "#\n",
    "#with open('flashcards/flashcard_1.json', encoding='utf-8') as fc:\n",
    "#    data = json.load(fc)\n",
    "#    #print(data)\n",
    "#    display_flashcards(data)"
   ]
  },
  {
   "cell_type": "markdown",
   "id": "d9f751e3-faa1-42b3-8e41-f30ed9643c0d",
   "metadata": {
    "editable": true,
    "slideshow": {
     "slide_type": ""
    },
    "tags": []
   },
   "source": [
    "<div STYLE=\"width:65%;margin:auto;text-align:justify; align: center\">\n",
    "    <p STYLE=\"text-align:justify\"><img src=\"img/Amesroom.jpg\" alt=\"Ames szoba?\" STYLE=\"width:40%;margin-left:20px;float:right\">Tény, hogy a fenti kép elég becsapós volt, de tekintüsk meg a következő képet. Annak ellenére, hogy felismerjük rajta az embereket, a méretek valahogy nem tűnnek helyesnek. Az illúziót egyébként egy úgynevezett <i>Ames szobában</i> lehet elérni, ahol a padló és a szoba hátsó fala, direkt nem vízszintes.\n",
    "    </p>\n",
    "</div>"
   ]
  },
  {
   "cell_type": "markdown",
   "id": "4ba98327-5dc7-48cb-b2cd-e8e8f108e90c",
   "metadata": {},
   "source": [
    "## <div STYLE=\"width:65%;margin:auto;\" align = \"center\"><br><a id=\"1.2\"><center>A képek matematikai háttere</center></a></div> ##"
   ]
  },
  {
   "cell_type": "markdown",
   "id": "3e3b4575-397b-4951-8fd4-3ba4c999ac15",
   "metadata": {},
   "source": [
    "><div STYLE=\"width:65%;margin:auto;text-align:justify; align: center\">\n",
    "    <p STYLE=\"text-align:justify\"><i>\n",
    "        <b>Definíció:</b></i> A $Z_n$ halmaz egy $n$ dimenziós digitális sík, elemei pontok. A digitális sík egy véges és nem üres részhalmaza, $n$ dimenziós digitális halmaz.<br>\n",
    "Legyen $f:X \\rightarrow \\{ 0,1,...,m-1 \\}, (m \\in N)$ egy függvény $X$ digitális halmaz felett értelmezve. Ezt a függvényt tekinthetjük egy digitális képnek, amely a szürke szín $m$ darab árnyalatból épül fel (szürkeségi szint).<br>\n",
    "A $(p, f(p)),$ $(p \\in X)$ <i>pixel</i>nek (<i>picture (x) element</i>) nevezzük, ahol $p$ a pixel koordinátája és $f(p)$ az adott koordinátán lévő pixel szürkeségi szintjét megadó függvény.\n",
    "    </p>\n",
    "</div>"
   ]
  },
  {
   "attachments": {},
   "cell_type": "markdown",
   "id": "260d31b2-2509-42a0-996c-db0cfecfe75a",
   "metadata": {},
   "source": [
    "><div STYLE=\"width:65%;margin:auto;text-align:justify; align: center\">\n",
    "    <p STYLE=\"text-align:justify\"><i>\n",
    "        <b>Definíció:</b></i> Legyen $f$ egy digitális kép adott $X$ digitális halmaz felett. Azt az $f$ digitális képet, amelynek szürkeségi szintje $2$ (azaz csak két árnyalatból épül fel), bináris képnek hívjuk, ahol $F=\\{ p \\in X | f(p)=1 \\}$ az előtér (<i>foreground</i>), $B = \\{ p \\in X |f(p) = 0 \\}$ a háttér (<i>background</i>). </p>\n",
    "    <center>\n",
    "        <figure>\n",
    "            <img STYLE=\"float:bottom;margin-left:15px;\" src=\"img/binary_image.png\">\n",
    "            <figcaption>Előtér és Háttér pixelek</figcaption>\n",
    "        </figure>\n",
    "    </center>\n",
    "</div>\n"
   ]
  },
  {
   "cell_type": "markdown",
   "id": "110ff446-deb4-4049-83b3-88217608d16e",
   "metadata": {},
   "source": [
    "### <div STYLE=\"width:65%;margin:auto;\" align = \"center\"><br><a id=\"1.21\"><center>Önellenőrző teszt</center></a></div> ###"
   ]
  },
  {
   "cell_type": "code",
   "execution_count": null,
   "id": "2898480a-6598-4624-acf5-7aee629c411c",
   "metadata": {},
   "outputs": [],
   "source": [
    "#Ha nem látod a tesztet futtasd le ezt a kódot!\n",
    "from jupyterquiz import display_quiz\n",
    "import json\n",
    "\n",
    "with open('questions/quiz_1.2.json', encoding='utf-8') as q:\n",
    "    quiz = json.load(q)\n",
    "    #print(data)\n",
    "    display_quiz(quiz)"
   ]
  },
  {
   "cell_type": "markdown",
   "id": "460b7109-ea86-4841-9340-a5935d83490a",
   "metadata": {},
   "source": [
    "## <div STYLE=\"width:65%;margin:auto;\" align = \"center\"><br><a id=\"1.3\"><center>Képek előfeldolgozása</center></a></div> ##"
   ]
  },
  {
   "cell_type": "markdown",
   "id": "30c41f2b-d913-48a3-9877-9162fdff6557",
   "metadata": {
    "editable": true,
    "slideshow": {
     "slide_type": ""
    },
    "tags": []
   },
   "source": [
    "<div STYLE=\"width:65%;margin:auto;text-align:justify; align: center\">\n",
    "    <p>\n",
    "    <div width=\"inherit\" STYLE=\"float:right;margin-left:20px;\">\n",
    "        <center><img width=\"60%\" src=\"img/Lenna_grayscale.jpg\" ><br><p STYLE=\"text-align:center\">Lenna szürkeárnyalatos képként tekinthető intenzitás képnek</p></center></div>\n",
    "        A képek előfeldolgozása alatt azt a folyamatot értjük, amely során a kép által tárolt adatokat, vagy a kép bizonyos jellemzőit javítjuk, esetleg a képen geometriai transzformációkat hajtunk végre további feldolgozás céljából. A folyamatot <i>intenzitás képeken</i> hajtjuk végre és a folyamat végén intenzitás képeket is kapunk vissza [Megjegyzés: az intenzitás képek alatt olyan adatmátrixokat értünk, amely a kép pixeleinek intenzitását reprezentálja egy bizonyos tartományon belül. Ilyen képek például a szürkeárnyalatos képek, ahol a pixelek intenzitás értéke $0$ és $1$ között mozog].<br><br>\n",
    "        A kép-előfeldolgozásnak a következő négy kategóriáját tudjuk elkülöníteni:\n",
    "        <ul>\n",
    "            <li>\n",
    "                Pixelfényerő transzformáció\n",
    "            </li>\n",
    "            <li>\n",
    "                Geometriai transzformáció\n",
    "            </li>\n",
    "            <li>\n",
    "                Képfeldolgozás lokális szomszédság felhasználásával\n",
    "            </li>\n",
    "            <li>\n",
    "                Képhelyreállítás\n",
    "            </li>\n",
    "        </ul>\n",
    "        <p STYLE=\"text-align:justify\">Ezen kategóriák közül fogunk példákat nézni néhányra az elkövetkező fejezetekben.</p>\n",
    "    </p>\n",
    "</div>"
   ]
  },
  {
   "cell_type": "markdown",
   "id": "b1cf2fbc-2434-48d1-8069-94d525ab73ee",
   "metadata": {},
   "source": [
    "### <div STYLE=\"width:65%;margin:auto;\" align = \"center\"><br><a id=\"1.31\"><center>Pixelfényerő transzformáció</center></a></div> ###\n",
    "<p STYLE=\"text-align:center;color:gray\">Pixel brightness transformation</p>"
   ]
  },
  {
   "cell_type": "markdown",
   "id": "59de8dfa-c260-4b3d-a2c1-777b081484db",
   "metadata": {},
   "source": [
    "<div STYLE=\"width:65%;margin:auto;text-align:justify; align: center\">\n",
    "    <p STYLE=\"text-align:justify\">\n",
    "        Talán az elnevezésből nem volt annyira nehéz kikövetkeztetni, hogy ez a transzformáció a pixelek fényerejét módosítja. A képfeldolgozási metódusok közül ez az egyik legegyszerűbb. Két fajtáját különböztetjük meg: szürkeárnyalatos transzformációk (<i>gray-scale transformation</i>) és fényerő korrekciók (<i>brightness corrections</i>).\n",
    "    </p>\n",
    "</div>"
   ]
  },
  {
   "cell_type": "markdown",
   "id": "e11cb493-c851-4d07-97ea-eacf72b3e07f",
   "metadata": {},
   "source": [
    "#### <div STYLE=\"width:65%;margin:auto;\" align = \"center\"><br><a id=\"1.311\"><center>Szürkeárnyalatos transzformáció</center></a></div> ####\n",
    "<p STYLE=\"text-align:center;color:gray\">Gray-scale transformation</p>"
   ]
  },
  {
   "cell_type": "markdown",
   "id": "d089421a-9109-4589-abd9-613bb7131ee7",
   "metadata": {},
   "source": [
    "<div STYLE=\"width:65%;margin:auto;text-align:justify; align: center\">\n",
    "    <p STYLE=\"text-align:justify\">A szürkeárnyalatos transzformációk, olyan metódusok, amelyek a pixelek fényerejét szeretnék $[p_0,p_k]$ tartomány beli értékekről, egy új $[q_0,q_k]$ tartománybeli értékre alakítani. Erre az egyik leggyakrabban használt szakaszonként megadott lineáris függvény, a fényerő küszöbölés [<i>brightness thresholding</i>].\n",
    "    </p>\n",
    "    <p STYLE=\"text-align:justify\">A módszer lénygében a következő: \n",
    "        <ul>\n",
    "            <li>Vegyünk fel $n$ küszöbértéket, jelöljük ezeket $k$-val ($k_0,k_1,...,k_n$).</li>\n",
    "            <li>Létrejött $n+1$ darab tartományunk, mindegyikhez határozzunk meg egy szürkeségi szint értéket.</li>\n",
    "            <li>Minden egyes pixel értékét, attól függően, hogy melyik tartományba esnek, írjuk felül a tartományhoz rendelt szürkeségi értékkel.</li>\n",
    "        </ul>\n",
    "    A módszer nagyszerűen használható a képek fekete-fehérré alakításhoz, avagy binarizációjához (ekkor $n=1$).\n",
    "    </p>\n",
    "    <p STYLE=\"text-align:justify\">\n",
    "        Hogy könnyebben megértsük miről is van szó, nézzünk meg egy példát. \n",
    "    </p>\n",
    "</div>"
   ]
  },
  {
   "cell_type": "markdown",
   "id": "55ea6e50-834b-475d-b79c-ca7e5664f777",
   "metadata": {},
   "source": [
    "<div STYLE=\"width:65%;margin:auto;text-align:justify; align: center\">\n",
    "    <p STYLE=\"text-align:justify\">Az alábbi grafikon egy szürkeárnyalatos kép hisztogramját ábrázolja, ahol az i tengely a szürkeségi szinteket ($[0.0,1.0]$) reprezentálja, a $h(i)$ tengely, pedig azt mondja el nekünk, hogy az adott szürkeségi szinttel rendelkező pixelekből hány darab található a képen. Jelöljünk ki egy $k$ küszöbértéket. A küszöbérték kiválasztásában segíthet, a hisztogram, a lenti példában a küszöbértékként azt a szürkeárnyalatot választottuk, amelyből a legkevesebb van a képen. Ezzel létrejött két tartományom, az egyikben a pixelek világossági értéke kisebb, a másikban bedig nagyobb vagy egyenlő, mint $k$. Az első tartományhoz hozzárendeljük a $0$ (azaz fekete), a másodikhoz pedig a $1$ (azaz fehér) világossági értéket. Azoknak a pixeleknek, amelyeknek az eredeti értékük $k$−nál kisebb volt, az új értékük $0$, a többi pixelnek pedig $1$ lesz.</p>\n",
    "    <center><img src=\"img/tresholding_histogram.png\"></center>\n",
    "</div>"
   ]
  },
  {
   "cell_type": "markdown",
   "id": "6419419d-de18-4077-8722-461b37647dd4",
   "metadata": {},
   "source": [
    "<div STYLE=\"width:65%;margin:auto;text-align:justify; align: center\">\n",
    "    <p STYLE=\"text-align:justify\">\n",
    "        <img src=\"img/fenykepesz.png\" width=\"30%\" STYLE=\"float:left;margin-right:20px;\">\n",
    "        <img src=\"img/fenykepesz_BW.png\" width=\"30%\" STYLE=\"float:right;margin-left:20px;\">\n",
    "        A fent részletezett küszöbölési megoldást alkalmazva a balra látható képre, a jobb oldali képet kapjuk. Mivel csak egy küszöbértéket választottunk, ezért a végeredményként kapott kép csak két árnyalatot tartalmaz (feketét és fehéret), ezért ezt 2-es szintű küszöbölésnek (<i>2-level tresholding</i>) nevezzük. Több küszöbérték kiválasztásával, magasabb szintekig is eljuthatunk. A lent lévő képeken például 3-as, 4-es és 5-ös szintű küszöbölés lett alkalmazva. Vegyük észre, hogy minél kevesebb küszöbértéket választunk, annál kevesebb részlet jelenik meg a képeken.\n",
    "        <img src=\"img/fenykepesz_3_4_5TH.png\">\n",
    "    </p>\n",
    "\n",
    "</div>"
   ]
  },
  {
   "cell_type": "markdown",
   "id": "bf722e3f-30f4-41a7-99c2-0d3c85b48856",
   "metadata": {},
   "source": [
    "<center><h4>--------</h4></center>\n",
    "<center><h4>Példakód</h4></center>\n",
    "<center><h4>--------</h4></center>"
   ]
  },
  {
   "cell_type": "markdown",
   "id": "7aef7291-ecd7-4ec9-aaee-7a6a2a51d1ec",
   "metadata": {},
   "source": [
    "#### <div STYLE=\"width:65%;margin:auto;\" align = \"center\"><br><a id=\"1.312\"><center>Hisztogram kiegyenlítés</center></a></div> ####\n",
    "<p STYLE=\"text-align:center;color:gray\">Histogram equalization</p>"
   ]
  },
  {
   "cell_type": "markdown",
   "id": "e3317c9e-e6d2-4427-8cbf-657db5c4a812",
   "metadata": {},
   "source": [
    "<div STYLE=\"width:65%;margin:auto;text-align:justify; align: center\">\n",
    "    <p STYLE=\"text-align:justify\">\n",
    "        Emlékezzünk vissza az előző fejezetben bemutatott hisztogramra. Megvizsgálva megállapíthattuk, hogy bizonyos intenzitási értékek erősen dominálnak, míg más értékekből alig van a képen. Fennállhat az igény arra, hogy a világossági értékek eloszlása egyenletesebb legyen (ennek eredményeképp a hisztogram is simább lesz). Mivel a hisztogram kiegyenlítés végén, a hisztogram maximum értéke közelebb lesz a minimumhoz, ez a módszer alkalmazható a képek kontrasztjának javításához.\n",
    "    </p>\n",
    "    <p STYLE=\"text-align:justify\">\n",
    "        Egy N×M méretű, $G$ szürkeárnyalatot tartalmazó kép esetén az algoritmus a következő:\n",
    "        <ul>\n",
    "            <li>Inicializáljunk egy $G$ hosszúságú, $0$ értékekkel feltöltött $H$ tömböt. Minden intenzitásértéknek feleltessünk meg egy indexet.</li>\n",
    "            <li>Generáljunk le egy hisztogramot. Menjünk végig a kép minden pixelén és számoljuk össze az intenzitásértékeket úgy, hogy inkrementáljuk az árnyalatoknak megfelelő indexex alatt található értéket a $H$ tömbben. Azaz, ha egy $p$ pixel intenzitása $g_p$, akkor: $H[g_p] = H[g_p] + 1$.</li>\n",
    "            <li>A hisztogramból állítsuk elő a kumulatív hisztogramot a következőképpen: \n",
    "                $$ \n",
    "                \\begin{align}\n",
    "                    &H_{c}[0] =H_{c}[0], \\\\\n",
    "                    &H[i] =H[i-1] \\\\ \n",
    "                    &i =1, ..., G-1 \n",
    "                \\end{align} \n",
    "                $$\n",
    "            </li>\n",
    "            <li>Hozzunk létre, egy $T$ tömböt és legyen $$T[p] = round \\left( \\dfrac{\\left(G-1\\right)}{\\left(N \\bullet M\\right)} \\bullet H_{c}[p] \\right)$$</li>\n",
    "        </ul>\n",
    "    </p>\n",
    "    <p STYLE=\"text-align:justify\">A kiegyenlítés hatásosságát az alábbi kép szemlélteti (jobbra az eredeti, balra a kiegyenlítésen átesett kép látható).</p>\n",
    "    <center><img src=\"img/hisequ.png\"></center>\n",
    "</div>"
   ]
  },
  {
   "cell_type": "markdown",
   "id": "2ff1aa70-cc53-4251-805f-06d6999b67fc",
   "metadata": {},
   "source": [
    "<center><h4>--------</h4></center>\n",
    "<center><h4>Példakód</h4></center>\n",
    "<center><h4>--------</h4></center>"
   ]
  },
  {
   "cell_type": "markdown",
   "id": "7cc0f47e-da42-4dbe-89b3-a9dbf8b4ef80",
   "metadata": {},
   "source": [
    "### <div STYLE=\"width:65%;margin:auto;\" align = \"center\"><br><a id=\"1.32\"><center>Szűrés</center></a></div> ###\n",
    "<p STYLE=\"text-align:center;color:gray\">Filtering</p>"
   ]
  },
  {
   "cell_type": "markdown",
   "id": "a32cc5aa-e868-4941-8935-9ceaf277d633",
   "metadata": {},
   "source": [
    "<div STYLE=\"width:65%;margin:auto;text-align:justify; align: center\">\n",
    "    <p STYLE=\"text-align:justify\">\n",
    "        Szűrésnek nevezünk azokat a műveleteket, amely során egy pixel új világossági értékét egy megfelelően kicsi szomszédságából állapítjuk meg.\n",
    "    </p>\n",
    "</div>"
   ]
  },
  {
   "cell_type": "markdown",
   "id": "1bde2bc1-039c-43b9-be4b-45001f7241f5",
   "metadata": {},
   "source": [
    "#### <div STYLE=\"width:65%;margin:auto;\" align = \"center\"><br><a id=\"1.321\"><center>Zaj szűrése</center></a></div> ####\n",
    "<p STYLE=\"text-align:center;color:gray\">Noise suppression</p>"
   ]
  },
  {
   "cell_type": "markdown",
   "id": "be2a95cc-aafc-443e-a676-c3c6fd930735",
   "metadata": {},
   "source": [
    "<div STYLE=\"width:65%;margin:auto;text-align:justify; align: center\">\n",
    "    <p STYLE=\"text-align:justify\">\n",
    "        Zajszűrés során, szeretnénk a zaj által torzult pixelek értékét az eredeti értékükhöz lehető legközelebbi értékre állítani. Ennek eléréséhez a pixelek egy kis szomszédságát fogjuk felhasználni. Mivel a pixelek eredeti színére a környező pixelek színéből fogunk következtetni, ezért annak az esélye, hogy egy torzult pixelt sikerül pontosan az eredeti értékére visszaállítani igen kicsi. \n",
    "    </p>\n",
    "    <p>Két, aránylag primitív zaj szűrési technikát fogunk megvizsgálni: az <b>átlagoló</b> és a <b>medián</b> szűrőt. </p>\n",
    "</div>"
   ]
  },
  {
   "cell_type": "markdown",
   "id": "1bad492e-3f56-4ece-a13f-5ca1660a12b6",
   "metadata": {},
   "source": [
    "<div STYLE=\"width:65%;margin:auto;text-align:justify; align: center\">\n",
    "    <p STYLE=\"text-align:justify\">\n",
    "        <b>ÁTLAGOLÓ SZŰRŐ:</b> Az átlagoló szűrő, egy pixel új értékét, a pixel  és a körülötte elhelyezkedő szomszédos pixelek értékének átlagából számolja ki. A lenti táblázat egy pixel (piros szám) új értékének meghatározását mutatja be. Vegyük észre, hogy a pixel körül gyanúsan sok $30$ körüli érték van, így előfordulhat (bár nem állapítható meg biztosan), hogy a vizsgált pixel, illetve a szomszédságában lévő kicsi értékkel rendelkező pixelek torzultak. A módszer egyszerű átlagolást használ. Feltételezve, hogy az olvasó úgy jutott el idáig, hogy tud átlagot számolni, nem részletezném a folyamatot, ami a $9$ darab szám átalgának kiszámolásához szükséges &#x1F601.\n",
    "    </p>\n",
    "</div>"
   ]
  },
  {
   "cell_type": "markdown",
   "id": "4b7d02c4-91a5-4ff8-91cf-ddb06206d5a4",
   "metadata": {},
   "source": [
    "| | Átlagoló Szűrő  | |\n",
    "|:--------:|:--------:|:--------:|\n",
    "|  1   |  33   |  36   |\n",
    "| 30  |  <font color='red'>20</font>   |  2   |\n",
    "|  29   |  5  |  30   |"
   ]
  },
  {
   "cell_type": "markdown",
   "id": "ec6df98b-01c5-4bd1-a328-4e152cfab58d",
   "metadata": {},
   "source": [
    "$$\\big\\Downarrow$$"
   ]
  },
  {
   "cell_type": "markdown",
   "id": "2d318fe2-e4a9-4ee5-aea3-d0d9680b0000",
   "metadata": {},
   "source": [
    "| | Átlagoló Szűrő  | |\n",
    "|:--------:|:--------:|:--------:|\n",
    "|  1   |  33   |  36   |\n",
    "| 30  |  <font color='red'>21</font>   |  2   |\n",
    "|  29   |  5  |  30   |"
   ]
  },
  {
   "cell_type": "markdown",
   "id": "46fcea6d-c961-44ec-bc9d-39179cd3d2ac",
   "metadata": {},
   "source": [
    "<div STYLE=\"width:65%;margin:auto;text-align:justify; align: center\">\n",
    "    <p STYLE=\"text-align:justify\">\n",
    "        $20.6666666666667 \\approx 21$. Nem sokat változott az eredeti értékéhezhez képest. A szomszédok alapján arra számítottunk volna, hogy ennek a pixelenek is az intenzitás értéke $30$ közelében lesz. Az átlagoló szűrő nagy problémája magából az átlagolás műveletéből adódik, ugyanis a számtani közepet nagyban befolyásolják a szélsőségesen eltérő értékek. Vegyük példának újra Lennát. Vizsgáljuk meg a a képet szűrés előtt és után!\n",
    "    </p>\n",
    "    <center><img STYLE=\"width:50%\" src=\"img/AVGFILT.png\"></center>\n",
    "</div>"
   ]
  },
  {
   "cell_type": "markdown",
   "id": "6407e59d-b2db-42e9-9658-8676f5bedfd6",
   "metadata": {},
   "source": [
    "<center><h4>--------</h4></center>\n",
    "<center><h4>Példakód</h4></center>\n",
    "<center><h4>--------</h4></center>"
   ]
  },
  {
   "cell_type": "markdown",
   "id": "7ecd4a70-b784-468b-ae80-5128bb487d3e",
   "metadata": {},
   "source": [
    "<br>\n",
    "<div STYLE=\"width:65%;margin:auto;text-align:justify; align: center\">\n",
    "    <p STYLE=\"text-align:justify\">\n",
    "        <b>MEDIÁN SZŰRŐ:</b>Jelentős javulást tudunk elérni az előző módszerhez képes a medián szűrővel. Az elv ugyan az mint az előbb, csak most helyzeti középértéket használunk átlag helyett. Alkalmazzuk ezt a módszert az előző példára.\n",
    "    </p>\n",
    "</div>"
   ]
  },
  {
   "cell_type": "markdown",
   "id": "b8d1ab7e-d6d7-448e-9651-0aaf31eefa77",
   "metadata": {},
   "source": [
    "| | Medián Szűrő  | |\n",
    "|:--------:|:--------:|:--------:|\n",
    "|  1   |  33   |  36   |\n",
    "| 30  |  <font color='red'>20</font>   |  2   | \n",
    "|  29   |  5  |  30   |"
   ]
  },
  {
   "cell_type": "markdown",
   "id": "d152e72c-b04f-48c5-806d-70693bd14ea9",
   "metadata": {},
   "source": [
    "$$\\big\\Downarrow$$"
   ]
  },
  {
   "cell_type": "markdown",
   "id": "35dbe624-4cbb-474c-9370-c628a5fc543d",
   "metadata": {},
   "source": [
    "| | Medián Szűrő  | |\n",
    "|:--------:|:--------:|:--------:|\n",
    "|  1   |  33   |  36   |\n",
    "| 30  |  <font color='red'>29</font>   |  2   | \n",
    "|  29   |  5  |  30   |"
   ]
  },
  {
   "cell_type": "markdown",
   "id": "79b4eb5c-ea60-4da3-bf97-0e8fd7d00cb8",
   "metadata": {},
   "source": [
    "<br>\n",
    "<div STYLE=\"width:65%;margin:auto;text-align:justify; align: center\">\n",
    "    <p STYLE=\"text-align:justify\">\n",
    "        Sikeresen elértük, hogy egy valamivel szimpatikusabb értéket válasszunk új intenzitás értékként. Nézzük is meg, hogy fest Lenna, ezt a módszer alkalmazzuk.\n",
    "    </p>\n",
    "    <center><img STYLE=\"width:50%\" src=\"img/MEDFILT.png\"></center>\n",
    "</div>"
   ]
  },
  {
   "cell_type": "markdown",
   "id": "94a5f306-63c8-4657-bbc8-b77794191a94",
   "metadata": {},
   "source": [
    "<br>\n",
    "<div STYLE=\"width:65%;margin:auto;text-align:justify; align: center\">\n",
    "    <p STYLE=\"text-align:justify\">\n",
    "        Az előző példákban mindíg $9 \\times 9$-es ablakméretet használtunk, de ez persze nincs kőbe vésve. Bármekkorát használhatunk, a különböző ablakok különböző eredményeket adhatnak vissza. Jellemzően minél nagyobb az ablak annál nagyobb az elmosódás. Az elmosódás növelését az iterációk számával (hányszor megyünk végig minden pixelen) is növelhetjük. Ez utóbbival nem árthat óvatosnak lenni. Ha túl sok az iteráció, végeredményül kaphatunk egy egyszínű képet.\n",
    "    </p>\n",
    "</div>"
   ]
  },
  {
   "cell_type": "markdown",
   "id": "b0dd90fc-8386-4435-b3d6-07d443a5fd4a",
   "metadata": {},
   "source": [
    "<center><h4>--------</h4></center>\n",
    "<center><h4>Példakód</h4></center>\n",
    "<center><h4>--------</h4></center>"
   ]
  },
  {
   "cell_type": "markdown",
   "id": "fafac960-8805-47f5-9af3-9ec33c622d9e",
   "metadata": {},
   "source": [
    "## <div STYLE=\"width:65%;margin:auto;\" align = \"center\"><br><a id=\"1.4\"><center>Matematikai Morfológia</center></a></div> ##"
   ]
  },
  {
   "cell_type": "markdown",
   "id": "97d805f6-4c29-45cd-9b31-dca187df0bff",
   "metadata": {},
   "source": [
    "<br>\n",
    "<div STYLE=\"width:65%;margin:auto;text-align:justify\">\n",
    "    <p STYLE=\"text-align:justify\">\n",
    "        A matematikai morfológia két úriember, Georges Matheron és Jean Serra nevéhez köthető. A matematikai morfológia halmazelméleten alapszik, ezért képeket halamzokként reprezentáljuk. Alapvetően egy olyan eszközként használjuk, aminek segítségével végrehajthatunk elő- illetve utófeldolgozást a képeken, mint például szűrés vagy metszés, kivonhatunk olyan összetevőket a képpből, amelyek hasznosak lehetnek a régió alalkjának ábrázolásában vagy leírásában, mint a konvex burok, szegmentálhatunk, illetve mennyiségi leírást adhatunk a képen megjelenő objektumokról (terület, kerület).\n",
    "    </p>\n",
    "</div>"
   ]
  },
  {
   "cell_type": "markdown",
   "id": "e92e3f38-4cf2-4d73-b079-33e79fb5bef4",
   "metadata": {},
   "source": [
    "<div STYLE=\"width:65%;margin:auto;text-align:justify; align: center\">\n",
    "    <p STYLE=\"text-align:justify\">\n",
    "        $\\Psi (X) \\rightarrow X$(ahol $X$ pontok egy halmaza) morfológiai transzformáció a következő tulajdonságokkal rendelkezik:\n",
    "    </p>\n",
    "    <p STYLE=\"text-align:justify\">\n",
    "        <ol>\n",
    "            <li><b>Kompatibilitás az eltolással:</b></li>\n",
    "                <dd>Legyen  $\\Psi$ egy az $O$ koordinátarendszer középpontjától függő transzformáció és jelöljük ezt a transzformációt $\\Psi_O$-val. Ha minden pont el lett tolva egy $-h$ vektorral, akkor azt $\\Psi_{-h}$-val fejezzük ki. $$\\Psi_O(X_h) = \\Psi_{-h}(X)_h.$$ Ha $\\Psi$ nem függ $O$ origójától, akkor $$\\Psi(X_h) = \\Psi(X)_h.$$</dd><br>\n",
    "            <li><b>Kompatibilitás a méretváltozással:</b></li>\n",
    "                <dd>Legyen $\\lambda X$ homotetikus méretezése az $X$ ponthalmaznak. Jelölje $\\Psi\\lambda$ azt a transzformációt ami $\\lambda$ pizitív paramétertől függ. Ekkor $$\\Psi_\\lambda(X) = \\lambda\\Psi\\left(\\frac{1}{\\lambda} X\\right).$$<br> Ha $\\Psi$ nem függ $\\lambda$-tól, akkor $$\\Psi(\\lambda X) = \\lambda\\Psi(X).$$</dd><br>\n",
    "            <li><b>Local Knowlage:</b></li>\n",
    "                <dd>Ezen elv szerint egy nagyobb struktúrának egyszere csak egy része vizsgálható meg. Szimbolikusan ezt a következő formában írhatjuk le: $$\\left( \\left( \\Psi \\left( X \\cap Z \\right) \\right) \\cap Z' \\right).$$</dd><br>\n",
    "            <li><b>Felső Félig-folytonosság</b></li>\n",
    "                <dd></dd><br>\n",
    "        </ol>\n",
    "    </p>\n",
    "</div>"
   ]
  },
  {
   "cell_type": "markdown",
   "id": "b3cc0d89-4ee5-4c29-9f41-aecba980322c",
   "metadata": {},
   "source": [
    "### <div STYLE=\"width:65%;margin:auto;\" align = \"center\"><br><a id=\"1.41\"><center>Dilatáció és Erózió</center></a></div> ###"
   ]
  },
  {
   "cell_type": "markdown",
   "id": "74f23535-4827-466c-9268-dab7b55af99d",
   "metadata": {},
   "source": [
    "<br>\n",
    "<div STYLE=\"width:65%;margin:auto;text-align:justify; align: center\">\n",
    "    <p STYLE=\"text-align:justify\">\n",
    "        A dilatáció művelete során egy halmazt bővítünk ($X$, ez a képünk) egy másik halmaz felhasználásával ($B$, ez a \"struktúráló elem\"), jelölése $\\oplus$. Ezzel elérhetjük, hogy a képen lévő objektum bővüljön. <br> Bináris képek esetén a következőt csináljuk: \"Helyezzük\" a struktúráló elemünket a középső elemnél fogva a bal felső sarokban lévő pixelre (mint egy maszkot), majd páronkét hasonlítsuk össze a kép lefedett pixelei és a strukturáló elem értékeit. Ha, van legalább egy olyan érték pár, ahol mind a két érték $1$ (\"hit\"), akkor a kimeneten a vizsgált pixellel megegyezző helyen a pixel értéke $1$-lesz. Ha nincs ilyen pár, megtartjuk az eredeti értéket. Végigmegyünk a pixeleken. Gyorsíthatjuk az algoritmust, ha csak a $0$ értékű pixeleket vizsgáljuk, mivel az $1$-es értékű pixelelk értéke nem fog változni. <br>Formálisn leírhatjuk úgy, hogy $$X \\oplus B = \\{ p \\in Z^2 : p = x + b, x \\in X \\land b \\in B \\}.$$\n",
    "    </p>\n",
    "    <p STYLE=\"text-align:justify\">\n",
    "    De talán jobb, ha nézünk egy példát:<br>\n",
    "    </p>\n",
    "</div>"
   ]
  },
  {
   "cell_type": "markdown",
   "id": "4786e10f-81ec-4f36-9321-8f57efd47730",
   "metadata": {},
   "source": [
    "<div STYLE=\"width:65%;margin:auto;display:flex;align-items:baseline;align:center\">\n",
    "    <div STYLE=\"float:left;flex-grow:1;\">\n",
    "        <table STYLE=\"text-align:center;\">\n",
    "            <tr>\n",
    "                <td colspan=\"4\"><center>Bemeneti Bináris Kép $ \\left( X \\right) $</center></td>\n",
    "            </tr>\n",
    "            <tr>\n",
    "                <td>1</td>\n",
    "                <td>0</td>\n",
    "                <td>0</td>\n",
    "                <td>0</td>\n",
    "            </tr>\n",
    "            <tr>\n",
    "                <td>1</td>\n",
    "                <td>1</td>\n",
    "                <td>0</td>\n",
    "                <td>0</td>\n",
    "            </tr>\n",
    "            <tr>\n",
    "                <td>1</td>\n",
    "                <td>1</td>\n",
    "                <td>1</td>\n",
    "                <td>0</td>\n",
    "            </tr>\n",
    "        </table>\n",
    "    </div>\n",
    "    <div STYLE = \"margin:auto;text-align:center;flex-grow:4\">\n",
    "        $\\oplus$\n",
    "    </div>\n",
    "    <div STYLE=\"float:right;flex-grow:2\">\n",
    "        <table STYLE=\"text-align:center;\">\n",
    "            <tr>\n",
    "                <td colspan=\"3\"><center>Struktúráló Elem $\\left(B\\right)$</center></td>\n",
    "            </tr>\n",
    "            <tr>\n",
    "                <td>0</td>\n",
    "                <td>1</td>\n",
    "                <td>0</td>\n",
    "            </tr>\n",
    "            <tr>\n",
    "                <td>1</td>\n",
    "                <td><font color='red'>1</font></td>\n",
    "                <td>1</td>\n",
    "            </tr>\n",
    "            <tr>\n",
    "                <td>0</td>\n",
    "                <td>1</td>\n",
    "                <td>0</td>\n",
    "            </tr>\n",
    "        </table>\n",
    "    </div>\n",
    "    <div STYLE = \"margin: auto;text-align:center;flex-grow:4\">\n",
    "        $\\Longrightarrow$\n",
    "    </div>\n",
    "    <div STYLE=\"float:right;flex-grow:1\">\n",
    "        <table STYLE=\"text-align:center;\">\n",
    "            <tr>\n",
    "                <td colspan=\"4\"><center>A kép dilatáció után</center></td>\n",
    "            </tr>\n",
    "            <tr>\n",
    "                <td>1</td>\n",
    "                <td>1</td>\n",
    "                <td>0</td>\n",
    "                <td>0</td>\n",
    "            </tr>\n",
    "            <tr>\n",
    "                <td>1</td>\n",
    "                <td>1</td>\n",
    "                <td>1</td>\n",
    "                <td>0</td>\n",
    "            </tr>\n",
    "            <tr>\n",
    "                <td>1</td>\n",
    "                <td>1</td>\n",
    "                <td>1</td>\n",
    "                <td>1</td>\n",
    "            </tr>\n",
    "        </table>\n",
    "    </div>\n",
    "</div>"
   ]
  },
  {
   "cell_type": "markdown",
   "id": "d598d63f-9a13-4ce3-81a3-f8077ec4d283",
   "metadata": {},
   "source": [
    "<center><h4>--------</h4></center>\n",
    "<center><h4>Példakód</h4></center>\n",
    "<center><h4>--------</h4></center>"
   ]
  },
  {
   "cell_type": "markdown",
   "id": "9ffbc9a0-6226-4779-9fb7-6b7b127b3676",
   "metadata": {},
   "source": [
    "<br>\n",
    "<div STYLE=\"width:65%;margin:auto;text-align:justify; align: center\">\n",
    "    <p STYLE=\"text-align:justify\">        \n",
    "        Az erózió a dilatáció \"fordítottja\". Az algoritmus ugyan az lesz, azzal a különbséggel, hogy, ha van \"hit\", akor a pixel értékét $0$-ra állítjuk a kimeneti képen, illetve, ha a talált mintázat megegyezik a struktúráló elemmel, a pixel értékét békén hagyjuk (ezt hívjuk \"fit\"-nek). Itt is gyorsíthatunk az algoritmuson, csak itt a $0$-ás értékű pixelelket hagyjuk ki az $1$-es értékűk helyett. Így a képen megjelenő objektum csökkenését érjük el. Jelölése: $\\ominus$, formálisan felírva: $$X \\ominus B = \\{ p \\in Z^2 : p = x+b \\in X, \\forall b \\in B \\}$$<br> Példa:\n",
    "    </p>\n",
    "</div>"
   ]
  },
  {
   "cell_type": "markdown",
   "id": "f091fd0e-21e6-452e-b4e7-9e5e5ad906f3",
   "metadata": {},
   "source": [
    "<div STYLE=\"width:65%;margin:auto;display:flex;align-items:baseline\">\n",
    "    <div STYLE=\"float:left;flex-grow:1;\">\n",
    "        <table STYLE=\"text-align:center;\">\n",
    "            <tr>\n",
    "                <td colspan=\"4\"><center>Bemeneti Bináris Kép $ \\left( X \\right) $</center></td>\n",
    "            </tr>\n",
    "            <tr>\n",
    "                <td>0</td>\n",
    "                <td>1</td>\n",
    "                <td>0</td>\n",
    "                <td>1</td>\n",
    "            </tr>\n",
    "            <tr>\n",
    "                <td>1</td>\n",
    "                <td>1</td>\n",
    "                <td>1</td>\n",
    "                <td>1</td>\n",
    "            </tr>\n",
    "            <tr>\n",
    "                <td>0</td>\n",
    "                <td>1</td>\n",
    "                <td>0</td>\n",
    "                <td>1</td>\n",
    "            </tr>\n",
    "        </table>\n",
    "    </div>\n",
    "    <div STYLE = \"margin:auto;text-align:center;flex-grow:4\">\n",
    "        $\\ominus$\n",
    "    </div>\n",
    "    <div STYLE=\"float:right;flex-grow:2\">\n",
    "        <table STYLE=\"text-align:center;\">\n",
    "            <tr>\n",
    "                <td colspan=\"3\"><center>Struktúráló Elem $\\left(B\\right)$</center></td>\n",
    "            </tr>\n",
    "            <tr>\n",
    "                <td>0</td>\n",
    "                <td>1</td>\n",
    "                <td>0</td>\n",
    "            </tr>\n",
    "            <tr>\n",
    "                <td>1</td>\n",
    "                <td><font color='red'>1</font></td>\n",
    "                <td>1</td>\n",
    "            </tr>\n",
    "            <tr>\n",
    "                <td>0</td>\n",
    "                <td>1</td>\n",
    "                <td>0</td>\n",
    "            </tr>\n",
    "        </table>\n",
    "    </div>\n",
    "    <div STYLE = \"margin: auto;text-align:center;flex-grow:4\">\n",
    "        $\\Longrightarrow$\n",
    "    </div>\n",
    "    <div STYLE=\"float:right;flex-grow:1\">\n",
    "        <table STYLE=\"text-align:center;\">\n",
    "            <tr>\n",
    "                <td colspan=\"4\"><center>A kép erózió után</center></td>\n",
    "            </tr>\n",
    "            <tr>\n",
    "                <td>0</td>\n",
    "                <td>0</td>\n",
    "                <td>0</td>\n",
    "                <td>0</td>\n",
    "            </tr>\n",
    "            <tr>\n",
    "                <td>0</td>\n",
    "                <td>1</td>\n",
    "                <td>0</td>\n",
    "                <td>1</td>\n",
    "            </tr>\n",
    "            <tr>\n",
    "                <td>0</td>\n",
    "                <td>0</td>\n",
    "                <td>0</td>\n",
    "                <td>0</td>\n",
    "            </tr>\n",
    "        </table>\n",
    "    </div>\n",
    "</div>"
   ]
  },
  {
   "cell_type": "markdown",
   "id": "d1001f27-d6a1-4dca-9d91-35078c0cb5a9",
   "metadata": {},
   "source": [
    "<center><h4>--------</h4></center>\n",
    "<center><h4>Példakód</h4></center>\n",
    "<center><h4>--------</h4></center>"
   ]
  },
  {
   "cell_type": "markdown",
   "id": "aed56f6b-f7cc-4c69-a9eb-7ad757fcf346",
   "metadata": {},
   "source": [
    "### <div STYLE=\"width:65%;margin:auto;\" align = \"center\"><br><a id=\"1.42\"><center>Nyitás és Zárás</center></a></div> ###"
   ]
  },
  {
   "cell_type": "markdown",
   "id": "8f9f5020-9b53-4566-97b3-585722ff3252",
   "metadata": {},
   "source": [
    "<br>\n",
    "<div STYLE=\"width:65%;margin:auto;text-align:justify; align: center\"><img STYLE=\"width:60%; float:right; margin-left: 30px\" src=\"img/Open_Close.png\"></center>\n",
    "    <p STYLE=\"text-align:justify\">\n",
    "    Bár az előző fejezetben úgy fogalmaztam, hogy az erózió a dilatáció \"fordítottja\", ez nem teljesen igaz. A két művelet egymásnak nem inverz transzformációi, azaz egy dilatáció után elvégzett erózió, nem adja vissza az eredeti képet és vice-versa. Viszont a két művelet egymás utáni elvégzése ad nekünk két újabb morfológiai műveletet: a Nyitást és a Zárást.\n",
    "    </p>\n",
    "    <p STYLE=\"text-align:justify\">\n",
    "        <b>Nyitás:</b> Jele: $\\circ$. A kép erózióját követően dilatációt alkalmazunk (természetesen itt is van agy bemeneti $X$ kép és egy $B$ struktúráló elem). A nyitás művelet eltávolítja a képről az apró elemeket.\n",
    "    </p>\n",
    "    <p STYLE=\"text-align:justify\">\n",
    "        <b>Zárás:</b> Jele: $\\bullet$. A kép dilatálását erózió követi. A nyitással ellentétben a zárás nem eltávolít, hanem hozzáad a képhez. Összezárja, illetve feltölti a kissebb lyukakat, nyílásokat.\n",
    "    </p>\n",
    "</div>"
   ]
  },
  {
   "cell_type": "markdown",
   "id": "f525eb51-9ac0-4928-aea4-b2321130f2eb",
   "metadata": {},
   "source": [
    "### <div STYLE=\"width:65%;margin:auto;\" align = \"center\"><br><a id=\"1.43\"><center>\"Hit-or-Miss\" transzformáció</center></a></div> ###"
   ]
  },
  {
   "cell_type": "raw",
   "id": "5c6a204f-4d9f-4de8-b108-517dac913aaa",
   "metadata": {},
   "source": [
    "Nem vagyok benne biztos, hogy jól értelmezem."
   ]
  },
  {
   "cell_type": "raw",
   "id": "fd36496e-10f0-425b-b110-0c36ba6cd6d9",
   "metadata": {},
   "source": [
    "Átírni!"
   ]
  },
  {
   "cell_type": "markdown",
   "id": "951fff09-3c73-4695-b589-13f79e65d02d",
   "metadata": {},
   "source": [
    "<div STYLE=\"width:65%;margin:auto;text-align:justify; align: center\">\n",
    "    <p STYLE=\"text-align:justify\">\n",
    "        A \"Hit-or-Miss\" transzformormáció, olyan matematikai morfológiai művelet, amley segítséget nyújt a bizonyos minták detektálásában a bináris képeken.\n",
    "    </p>\n",
    "    <p STYLE=\"text-align:justify\">\n",
    "        A transzformációt definiálhatjuk úgy, hogy $$X \\otimes B = \\{ x:B_1 \\subset X \\land B_2 \\subset X^C \\},$$ vagy $$ X \\otimes B = (X \\ominus B_1) \\setminus (X \\oplus \\check{B}_2).$$\n",
    "    </p>\n",
    "    <p STYLE=\"text-align:justify\">\n",
    "        Leegyszerűsítve, ez annyit jelent, hogy van két struktúráló elemünk $B_1$ és $B_2$. $B_1$ a keresendő minta előtér pixeleit, $B_2$ pedig a háttér pixeleit reprezentálja. Elősször dilatáljuk a bemeneti A képünket $B_1$-el, majd vegyük $A$-nak az ellentétét (háttérpixelekből előtérpixelek, előtérpixelekből háttérpixelek lesznek) és dilatáljuk $B_2$-vel. A két művelet eredményének vesszük a metszetét. A kimeneti kép azon pozíciókat fogja tartalmazni, ahol a keresett minta megtalálható.\n",
    "    </p>\n",
    "</div>"
   ]
  },
  {
   "cell_type": "markdown",
   "id": "a79c9274-2b59-4c40-98a6-da90c8a93152",
   "metadata": {
    "jp-MarkdownHeadingCollapsed": true
   },
   "source": [
    "<center><h4>--------</h4></center>\n",
    "<center><h4>Példakód</h4></center>\n",
    "<center><h4>--------</h4></center>"
   ]
  },
  {
   "cell_type": "code",
   "execution_count": 1,
   "id": "664b2ad6-c195-45dd-838d-7092b64bfefa",
   "metadata": {
    "slideshow": {
     "slide_type": ""
    },
    "tags": []
   },
   "outputs": [
    {
     "data": {
      "application/vnd.jupyter.widget-view+json": {
       "model_id": "6ff36074d0e647d8ad3b49e428febd09",
       "version_major": 2,
       "version_minor": 0
      },
      "text/plain": [
       "HBox(children=(Button(button_style='success', description=' START', icon='play', style=ButtonStyle()),), layou…"
      ]
     },
     "metadata": {},
     "output_type": "display_data"
    }
   ],
   "source": [
    "import cv2 as cv\n",
    "import numpy as np\n",
    "import sys\n",
    "import tkinter as tk\n",
    "from tkinter import *\n",
    "import ipywidgets as widgets\n",
    "\n",
    "def main(self):\n",
    "    input_image, kernel = generate_input()\n",
    "    hit_and_miss(input_image, kernel)\n",
    "\n",
    "def hit_and_miss(input_image, kernel):\n",
    "    output_image = cv.morphologyEx(input_image, cv.MORPH_HITMISS, kernel)\n",
    "    \n",
    "    rate = 50\n",
    "    kernel = (kernel + 1) * 127\n",
    "    kernel = np.uint8(kernel)\n",
    "    kernel = cv.resize(kernel, None, fx = rate, fy = rate, interpolation = cv.INTER_NEAREST)\n",
    "    cv.imshow(\"Kernel\", kernel)\n",
    "    cv.moveWindow(\"Kernel\", 500, 250)\n",
    "    \n",
    "    input_image = cv.resize(input_image, None, fx = rate, fy = rate, interpolation = cv.INTER_NEAREST)\n",
    "    cv.imshow(\"Bemenet\", input_image)\n",
    "    cv.moveWindow(\"Bemenet\", 0, 200)\n",
    "    \n",
    "    output_image = cv.resize(output_image, None , fx = rate, fy = rate, interpolation = cv.INTER_NEAREST)\n",
    "    cv.imshow(\"Hit or Miss\", output_image)\n",
    "    cv.moveWindow(\"Hit or Miss\", 800, 200)\n",
    "    cv.waitKey(0)\n",
    "    cv.destroyAllWindows()\n",
    "\n",
    "#####################################################################################################\n",
    "####################################### Ez itt nem fontos ###########################################\n",
    "#####################################################################################################\n",
    "def generate_input():\n",
    "\n",
    "#    kernel = np.array((\n",
    "#        [-1, -1, 0],\n",
    "#        [-1,  1, 1],\n",
    "#        [ 0,  1, 0]), dtype=\"int\")\n",
    "\n",
    "    kernel = np.array([[0 for x in range(3)] for y in range(3)], dtype=\"int\")\n",
    "    input_image = np.array([[0 for x in range(8)] for y in range(8)], dtype=\"uint8\")\n",
    "    \n",
    "    root = tk.Tk()\n",
    "    root.title(\"Bemeneti Kép\")\n",
    "    root.resizable(False, False)\n",
    "    \n",
    "    kern = tk.Toplevel(root)\n",
    "    kern.title(\"Kernel\")\n",
    "    kern.resizable(False, False)\n",
    "    \n",
    "    photo = tk.PhotoImage(width=1, height=1)\n",
    "    #photo2 = tk.PhotoImage(width=1, height=1)\n",
    "    \n",
    "    def on_click_input(button, row, col):\n",
    "        if button.cget('text') == \"255\":\n",
    "            button.config(text=\"0\", fg=\"white\", bg=\"black\")\n",
    "            input_image[button.grid_info()['row']][button.grid_info()['column']] = 0\n",
    "            #print(\"Button pos: {} {}\".format(button.grid_info()['row'], button.grid_info()['column']))\n",
    "        else:\n",
    "            button.config(text=\"255\", fg=\"black\", bg=\"white\")\n",
    "            input_image[button.grid_info()['row']][button.grid_info()['column']] = 255\n",
    "            #print(\"Button pos: {} {}\".format(button.grid_info()['row'], button.grid_info()['column']))\n",
    "\n",
    "    def on_click_kernel(button, row, col):\n",
    "        if button.cget('text') == \"0\":\n",
    "            button.config(text=\"1\", fg=\"black\", bg=\"white\")\n",
    "            kernel[button.grid_info()['row']][button.grid_info()['column']] = 1\n",
    "            #print(\"Button pos: {} {}\".format(button.grid_info()['row'], button.grid_info()['column']))\n",
    "        elif button.cget('text') == \"1\":\n",
    "            button.config(text=\"-1\", fg=\"white\", bg=\"black\")\n",
    "            kernel[button.grid_info()['row']][button.grid_info()['column']] = -1\n",
    "            #print(\"Button pos: {} {}\".format(button.grid_info()['row'], button.grid_info()['column']))\n",
    "        else:\n",
    "            button.config(text=\"0\", fg=\"white\", bg='#7f7f7f')\n",
    "            kernel[button.grid_info()['row']][button.grid_info()['column']] = 0\n",
    "\n",
    "    for row in range(8):\n",
    "        for col in range(8):\n",
    "            button = tk.Button(root, text=f'0')\n",
    "            button.config(fg=\"white\", bg=\"black\", image=photo, width=50, height=50,\n",
    "                          command=lambda button=button: on_click_input(button, row, col))\n",
    "            button.grid(row=row, column=col)\n",
    "            \n",
    "    for row in range(3):\n",
    "        for col in range(3):\n",
    "            button = tk.Button(kern, text=f'0')\n",
    "            button.config(fg=\"white\", bg='#7f7f7f', image=photo,\n",
    "                          width=50, height=50, \n",
    "                          command=lambda button=button: on_click_kernel(button, row, col))\n",
    "            button.grid(row=row, column=col)\n",
    "    \n",
    "    root.mainloop()\n",
    "    print(input_image)\n",
    "    print(kernel)\n",
    "\n",
    "    return input_image, kernel\n",
    "\n",
    "if __name__ == \"__main__\":\n",
    "    button = widgets.Button(\n",
    "        description=' START',\n",
    "        disabled=False,\n",
    "        button_style='success', # 'success', 'info', 'warning', 'danger' or ''\n",
    "        icon='play'\n",
    "    )\n",
    "    button.on_click(main)\n",
    "\n",
    "    box_layout = widgets.Layout(display='flex',\n",
    "                         flex_flow='column',\n",
    "                         align_items='center',\n",
    "                         width='100%')\n",
    "    box = widgets.HBox(children=[button], layout=box_layout)\n",
    "\n",
    "    display(box)\n",
    "\n",
    "#####################################################################################################\n",
    "#####################################################################################################\n",
    "#####################################################################################################"
   ]
  },
  {
   "cell_type": "markdown",
   "id": "c8c85227-89a5-493d-ba84-bd1e736e8620",
   "metadata": {},
   "source": [
    "## <div STYLE=\"width:65%;margin:auto;\" align = \"center\"><br><a id=\"1.5\"><center>Fourier-transzformáció</center></a></div> ##"
   ]
  },
  {
   "cell_type": "markdown",
   "id": "47e51408-cff2-4624-8110-65925bcf9945",
   "metadata": {},
   "source": [
    "<div STYLE=\"width:65%;margin:auto;text-align:justify; align: center\">\n",
    "    <p STYLE=\"text-align:justify\">\n",
    "        A lineáris integráltranszformációk gyakran használtak a képfeldolgozás területén, ugyanis lehetővé teszik számunkra a képeket ábrázolását egy olyan tartományban, amelyben az információ is jobban látható, így a problémák megoldása is egyszerűbbé válik. Az egyik leggyakrabban használt transzformáció a Fourier transzformáció.\n",
    "    </p>\n",
    "</div>"
   ]
  },
  {
   "cell_type": "markdown",
   "id": "33322e21-f510-422d-a4c5-afe23f44d684",
   "metadata": {},
   "source": [
    "<div STYLE=\"width:65%;margin:auto;text-align:justify; align: center\">\n",
    "    <p STYLE=\"text-align:justify\">\n",
    "        Fourier transzformáció 1D-ben: $$F(\\xi) = \\int_{-\\infty}^{\\infty} f(t)e^{-2\\pi i \\xi t} dt$$ és annak inverze: $$f(t) = \\int_{-\\infty}^{\\infty} F(\\xi)e^{2\\pi i \\xi t} d\\xi .$$\n",
    "    </p><br><br>\n",
    "    <p STYLE=\"text-align:justify\">\n",
    "        Fourier transzformáció 2D-ben: $$F(u,v) = \\int_{-\\infty}^{\\infty} \\int_{-\\infty}^{\\infty} f(x,y)e^{-2\\pi i(ux+vy)} dx \\  dy$$ és annak inverze: $$f(x,y) = \\int_{-\\infty}^{\\infty} \\int_{-\\infty}^{\\infty} F(u,v)e^{2\\pi i(ux+vy)} du \\  dv.$$\n",
    "        A transzformáció felírható diszkrét formában is:\n",
    "        $$ \n",
    "            \\begin{align}\n",
    "                &F(u,v) = \\frac{1}{MN} \\sum_{m=0}^{M-1} \\sum_{n=0}^{N-1} f(m,n) \\exp\\left(-2\\pi i \\left( \\frac{mu}{M} + \\frac{nv}{N} \\right) \\right) \\\\\n",
    "                &f(m,n) = \\sum_{u=0}^{M-1} \\sum_{v=0}^{N-1} F(u,v) \\exp \\left( 2 \\pi i \\left( \\frac{mu}{M} + \\frac{nv}{N} \\right) \\right)\n",
    "            \\end{align} \n",
    "        $$\n",
    "    </p>\n",
    "</div>"
   ]
  },
  {
   "attachments": {},
   "cell_type": "markdown",
   "id": "bd8aa9aa-318e-49b4-b97e-8ab1e1998d9c",
   "metadata": {
    "editable": true,
    "slideshow": {
     "slide_type": ""
    },
    "tags": []
   },
   "source": [
    "<div STYLE=\"width:65%;margin:auto;text-align:justify; align: center\">\n",
    "    <p STYLE=\"text-align:justify\">\n",
    "        Ha alkalmazzuk a Fourier transzformációt Lennára akkor a következőt kapjuk eredményül.\n",
    "    </p>\n",
    "    <center><img STYLE=\"width:65%; margin-left: 30px\" src=\"img/Fourier.png\"></center><br><br>\n",
    "    <p STYLE=\"text-align:justify\">\n",
    "        Nem, ez nem egy távoli csillag rossz mínőségű felvétele, hanem Lenna transzformálva. A transzformáltat felhasználhatjuk különböző szűrési metódusokhoz. Néhányra a következő fejezetekben láthatunk példát. Akármelyik szűrőről is lesz szó a szűrés folyamata mindíg ugyan az lesz: $$INPUT \\rightarrow Fourier \\ Transzformált \\rightarrow Szűrés \\rightarrow Inverz \\ Fourier \\ Transzformált \\rightarrow OUTPUT$$\n",
    "        \n",
    "</div>"
   ]
  },
  {
   "cell_type": "markdown",
   "id": "61150740-e28c-4fb8-a474-52db1dc975ba",
   "metadata": {},
   "source": [
    "### <div STYLE=\"width:65%;margin:auto;\" align = \"center\"><br><a id=\"1.51\"><center>Ideális Aluláteresztő Szűrő</center></a></div> ###\n",
    "<p STYLE=\"text-align:center;color:gray\">Ideal Low pass Filter</p>"
   ]
  },
  {
   "cell_type": "markdown",
   "id": "dc6d0dcb-1f4f-4038-8853-298eaeec03b1",
   "metadata": {},
   "source": [
    "<div STYLE=\"width:65%;margin:auto;text-align:justify; align: center\"><img STYLE=\"width:30%; float:right; margin-left: 30px\" src=\"img/LowPassFilt.png\">\n",
    "    <p STYLE=\"text-align:justify\">\n",
    "        Az Ideális Aluláteresztő Szűrő Egy meghatározott sugarú körön kívül minden frekvenciát eldob, azon belül megtart.\n",
    "    </p>\n",
    "    <p STYLE=\"text-align:justify\">\n",
    "        Állítsuk elő a kép Fourier transzformáltját, majd vegyük a következő szűrő függvényt: \n",
    "        $$\n",
    "            \\begin{align}\n",
    "            H(u,v) =\n",
    "                \\begin{dcases*}\n",
    "                    1, & ha $\\rho(u,v) \\le \\omega$, \\\\\n",
    "                    0, & különben.\n",
    "                \\end{dcases*}\n",
    "            \\end{align}\n",
    "        $$\n",
    "    </p>\n",
    "    <p STYLE=\"text-align:justify\">\n",
    "        Ebben a függvényben $\\rho(u,v)$ a távolság függvényünk, ami megadja az $(u,v)$ koordináta és a Fourier transzformált origója közötti távolságot. $\\omega$, az úgynevezett\" vágási frekvencia\", egy olyan érték amely meghatározza az origótol való maximális távolságot. $H(u,v)$ értéket vehetjük egy szorzó tényezőnek, amivel a Fourier transzformált $(u,v)$ koordináján lévő értéket szorozzuk be és amelynek értéke $1$-ha $(u,v)$ vágási frekvencián belül van, $0$, ha azon kívül esik.\n",
    "    </p>  \n",
    "</div>"
   ]
  },
  {
   "cell_type": "markdown",
   "id": "24221352-4152-4cbd-bf2c-a7faf43ddb0b",
   "metadata": {},
   "source": [
    "### <div STYLE=\"width:65%;margin:auto;\" align = \"center\"><br><a id=\"1.52\"><center>Ideális Felüláteresztő Szűrő</center></a></div> ###\n",
    "<p STYLE=\"text-align:center;color:gray\">Ideal High pass Filter</p>"
   ]
  },
  {
   "cell_type": "markdown",
   "id": "08d1197c-68e2-4a2a-bf6f-2782a9f50cea",
   "metadata": {},
   "source": [
    "<div STYLE=\"width:65%;margin:auto;text-align:justify; align: center\"\">\n",
    "    <p STYLE=\"text-align:justify\">\n",
    "        Az előző szűrő párja. Működési elve ugyanaz, mint az aluláteresztő esetén, azzal a különbséggel, hogy a vágási frekvencián túl lévő értékeket tartja meg, és az azon belül lévőket dobja el. A fügvényben az alábbi módosítás kell eszközölni.\n",
    "        $$\n",
    "            \\begin{align}\n",
    "            H(u,v) =\n",
    "                \\begin{dcases*}\n",
    "                1, & ha $\\rho(u,v) \\ge \\omega$, \\\\\n",
    "                0, & különben.\n",
    "                \\end{dcases*}\n",
    "            \\end{align}\n",
    "        $$\n",
    "    </p>\n",
    "</div>"
   ]
  },
  {
   "cell_type": "markdown",
   "id": "c964ae2d-64f6-42c3-a0c3-39098440c481",
   "metadata": {},
   "source": [
    "<div STYLE=\"width:65%;margin:auto;text-align:justify; align: center\">\n",
    "    <p STYLE=\"text-align:justify\">\n",
    "        A fent tárgyalt filterek használatának egy igen kellemetlen mellékhatása lehet az úgynevezett gyűrűzés effektus.\n",
    "    </p>\n",
    "    <center><img STYLE=\"width:30%; margin-left: 30px\" src=\"img/ringing.png\"></center>\n",
    "</div>"
   ]
  },
  {
   "cell_type": "markdown",
   "id": "3d5661ae-19ae-4eb5-a85c-08186661130e",
   "metadata": {},
   "source": [
    "### <div STYLE=\"width:65%;margin:auto;\" align = \"center\"><br><a id=\"1.53\"><center>Butterworth Szűrő</center></a></div> ###\n",
    "<p STYLE=\"text-align:center;color:gray\">Butterworth Filter</p>"
   ]
  },
  {
   "cell_type": "markdown",
   "id": "63ed0937-d44e-49fd-a4e3-7c41c59d67c3",
   "metadata": {},
   "source": [
    "<div STYLE=\"width:65%;margin:auto;text-align:justify; align: center\">\n",
    "    <p STYLE=\"text-align:justify\">\n",
    "        A gyűrűzés effektus elkerülése végett használhatjuk az ebben a fejezetben tárgyalt Butterwort Aluláteresztő Szűrőt. $$H(u,v) = \\frac{1}{1+\\left( \\frac{\\rho(u,v)}{\\omega_0} \\right)^{2n}}$$\n",
    "    </p>\n",
    "    <p STYLE=\"text-align:justify\">\n",
    "        Az Ideális szűrő esetén minden olyan értéket \"eldobtunk\", ami a vágási frekvencián kívülre (vagy belülre) esett, így egy igen éles határvonal rajzolódott ki a szúrés után. A Butterworth szűrő ezzel ellentétben sokkal \"lágyabb\" határvonalat generál. A vagási frekvencia közelében lévő értékektől nem szabadulunk meg teljesen, csupán \"tompítjuk\" őket. Minél nagyobb $n$-et választunk, annál élesebb határvonalat kapunk.\n",
    "    </p><center><img STYLE=\"width:65%; margin-left: 30px\" src=\"img/butterworth.png\"></center>\n",
    "    <p STYLE=\"text-align:justify\">\n",
    "        <br>A fenti aluláteresztő szűrőt könnyedén átalakíthatjuk felüláteresztővé az alábbi apró módisítással: $$H(u,v) = \\frac{1}{1+\\left( \\frac{\\omega_0}{\\rho(u,v)} \\right)^{2n}}$$\n",
    "    </p>\n",
    "</div>"
   ]
  },
  {
   "cell_type": "markdown",
   "id": "0d299156-d02d-4721-8bc8-c040c7660823",
   "metadata": {},
   "source": [
    "### <div STYLE=\"width:65%;margin:auto;\" align = \"center\"><br><a id=\"1.54\"><center>Gauss Szűrő</center></a></div> ###\n",
    "<p STYLE=\"text-align:center;color:gray\">Gaussian Filter</p>"
   ]
  },
  {
   "cell_type": "markdown",
   "id": "829daf27-59c1-4967-a4d0-cdcc3f40582e",
   "metadata": {},
   "source": [
    "<div STYLE=\"width:65%;margin:auto;text-align:justify; align: center\">\n",
    "    <p STYLE=\"text-align:justify\">\n",
    "        Gauss Aluláteresztő Szűrő: $$H(u,v) = e ^ {-\\frac{\\rho^2(u,v)}{2\\omega^2}}$$\n",
    "    </p><center><img STYLE=\"width:65%; margin-left: 30px\" src=\"img/gauss.png\"></center>\n",
    "    <p STYLE=\"text-align:justify\">\n",
    "        <br>Hasonlóan a Butterworth-höz a Gauss szűrő is tompítja a vágási frekvencia körüli határvonalat. Ellenben viszont az előzővel itt nincs szükség egy másik paraméter bevezetésére a határ élesítéséhez. Minél nagyobb értéket választunk vágási frekvenciaként, annál elmosódottabb lesz a határ.\n",
    "    </p>\n",
    "    <p STYLE=\"text-align:justify\">\n",
    "        Gauss Felüláteresztő Szűrő: $$H(u,v) =1 - e ^ {-\\frac{\\rho^2(u,v)}{2\\omega^2}}$$\n",
    "    </p>\n",
    "</div>"
   ]
  },
  {
   "cell_type": "markdown",
   "id": "740436d4-67be-4e1c-9ebc-bf40c42b1f0c",
   "metadata": {},
   "source": [
    "### <div STYLE=\"width:65%;margin:auto;\" align = \"center\"><br><a id=\"1.55\"><center>Mire használhatunk aluláteresztő szűrőt?</center></a></div> ###"
   ]
  },
  {
   "cell_type": "markdown",
   "id": "9faf0920-8c05-43b0-9add-7cc747162f01",
   "metadata": {},
   "source": [
    "<div STYLE=\"width:65%;margin:auto;text-align:justify; align: center\">\n",
    "    <p STYLE=\"text-align:justify\">\n",
    "        Alapvetően három területen szokás felhasználni a fent tárgyalt aluláteresztőszűrőket.\n",
    "    </p>\n",
    "    <p STYLE=\"text-align:justify\">\n",
    "        Az egyik ilyen terület a gépi látás segítése, azon belül is a betűk felismerése. Számunkra a töredezett karakterek felismerés, például egy gyengébb minőségű nyomtatvány esetén, nem jelent nagy problémát, viszont a számítógépnek igen. A problémára megoldást jelenthet, ha a betűket egy kicsit \"elmaszatoljuk\", ahogy azt az alábbi ábra is szemlélteti. \n",
    "    </p><center><img STYLE=\"width:65%; margin-left: 30px\" src=\"img/filter_text.png\"></center>\n",
    "    <p STYLE=\"text-align:justify\"> A kiadó- és nyomtatás ipar is előszeretettel használja ezeket a szűrőket \"digitális kozmetikához\". A használatukkal kicsit elmoshatóak a képek, így azok \"lágyabbaknak\" hatnak, és bizonyos részletek is eltűnnek, eltompulnak.\n",
    "    </p><center><img STYLE=\"width:65%; margin-left: 30px\" src=\"img/filter_cosmetic.png\"></center>\n",
    "    <p STYLE=\"text-align:justify\">\n",
    "        Végül, de nem utolsó sorban használhatjuk a szűrőket zaj eltávolításához is. A lenti képen egy \"Nagyon Nagy Felbontású Radiométer\" (VHRR) álltal készített képet láthatunk Floridáról és a Mexikói-öbölről. Az eredeti képet jobban megvizsgálva észrevehetjuk a vízszintes letapogatási vonalakat (<i>scan lines</i>). Ennek a zajnak az eltüntetésére egy nem túl elegáns, de működő megoldást biztosíthatnak a szűrők.\n",
    "    </p><center><img STYLE=\"width:65%; margin-left: 30px\" src=\"img/filter_scan.png\"></center>\n",
    "</div>"
   ]
  },
  {
   "cell_type": "markdown",
   "id": "22db2788-e6f5-4656-ac74-a9fd92c25a16",
   "metadata": {},
   "source": [
    "### <div STYLE=\"width:65%;margin:auto;\" align = \"center\"><br><a id=\"1.56\"><center>Mire használhatunk felüláteresztő szűrőt?</center></a></div> ###"
   ]
  },
  {
   "cell_type": "markdown",
   "id": "49dbe0a2-5ab3-48c3-8dc6-b30d005315d9",
   "metadata": {},
   "source": [
    "<div STYLE=\"width:65%;margin:auto;text-align:justify; align: center\">\n",
    "    <p STYLE=\"text-align:justify\">\n",
    "        Ha aluláteresztéssel homályosítottunk, felüláteresztéssel élesíteni fogunk. A lenti képen bal oldalt egy ujjlenyomat látható, amit kicsit elmaszatoltak. Középen egy felüláteresztő szűrő eredményét látjuk. A szűrés utáni képen egy egyszerű küszöbölést (lásd: korábbi fejezet) végrehajtva, kapjuk a jobb oldali képet.\n",
    "    </p><center><img STYLE=\"width:65%; margin-left: 30px\" src=\"img/high_pass.png\"></center>\n",
    "</div>"
   ]
  },
  {
   "cell_type": "markdown",
   "id": "34d354c2-d6d0-4605-8460-2ef708f64f66",
   "metadata": {},
   "source": [
    "### <div STYLE=\"width:65%;margin:auto;\" align = \"center\"><br><a id=\"1.57\"><center>Sávszűrők</center></a></div> ###\n",
    "<p STYLE=\"text-align:center;color:gray\">Band-Pass Filters</p>"
   ]
  },
  {
   "cell_type": "markdown",
   "id": "e3f0044b-f29d-4162-b3e8-c4fffede6b3a",
   "metadata": {},
   "source": [
    "<div STYLE=\"width:65%;margin:auto;text-align:justify; align: center\">\n",
    "    <p STYLE=\"text-align:justify\">\n",
    "        Ha a felül- és aluláteresztő szűrőket kombináljuk egymással, sávszűrőket kapunk. Ebből adódóan kettő vágási frekvenciánk lesz $\\omega_1$ és $\\omega_2$, ahol $ \\omega_1 < \\omega_2\\ $. A sávszűrés csupán annyit tesz, hogy elősször veszünk egy felüláteresztő szűrőt $ \\omega_1 $-el, majd az aluláteresztő párját $ \\omega_2 $-vel\n",
    "    </p>\n",
    "</div>"
   ]
  },
  {
   "cell_type": "markdown",
   "id": "514dd4b0-91b3-467a-b40e-7e1355426672",
   "metadata": {},
   "source": [
    "## <div STYLE=\"width:65%;margin:auto;\" align = \"center\"><br><a id=\"1.6\"><center>Szegmentáció</center></a></div> ##"
   ]
  },
  {
   "cell_type": "markdown",
   "id": "ad24802f-4d5b-40dc-9418-a33d74d56f10",
   "metadata": {},
   "source": [
    "<div STYLE=\"width:65%;margin:auto;text-align:justify; align: center\">\n",
    "    <p STYLE=\"text-align:justify\">\n",
    "        A szegmentáció a számítógépes látás egyik legfontosabb eszköze. A számítógép a szegmentálás során eltudja különíteni a képen lévő objektumokat egymástól és a háttértől. Három csoportba tudjuk osztani a szegmentációs eljárásokat:\n",
    "    </p>\n",
    "    <ul>\n",
    "            <li>\n",
    "                Global knowledge (pl.: histogramm)\n",
    "            </li>\n",
    "            <li>\n",
    "                Él alapú szegmentáció\n",
    "            </li>\n",
    "            <li>\n",
    "                Régió alapú szegmentáció\n",
    "            </li>\n",
    "        </ul>\n",
    "</div>"
   ]
  },
  {
   "cell_type": "markdown",
   "id": "2f3487df-87e0-4117-8a44-857f9ad65ecd",
   "metadata": {},
   "source": [
    "### <div STYLE=\"width:65%;margin:auto;\" align = \"center\"><br><a id=\"1.61\"><center>Él alapú szegmentáció</center></a></div> ###"
   ]
  },
  {
   "cell_type": "markdown",
   "id": "ade962cd-322f-4b0f-aab6-4f654030ea56",
   "metadata": {},
   "source": [
    "<div STYLE=\"width:65%;margin:auto;text-align:justify; align: center\">\n",
    "    <p STYLE=\"text-align:justify\">\n",
    "        Senkit ne lepjen meg, egy ilyen elnevezés után az a tény, hogy ez a szegmentációs algoritmus éleken, illetve azok megtalálásán alapszik. A korábbi fejezetben taglalt küszöböléssel is végrehajthatunk éldetektálást. Szürkeárnyalatos képeken az élek megtalálásában segít a pixelek intenziásértékének változása. Ha a változás kicsi, valószínűleg az él nem jelentős. Ezeket az értékeket eltávolíthatjuk egyszerű küszöböléssel. A binarizált képet hívjuk él képnek (<i>Edge image</i>). Ennél a módszernél valamivel finomabb megoldáokat mutat be a következő fejezet.\n",
    "    </p>\n",
    "</div>"
   ]
  },
  {
   "cell_type": "markdown",
   "id": "9fe299f1-6172-43e4-a4b9-0304ac114b4f",
   "metadata": {},
   "source": [
    "#### <div STYLE=\"width:65%;margin:auto;\" align = \"center\"><br><a id=\"1.611\"><center>Belsőhatár-követés</center></a></div> ####\n",
    "<p STYLE=\"text-align:center;color:gray\">Inner Boundary Tracing</p>"
   ]
  },
  {
   "cell_type": "markdown",
   "id": "da0e7adf-043d-467a-b253-6ba03660b839",
   "metadata": {},
   "source": [
    "<div STYLE=\"width:65%;margin:auto;text-align:justify; align: center\">\n",
    "    <p STYLE=\"text-align:justify\">\n",
    "        A határkövetés algoritmussal egyes régiók belső határait határozhatjuk meg. Feltételezzük, hogy a bemeneti kép vagy bináris, vagy a régiók cimkézve vannak.\n",
    "    </p>\n",
    "    <p STYLE=\"text-align:justify\">\n",
    "        Az algoritmus:\n",
    "        <ul>\n",
    "            <li>\n",
    "                Induljunk el a kép balfelső sarkában lévő pixeltől és lépkedjünk tovább pixelről pixelre addig, amíg nem találunk egy régiót. A talált pixel lesz a régió kezdő pontja, $P_0$.\n",
    "            </li>\n",
    "            <li>\n",
    "                Hozzunk létre egy <i>dir</i> változót, amely annak a lépésnek az irányát tartalmazza, amely irányból a jelenlegi határelemhez érkeztünk. A $P_0$ esetén a <i>dir</i> változó értéke mindíg $7$. A különböző irányokhoz tartozó számértékek 8-szomszéd reláció esetén a lenti képen láthatóak.\n",
    "                    <center><img STYLE=\"width:25%; padding-top: 25px; padding-bottom: 25px;margin-left: 25px\" src=\"img/8-con.png\"></center>\n",
    "            </li>\n",
    "            <li>\n",
    "                Az óramutató járásával ellenkező irányban vizsgáljuk meg a határelem $3 \\times 3$-as szomszédságát, kezdve a $(dir+7) \\  mod \\  8 \\ $ irányba mutató pixellel, ha <i>dir</i> páros, ha páratlan, pedig $(dir+6) \\  mod \\  8$ irányba mutató pixellel. Ez első pixel amit a keresés során találunk lesz a következő határelem $P_n$. Elmentjük az irányt a <i>dir</i> változóba és folytatjuk az algoritmus a talált pixellel kivéve, ...\n",
    "            </li>\n",
    "            <li>\n",
    "                ... ha a jelenlegi $P_n$ határelem egyenlő a $P_1$ határelemmel, illetve az $P_{n-1}$ egyenlő $P_0$-val. Ebben az esetben megállunk.\n",
    "            </li>\n",
    "        </ul>\n",
    "    </p>\n",
    "</div>"
   ]
  },
  {
   "cell_type": "markdown",
   "id": "0c3d5858-e2f5-47e4-8bfc-0d94f3374a27",
   "metadata": {},
   "source": [
    "#### <div STYLE=\"width:65%;margin:auto;\" align = \"center\"><br><a id=\"1.612\"><center>Külsőhatár-követés</center></a></div> ####\n",
    "<p STYLE=\"text-align:center;color:gray\">Outer Boundary Tracing</p>"
   ]
  },
  {
   "cell_type": "markdown",
   "id": "fca662da-4e48-407b-9f2b-2cdf34a5cdda",
   "metadata": {},
   "source": [
    "<div STYLE=\"width:65%;margin:auto;text-align:justify; align: center\">\n",
    "    <p STYLE=\"text-align:justify\">\n",
    "        A külsőhatár lekövetése is hasonlóan történik mint a belsőé, azzal a különbséggel, hogy itt olyan pixeleket keresünk, amelyek nem részei az objektumnak, csupán szomszédosak vele. \n",
    "        Az algoritmus annyiban változik, hogy 4-szomszéd relációt használunk a belsőhatár lekövetéséhez, illetve megjelöljük azokat a pixeleket, amik nem tartoznak a lekövetett objektumhoz. Egy ilyen szomszédos pixelt többször is megjelölhetünk.\n",
    "    </p><center><img STYLE=\"width:25%; padding-top: 25px; padding-bottom: 25px;margin-left: 25px\" src=\"img/4-con.png\"></center>\n",
    "    <p STYLE=\"text-align:justify\">\n",
    "        A megjelölt külső határpixelek a lenti módon vizualizálhatóak. A pöttyök azt jelölik, hogy egy pixelt hányszor azonosítottunk, mint külső határelemet.\n",
    "    </p><center><img STYLE=\"width:50%; padding-top: 25px; padding-bottom: 25px;margin-left: 25px\" src=\"img/outer_bound.png\"></center>\n",
    "</div>"
   ]
  },
  {
   "cell_type": "markdown",
   "id": "36c78839-2fad-4a93-9476-add07c4e87f1",
   "metadata": {},
   "source": [
    "#### <div STYLE=\"width:65%;margin:auto;\" align = \"center\"><br><a id=\"1.613\"><center>Éldetektorok</center></a></div> ####\n",
    "<p STYLE=\"text-align:center;color:gray\">Edge detectors</p>"
   ]
  },
  {
   "cell_type": "markdown",
   "id": "4557ab14-773f-488e-b51d-a886294963e4",
   "metadata": {},
   "source": [
    "<div STYLE=\"width:65%;margin:auto;text-align:justify; align: center\">\n",
    "    <p STYLE=\"text-align:justify\">\n",
    "        Az éldetektorok az intenzitás értékek változását detektálják és  élként detektálnak minden olyan pixelt, ahol a intenzitás értéke nagyot változik a szomszédokhoz képest. Hét éldetektáló operátort fogunk megvizsgálni: Roberts, Laplace, Prewitt, Sobel, Robinson, Kirsch és LoG. De előbb a gradiensről.\n",
    "    </p>\n",
    "</div>"
   ]
  },
  {
   "cell_type": "markdown",
   "id": "5c35c69b-94f0-439b-8bcb-e212c804487c",
   "metadata": {},
   "source": [
    "<div STYLE=\"width:65%;margin:auto;text-align:justify; align: center\">\n",
    "    <p STYLE=\"text-align:justify\">\n",
    "        Egy kép gradiensét a kép $(x,y)$ koordinátáján a következő oszlopvektor adja meg: \n",
    "        $$\n",
    "        \\begin{align}\n",
    "            \\nabla f &\\equiv grad(f) =\n",
    "                \\begin{bmatrix}\n",
    "                    g_{x} \\\\\n",
    "                    g_{y}\n",
    "                \\end{bmatrix} = \n",
    "                \\begin{bmatrix}\n",
    "                    \\frac{\\partial f}{\\partial x} \\\\\n",
    "                    \\frac{\\partial f}{\\partial y}\n",
    "                 \\end{bmatrix}\n",
    "        \\end{align}\n",
    "        $$\n",
    "        Ez a vektor az adott pontban lévő legnagyobb változás irányát adja meg. A vektor hossza megadja nekünk a változás mértékét az előbb kiszámolt gradiens irányában: \n",
    "        $$ M(x,y) = \\left||\\nabla f \\right|| = mag \\left(\\nabla f \\right) = \\sqrt{g^{2}_{x} + g^{2}_y}.$$\n",
    "        Az $M(x,y)$ a bemeneti kép méreteivel megegyező kép lesz, amire <i>gradiens kép</i>ként hivatkozunk.<br>Kiszámolni a minden egyes pixelre a gradienseket és a vektor hosszakat számításigényes lehet ezért inkább approximáljuk (azaz közelítjük) ezeket az értékeket. \n",
    "    </p>\n",
    "</div>"
   ]
  },
  {
   "cell_type": "markdown",
   "id": "efb4a30a-d998-4b2d-93c2-c190c53e3069",
   "metadata": {
    "editable": true,
    "slideshow": {
     "slide_type": "slide"
    },
    "tags": []
   },
   "source": [
    "# <div STYLE=\"width:70%;margin:auto;\" align = \"center\"><br><a id=\"2\"><center>Felhasznált irodalom</center></a></div> #"
   ]
  },
  {
   "cell_type": "markdown",
   "id": "9d43bc5c-624e-48c2-9579-1068663b6e1f",
   "metadata": {
    "editable": true,
    "raw_mimetype": "",
    "slideshow": {
     "slide_type": "fragment"
    },
    "tags": []
   },
   "source": [
    "_<p STYLE=\"text-align: center\">Dr. Fazekas Attila: Képfeldolgozás és Orvosi Képalkotás (diasor)</p>_\n",
    "_<p STYLE=\"text-align: center\"><a target=\"_blank\" href=\"https://ijarcce.com/wp-content/uploads/2022/06/IJARCCE.2022.11672.pdf\">Digital Image Processing: Its History and Application</a></p>_\n",
    "_<p STYLE=\"text-align: center\"><a target=\"_blank\" href=\"https://dl.icdst.org/pdfs/files4/01c56e081202b62bd7d3b4f8545775fb.pdf\">Rafael C. Gonzalez, Richard E. Woods: Digital Image Processing (Fourth Edition)</a></p>_"
   ]
  },
  {
   "cell_type": "raw",
   "id": "9e4d3207-4304-4550-859d-38bdcbc0da39",
   "metadata": {},
   "source": [
    "Segítség a segédlet megírásához. Eltávolításra kerül!"
   ]
  },
  {
   "cell_type": "markdown",
   "id": "cde50cb1-7f0b-49b5-8ef1-37daa42707dc",
   "metadata": {},
   "source": [
    "<div STYLE=\"width:70%;margin:auto;\" align = \"center\">Container</div>"
   ]
  },
  {
   "cell_type": "markdown",
   "id": "b2281242-70cb-4686-8d49-a370ceca8ed1",
   "metadata": {
    "editable": true,
    "slideshow": {
     "slide_type": ""
    },
    "tags": []
   },
   "source": [
    "############# Markdown parser in Jupyter notebooks ##################\n",
    "\n",
    "<div class=\"alert alert-block alert-info\"> <b>NOTE</b> Use blue boxes for Tips and notes. </div>\n",
    "\n",
    "<div class=\"alert alert-block alert-success\"> Use green boxes sparingly, and only for some specific purpose that the other boxes can't cover. For example, if you have a lot of related content to link to, maybe you decide to use green boxes for related links from each section of a notebook. </div>\n",
    "\n",
    "<div class=\"alert alert-block alert-warning\"> Use yellow boxes for examples that are not inside code cells, or use for mathematical formulas if needed. </div>\n",
    "\n",
    "<div class=\"alert alert-block alert-danger\"> In general, just avoid the red boxes. </div>\n",
    "\n",
    "############# Markdown parser in Sphinx ##################\n",
    "\n",
    "<div class=\"admonition note\"> <p class=\"admonition-title\">Note</p> <p>You should note that the title will be automatically capitalized.</p> </div>\n",
    "\n",
    "<div class=\"admonition danger\"> <p class=\"admonition-title\">Don't try this at home</p> <p>...</p> </div>\n",
    "\n",
    "<div class=\"admonition important\"> <p>This is an admonition box without a title.</p> </div>"
   ]
  },
  {
   "cell_type": "markdown",
   "id": "dfdfed8f-9507-47d7-9c26-21e1c23e4224",
   "metadata": {},
   "source": [
    "<p STYLE=\"text-align:justify\">Lorem ipsum dolor sit amet, consectetur adipiscing elit. Etiam vitae tempus nisl. Sed eget tincidunt ipsum, vitae tempus lorem. Nullam sit amet erat sit amet velit rutrum mollis sit amet sit amet sapien. In vulputate tellus eget quam tincidunt ornare. Ut dui lorem, dictum non gravida vitae, feugiat sit amet neque. Morbi hendrerit justo tincidunt, ultrices ligula eget, varius nulla. Maecenas a metus et metus eleifend accumsan. Vestibulum finibus congue orci, id dictum ligula varius placerat. Pellentesque a risus in dui accumsan convallis a et nunc. Proin non lacinia sapien. Aenean libero quam, commodo et arcu a, efficitur tempus mauris. Maecenas ut nibh non purus egestas laoreet eget vitae libero. Aenean nec erat nulla. Morbi non posuere lacus, eu venenatis tortor. Etiam nec pharetra libero, non mollis ex.ome \n",
    "\n",
    "</p>"
   ]
  },
  {
   "cell_type": "markdown",
   "id": "7eecbf9b-e069-40e9-ae35-01f8f5ff8b8c",
   "metadata": {},
   "source": [
    "<div STYLE=\"width:65%;margin:auto;text-align:justify; align: center\">\n",
    "    \n",
    "```python\n",
    "from pyomo.environ import *\n",
    "model = Concretemodel()\n",
    "```\n",
    "\n",
    "</div>"
   ]
  },
  {
   "cell_type": "code",
   "execution_count": null,
   "id": "206ffbff-7d64-44f6-8e0c-cfcb597db31a",
   "metadata": {
    "jupyter": {
     "source_hidden": true
    }
   },
   "outputs": [],
   "source": [
    "from jupyterquiz import display_quiz\n",
    "import json \n",
    "\n",
    "with open(\"questions/quiz.json\", encoding='utf-8') as q:\n",
    "    questions = json.load(q)\n",
    "    #json.dump(questions, q, indent=4)\n",
    "    display_quiz(questions)"
   ]
  },
  {
   "cell_type": "code",
   "execution_count": null,
   "id": "deebbd11-0da5-48f0-b1d4-d1f4250b08d8",
   "metadata": {
    "jupyter": {
     "source_hidden": true
    }
   },
   "outputs": [],
   "source": [
    "import ipywidgets as widgets\n",
    "w = widgets.IntSlider()\n",
    "display(w)"
   ]
  },
  {
   "cell_type": "markdown",
   "id": "4389bb0a-0b0a-4090-bb92-7d357d813ad7",
   "metadata": {},
   "source": [
    "```\n",
    "pip install jupyterquiz==2.7.0a3 jupytercards opencv-python -q\n",
    "```"
   ]
  },
  {
   "cell_type": "markdown",
   "id": "a3df1aee-0421-490e-a9db-5235d4d7a2e2",
   "metadata": {},
   "source": [
    "```mermaid\n",
    "flowchart LR\n",
    "\n",
    "A[Hard] -->|Text| B(Round)\n",
    "B --> C{Decision}\n",
    "C -->|One| D[Result 1]\n",
    "C -->|Two| E[Result 2]\n",
    "```"
   ]
  },
  {
   "cell_type": "code",
   "execution_count": null,
   "id": "14b6f771-3988-4199-a279-ca5287c46262",
   "metadata": {
    "jupyter": {
     "source_hidden": true
    }
   },
   "outputs": [],
   "source": []
  }
 ],
 "metadata": {
  "kernelspec": {
   "display_name": "Python 3 (ipykernel)",
   "language": "python",
   "name": "python3"
  },
  "language_info": {
   "codemirror_mode": {
    "name": "ipython",
    "version": 3
   },
   "file_extension": ".py",
   "mimetype": "text/x-python",
   "name": "python",
   "nbconvert_exporter": "python",
   "pygments_lexer": "ipython3",
   "version": "3.11.4"
  },
  "toc": {
   "base_numbering": 0
  },
  "widgets": {
   "application/vnd.jupyter.widget-state+json": {
    "state": {
     "56ac8fa77e31470a80460d2de7c90a6a": {
      "model_module": "@jupyter-widgets/controls",
      "model_module_version": "2.0.0",
      "model_name": "ButtonModel",
      "state": {
       "button_style": "success",
       "description": " START",
       "icon": "play",
       "layout": "IPY_MODEL_59f7f108c8704861a3fcb4e5addaf11b",
       "style": "IPY_MODEL_5aa95002538f476c8195c98e160760bb",
       "tooltip": null
      }
     },
     "59f7f108c8704861a3fcb4e5addaf11b": {
      "model_module": "@jupyter-widgets/base",
      "model_module_version": "2.0.0",
      "model_name": "LayoutModel",
      "state": {}
     },
     "5aa95002538f476c8195c98e160760bb": {
      "model_module": "@jupyter-widgets/controls",
      "model_module_version": "2.0.0",
      "model_name": "ButtonStyleModel",
      "state": {
       "font_family": null,
       "font_size": null,
       "font_style": null,
       "font_variant": null,
       "font_weight": null,
       "text_color": null,
       "text_decoration": null
      }
     },
     "6f78e228e5a3460588d2622392bec047": {
      "model_module": "@jupyter-widgets/base",
      "model_module_version": "2.0.0",
      "model_name": "LayoutModel",
      "state": {
       "align_items": "center",
       "display": "flex",
       "flex_flow": "column",
       "width": "100%"
      }
     },
     "6ff36074d0e647d8ad3b49e428febd09": {
      "model_module": "@jupyter-widgets/controls",
      "model_module_version": "2.0.0",
      "model_name": "HBoxModel",
      "state": {
       "children": [
        "IPY_MODEL_56ac8fa77e31470a80460d2de7c90a6a"
       ],
       "layout": "IPY_MODEL_6f78e228e5a3460588d2622392bec047"
      }
     }
    },
    "version_major": 2,
    "version_minor": 0
   }
  }
 },
 "nbformat": 4,
 "nbformat_minor": 5
}
