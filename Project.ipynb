{
 "cells": [
  {
   "cell_type": "markdown",
   "id": "90ec2938-341d-4c87-bb78-d6ec3aeb2ff6",
   "metadata": {
    "editable": false,
    "slideshow": {
     "slide_type": "slide"
    },
    "tags": []
   },
   "source": [
    "# <div id=\"Képfeldolgozás\" STYLE=\"width:65%;margin:auto;\" align = \"center\"><center>__Képfeldolgozás__</center></div> #\n",
    "<font size=\"2\"><center>  \n",
    "`Írta: Váradi Sándor`    \n",
    "</center></font><br><br>"
   ]
  },
  {
   "cell_type": "markdown",
   "id": "975e90b3-3929-4fdb-8531-2a75da530071",
   "metadata": {
    "editable": false,
    "slideshow": {
     "slide_type": ""
    },
    "tags": []
   },
   "source": [
    "<div STYLE=\"width:65%;margin:auto;\" align = \"center\">\n",
    "    <p STYLE = \"text-align:justify; font-variant: small-caps; font-size: 10px;\">\n",
    "    A segédlet kizárólag személyes, oktatási és kutatási célokra használható fel. Kereskedelmi célú felhasználás, beleértve, de nem kizárólagosan, a segédlet bármilyen anyagi ellenszolgáltatásért történő forgalmazása vagy értékesítése, nem engedélyezett. A segédletben található ábrák egy része, részben vagy egészben, a <i>Rafael C. Gonzalez és Richard E. Woods: Digital Image Processing</i> című könyvből származik, amelynek jogai az eredeti szerzőket illetik meg. A segédlet tartalmának módosítása csak akkor lehetséges, ha a módosítás nem torzítja az eredeti információkat, illetve, ha annak célja az esetlegesen felmerülő hibák javítása, a tartalom egyértelműbbé tétele vagy a segédlet álltal lefedett témakörök bővítése. A módosított változat esetében is meg kell jelölni az eredeti forrásokat és az eredeti szerzőt. A példaprogramok futtatási eredményét bemutató ábrákhoz felhasznált, illetve a segédlethez mellékelt tesztképek forrása: <a href = \"https://images.google.com/\">https://images.google.com/</a>. A segédlet Dr. Fazekas Attila <i>\"Képfeldolgozás és Orvosi Képalkotás\"</i> című jegyzetei alapján készült 2024-ben.\n",
    "    </p>\n",
    "</div>"
   ]
  },
  {
   "cell_type": "markdown",
   "id": "06eb313f-b2f3-4308-8105-1f177d2063ab",
   "metadata": {
    "editable": true,
    "slideshow": {
     "slide_type": "skip"
    },
    "tags": []
   },
   "source": [
    "## <div id =\"Tartalomjegyzék\" STYLE=\"width:70%;margin:auto;\" align = \"center\"><br><center>Tartalomjegyzék<center></div> ##"
   ]
  },
  {
   "cell_type": "markdown",
   "id": "38e0f492-51c8-4fa2-ad6a-f5ebef0712ec",
   "metadata": {
    "editable": false,
    "slideshow": {
     "slide_type": "skip"
    },
    "tags": []
   },
   "source": [
    "<div STYLE=\"width:65%;margin:auto;align: center\">\n",
    "<p><a href=\"#Mielőtt belevágunk\">Mielőtt belevágunk</a></p>\n",
    "<p><a href=\"#Az OpenCV\">Az OpenCV</a></p>\n",
    "<p><a href=\"#A képfeldolgozás és annak nehézségei\">A képfeldolgozás és annak nehézségei</a></p>\n",
    "<p><a href=\"#A képek matematikai háttere\">A képek matematikai háttere</a></p>\n",
    "<p><a href=\"#Képek előfeldolgozása\">Képek előfeldolgozása</a></p>\n",
    "    <p STYLE=\"text-indent: 25px;\"><a href=\"#Pixelfényerő transzformáció\">Pixelfényerő transzformáció</a></p>\n",
    "        <p STYLE=\"text-indent: 50px;\"><a href=\"#Szürkeárnyalatos transzformáció\">Szürkeárnyalatos transzformáció</a></p>\n",
    "        <p STYLE=\"text-indent: 50px;\"><a href=\"#Hisztogram kiegyenlítés\">Hisztogram kiegyenlítés</a></p>\n",
    "    <p STYLE=\"text-indent: 25px;\"><a href=\"#Zaj szűrése\">Zaj szűréses</a></p>\n",
    "<p><a href=\"#Matematikai morfológia\">Matematikai morfológia</a></p>\n",
    "    <p STYLE=\"text-indent: 25px;\"><a href=\"#Dilatáció és Erózió\">Dilatáció és Erózió</a></p>\n",
    "    <p STYLE=\"text-indent: 25px;\"><a href=\"#Nyitás és Zárás\">Nyitás és Zárás</a></p>\n",
    "    <p STYLE=\"text-indent: 25px;\"><a href=\"#Hit-or-Miss\">\"Hit-or-Miss\" transzformáció</a></p>\n",
    "<p><a href=\"#Fourier-transzformáció\">Fourier-transzformáció</a></p>\n",
    "    <p STYLE=\"text-indent: 25px;\"><a href=\"#Ideális Aluláteresztő szűrő\">Ideális Aluláteresztő szűrő</a></p>\n",
    "    <p STYLE=\"text-indent: 25px;\"><a href=\"#Ideális Felüláteresztő Szűrő\">Ideális Felüláteresztő Szűrő</a></p>\n",
    "    <p STYLE=\"text-indent: 25px;\"><a href=\"#Butterworth Szűrő\">Butterworth Szűrő</a></p>\n",
    "    <p STYLE=\"text-indent: 25px;\"><a href=\"#Gauss Szűrő\">Gauss Szűrő</a></p>\n",
    "    <p STYLE=\"text-indent: 25px;\"><a href=\"#Mire használhatunk aluláteresztő szűrőt\">Mire használhatunk aluláteresztő szűrőt?</a></p>\n",
    "    <p STYLE=\"text-indent: 25px;\"><a href=\"#Mire használhatunk felüláteresztő szűrőt\">Mire használhatunk felüláteresztő szűrőt?</a></p>\n",
    "    <p STYLE=\"text-indent: 25px;\"><a href=\"#Sávszűrők\">Sávszűrők</a></p>\n",
    "    <p STYLE=\"text-indent: 25px;\"><a href=\"#Sávzáró szűrők\">Sávzáró szűrők</a></p>\n",
    "<p><a href=\"#Élalapú szegmentáció\">Élalapú szegmentáció</a></p>\n",
    "    <p STYLE=\"text-indent: 25px;\"><a href=\"#Belső határlekövetés\">Belső határlekövetés</a></p>\n",
    "    <p STYLE=\"text-indent: 25px;\"><a href=\"#Külső határlekövetés\">Külső határlekövetés</a></p>\n",
    "<p><a href=\"#Éldetektorok\">Éldetektorok</a></p>\n",
    "<p><a href=\"#Jellemzőkiemelés\">Jellemzőkiemelés</a></p>\n",
    "    <p STYLE=\"text-indent: 25px;\"><a href=\"#Régiók azonosítása\">Régiók azonosítása</a></p>\n",
    "    <p STYLE=\"text-indent: 25px;\"><a href=\"#Egyszerű geometrikus szegély reprezentáció\">Egyszerű geometrikus szegély reprezentáció</a></p>\n",
    "    <p STYLE=\"text-indent: 25px;\"><a href=\"#Hough-transzformáció\">Hough transzformáció</a></p>\n",
    "<p><a href=\"#Felhasznált irodalom\">Felhasznált irodalom</a><br></p>\n",
    "</div>"
   ]
  },
  {
   "cell_type": "markdown",
   "id": "5a6e69b3-fd38-4fac-8f55-b9a92a2c576a",
   "metadata": {
    "editable": false,
    "slideshow": {
     "slide_type": "slide"
    },
    "tags": []
   },
   "source": [
    "## <div id=\"Mielőtt belevágunk\" STYLE=\"width:70%;margin:auto;\" align = \"center\"><br><center>Mielőtt belevágunk<center></div> ##"
   ]
  },
  {
   "cell_type": "markdown",
   "id": "2e11e080-5850-4ccb-affc-c731325869ae",
   "metadata": {
    "editable": false,
    "slideshow": {
     "slide_type": "fragment"
    },
    "tags": []
   },
   "source": [
    "<div STYLE=\"width:65%;margin:auto;text-align:justify; align: center\">\n",
    "    <p STYLE = \"text-align:justify\">\n",
    "        Az alábbi segédlet példakódokat tartalmaz, amelyek lefuttatásához szükséges néhány könyvtár telepítése, többek között az OpenCV.\n",
    "        \n",
    "```console\n",
    "pip install jupyterquiz==2.7.0a3 ipywidgets opencv-python -q\n",
    "``` \n",
    "<br>A telepítéshez szimplán másold be a fenti parancsot a parancssorba, vagy futtasd le a lenti kód blokkot, ha Notebookot használsz.\n",
    "    </p>\n",
    "</div>"
   ]
  },
  {
   "cell_type": "code",
   "execution_count": null,
   "id": "a576fd1d-2ab4-449e-bcb5-789d83824b90",
   "metadata": {
    "editable": false,
    "slideshow": {
     "slide_type": "skip"
    },
    "tags": [
     "hide_output"
    ]
   },
   "outputs": [],
   "source": [
    "pip install jupyterquiz ipywidgets opencv-python numpy matplotlib scipy -q"
   ]
  },
  {
   "cell_type": "markdown",
   "id": "a013c927-a289-44c7-857e-0bc6d4cf48c5",
   "metadata": {
    "editable": false,
    "slideshow": {
     "slide_type": ""
    },
    "tags": []
   },
   "source": [
    "<div STYLE=\"width:65%;margin:auto;text-align:justify; align: center\">\n",
    "    <p STYLE = \"text-align:justify\">\n",
    "        Az interaktív segédlet használata során példaprogramokkal fogsz találkozni, amelyek lefuttatásához <b>Jupyter Notebook</b>ban szimplán kattints rá a fenti menüsávban található \"$\\blacktriangleright$\" szimbólumra a cella kijelölése után, vagy használd a \"Shift+Enter\" billentyűkombinációt. A zöld \"<font STYLE=\"color: white; background-color:#388e3c;\"> <b>&#9655; Start </b></font>\" gombra kattintva elindíthatod a programot. Ha <b>Voila</b> segítségével nyitottad meg a .ipynb fájlt, akkor szimplán kattints a gombra.<br>Bár a segédlet írása során igyekeztem kiküszöbölni a hibákat, előfordulhat, hogy egy program hibásan, vagy egyáltalán nem fut le. Ebben az esetben <b>Notebook</b>ban kattints a fenti menüsávban a \"&#8635;\" szimbólumra a kernel újraindításához, majd futtasd újra a programot. <b>Voilá</b>ban szimplán tölts újra az oldalt és kattints a gombra.\n",
    "    </p>\n",
    "</div>"
   ]
  },
  {
   "cell_type": "markdown",
   "id": "b2fefdf2-cade-4f4a-9111-242a04a056e4",
   "metadata": {
    "editable": false,
    "slideshow": {
     "slide_type": "slide"
    },
    "tags": []
   },
   "source": [
    "## <div id=\"Az OpenCV\" STYLE=\"width:70%;margin:auto;\" align = \"center\"><br><center>Az OpenCV<center></div> ##"
   ]
  },
  {
   "cell_type": "markdown",
   "id": "4c4f6508-85a3-4429-9ee8-0e8af8750d6d",
   "metadata": {
    "editable": false,
    "slideshow": {
     "slide_type": "fragment"
    },
    "tags": []
   },
   "source": [
    "<div STYLE=\"width:65%;margin:auto;text-align:justify; align: center\">\n",
    "    <p STYLE = \"text-align:justify\">\n",
    "        Az OpenCV (<a href=\"https://opencv.org/\">https://opencv.org/</a>), azaz a Open Source Computer Vision Library, ahogy azt neve is mutatja egy nyílt forráskódú, számítógépes látást és gépi tanulást támogató könyvtár. 1999-ben adta ki a legelső verzióját az Intel. Több mint 2500 optimalizált algoritmust tartalmaz, amelyekkel többek között megvalósítható objektum detektálás, követés, 3D pontfelhő generálás és sok minden más. Olyan cégek használják mint például a Google, a Microsoft és a Sony. A könyvtár rendelkezik C++, Java és Python interface-el, ebben a segédletben az utóbbi lesz segítségünkre.\n",
    "    </p>\n",
    "</div>\n"
   ]
  },
  {
   "cell_type": "markdown",
   "id": "499c4fd9-cdcf-47f0-9f93-dd73d6a33739",
   "metadata": {
    "editable": false,
    "slideshow": {
     "slide_type": "slide"
    },
    "tags": []
   },
   "source": [
    "## <div id=\"A képfeldolgozás és annak nehézségei\" STYLE=\"width:70%;margin:auto;\" align = \"center\"><br><center>A képfeldolgozás és annak nehézségei<center></div> ##"
   ]
  },
  {
   "cell_type": "markdown",
   "id": "bf75d6d8-2fd1-413d-b344-f9cdfdd9f277",
   "metadata": {
    "editable": false,
    "slideshow": {
     "slide_type": "fragment"
    },
    "tags": []
   },
   "source": [
    "<div STYLE=\"width:65%;margin:auto;text-align:justify; align: center\"><p STYLE = \"text-align:justify\">Számunkra a világ megértésében, elengedhetetlen szerepet játszik az érzékelés, többek között a látás. Így, ha mesterséges úton kívánunk olyan intelligenciát létrehozni (MI), amely az emberi intelligenciát hivatott imitálni, a látás szintén egy elengedhetetlen tényező. Viszont egy számítógép felépítése igencsak eltér az emberétől, így a gépi látás egyáltalán nem egy triviális probléma. Egyrészről szeretnénk a képeket az ember számára felfogható, másrészről pedig a gép számára értelmezhető  formába alakítani. A képfeldolgozás pontosan ezekre a problémákra keresi a megoldást.</p></div>"
   ]
  },
  {
   "cell_type": "markdown",
   "id": "4953c455-713c-4347-a31b-7d0f25c3951e",
   "metadata": {
    "editable": false,
    "raw_mimetype": "",
    "slideshow": {
     "slide_type": "subslide"
    },
    "tags": []
   },
   "source": [
    "<div STYLE=\"width:65%;margin:auto;text-align:justify; align: center\">\n",
    "    <p STYLE=\"text-align:justify\">Habár digitális képfeldolgozásról hivatalosan az 1960-as évektől kezdve beszélhetünk, a legelső képfeldolgozás már az 1920-as években megtörtént, amikor Londonból New York-ba küldtek képeket vízalatti kábeleken keresztül.<br>1964-ben a <i>Ranger 7</i> nevezetű űrszonda sikeresen képeket továbbított a hold felszínéről. A képen lévő kameratorzítás számítógépek segítségével hozták helyre a földön. A hold felszínének számítógépes feltérképezése hatalmas siker volt.<br>Nem csak az űrkutatás, de az orvostudomány is képes volt a legjobbat kihozni a számítógépes képfeldolgozásból. Az 1970-es évek elején született meg a számítógépes tomográfia (Computed Axial Tomography - CAT), ami az orvostudomány egyik legjelentősebb sikerének számított.<br>A 2000-es évekre az általános célú számítógépek gyors elterjedésével a digitális képfeldolgozás lett a leggyakoribb képfeldolgozási forma.\n",
    "    </p>\n",
    "    <p>A számítógépes látás a képfeldolgozással nagyából egyidős. A legelső számítógépes látással kapcsolatos kísérletet 1966-ban Gerald Jay Sussman végezte el, aki egy kamerával felszerelt számítógépet próbált meg rávenni arra, hogy írja le mit lát. A digitális képfeldolgozás és a számítógépes látás közötti határ igen homályos. Általában ahelyett, hogy megpróbálnák különböztetni a számítógépes látást a képfeldolgozástól, inkább csak képfeldolgozásról szoktak beszélni, amit három csoportba sorolnak: alacsony-, közép- és magas szintű képfeldolgozási folyamatok.\n",
    "    <ul>\n",
    "        <li><i>Alacsony szintű folyamatok</i>: egyszerű képfeldolgozási műveletek és képelőfeldolgozás.</li>\n",
    "        <li><i>Középszintű folyamatok</i>: ezen folyamatok bemenetei főleg képek, kimenetei a képből nyert attribútumok.</li>\n",
    "        <li><i>Magas szintű folyamatok</i>: Ezek a folyamatok adnak értelmet az előző csoportba tartozó folyamatok kimenetének (például képanalízis).</li>\n",
    "    </ul></p>\n",
    "</div>"
   ]
  },
  {
   "cell_type": "markdown",
   "id": "841d25c8-02ff-4c3c-b795-962510be06c3",
   "metadata": {
    "editable": false,
    "slideshow": {
     "slide_type": "subslide"
    },
    "tags": []
   },
   "source": [
    "<div STYLE=\"width:65%;margin:auto;text-align:justify; align: center\">\n",
    "    <p>A számítógépes képfeldolgozás során különféle nehézségekkel kel szembenéznünk. Az alábbi lista tartalmaz ezek közül egy párat:\n",
    "    <ul STYLE=\"text-align:justify\">\n",
    "        <li>Információ veszteség 3D-ből 2D-be alakítás során</li>\n",
    "            <dd>A képrögzítő eszközök (pl.: kamerák) általában csak 2D-ben tudnak rögzíteni, és csak egy szögből, így nehézséget jelenthet az objektumok térben való elhelyezkedésének megállapítása.</dd>\n",
    "        <li>Kép értelmezése</li>\n",
    "            <dd>Akárcsak számunkra, a számítógép számára is nehézséget okozhat a kép, illetve az azon megjelenő formák, objektumok felismerése, értelmezése.</dd>\n",
    "        <li>Zaj</li>\n",
    "            <dd>A túl sok zaj a kép olyan mértékű torzulásához vezethet, amelynél az eredeti információ visszaállítása nagyon nehéz, vagy akár nem is lehetséges.</dd>\n",
    "        <li>Túl sok adat</li>\n",
    "            <dd>Nagy felbontású képek lassíthatják a képfeldolgozási algoritmusokat.</dd>\n",
    "    </ul><br>\n",
    "    </p>\n",
    "</div>"
   ]
  },
  {
   "cell_type": "markdown",
   "id": "5c9bf324-ca9f-4436-bf75-173733c4f065",
   "metadata": {
    "editable": false,
    "slideshow": {
     "slide_type": "subslide"
    },
    "tags": []
   },
   "source": [
    "<div STYLE=\"width:70%;margin:auto;\" align = \"center\">\n",
    "        <center><b>Feladat:</b> Próbáld meg megállapítani, hogy mit ábrázol az alábbi kép</center>\n",
    "</div>"
   ]
  },
  {
   "cell_type": "markdown",
   "id": "7110e981-4d7d-4d1f-807e-d3dbf41fc23a",
   "metadata": {
    "editable": false,
    "slideshow": {
     "slide_type": ""
    },
    "tags": []
   },
   "source": [
    "<div STYLE=\"width:65%;margin:auto;\" align = \"center\">\n",
    "    <center>\n",
    "        <figure>\n",
    "            <img src=\"img/ezmiez.jpg\" alt=\"Mi van a képen?\" style=\"width:40%;padding:20px\">\n",
    "            <figcaption><i>Ez meg mi?</i></figcaption>\n",
    "        </figure>\n",
    "    </center>\n",
    "</div>"
   ]
  },
  {
   "cell_type": "markdown",
   "id": "d9f751e3-faa1-42b3-8e41-f30ed9643c0d",
   "metadata": {
    "editable": false,
    "slideshow": {
     "slide_type": "subslide"
    },
    "tags": []
   },
   "source": [
    "<div STYLE=\"width:65%;margin:auto;text-align:justify; align: center\">\n",
    "    <p STYLE=\"text-align:justify\"><img src=\"img/Amesroom.jpg\" alt=\"Ames szoba?\" STYLE=\"width:40%;margin-left:20px;float:right\">Tény, hogy a fenti kép elég becsapós volt, de tekintsük meg a következő képet. Annak ellenére, hogy felismerjük rajta az embereket, a méretek valahogy nem tűnnek helyesnek. Az illúziót egyébként egy úgynevezett <i>Ames szobában</i> lehet elérni, ahol a padló és a szoba hátsó fala, direkt nem vízszintes.\n",
    "    </p>\n",
    "</div>"
   ]
  },
  {
   "cell_type": "markdown",
   "id": "4ba98327-5dc7-48cb-b2cd-e8e8f108e90c",
   "metadata": {
    "editable": false,
    "slideshow": {
     "slide_type": "slide"
    },
    "tags": []
   },
   "source": [
    "## <div id=\"A képek matematikai háttere\" STYLE=\"width:65%;margin:auto;\" align = \"center\"><br><center>A képek matematikai háttere</center></div> ##"
   ]
  },
  {
   "cell_type": "markdown",
   "id": "3e3b4575-397b-4951-8fd4-3ba4c999ac15",
   "metadata": {
    "editable": false,
    "slideshow": {
     "slide_type": "fragment"
    },
    "tags": []
   },
   "source": [
    "><div STYLE=\"width:65%;margin:auto;text-align:justify; align: center\">\n",
    "    <p STYLE=\"text-align:justify\"><i>\n",
    "        <b>Definíció:</b></i> A Zn halmaz egy n dimenziós digitális sík, elemei pontok. A digitális sík egy véges és nem-üres részhalmaza, n dimenziós digitális halmaz.<br>\n",
    "Legyen $f:X \\rightarrow \\{ 0,1,...,m-1 \\}, (m \\in N)$ egy függvény $X$ digitális halmaz felett értelmezve. Ezt a függvényt tekinthetjük egy digitális képnek, amely a szürke szín $m$ darab árnyalatból épül fel (szürkeségi szint).<br>\n",
    "A $(p, f(p)),$ $(p \\in X)$ <i>pixel</i>nek (<i>picture (x) element</i>) nevezzük, ahol $p$ a pixel koordinátája és $f(p)$ az adott koordinátán lévő pixel szürkeségi szintjét megadó függvény.\n",
    "    </p>\n",
    "</div>"
   ]
  },
  {
   "attachments": {},
   "cell_type": "markdown",
   "id": "260d31b2-2509-42a0-996c-db0cfecfe75a",
   "metadata": {
    "editable": false,
    "slideshow": {
     "slide_type": "subslide"
    },
    "tags": []
   },
   "source": [
    "><div STYLE=\"width:65%;margin:auto;text-align:justify; align: center\">\n",
    "    <p STYLE=\"text-align:justify\"><i>\n",
    "        <b>Definíció:</b></i> Legyen $f$ egy digitális kép adott $X$ digitális halmaz felett. Azt az $f$ digitális képet, amelynek szürkeségi szintje $2$ (azaz a szürke színnek csak két árnyalatából épül fel), bináris képnek hívjuk, ahol $F = \\left\\{ p \\in X | f(p) = 1 \\right\\}$ az előtér (<i>foreground</i>), $B = \\left\\{ p \\in X | f(p) = 0 \\right\\}$ a háttér (<i>background</i>) pixelek halmaza. </p>\n",
    "    <center>\n",
    "        <figure>\n",
    "            <img STYLE=\"float:bottom;margin-left:15px;\" src=\"img/binary_image.png\">\n",
    "            <figcaption>Előtér és Háttér pixelek</figcaption>\n",
    "        </figure>\n",
    "    </center>\n",
    "</div>\n"
   ]
  },
  {
   "cell_type": "markdown",
   "id": "110ff446-deb4-4049-83b3-88217608d16e",
   "metadata": {
    "editable": false,
    "slideshow": {
     "slide_type": "slide"
    },
    "tags": []
   },
   "source": [
    "<center><h4>--------</h4></center>\n",
    "<center><h4>Önellenőrző teszt</h4></center>\n",
    "<center><h4>--------</h4></center>"
   ]
  },
  {
   "cell_type": "code",
   "execution_count": null,
   "id": "2898480a-6598-4624-acf5-7aee629c411c",
   "metadata": {
    "editable": false,
    "slideshow": {
     "slide_type": "subslide"
    },
    "tags": []
   },
   "outputs": [],
   "source": [
    "#Ha nem látod a tesztet futtasd le ezt a kódot!\n",
    "from jupyterquiz import display_quiz\n",
    "import json\n",
    "\n",
    "with open('questions/quiz_1.2.json', encoding='utf-8') as q:\n",
    "    quiz = json.load(q)\n",
    "    display_quiz(quiz)"
   ]
  },
  {
   "cell_type": "markdown",
   "id": "460b7109-ea86-4841-9340-a5935d83490a",
   "metadata": {
    "editable": false,
    "slideshow": {
     "slide_type": "slide"
    },
    "tags": []
   },
   "source": [
    "## <div id=\"Képek előfeldolgozása\" STYLE=\"width:65%;margin:auto;\" align = \"center\"><br><center>Képek előfeldolgozása</center></div> ##"
   ]
  },
  {
   "cell_type": "markdown",
   "id": "30c41f2b-d913-48a3-9877-9162fdff6557",
   "metadata": {
    "editable": false,
    "slideshow": {
     "slide_type": "subslide"
    },
    "tags": []
   },
   "source": [
    "<div STYLE=\"width:65%;margin:auto;text-align:justify; align: center\">\n",
    "    <div width=\"inherit\" STYLE=\"float:right;margin-left:20px;\">\n",
    "        <center><img width=\"60%\" src=\"img/Lenna_grayscale.jpg\" ><br><p STYLE=\"text-align:center\">Lenna szürkeárnyalatos képként tekinthető intenzitás képnek</p></center></div>\n",
    "    <p>\n",
    "        A képek előfeldolgozása alatt azt a folyamatot értjük, amely során a kép által tárolt adatokat, vagy a kép bizonyos jellemzőit javítjuk, esetleg a képen geometriai transzformációkat hajtunk végre további feldolgozás céljából. A folyamatot <i>intenzitás képeken</i> hajtjuk végre és a folyamat végén intenzitás képeket is kapunk vissza [Megjegyzés: az intenzitás képek alatt olyan adatmátrixokat értünk, amely a kép pixeleinek intenzitását reprezentálja egy bizonyos tartományon belül. Ilyen képek például a szürkeárnyalatos képek, ahol a pixelek intenzitás értéke $0$ és $255$ között mozog].<br><br>\n",
    "        A kép-előfeldolgozásnak a következő négy kategóriáját tudjuk elkülöníteni:\n",
    "        <ul>\n",
    "            <li>\n",
    "                Pixelfényerő transzformáció\n",
    "            </li>\n",
    "            <li>\n",
    "                Geometriai transzformáció\n",
    "            </li>\n",
    "            <li>\n",
    "                Képfeldolgozás lokális szomszédság felhasználásával\n",
    "            </li>\n",
    "            <li>\n",
    "                Képhelyreállítás\n",
    "            </li>\n",
    "        </ul>\n",
    "    </p>\n",
    "</div>"
   ]
  },
  {
   "cell_type": "markdown",
   "id": "b1cf2fbc-2434-48d1-8069-94d525ab73ee",
   "metadata": {
    "editable": false,
    "slideshow": {
     "slide_type": "slide"
    },
    "tags": []
   },
   "source": [
    "### <div STYLE=\"width:65%;margin:auto;\" align = \"center\"><br><a id=\"Pixelfényerő transzformáció\"><center>Pixelfényerő transzformáció</center></a></div> ###\n",
    "<p STYLE=\"text-align:center;color:gray\">Pixel brightness transformation</p>"
   ]
  },
  {
   "cell_type": "markdown",
   "id": "59de8dfa-c260-4b3d-a2c1-777b081484db",
   "metadata": {
    "editable": false,
    "slideshow": {
     "slide_type": "fragment"
    },
    "tags": []
   },
   "source": [
    "<div STYLE=\"width:65%;margin:auto;text-align:justify; align: center\">\n",
    "    <p STYLE=\"text-align:justify\">\n",
    "        Talán az elnevezésből nem volt annyira nehéz kikövetkeztetni, hogy ez a transzformáció a pixelek fényerejét módosítja. A képfeldolgozási metódusok közül ez az egyik legegyszerűbb. Két fajtáját különböztetjük meg: szürkeárnyalatos transzformációk (<i>gray-scale transformation</i>) és fényerő korrekciók (<i>brightness corrections</i>).\n",
    "    </p>\n",
    "</div>"
   ]
  },
  {
   "cell_type": "markdown",
   "id": "e11cb493-c851-4d07-97ea-eacf72b3e07f",
   "metadata": {
    "editable": false,
    "slideshow": {
     "slide_type": "subslide"
    },
    "tags": []
   },
   "source": [
    "#### <div id=\"Szürkeárnyalatos transzformáció\" STYLE=\"width:65%;margin:auto;\" align = \"center\"><br><center>Szürkeárnyalatos transzformáció</center></div> ####\n",
    "<p STYLE=\"text-align:center;color:gray\">Gray-scale transformation</p>"
   ]
  },
  {
   "cell_type": "markdown",
   "id": "d089421a-9109-4589-abd9-613bb7131ee7",
   "metadata": {
    "editable": false,
    "slideshow": {
     "slide_type": "subslide"
    },
    "tags": []
   },
   "source": [
    "<div STYLE=\"width:65%;margin:auto;text-align:justify; align: center\">\n",
    "    <p STYLE=\"text-align:justify\">A szürkeárnyalatos transzformációk, olyan metódusok, amelyek a pixelek fényerejét szeretnék $[p_0,p_k]$ tartomány beli értékekről, egy új $[q_0,q_k]$ tartománybeli értékre alakítani. Erre az egyik leggyakrabban használt szakaszonként megadott lineáris függvény, a fényerő küszöbölés (<i>brightness thresholding</i>).\n",
    "    </p>\n",
    "    <p STYLE=\"text-align:justify\">A módszer lénygében a következő: \n",
    "        <ul>\n",
    "            <li>Vegyünk fel $n$ küszöbértéket, jelöljük ezeket $k$-val $\\left( k_0,k_1, ...,k_n \\right)$.</li>\n",
    "            <li>Létrejött $n+1$ darab tartományunk, mindegyikhez határozzunk meg egy szürkeségi szint értéket.</li>\n",
    "            <li>Minden egyes pixel értékét, attól függően, hogy melyik tartományba esnek, írjuk felül a tartományhoz rendelt szürkeségi értékkel.</li>\n",
    "        </ul>\n",
    "    A módszer nagyszerűen használható a képek fekete-fehérré alakításhoz, avagy binarizációjához (ekkor $n=1$).\n",
    "    </p>\n",
    "    <p STYLE=\"text-align:justify\">\n",
    "        Hogy könnyebben megértsük miről is van szó, nézzünk meg egy példát. \n",
    "    </p>\n",
    "</div>"
   ]
  },
  {
   "cell_type": "markdown",
   "id": "55ea6e50-834b-475d-b79c-ca7e5664f777",
   "metadata": {
    "editable": false,
    "slideshow": {
     "slide_type": "subslide"
    },
    "tags": []
   },
   "source": [
    "<div STYLE=\"width:65%;margin:auto;text-align:justify; align: center\">\n",
    "    <p STYLE=\"text-align:justify\">Az alábbi grafikon egy szürkeárnyalatos kép hisztogramját ábrázolja, ahol az $i$ tengely a szürkeségi szinteket ($\\left[0.0,1.0\\right]$) reprezentálja, a $h(i)$ tengely, pedig azt mondja el nekünk, hogy az adott szürkeségi szinttel rendelkező pixelekből hány darab található a képen. Jelöljünk ki egy $k$ küszöbértéket. Ezzel létrejött két tartományom, az egyikben a pixelek világossági értéke kisebb, a másikban pedig nagyobb vagy egyenlő, mint $k$. Az első tartományhoz hozzárendeljük a $0$ (azaz fekete), a másodikhoz pedig a $1$ (azaz fehér) világossági értéket. Azoknak a pixeleknek, amelyeknek az eredeti értékük $k$−nál kisebb volt, az új értékük $0$, a többi pixelnek pedig $1$ lesz.</p>\n",
    "    <center><img src=\"img/tresholding_histogram.png\"></center>\n",
    "</div>"
   ]
  },
  {
   "cell_type": "markdown",
   "id": "6419419d-de18-4077-8722-461b37647dd4",
   "metadata": {
    "editable": false,
    "slideshow": {
     "slide_type": "subslide"
    },
    "tags": []
   },
   "source": [
    "<div STYLE=\"width:65%;margin:auto;text-align:justify; align: center\">\n",
    "    <p STYLE=\"text-align:justify\">\n",
    "        <img src=\"img/fenykepesz.png\" width=\"30%\" STYLE=\"float:left;margin-right:20px;\">\n",
    "        <img src=\"img/fenykepesz_BW.png\" width=\"30%\" STYLE=\"float:right;margin-left:20px;\">\n",
    "        A fent részletezett küszöbölési megoldást alkalmazva a balra látható képre, a jobb oldali képet kapjuk. Mivel csak egy küszöbértéket választottunk, ezért a végeredményként kapott kép csak két árnyalatot tartalmaz (feketét és fehéret), ezért ezt 2-es szintű küszöbölésnek (<i>2-level tresholding</i>) nevezzük. Több küszöbérték kiválasztásával, magasabb szintekig is eljuthatunk. A lent lévő képeken például 3-as, 4-es és 5-ös szintű küszöbölés lett alkalmazva. Vegyük észre, hogy minél kevesebb küszöbértéket választunk, annál kevesebb részlet jelenik meg a képeken.\n",
    "        <img src=\"img/fenykepesz_3_4_5TH.png\">\n",
    "    </p>\n",
    "\n",
    "</div>"
   ]
  },
  {
   "cell_type": "markdown",
   "id": "38cf878a-a1db-4fb5-bffe-f8619a245720",
   "metadata": {
    "editable": false,
    "slideshow": {
     "slide_type": ""
    },
    "tags": []
   },
   "source": [
    "<div STYLE=\"width:65%;margin:auto;text-align:justify; align: center\">\n",
    "    <p STYLE=\"text-align:justify\">Bináris küszöbölés során a legjobb küszöbérték megtalálása történhet szubjektív módon, azaz próbálkozunk többféle küszöbérékkel és megállapodunk annál, amit a legjobbnak találunk, vagy bízhatunk a matematikában is. Az egyik automatikus binarizciós módszer az <a href=\"https://en.wikipedia.org/wiki/Otsu%27s_method\" target=”_blank”>Otsu</a> módszer. A lenti példában mind a két módszer kipróbálható. A <i>ret</i> változó kiíratásával megnézhetjük, hogy milyen küszöbértéket ajánl az Otsu (a kiíratott változó a notebook log-ban fog megjelenni).</p>\n",
    "</div>"
   ]
  },
  {
   "cell_type": "markdown",
   "id": "bf722e3f-30f4-41a7-99c2-0d3c85b48856",
   "metadata": {
    "editable": false,
    "slideshow": {
     "slide_type": ""
    },
    "tags": []
   },
   "source": [
    "<center><h4>--------</h4></center>\n",
    "<center><h4>Példakód</h4></center>\n",
    "<center><h4>--------</h4></center>"
   ]
  },
  {
   "cell_type": "code",
   "execution_count": null,
   "id": "e7bae9d0-cd8b-4b57-964f-9e54766f2ba8",
   "metadata": {
    "editable": true,
    "slideshow": {
     "slide_type": "slide"
    },
    "tags": []
   },
   "outputs": [],
   "source": [
    "import cv2\n",
    "import numpy as np\n",
    "import ipywidgets as widgets\n",
    "import matplotlib.pyplot as plt\n",
    "from util import utils\n",
    "import os \n",
    "from matplotlib.widgets import Slider\n",
    "%matplotlib qt\n",
    "\n",
    "img = None\n",
    "\n",
    "def thresholding(val):\n",
    "    global img\n",
    "    \n",
    "    ret, thresh = cv2.threshold(img, val, 255, cv2.THRESH_BINARY)\n",
    "    #ret, thresh = cv2.threshold(img, val, 255, cv2.THRESH_OTSU) #Otsu módszer\n",
    "    #print(ret)\n",
    "    cv2.imshow('Thresholding', thresh)\n",
    "    \n",
    "def thresholding_main(self):\n",
    "    global img\n",
    "    filename = utils.browse_images(self);\n",
    "    img = cv2.imread(filename, cv2.IMREAD_GRAYSCALE)\n",
    "    cv2.imshow(\"Grayscale\", img)\n",
    "    \n",
    "    histogram = cv2.calcHist([img],[0],None,[256],[0,256])\n",
    "    \n",
    "    plt.figure()\n",
    "    plt.title(\"Hisztogram\")\n",
    "    plt.plot(histogram)\n",
    "    plt.xlim([0, 256])\n",
    "    plt.show()\n",
    "\n",
    "    cv2.namedWindow('Thresholding', cv2.WINDOW_NORMAL)\n",
    "    cv2.resizeWindow('Thresholding', img.shape[1], img.shape[0])\n",
    "    cv2.createTrackbar(\"Threshold\", 'Thresholding', 127, 255, thresholding)\n",
    "\n",
    "if __name__ == \"__main__\":  \n",
    "    display(utils.start(thresholding_main))"
   ]
  },
  {
   "cell_type": "markdown",
   "id": "485e26e5-afd2-4386-a0bc-1a3e1df77d6f",
   "metadata": {
    "editable": false,
    "slideshow": {
     "slide_type": "skip"
    },
    "tags": []
   },
   "source": [
    "<div STYLE=\"width:65%;margin:auto;text-align:justify; align: center\">\n",
    "<p STYLE=\"text-align:justify\">\n",
    "    <u>Nézzük meg a kód fontosabb részeit:</u><br><br>\n",
    "</p>\n",
    "<table STYLE=\"border-left: 1px solid #cdd0d4;border-right: 1px solid #cdd0d4;\">\n",
    "    <tbody >\n",
    "        <tr>\n",
    "            <td>\n",
    "                \n",
    "```python\n",
    "cv2.imread(filename, cv2.IMREAD_GRAYSCALE)\n",
    "```\n",
    "\n",
    "</td>\n",
    "            <td STYLE=\"min-width: 200px;max-width: 475px;\">Az <i>imread</i> függvény felel a képek beolvasásáért. Első paramétere a kép elérési útja, második pedig egy <i>flag</i>, ami meghatározza, hogy hogyan olvassuk be a képet. 3 féle flag használható:\n",
    "                <ul>\n",
    "                    <li><b>cv2.IMREAD_COLOR</b> (színes képként való beolvasás)</li> \n",
    "                    <li><b>cv2.IMREAD_GRAYSCALE</b> (szürkeárnyalatos képként történő beolvasás)</li>\n",
    "                    <li><b>cv2.IMREAD_UNCHANGED</b> (nem módosítja a képet, így például, ha a képnek van alfa csatornája azt is betölti)</li>\n",
    "                </ul>\n",
    "            </td>\n",
    "        </tr>\n",
    "        <tr>\n",
    "            <td>\n",
    "\n",
    "```python\n",
    "cv2.calcHist([image],[0],None,[256],[0,256])\n",
    "```\n",
    "\n",
    "</td>\n",
    "            <td STYLE=\"min-width: 200px;max-width: 475px;\">\n",
    "                A <i>calcHist</i> képek hisztogramjának kiszámításához használható. Első paramétere azon képek listája, amiknek ki szeretnénk számolni a hisztogramját. <br>Az ezt követő lista azoknak a színcsatornáknak az indexeit tartalmazza, amelyek hisztogramját előakarjuk állítani. Mivel mi szürkeárnyalatos képekkel dolgozunk, ezért csak egy csatorna van, így annak indexe $0$. Ha színes képekkel dolgoznánk a $0$-ás a <font color=\"blue\"><b>kék</b></font>, az $1$-es a <font color=\"green\"><b>zöld</b></font>, a $2$-es pedig a <font color=\"red\"><b>piros</b></font> csatornát jelölné.<br>A harmadik paraméter a maszk. Ha alkalmazunk maszkot, akkor a csak a maszkolt pixelekre fogja kiszámolni a függvény a hisztogramot.<br>A negyedik paraméter szintén egy lista. Itt mondhatjuk meg, hogy a vizsgált tartományt hány részre osszuk fel (az érték nem inkluzív). Jelenleg a listánk egyetlen eleme a $256$. Ez azt jelenti, hogy minden egyes szürkeségi értéket külön vizsgálunk. Ha a megadott érték $32$ lenne, az azt jelentené, hogy a hisztogram kiszámításához nyolcasával vennénk az értékek előfordulásának számát (megszámoljuk az első nyolc érték előfordulásának számát, majd a következő nyolc értékét és így tovább. Ezeket a csoportokat hívjuk <b>bin</b>eknek) Ha színes képekkel dolgoznánk és minden csatornát figyelembe vennénk ez a lista lehetne $[256, 256, 256]$, de az értékeknek nem muszáj egyformának lenniük.<br> Az utolsó paraméter a lehetséges pixelértékek tartományát adja meg. Ez a tartomány a mi esetünkben $0$-tól $255$-ig terjed. Mivel a lista utolsó eleme nem inkluzív ezért $256$-ot adtunk meg.\n",
    "            </td>\n",
    "        </tr>\n",
    "        <tr>\n",
    "            <td>\n",
    "                \n",
    "```python\n",
    "cv2.threshold(image, val, 255, cv2.THRESH_BINARY)\n",
    "```\n",
    "\n",
    "</td>\n",
    "            <td STYLE=\"min-width: 200px;max-width: 475px;\">\n",
    "                A <i>treshold</i> függvény végzi el számunkra a küszöbölést. Paraméterei a kép, a küszöbérték, a maximum érték és egy flag, ami megadja a küszöbölés típusát. Ezek lehetnek: \n",
    "                <ul>\n",
    "                    <li><b>cv2.THRESH_BINARY</b></li>\n",
    "                    <li><b>cv2.THRESH_BINARY_INV</b></li>\n",
    "                    <li><b>cv2.THRESH_TRUNC</b></li>\n",
    "                    <li><b>cv2.THRESH_TOZERO</b></li>\n",
    "                    <li><b>cv2.THRESH_TOZERO_INV</b></li>\n",
    "                    <li><b>cv2.THRESH_OTSU</b></li>\n",
    "                </ul>\n",
    "            </td>\n",
    "        </tr>\n",
    "</tbody>\n",
    "</table>\n",
    "</p>\n",
    "</div>"
   ]
  },
  {
   "cell_type": "markdown",
   "id": "ccd6c767-c2bf-483e-9b20-355168066b28",
   "metadata": {
    "editable": false,
    "slideshow": {
     "slide_type": ""
    },
    "tags": []
   },
   "source": [
    "<center><h4>--------</h4></center>\n",
    "<center><h4>Önellenőrző teszt</h4></center>\n",
    "<center><h4>--------</h4></center>"
   ]
  },
  {
   "cell_type": "code",
   "execution_count": null,
   "id": "ad663232-dda4-404b-9168-367d35634d47",
   "metadata": {
    "editable": false,
    "slideshow": {
     "slide_type": ""
    },
    "tags": []
   },
   "outputs": [],
   "source": [
    "#Ha nem látod a tesztet futtasd le ezt a kódot!\n",
    "from jupyterquiz import display_quiz\n",
    "import json\n",
    "\n",
    "with open('questions/quiz_1.31.json', encoding='utf-8') as q:\n",
    "    quiz = json.load(q)\n",
    "    #print(data)\n",
    "    display_quiz(quiz)"
   ]
  },
  {
   "cell_type": "markdown",
   "id": "7aef7291-ecd7-4ec9-aaee-7a6a2a51d1ec",
   "metadata": {
    "editable": false,
    "slideshow": {
     "slide_type": ""
    },
    "tags": []
   },
   "source": [
    "#### <div id=\"Hisztogram kiegyenlítés\" STYLE=\"width:65%;margin:auto;\" align = \"center\"><br><center>Hisztogram kiegyenlítés</center></div> ####\n",
    "<p STYLE=\"text-align:center;color:gray\">Histogram equalization</p>"
   ]
  },
  {
   "cell_type": "markdown",
   "id": "e3317c9e-e6d2-4427-8cbf-657db5c4a812",
   "metadata": {
    "editable": false,
    "slideshow": {
     "slide_type": ""
    },
    "tags": []
   },
   "source": [
    "<div STYLE=\"width:65%;margin:auto;text-align:justify; align: center\">\n",
    "    <p STYLE=\"text-align:justify\">\n",
    "        Emlékezzünk vissza az előző fejezetben bemutatott hisztogramra. Megvizsgálva megállapíthattuk, hogy bizonyos intenzitási értékek erősen dominálnak, míg más értékekből alig van a képen. Fennállhat az igény arra, hogy a világossági értékek eloszlása egyenletesebb legyen. Mivel a hisztogram kiegyenlítés végén, a hisztogram maximum értéke közelebb lesz a minimumhoz, ez a módszer alkalmazható a képek kontrasztjának javításához.\n",
    "    </p>\n",
    "    <p STYLE=\"text-align:justify\">\n",
    "        Egy $N \\times M$ méretű, $G$ szürkeárnyalatot tartalmazó kép esetén az algoritmus a következő:\n",
    "        <ul>\n",
    "            <li>Inicializáljunk egy $G$ hosszúságú, $0$ értékekkel feltöltött $H$ tömböt. Minden intenzitásértéknek feleltessünk meg egy indexet.</li>\n",
    "            <li>Generáljunk le egy hisztogramot. Menjünk végig a kép minden pixelén és számoljuk össze az intenzitásértékeket úgy, hogy inkrementáljuk az árnyalatoknak megfelelő indexex alatt található értéket a $H$ tömbben. Azaz, ha egy $p$ pixel intenzitása $g_p$, akkor: $H[g_p] = H[g_p] + 1$.</li>\n",
    "            <li>A hisztogramból állítsuk elő a kumulatív hisztogramot a következőképpen: \n",
    "                $$ \n",
    "                \\begin{align}\n",
    "                    &H_{c}[0] = H[0], \\\\\n",
    "                    &H_{c}[i] = H_{c}[i-1] + H[i];  \n",
    "                    &i = 1, ..., G-1 \n",
    "                \\end{align} \n",
    "                $$\n",
    "            </li>\n",
    "            <li>Minden intenzitásértékhez számoljuk ki az alábbi transzformációs függvényt: $$T[g_p] = round \\left( \\dfrac{\\left(G-1\\right)}{\\left(N \\times M\\right)} \\times H_{c}[p] \\right)$$</li>\n",
    "            <li>Utolsó lépésként hozzunk létre egy kimeneti képet úgy, hogy  végig iterálunk a bemeneti képen és minden $g_p$ intenzitásértékhez megkeressük az új $g_q$ intenzitás értéket: $$g_q = T\\left[ g_p \\right]$$</li>\n",
    "        </ul>\n",
    "    </p>\n",
    "    <p STYLE=\"text-align:justify\">A kiegyenlítés hatásosságát az alábbi kép szemlélteti (balra az eredeti, jobbra a kiegyenlítésen átesett kép látható).</p>\n",
    "    <center><img src=\"img/hisequ.png\"></center>\n",
    "</div>"
   ]
  },
  {
   "cell_type": "markdown",
   "id": "2ff1aa70-cc53-4251-805f-06d6999b67fc",
   "metadata": {
    "editable": false,
    "slideshow": {
     "slide_type": ""
    },
    "tags": []
   },
   "source": [
    "<center><h4>--------</h4></center>\n",
    "<center><h4>Példakód</h4></center>\n",
    "<center><h4>--------</h4></center>"
   ]
  },
  {
   "cell_type": "code",
   "execution_count": null,
   "id": "48428a7f-efbf-4a8c-b688-c602207ef64f",
   "metadata": {
    "editable": true,
    "slideshow": {
     "slide_type": ""
    },
    "tags": []
   },
   "outputs": [],
   "source": [
    "import cv2\n",
    "from util import utils\n",
    "import ipywidgets as widgets\n",
    "import matplotlib.pyplot as plt\n",
    "%matplotlib qt\n",
    "\n",
    "def histogram_main(self):\n",
    "    filename = utils.browse_images(self)\n",
    "    image = cv2.imread(filename, cv2.IMREAD_GRAYSCALE)\n",
    "    dst = cv2.equalizeHist(image)\n",
    "    \n",
    "    cv2.imshow('Eredeti Kep', image)\n",
    "    cv2.resizeWindow('Eredeti Kep', image.shape[1], image.shape[0])\n",
    "    cv2.imshow('Modositott Kep', dst)\n",
    "    cv2.resizeWindow('Modositott Kep', dst.shape[1], dst.shape[0])\n",
    "    cv2.waitKey()\n",
    "    plt.show()\n",
    "\n",
    "if __name__ == \"__main__\":\n",
    "    display(utils.start(histogram_main))"
   ]
  },
  {
   "cell_type": "markdown",
   "id": "46aeaedb-b48d-4e2c-8864-9a5b4eaa18f2",
   "metadata": {
    "editable": false,
    "slideshow": {
     "slide_type": ""
    },
    "tags": []
   },
   "source": [
    "<div STYLE=\"width:65%;margin:auto;text-align:justify; align: center\">\n",
    "    <p STYLE=\"text-align:justify\">\n",
    "        <br><br>\n",
    "    </p>\n",
    "<table STYLE=\"border-left: 1px solid #cdd0d4;border-right: 1px solid #cdd0d4;\">\n",
    "    <tbody >\n",
    "        <tr>\n",
    "<td>\n",
    "\n",
    "```python\n",
    "cv2.equalizeHist(image)\n",
    "```\n",
    "    \n",
    "</td>\n",
    "            <td STYLE=\"min-width: 200px;max-width: 475px;\">\n",
    "                Végrehajtja a hisztogram kiegyenlítést. Egyetlen paramétere van, méghozzá a módosítandó kép.\n",
    "            </td>\n",
    "        </tr>\n",
    "    </tbody>\n",
    "</table>\n",
    "</div>\n"
   ]
  },
  {
   "cell_type": "markdown",
   "id": "500ce817-1ff5-4627-8a30-2710d11d190f",
   "metadata": {
    "editable": false,
    "slideshow": {
     "slide_type": ""
    },
    "tags": []
   },
   "source": [
    "<center><h4>--------</h4></center>\n",
    "<center><h4>Önellenőrző teszt</h4></center>\n",
    "<center><h4>--------</h4></center>"
   ]
  },
  {
   "cell_type": "code",
   "execution_count": null,
   "id": "e6346610-3902-4e41-a823-cc145ae1b627",
   "metadata": {
    "editable": false,
    "slideshow": {
     "slide_type": ""
    },
    "tags": []
   },
   "outputs": [],
   "source": [
    "#Ha nem látod a tesztet futtasd le ezt a kódot!\n",
    "from jupyterquiz import display_quiz\n",
    "import json\n",
    "\n",
    "with open('questions/his_equ.json', encoding='utf-8') as q:\n",
    "    quiz = json.load(q)\n",
    "    #print(data)\n",
    "    display_quiz(quiz)"
   ]
  },
  {
   "cell_type": "markdown",
   "id": "1bde2bc1-039c-43b9-be4b-45001f7241f5",
   "metadata": {
    "editable": true,
    "slideshow": {
     "slide_type": ""
    },
    "tags": []
   },
   "source": [
    "### <div id=\"Zaj szűrése\" STYLE=\"width:65%;margin:auto;\" align = \"center\"><br><center>Zaj szűrése</center></div> ###\n",
    "<p STYLE=\"text-align:center;color:gray\">Noise suppression</p>"
   ]
  },
  {
   "cell_type": "markdown",
   "id": "be2a95cc-aafc-443e-a676-c3c6fd930735",
   "metadata": {
    "editable": false,
    "slideshow": {
     "slide_type": ""
    },
    "tags": []
   },
   "source": [
    "<div STYLE=\"width:65%;margin:auto;text-align:justify; align: center\">\n",
    "    <p STYLE=\"text-align:justify\">\n",
    "        Zajszűrés során, szeretnénk a zaj által torzult pixelek értékét az eredeti értékükhöz lehető legközelebbi értékre állítani. Ennek eléréséhez a pixelek egy kis szomszédságát fogjuk felhasználni. Mivel a pixelek eredeti színére a környező pixelek színéből fogunk következtetni, ezért annak az esélye, hogy egy torzult pixelt sikerül pontosan az eredeti értékére visszaállítani igen kicsi. \n",
    "    </p>\n",
    "    <p>Két, aránylag primitív zaj szűrési technikát fogunk megvizsgálni: az <b>átlagoló</b> és a <b>medián</b> szűrőt. </p>\n",
    "</div>"
   ]
  },
  {
   "cell_type": "markdown",
   "id": "1bad492e-3f56-4ece-a13f-5ca1660a12b6",
   "metadata": {
    "editable": false,
    "slideshow": {
     "slide_type": ""
    },
    "tags": []
   },
   "source": [
    "<div STYLE=\"width:65%;margin:auto;text-align:justify; align: center\">\n",
    "    <p STYLE=\"text-align:justify\">\n",
    "        <b>ÁTLAGOLÓ SZŰRŐ:</b> Az átlagoló szűrő, egy pixel új értékét, a pixel  és a körülötte elhelyezkedő szomszédos pixelek értékének átlagából számolja ki. A lenti táblázat egy pixel (piros szám) új értékének meghatározását mutatja be. Vegyük észre, hogy a pixel körül gyanúsan sok $30$ körüli érték van, így előfordulhat (bár nem állapítható meg biztosan), hogy a vizsgált pixel, illetve a szomszédságában lévő kicsi értékkel rendelkező pixelek torzultak. A módszer egyszerű átlagolást használ. Feltételezve, hogy az olvasó úgy jutott el idáig, hogy tud átlagot számolni, nem részletezném a folyamatot, ami a $9$ darab szám átalgának kiszámolásához szükséges &#x1F601.\n",
    "    </p>\n",
    "</div>"
   ]
  },
  {
   "cell_type": "markdown",
   "id": "4b7d02c4-91a5-4ff8-91cf-ddb06206d5a4",
   "metadata": {
    "editable": false,
    "slideshow": {
     "slide_type": ""
    },
    "tags": []
   },
   "source": [
    "| | <i>Átlagoló Szűrő</i>  | |\n",
    "|:--------:|:--------:|:--------:|\n",
    "|  $1$   |  $33$   |  $36$   |\n",
    "| $30$  |  <font color='red'>$20$</font>   |  $2$   |\n",
    "|  $29$   |  $5$  |  $30$   |"
   ]
  },
  {
   "cell_type": "markdown",
   "id": "ec6df98b-01c5-4bd1-a328-4e152cfab58d",
   "metadata": {
    "editable": false,
    "slideshow": {
     "slide_type": ""
    },
    "tags": []
   },
   "source": [
    "$$\\big\\Downarrow$$"
   ]
  },
  {
   "cell_type": "markdown",
   "id": "2d318fe2-e4a9-4ee5-aea3-d0d9680b0000",
   "metadata": {
    "editable": false,
    "slideshow": {
     "slide_type": ""
    },
    "tags": []
   },
   "source": [
    "| | <i>Átlagoló Szűrő</i>  | |\n",
    "|:--------:|:--------:|:--------:|\n",
    "|  $1$   |  $33$   |  $36$   |\n",
    "|  $30$  |  <font color='red'>$21$</font>   |  $2$   |\n",
    "|  $29$  | $5$  |  $30$   |"
   ]
  },
  {
   "cell_type": "markdown",
   "id": "46fcea6d-c961-44ec-bc9d-39179cd3d2ac",
   "metadata": {
    "editable": false,
    "slideshow": {
     "slide_type": ""
    },
    "tags": []
   },
   "source": [
    "<div STYLE=\"width:65%;margin:auto;text-align:justify; align: center\">\n",
    "    <p STYLE=\"text-align:justify\">\n",
    "        $20.6666666666667 \\approx 21$. Nem sokat változott az eredeti értékéhezhez képest. A szomszédok alapján arra számítottunk volna, hogy ennek a pixelnek is $30$ közelében lesz az intenzitás értéke. Az átlagoló szűrő nagy problémája magából az átlagolás műveletéből adódik, ugyanis a számtani közepet nagyban befolyásolják a szélsőségesen eltérő értékek. Vegyük példának újra Lennát. Vizsgáljuk meg a képet szűrés előtt és után!\n",
    "    </p>\n",
    "    <center><img STYLE=\"width:50%\" src=\"img/AVGFILT.png\"></center>\n",
    "</div>"
   ]
  },
  {
   "cell_type": "markdown",
   "id": "6407e59d-b2db-42e9-9658-8676f5bedfd6",
   "metadata": {
    "editable": false,
    "slideshow": {
     "slide_type": ""
    },
    "tags": []
   },
   "source": [
    "<center><h4>--------</h4></center>\n",
    "<center><h4>Példakód</h4></center>\n",
    "<center><h4>--------</h4></center>"
   ]
  },
  {
   "cell_type": "code",
   "execution_count": null,
   "id": "54f6b481-0f40-4fb3-bb92-dc4705a34eb3",
   "metadata": {
    "editable": true,
    "slideshow": {
     "slide_type": ""
    },
    "tags": []
   },
   "outputs": [],
   "source": [
    "import numpy as np\n",
    "import cv2\n",
    "from util import utils\n",
    "\n",
    "img = None\n",
    "\n",
    "def averaging(val):\n",
    "    global img\n",
    "    dst = cv2.blur(img, (val,val))\n",
    "    cv2.imshow(\"Averaging\", dst)\n",
    "\n",
    "def averaging_main(self):\n",
    "    global img\n",
    "    filename = utils.browse_images(self)\n",
    "    img = cv2.imread(filename, cv2.IMREAD_GRAYSCALE)\n",
    "    \n",
    "    cv2.imshow('Eredeti Kep', img)\n",
    "    cv2.namedWindow(\"Averaging\", cv2.WINDOW_NORMAL)\n",
    "    cv2.resizeWindow(\"Averaging\", img.shape[1], img.shape[0])\n",
    "    cv2.createTrackbar(\"Szomszed\", \"Averaging\", 3, 20, averaging)\n",
    "    cv2.waitKey()\n",
    "    \n",
    "if __name__ == \"__main__\":\n",
    "    display(utils.start(averaging_main))"
   ]
  },
  {
   "cell_type": "markdown",
   "id": "89291552-0b87-44a0-b14e-1ea6ba0ef866",
   "metadata": {
    "editable": false,
    "slideshow": {
     "slide_type": ""
    },
    "tags": []
   },
   "source": [
    "<div STYLE=\"width:65%;margin:auto;text-align:justify; align: center\">\n",
    "    <p STYLE=\"text-align:justify\">\n",
    "        <br><br>\n",
    "    </p>\n",
    "<table STYLE=\"border-left: 1px solid #cdd0d4;border-right: 1px solid #cdd0d4;\">\n",
    "    <tbody >\n",
    "        <tr>\n",
    "<td>\n",
    "\n",
    "```python\n",
    "cv2.blur(img, (val,val))\n",
    "```\n",
    "    \n",
    "</td>\n",
    "            <td STYLE=\"min-width: 200px;max-width: 475px;\">\n",
    "                Végrehajtja a képen az átlagolást. A képen kívül kell neki egy tupel, ami a szomszédság dimenzióit adja meg. \n",
    "            </td>\n",
    "        </tr>\n",
    "    </tbody>\n",
    "</table>\n",
    "</div>\n"
   ]
  },
  {
   "cell_type": "markdown",
   "id": "7ecd4a70-b784-468b-ae80-5128bb487d3e",
   "metadata": {
    "editable": false,
    "slideshow": {
     "slide_type": ""
    },
    "tags": []
   },
   "source": [
    "<br>\n",
    "<div STYLE=\"width:65%;margin:auto;text-align:justify; align: center\">\n",
    "    <p STYLE=\"text-align:justify\">\n",
    "        <b>MEDIÁN SZŰRŐ:</b> Jelentős javulást tudunk elérni az előző módszerhez képes a medián szűrővel. Az elv ugyan az, mint az előbb, csak most helyzeti középértéket használunk átlag helyett. Alkalmazzuk ezt a módszert az előző példára.\n",
    "    </p>\n",
    "</div>"
   ]
  },
  {
   "cell_type": "markdown",
   "id": "b8d1ab7e-d6d7-448e-9651-0aaf31eefa77",
   "metadata": {
    "editable": false,
    "slideshow": {
     "slide_type": ""
    },
    "tags": []
   },
   "source": [
    "| | $Medián \\  Szűrő$  | |\n",
    "|:--------:|:--------:|:--------:|\n",
    "|  $1$   |  $33$   |  $36$   |\n",
    "| $30$  |  <font color='red'>$20$</font>   |  $2$   | \n",
    "|  $29$   |  $5$  |  $30$   |"
   ]
  },
  {
   "cell_type": "markdown",
   "id": "d152e72c-b04f-48c5-806d-70693bd14ea9",
   "metadata": {
    "editable": false,
    "slideshow": {
     "slide_type": ""
    },
    "tags": []
   },
   "source": [
    "$$\\big\\Downarrow$$"
   ]
  },
  {
   "cell_type": "markdown",
   "id": "35dbe624-4cbb-474c-9370-c628a5fc543d",
   "metadata": {
    "editable": false,
    "slideshow": {
     "slide_type": ""
    },
    "tags": []
   },
   "source": [
    "| | $Medián \\  Szűrő$  | |\n",
    "|:--------:|:--------:|:--------:|\n",
    "|  $1$   |  $33$   |  $36$   |\n",
    "| $30$ |  <font color='red'>$29$</font>   |  $2$   | \n",
    "|  $29$   |  $5$  |  $30$   |"
   ]
  },
  {
   "cell_type": "markdown",
   "id": "79b4eb5c-ea60-4da3-bf97-0e8fd7d00cb8",
   "metadata": {
    "editable": false,
    "slideshow": {
     "slide_type": ""
    },
    "tags": []
   },
   "source": [
    "<br>\n",
    "<div STYLE=\"width:65%;margin:auto;text-align:justify; align: center\">\n",
    "    <p STYLE=\"text-align:justify\">\n",
    "        Sikeresen elértük, hogy egy valamivel szimpatikusabb értéket válasszunk új intenzitás értékként. Nézzük is meg, hogy fest Lenna, ha ezt a módszert alkalmazzuk.\n",
    "    </p>\n",
    "    <center><img STYLE=\"width:50%\" src=\"img/MEDFILT.png\"></center>\n",
    "</div>"
   ]
  },
  {
   "cell_type": "markdown",
   "id": "94a5f306-63c8-4657-bbc8-b77794191a94",
   "metadata": {
    "editable": false,
    "slideshow": {
     "slide_type": ""
    },
    "tags": []
   },
   "source": [
    "<br>\n",
    "<div STYLE=\"width:65%;margin:auto;text-align:justify; align: center\">\n",
    "    <p STYLE=\"text-align:justify\">\n",
    "        Az előző példákban mindig $3 \\times 3$ -es ablakméretet használtunk, de ez persze nincs kőbe vésve. Bármekkorát használhatunk, a különböző ablakok különböző eredményeket adhatnak vissza. Jellemzően minél nagyobb az ablak annál nagyobb az elmosódás. Az elmosódás növelését az iterációk számával (hányszor megyünk végig minden pixelen) is növelhetjük. Ez utóbbival nem árthat óvatosnak lenni. Ha túl sok az iteráció, végeredményül egy egyszínű képet kaphatunk.\n",
    "    </p>\n",
    "</div>"
   ]
  },
  {
   "cell_type": "markdown",
   "id": "b0dd90fc-8386-4435-b3d6-07d443a5fd4a",
   "metadata": {
    "editable": false,
    "slideshow": {
     "slide_type": ""
    },
    "tags": []
   },
   "source": [
    "<center><h4>--------</h4></center>\n",
    "<center><h4>Példakód</h4></center>\n",
    "<center><h4>--------</h4></center>"
   ]
  },
  {
   "cell_type": "code",
   "execution_count": null,
   "id": "fb83cc89-e642-4913-a848-ead698f275d4",
   "metadata": {
    "editable": true,
    "slideshow": {
     "slide_type": ""
    },
    "tags": []
   },
   "outputs": [],
   "source": [
    "import numpy as np\n",
    "import cv2\n",
    "from util import utils\n",
    "\n",
    "img = None\n",
    "\n",
    "def median(val):\n",
    "    global img\n",
    "    dst = cv2.medianBlur(img, val)\n",
    "    cv2.imshow(\"Median\", dst)\n",
    "\n",
    "def median_main(self):\n",
    "    global img\n",
    "    filename = utils.browse_images(self)\n",
    "    img = cv2.imread(filename, cv2.IMREAD_GRAYSCALE)\n",
    "    \n",
    "    cv2.imshow('Eredeti Kep', img)\n",
    "    cv2.namedWindow(\"Median\", cv2.WINDOW_NORMAL)\n",
    "    cv2.resizeWindow(\"Median\", img.shape[1], img.shape[0])\n",
    "    cv2.createTrackbar(\"Szomszed\", \"Median\", 3, 20, median)\n",
    "    cv2.waitKey()\n",
    "    \n",
    "if __name__ == \"__main__\":\n",
    "    display(utils.start(median_main))"
   ]
  },
  {
   "cell_type": "markdown",
   "id": "1a4e34f2-2fcf-4537-acba-b8e7826fcb2e",
   "metadata": {
    "editable": false,
    "slideshow": {
     "slide_type": ""
    },
    "tags": []
   },
   "source": [
    "<div STYLE=\"width:65%;margin:auto;text-align:justify; align: center\">\n",
    "    <p STYLE=\"text-align:justify\">\n",
    "        <br><br>\n",
    "    </p>\n",
    "<table STYLE=\"border-left: 1px solid #cdd0d4;border-right: 1px solid #cdd0d4;\">\n",
    "    <tbody >\n",
    "        <tr>\n",
    "<td>\n",
    "\n",
    "```python\n",
    "cv2.medianBlur(img, val)\n",
    "```\n",
    "    \n",
    "</td>\n",
    "            <td STYLE=\"min-width: 200px;max-width: 475px;\">\n",
    "                Végrehajtja a képen a medián szűrést. Első paramétere a kép, a második pedig szomszédság mérete, aminek $3$-nál nagyobb páratlan egésznek kell lennie.\n",
    "            </td>\n",
    "        </tr>\n",
    "    </tbody>\n",
    "</table>\n",
    "</div>\n"
   ]
  },
  {
   "cell_type": "markdown",
   "id": "834b8da7-6692-4352-a46e-749bb19cc8b1",
   "metadata": {
    "editable": false,
    "slideshow": {
     "slide_type": ""
    },
    "tags": []
   },
   "source": [
    "<center><h4>--------</h4></center>\n",
    "<center><h4>Önellenőrző teszt</h4></center>\n",
    "<center><h4>--------</h4></center>"
   ]
  },
  {
   "cell_type": "code",
   "execution_count": null,
   "id": "430ddeb8-981c-4c9d-8f12-4ca38becc945",
   "metadata": {
    "editable": false,
    "slideshow": {
     "slide_type": ""
    },
    "tags": []
   },
   "outputs": [],
   "source": [
    "### Ha nem látod a tesztet futtasd le ezt a kódot!\n",
    "from jupyterquiz import display_quiz\n",
    "import json\n",
    "\n",
    "with open('questions/szures.json', encoding='utf-8') as q:\n",
    "    quiz = json.load(q)\n",
    "    #print(data)\n",
    "    display_quiz(quiz)"
   ]
  },
  {
   "cell_type": "markdown",
   "id": "fafac960-8805-47f5-9af3-9ec33c622d9e",
   "metadata": {
    "editable": false,
    "slideshow": {
     "slide_type": ""
    },
    "tags": []
   },
   "source": [
    "## <div id=\"Matematikai morfológia\" STYLE=\"width:65%;margin:auto;\" align = \"center\"><br><center>Matematikai morfológia</center></div> ##"
   ]
  },
  {
   "cell_type": "markdown",
   "id": "97d805f6-4c29-45cd-9b31-dca187df0bff",
   "metadata": {
    "editable": false,
    "slideshow": {
     "slide_type": ""
    },
    "tags": []
   },
   "source": [
    "<br>\n",
    "<div STYLE=\"width:65%;margin:auto;text-align:justify\">\n",
    "    <p STYLE=\"text-align:justify\">\n",
    "        A matematikai morfológia két úriember, Georges Matheron és Jean Serra nevéhez köthető. A matematikai morfológia halmazelméleten alapszik, ezért a képeket halmazokként reprezentáljuk. Alapvetően egy olyan eszközként használjuk, aminek segítségével végrehajthatunk elő- illetve utófeldolgozást a képeken, mint például szűrés vagy metszés, kivonhatunk olyan összetevőket a képből, amelyek hasznosak lehetnek a régió alakjának ábrázolásában vagy leírásában, mint a konvex burok, szegmentálhatunk, illetve mennyiségi leírást adhatunk a képen megjelenő objektumokról (terület, kerület).\n",
    "    </p>\n",
    "</div>"
   ]
  },
  {
   "cell_type": "markdown",
   "id": "e92e3f38-4cf2-4d73-b079-33e79fb5bef4",
   "metadata": {
    "editable": false,
    "slideshow": {
     "slide_type": ""
    },
    "tags": []
   },
   "source": [
    "><div STYLE=\"width:65%;margin:auto;text-align:justify; align: center\">\n",
    "    <p STYLE=\"text-align:justify\">\n",
    "        <b>Definíció: </b>$\\psi(X) \\rightarrow X$ (ahol $X$ pontok egy halmaza) morfológiai transzformáció a következő tulajdonságokkal rendelkezik:\n",
    "    </p>\n",
    "    <p STYLE=\"text-align:justify\">\n",
    "        <ol>\n",
    "            <li><b>Kompatibilitás az eltolással:</b></li>\n",
    "                <dd>Legyen $\\psi$ egy, a koordinátarendszer $O$ középpontjának pozíciójától függő transzformáció és jelöljük ezt a transzformációt $\\psi_O$-val. Ha minden pont el lett tolva egy $−h$ vektorral, akkor azt $\\psi_{−h}$-val fejezzük ki. $$\\psi_O(X_h) = \\psi_{-h}(X))_h.$$ Ha $\\psi$ nem függ az $O$ origó elhelyezkedésétől, akkor $$\\psi(X_h) = \\psi(X))_h.$$</dd><br>\n",
    "            <li><b>Kompatibilitás léptékváltozással:</b></li>\n",
    "                <dd>Legyen $\\lambda X$ homotetikus méretezése az $X$ ponthalmaznak. Jelölje $\\psi_\\lambda$ azt a transzformációt, ami $\\lambda$ pizitív paramétertől függ. Ekkor $$\\psi_{\\lambda}(X) = \\lambda\\psi\\left(\\frac{1}{\\lambda}X\\right).$$<br> Ha $\\psi$ nem függ $\\lambda$-tól, akkor $$\\psi(\\lambda X) = \\lambda\\psi(X).$$</dd><br>\n",
    "            <li><b>Local Knowlage:</b></li>\n",
    "                <dd>Ezen elv szerint egy nagyobb struktúrának egyszere csak egy része vizsgálható meg. Szimbolikusan ezt a következő formában írhatjuk le: $$\\left( \\left( \\psi \\left( X \\cap Z \\right) \\right) \\cap Z' \\right).$$</dd><br>\n",
    "            <li><b>Felső fél-folytonosság</b>:  Felső fél-folytonosság esetén a transzformáció értékei az $X$-ben lévő kis változásokra nem növekedhetnek hirtelen, így elkerülve a zaj keletkezését. </li>\n",
    "                <dd></dd><br>\n",
    "        </ol>\n",
    "    </p>\n",
    "</div>"
   ]
  },
  {
   "cell_type": "markdown",
   "id": "b3cc0d89-4ee5-4c29-9f41-aecba980322c",
   "metadata": {
    "editable": false,
    "slideshow": {
     "slide_type": ""
    },
    "tags": []
   },
   "source": [
    "### <div id=\"Dilatáció és Erózió\" STYLE=\"width:65%;margin:auto;\" align = \"center\"><br><center>Dilatáció és Erózió</center></div> ###"
   ]
  },
  {
   "cell_type": "markdown",
   "id": "74f23535-4827-466c-9268-dab7b55af99d",
   "metadata": {
    "editable": false,
    "slideshow": {
     "slide_type": ""
    },
    "tags": []
   },
   "source": [
    "<br>\n",
    "<div STYLE=\"width:65%;margin:auto;text-align:justify; align: center\">\n",
    "    <p STYLE=\"text-align:justify\">\n",
    "        A dilatáció művelete során egy halmazt bővítünk ($X$, ez a képünk) egy másik halmaz felhasználásával ($B$, ez a \"strukturáló elem\"), jelölése $\\oplus$. Ezzel elérhetjük, hogy a képen lévő objektum bővüljön. <br> Bináris képek esetén a következőt csináljuk: \"Helyezzük\" a strukturáló elemünket a középső elemnél fogva a bal felső sarokban lévő pixelre (mint egy maszkot), majd páronként hasonlítsuk össze a kép lefedett pixeleit és a strukturáló elem értékeit. Ha van legalább egy olyan érték pár, ahol mind a két érték $1$ (ezt hívjuk úgy, hogy <i>\"hit\"</i>), akkor a kimeneten a vizsgált pixellel megegyező helyen a pixel értéke $1$-lesz. Ha nincs ilyen pár (<i>\"miss\"</i>), megtartjuk az eredeti értéket. Végig megyünk a pixeleken. Gyorsíthatjuk az algoritmust, ha csak a $0$ értékű pixeleket vizsgáljuk, mivel az $1$-es értékű pixelek értéke nem fog változni. <br>Formálisan leírhatjuk úgy, hogy $$X \\oplus B = \\left\\{ p \\in Z^2 : p = x + b,x \\in X \\land b \\in B \\right\\}.$$\n",
    "    </p>\n",
    "    <p STYLE=\"text-align:justify\">\n",
    "    De talán jobb, ha nézünk egy példát:<br>\n",
    "    </p>\n",
    "</div>"
   ]
  },
  {
   "cell_type": "markdown",
   "id": "4786e10f-81ec-4f36-9321-8f57efd47730",
   "metadata": {
    "editable": false,
    "slideshow": {
     "slide_type": ""
    },
    "tags": []
   },
   "source": [
    "<div STYLE=\"width:65%;margin:auto;\">\n",
    "    <div STYLE=\"margin: auto; width: 50%\">\n",
    "        <table STYLE=\"text-align:center;\">\n",
    "            <tr>\n",
    "                <td STYLE=\"padding: 15px;\" colspan=\"4\"><center><i>Bemeneti Bináris Kép $\\left(X \\right)$</i></center></td>\n",
    "            </tr>\n",
    "            <tr>\n",
    "                <td STYLE=\"padding: 15px;\">$1$</td>\n",
    "                <td STYLE=\"padding: 15px;\">$0$</td>\n",
    "                <td STYLE=\"padding: 15px;\">$0$</td>\n",
    "                <td STYLE=\"padding: 15px;\">$0$</td>\n",
    "            </tr>\n",
    "            <tr>\n",
    "                <td STYLE=\"padding: 15px;\">$1$</td>\n",
    "                <td STYLE=\"padding: 15px;\">$1$</td>\n",
    "                <td STYLE=\"padding: 15px;\">$0$</td>\n",
    "                <td STYLE=\"padding: 15px;\">$0$</td>\n",
    "            </tr>\n",
    "            <tr>\n",
    "                <td STYLE=\"padding: 15px;\">$1$</td>\n",
    "                <td STYLE=\"padding: 15px;\">$1$</td>\n",
    "                <td STYLE=\"padding: 15px;\">$1$</td>\n",
    "                <td STYLE=\"padding: 15px;\">$0$</td>\n",
    "            </tr>\n",
    "        </table><br>\n",
    "        <div STYLE =\"text-align:center;\">\n",
    "            $\\oplus$\n",
    "        </div><br>\n",
    "        <table STYLE=\"text-align:center;\">\n",
    "            <tr>\n",
    "                <td STYLE=\"padding: 15px;\" colspan=\"3\"><center><i>Struktúráló Elem $\\left(B \\right)$</i></center></td>\n",
    "            </tr>\n",
    "            <tr>\n",
    "                <td STYLE=\"padding: 15px;\">$0$</td>\n",
    "                <td STYLE=\"padding: 15px;\">$1$</td>\n",
    "                <td STYLE=\"padding: 15px;\">$0$</td>\n",
    "            </tr>\n",
    "            <tr>\n",
    "                <td STYLE=\"padding: 15px;\">$1$</td>\n",
    "                <td STYLE=\"padding: 15px;\"><font color='red'>$1$</font></td>\n",
    "                <td STYLE=\"padding: 15px;\">$1$</td>\n",
    "            </tr>\n",
    "            <tr>\n",
    "                <td STYLE=\"padding: 15px;\">$0$</td>\n",
    "                <td STYLE=\"padding: 15px;\">$1$</td>\n",
    "                <td STYLE=\"padding: 15px;\">$0$</td>\n",
    "            </tr>\n",
    "        </table><br>\n",
    "        <div STYLE = \"margin: auto;text-align:center;\">\n",
    "            $\\Big\\Downarrow$\n",
    "        </div><br>\n",
    "        <table STYLE=\"text-align:center;\">\n",
    "            <tr>\n",
    "                <td STYLE=\"padding: 15px;\" colspan=\"4\"><center><i>A kép dilatáció után</i></center></td>\n",
    "            </tr>\n",
    "            <tr>\n",
    "                <td STYLE=\"padding: 15px;\">$1$</td>\n",
    "                <td STYLE=\"padding: 15px;\">$1$</td>\n",
    "                <td STYLE=\"padding: 15px;\">$0$</td>\n",
    "                <td STYLE=\"padding: 15px;\">$0$</td>\n",
    "            </tr>\n",
    "            <tr>\n",
    "                <td STYLE=\"padding: 15px;\">$1$</td>\n",
    "                <td STYLE=\"padding: 15px;\">$1$</td>\n",
    "                <td STYLE=\"padding: 15px;\">$1$</td>\n",
    "                <td STYLE=\"padding: 15px;\">$0$</td>\n",
    "            </tr>\n",
    "            <tr>\n",
    "                <td STYLE=\"padding: 15px;\">$1$</td>\n",
    "                <td STYLE=\"padding: 15px;\">$1$</td>\n",
    "                <td STYLE=\"padding: 15px;\">$1$</td>\n",
    "                <td STYLE=\"padding: 15px;\">$1$</td>\n",
    "            </tr>\n",
    "        </table>\n",
    "    </div>\n",
    "</div>"
   ]
  },
  {
   "cell_type": "markdown",
   "id": "d598d63f-9a13-4ce3-81a3-f8077ec4d283",
   "metadata": {
    "editable": false,
    "slideshow": {
     "slide_type": ""
    },
    "tags": []
   },
   "source": [
    "<center><h4>--------</h4></center>\n",
    "<center><h4>Példakód</h4></center>\n",
    "<center><h4>--------</h4></center>"
   ]
  },
  {
   "cell_type": "code",
   "execution_count": null,
   "id": "9c12935a-8814-4d40-9222-5845bd76dad4",
   "metadata": {
    "editable": true,
    "slideshow": {
     "slide_type": ""
    },
    "tags": []
   },
   "outputs": [],
   "source": [
    "import numpy as np\n",
    "import cv2\n",
    "from util import utils\n",
    "\n",
    "max_elem = 2\n",
    "max_kernel_size = 21 \n",
    "img = None\n",
    "\n",
    "def morph_shape(val):\n",
    "    if val == 0:\n",
    "        return cv2.MORPH_RECT\n",
    "    elif val == 1:\n",
    "        return cv2.MORPH_CROSS\n",
    "    elif val == 2:\n",
    "        return cv2.MORPH_ELLIPSE\n",
    "\n",
    "def dilatation(val):\n",
    "    global img, max_elem, max_kernel_size\n",
    "    dilatation_size = cv2.getTrackbarPos('Kernel size:\\n 2n +1', \"Dilation\")\n",
    "    dilation_shape = morph_shape(cv2.getTrackbarPos('Element:\\n 0: Rect \\n 1: Cross \\n 2: Ellipse', \"Dilation\"))\n",
    "    element = cv2.getStructuringElement(dilation_shape, (1 if dilatation_size == 0 else dilatation_size, 1 if dilatation_size == 0 else dilatation_size))\n",
    "    dilatation_dst = cv2.dilate(img, element)\n",
    "    cv2.imshow(\"Dilation\", dilatation_dst)\n",
    "\n",
    "def dilatation_main(self):\n",
    "    global img, max_elem, max_kernel_size\n",
    "    filename = utils.browse_images(self)\n",
    "    img = cv2.imread(filename, cv2.IMREAD_GRAYSCALE)\n",
    "    \n",
    "    cv2.namedWindow(\"Dilation\")\n",
    "    cv2.namedWindow(\"Dilation\", cv2.WINDOW_NORMAL)\n",
    "    cv2.resizeWindow(\"Dilation\", img.shape[1], img.shape[0])\n",
    "    cv2.createTrackbar('Element:\\n 0: Rect \\n 1: Cross \\n 2: Ellipse', \"Dilation\", 0, max_elem, dilatation)\n",
    "    cv2.createTrackbar('Kernel size:\\n 2n +1', \"Dilation\", 0, max_kernel_size, dilatation)\n",
    "    dilatation(0)\n",
    "    cv2.waitKey()\n",
    "\n",
    "    \n",
    "if __name__ == \"__main__\":\n",
    "    display(utils.start(dilatation_main))"
   ]
  },
  {
   "attachments": {},
   "cell_type": "markdown",
   "id": "636c1908-93e3-40b6-bd95-1d5b0d302573",
   "metadata": {
    "editable": false,
    "slideshow": {
     "slide_type": ""
    },
    "tags": []
   },
   "source": [
    "<div STYLE=\"width:65%;margin:auto;text-align:justify; align: center\">\n",
    "    <p STYLE=\"text-align:justify\">\n",
    "        <br><br>\n",
    "    </p>\n",
    "<table STYLE=\"border-left: 1px solid #cdd0d4;border-right: 1px solid #cdd0d4;\">\n",
    "    <tbody >\n",
    "        <tr>\n",
    "<td>\n",
    "\n",
    "```python\n",
    "cv2.getStructuringElement(dilation_shape, (2 * dilatation_size + 1, 2 * dilatation_size + 1))\n",
    "```\n",
    "    \n",
    "</td>\n",
    "            <td STYLE=\"min-width: 200px;max-width: 475px;\">\n",
    "                A függvény visszatér a dilatációhoz használt strukturáló elemmel. Első paramétere a <i>shape</i>, ami megadja a mátrixban elhelyezkedő $1$-ek elhelyezkedését. Három lehetőség közül választhatunk: \n",
    "                <ul>\n",
    "                    <li>\n",
    "                        <center><b>cv2.MORPH_RECT</b></center>\n",
    "                        \\begin{bmatrix}\n",
    "                        1 & 1 & 1 & 1 & 1\\\\\n",
    "                        1 & 1 & 1 & 1 & 1\\\\\n",
    "                        1 & 1 & 1 & 1 & 1\\\\\n",
    "                        1 & 1 & 1 & 1 & 1\\\\\n",
    "                        1 & 1 & 1 & 1 & 1\\\\\n",
    "                        \\end{bmatrix}\n",
    "                    </li>\n",
    "                    <li>\n",
    "                        <center><b>cv2.MORPH_ELLIPSE</b></center>\n",
    "                        \\begin{bmatrix}\n",
    "                        0 & 0 & 1 & 0 & 0\\\\\n",
    "                        1 & 1 & 1 & 1 & 1\\\\\n",
    "                        1 & 1 & 1 & 1 & 1\\\\\n",
    "                        1 & 1 & 1 & 1 & 1\\\\\n",
    "                        0 & 0 & 1 & 0 & 0\\\\\n",
    "                        \\end{bmatrix}\n",
    "                    </li>\n",
    "                    <li>\n",
    "                        <center><b>cv2.MORPH_CROSS</b></center>\n",
    "                        \\begin{bmatrix}\n",
    "                        0 & 0 & 1 & 0 & 0\\\\\n",
    "                        0 & 0 & 1 & 0 & 0\\\\\n",
    "                        1 & 1 & 1 & 1 & 1\\\\\n",
    "                        0 & 0 & 1 & 0 & 0\\\\\n",
    "                        0 & 0 & 1 & 0 & 0\\\\\n",
    "                        \\end{bmatrix}\n",
    "                    </li>\n",
    "                </ul>\n",
    "                A második paraméter a strukturáló elem méretét adja meg (az előző példamátrixok esetén a strukturáló elem mérete $(5,5)$)\n",
    "            </td>\n",
    "        </tr>\n",
    "        <tr>\n",
    "            <td>\n",
    "\n",
    "```python\n",
    "cv2.dilate(img, element)\n",
    "```\n",
    "\n",
    "</td>\n",
    "            <td STYLE=\"min-width: 200px;max-width: 475px;\">\n",
    "                A ezzel a fügvénnyel végezhetjük el a dilatációt. Csak a képet és az előbbi függvényell megkapott struktúráló elemet kell átadnunk.\n",
    "            </td>\n",
    "        </tr>\n",
    "    </tbody>\n",
    "</table>\n",
    "</div>"
   ]
  },
  {
   "cell_type": "markdown",
   "id": "d81d0753-9936-46cc-95d4-10188eca58a9",
   "metadata": {
    "editable": false,
    "slideshow": {
     "slide_type": ""
    },
    "tags": []
   },
   "source": [
    "<center><h4>--------</h4></center>\n",
    "<center><h4>Önellenőrző teszt</h4></center>\n",
    "<center><h4>--------</h4></center>"
   ]
  },
  {
   "cell_type": "code",
   "execution_count": null,
   "id": "e0f5cc7a-354e-4b9c-8464-d3ba5f078a45",
   "metadata": {
    "editable": false,
    "slideshow": {
     "slide_type": ""
    },
    "tags": []
   },
   "outputs": [],
   "source": [
    "### Ha nem látod a tesztet futtasd le ezt a kódot!\n",
    "from jupyterquiz import display_quiz\n",
    "import json\n",
    "\n",
    "with open('questions/dilat.json', encoding='utf-8') as q:\n",
    "    quiz = json.load(q)\n",
    "    display_quiz(quiz)"
   ]
  },
  {
   "cell_type": "markdown",
   "id": "9ffbc9a0-6226-4779-9fb7-6b7b127b3676",
   "metadata": {
    "editable": false,
    "slideshow": {
     "slide_type": ""
    },
    "tags": []
   },
   "source": [
    "<br>\n",
    "<div STYLE=\"width:65%;margin:auto;text-align:justify; align: center\">\n",
    "    <p STYLE=\"text-align:justify\">        \n",
    "        Az erózió a dilatáció \"fordítottja\". Az algoritmus ugyan az lesz, azzal a különbséggel, hogy ha van \"hit\", akkor a pixel értékét $0$-ra állítjuk a kimeneti képen, illetve, ha a talált mintázat megegyezik a strukturáló elemmel, a pixel értékét békén hagyjuk (ezt hívjuk \"fit\"-nek). Itt is gyorsíthatunk az algoritmuson, csak itt a $0$-ás értékű pixeleket hagyjuk ki az $1$-es értékűek helyett. Így a képen megjelenő objektum csökkenését érjük el. Jelölése: $\\ominus$, formálisan felírva: $$X \\ominus B = \\left\\{ p \\in Z^2 : p = x + b \\in X, \\forall b \\in B \\right\\}$$<br> Példa:\n",
    "    </p>\n",
    "</div>"
   ]
  },
  {
   "cell_type": "markdown",
   "id": "f091fd0e-21e6-452e-b4e7-9e5e5ad906f3",
   "metadata": {
    "editable": false,
    "slideshow": {
     "slide_type": ""
    },
    "tags": []
   },
   "source": [
    "<div STYLE=\"width:65%;margin:auto;\">\n",
    "    <div STYLE=\"margin: auto; width: 50%\">\n",
    "        <table STYLE=\"text-align:center;\">\n",
    "            <tr>\n",
    "                <td STYLE=\"padding: 15px;\" colspan=\"4\"><center>Bemeneti Bináris Kép $\\left(X\\right)$</center></td>\n",
    "            </tr>\n",
    "            <tr>\n",
    "                <td STYLE=\"padding: 15px;\">$0$</td>\n",
    "                <td STYLE=\"padding: 15px;\">$1$</td>\n",
    "                <td STYLE=\"padding: 15px;\">$0$</td>\n",
    "                <td STYLE=\"padding: 15px;\">$1$</td>\n",
    "            </tr>\n",
    "            <tr>\n",
    "                <td STYLE=\"padding: 15px;\">$1$</td>\n",
    "                <td STYLE=\"padding: 15px;\">$1$</td>\n",
    "                <td STYLE=\"padding: 15px;\">$1$</td>\n",
    "                <td STYLE=\"padding: 15px;\">$1$</td>\n",
    "            </tr>\n",
    "            <tr>\n",
    "                <td STYLE=\"padding: 15px;\">$0$</td>\n",
    "                <td STYLE=\"padding: 15px;\">$1$</td>\n",
    "                <td STYLE=\"padding: 15px;\">$0$</td>\n",
    "                <td STYLE=\"padding: 15px;\">$1$</td>\n",
    "            </tr>\n",
    "        </table><br>\n",
    "        <div STYLE =\"text-align:center;\">\n",
    "            $\\ominus$\n",
    "        </div><br>\n",
    "        <table STYLE=\"text-align:center;\">\n",
    "            <tr>\n",
    "                <td STYLE=\"padding: 15px;\" colspan=\"3\"><center>Struktúráló Elem $\\left(B\\right)$</center></td>\n",
    "            </tr>\n",
    "            <tr>\n",
    "                <td STYLE=\"padding: 15px;\">$0$</td>\n",
    "                <td STYLE=\"padding: 15px;\">$1$</td>\n",
    "                <td STYLE=\"padding: 15px;\">$0$</td>\n",
    "            </tr>\n",
    "            <tr>\n",
    "                <td STYLE=\"padding: 15px;\">$1$</td>\n",
    "                <td STYLE=\"padding: 15px;\"><font color='red'>$1$</font></td>\n",
    "                <td STYLE=\"padding: 15px;\">$1$</td>\n",
    "            </tr>\n",
    "            <tr>\n",
    "                <td STYLE=\"padding: 15px;\">$0$</td>\n",
    "                <td STYLE=\"padding: 15px;\">$1$</td>\n",
    "                <td STYLE=\"padding: 15px;\">$0$</td>\n",
    "            </tr>\n",
    "        </table><br>\n",
    "        <div STYLE =\"text-align:center;\">\n",
    "            $\\Big\\Downarrow$\n",
    "        </div><br>\n",
    "        <table STYLE=\"text-align:center;\">\n",
    "            <tr>\n",
    "                <td STYLE=\"padding: 15px;\" colspan=\"4\"><center>A kép erózió után</center></td>\n",
    "            </tr>\n",
    "            <tr>\n",
    "                <td STYLE=\"padding: 15px;\">$0$</td>\n",
    "                <td STYLE=\"padding: 15px;\">$0$</td>\n",
    "                <td STYLE=\"padding: 15px;\">$0$</td>\n",
    "                <td STYLE=\"padding: 15px;\">$0$</td>\n",
    "            </tr>\n",
    "            <tr>\n",
    "                <td STYLE=\"padding: 15px;\">$0$</td>\n",
    "                <td STYLE=\"padding: 15px;\">$1$</td>\n",
    "                <td STYLE=\"padding: 15px;\">$0$</td>\n",
    "                <td STYLE=\"padding: 15px;\">$1$</td>\n",
    "            </tr>\n",
    "            <tr>\n",
    "                <td STYLE=\"padding: 15px;\">$0$</td>\n",
    "                <td STYLE=\"padding: 15px;\">$0$</td>\n",
    "                <td STYLE=\"padding: 15px;\">$0$</td>\n",
    "                <td STYLE=\"padding: 15px;\">$0$</td>\n",
    "            </tr>\n",
    "        </table>\n",
    "    </div>\n",
    "</div>"
   ]
  },
  {
   "cell_type": "markdown",
   "id": "d1001f27-d6a1-4dca-9d91-35078c0cb5a9",
   "metadata": {
    "editable": false,
    "slideshow": {
     "slide_type": ""
    },
    "tags": []
   },
   "source": [
    "<center><h4>--------</h4></center>\n",
    "<center><h4>Példakód</h4></center>\n",
    "<center><h4>--------</h4></center>"
   ]
  },
  {
   "cell_type": "code",
   "execution_count": null,
   "id": "e56b2934-bce7-4009-ad65-d9924d2c8ee5",
   "metadata": {
    "slideshow": {
     "slide_type": ""
    },
    "tags": []
   },
   "outputs": [],
   "source": [
    "import numpy as np\n",
    "import cv2\n",
    "from util import utils\n",
    "\n",
    "max_elem = 2\n",
    "max_kernel_size = 21\n",
    "img = None\n",
    "\n",
    "def morph_shape(val):\n",
    "    if val == 0:\n",
    "        return cv2.MORPH_RECT\n",
    "    elif val == 1:\n",
    "        return cv2.MORPH_CROSS\n",
    "    elif val == 2:\n",
    "        return cv2.MORPH_ELLIPSE\n",
    "\n",
    "def erosion(val):\n",
    "    global img, max_elem, max_kernel_size\n",
    "    erosion_size = cv2.getTrackbarPos('Kernel size:\\n 2n +1', \"Erosion\")\n",
    "    erosion_shape = morph_shape(cv2.getTrackbarPos('Element:\\n 0: Rect \\n 1: Cross \\n 2: Ellipse', \"Erosion\"))\n",
    "    element = cv2.getStructuringElement(erosion_shape, (1 if erosion_size == 0 else erosion_size, 1 if erosion_size == 0 else erosion_size))\n",
    "    erosion_dst = cv2.erode(img, element)\n",
    "    cv2.imshow(\"Erosion\", erosion_dst)\n",
    "\n",
    "def erosion_main(self):\n",
    "    global img, max_elem, max_kernel_size\n",
    "    filename = utils.browse_images(self)\n",
    "    img = cv2.imread(filename, cv2.IMREAD_GRAYSCALE)\n",
    "    \n",
    "    cv2.namedWindow(\"Erosion\")\n",
    "    cv2.namedWindow(\"Erosion\", cv2.WINDOW_NORMAL)\n",
    "    cv2.resizeWindow(\"Erosion\", img.shape[1], img.shape[0])\n",
    "    cv2.createTrackbar('Element:\\n 0: Rect \\n 1: Cross \\n 2: Ellipse', \"Erosion\", 0, max_elem, erosion)\n",
    "    cv2.createTrackbar('Kernel size:\\n 2n +1', \"Erosion\", 0, max_kernel_size, erosion)\n",
    "    erosion(0)\n",
    "    cv2.waitKey()\n",
    "    \n",
    "if __name__ == \"__main__\":\n",
    "    display(utils.start(erosion_main))"
   ]
  },
  {
   "cell_type": "markdown",
   "id": "9cd57db6-c7c6-46a9-94ed-93a72d27f142",
   "metadata": {
    "editable": false,
    "slideshow": {
     "slide_type": ""
    },
    "tags": []
   },
   "source": [
    "<div STYLE=\"width:65%;margin:auto;text-align:justify; align: center\">\n",
    "    <p STYLE=\"text-align:justify\">\n",
    "        <br><br>\n",
    "    </p>\n",
    "    <table STYLE=\"border-left: 1px solid #cdd0d4;border-right: 1px solid #cdd0d4;\">\n",
    "        <tbody >\n",
    "            <tr>\n",
    "    <td>\n",
    "    \n",
    "```python\n",
    "cv2.erode(img, element)\n",
    "```\n",
    "    \n",
    "</td>\n",
    "        <td STYLE=\"min-width: 200px;max-width: 475px;\">\n",
    "            Az erózióhoz használt python függvényt pontosan ugyan úgy kell használni, mint a fentebb taglalt dilatációhoz. \n",
    "        </td>\n",
    "            </tr>\n",
    "        </tbody>\n",
    "    </table>\n",
    "</div>"
   ]
  },
  {
   "cell_type": "markdown",
   "id": "8e4f4ba6-7d20-4082-9377-be179355ecf1",
   "metadata": {
    "editable": false,
    "slideshow": {
     "slide_type": ""
    },
    "tags": []
   },
   "source": [
    "<center><h4>--------</h4></center>\n",
    "<center><h4>Önellenőrző teszt</h4></center>\n",
    "<center><h4>--------</h4></center>"
   ]
  },
  {
   "cell_type": "code",
   "execution_count": null,
   "id": "e994c350-2f0c-4615-9ed9-c6d5ea72c193",
   "metadata": {
    "editable": false,
    "slideshow": {
     "slide_type": ""
    },
    "tags": []
   },
   "outputs": [],
   "source": [
    "### Ha nem látod a tesztet futtasd le ezt a kódot!\n",
    "from jupyterquiz import display_quiz\n",
    "import json\n",
    "\n",
    "with open('questions/erosion.json', encoding='utf-8') as q:\n",
    "    quiz = json.load(q)\n",
    "    display_quiz(quiz)"
   ]
  },
  {
   "cell_type": "markdown",
   "id": "aed56f6b-f7cc-4c69-a9eb-7ad757fcf346",
   "metadata": {
    "editable": false,
    "slideshow": {
     "slide_type": ""
    },
    "tags": []
   },
   "source": [
    "### <div id=\"Nyitás és Zárás\" STYLE=\"width:65%;margin:auto;\" align = \"center\"><br><center>Nyitás és Zárás</center></div> ###"
   ]
  },
  {
   "cell_type": "markdown",
   "id": "8f9f5020-9b53-4566-97b3-585722ff3252",
   "metadata": {
    "editable": false,
    "slideshow": {
     "slide_type": ""
    },
    "tags": []
   },
   "source": [
    "<br>\n",
    "<div STYLE=\"width:65%;margin:auto;text-align:justify; align: center\"><img STYLE=\"width:60%; float:right; margin-left: 30px\" src=\"img/Open_Close.png\"></center>\n",
    "    <p STYLE=\"text-align:justify\">\n",
    "    Bár az előző fejezetben úgy fogalmaztam, hogy az erózió a dilatáció \"fordítottja\", ez nem teljesen igaz. A két művelet egymásnak nem inverz transzformációi, azaz egy dilatáció után elvégzett erózió, nem adja vissza az eredeti képet és vice versa. Viszont a két művelet egymás utáni elvégzése ad nekünk két újabb morfológiai műveletet: a Nyitást és a Zárást.\n",
    "    </p>\n",
    "    <p STYLE=\"text-align:justify\">\n",
    "        <b>Nyitás:</b> Jele: $\\circ$. A kép erózióját követően dilatációt alkalmazunk (természetesen itt is van egy bemeneti $X$ kép és egy $B$ strukturáló elem). A nyitás művelet eltávolítja a képről az apró elemeket.\n",
    "    </p>\n",
    "    <p STYLE=\"text-align:justify\">\n",
    "        <b>Zárás:</b> Jele: $\\bullet$. A kép dilatálását erózió követi. A nyitással ellentétben a zárás nem eltávolít, hanem hozzáad a képhez. Összezárja, illetve feltölti a kisebb lyukakat, nyílásokat.\n",
    "    </p>\n",
    "</div>"
   ]
  },
  {
   "cell_type": "markdown",
   "id": "a7aec63e-aecd-4873-82e1-729dac94dd53",
   "metadata": {
    "editable": false,
    "slideshow": {
     "slide_type": ""
    },
    "tags": []
   },
   "source": [
    "<center><h4>--------</h4></center>\n",
    "<center><h4>Példakód</h4></center>\n",
    "<center><h4>--------</h4></center>"
   ]
  },
  {
   "cell_type": "code",
   "execution_count": null,
   "id": "b4b96f64-9b15-4738-87e5-7077cd048b85",
   "metadata": {
    "editable": true,
    "slideshow": {
     "slide_type": ""
    },
    "tags": []
   },
   "outputs": [],
   "source": [
    "import numpy as np\n",
    "import cv2\n",
    "from util import utils\n",
    "\n",
    "max_elem = 2\n",
    "max_kernel_size = 21\n",
    "img = None\n",
    "\n",
    "def morph_shape(val):\n",
    "    if val == 0:\n",
    "        return cv2.MORPH_RECT\n",
    "    elif val == 1:\n",
    "        return cv2.MORPH_CROSS\n",
    "    elif val == 2:\n",
    "        return cv2.MORPH_ELLIPSE\n",
    "\n",
    "def open_or_close(val):\n",
    "    if val == 0:\n",
    "        return cv2.MORPH_OPEN\n",
    "    else:\n",
    "        return cv2.MORPH_CLOSE\n",
    "\n",
    "def morph(val):\n",
    "    global img, max_elem, max_kernel_size\n",
    "\n",
    "    open_size = cv2.getTrackbarPos('Kernel size:\\n 2n +1', \"Open & Close\")\n",
    "    open_shape = morph_shape(cv2.getTrackbarPos('Element:\\n 0: Rect \\n 1: Cross \\n 2: Ellipse', \"Open & Close\"))\n",
    "    element = cv2.getStructuringElement(open_shape, (1 if open_size == 0 else open_size, 1 if open_size == 0 else open_size))\n",
    "    morph_type = cv2.getTrackbarPos('Open or Close:\\n 0: Open \\n 1: Close', \"Open & Close\")\n",
    "    open_dst = cv2.morphologyEx(img, morph_type, element)\n",
    "    cv2.imshow(\"Open & Close\", open_dst)\n",
    "\n",
    "def open_close_main(self):\n",
    "    global img, max_elem, max_kernel_size\n",
    "\n",
    "    filename = utils.browse_images(self)\n",
    "    img = cv2.imread(filename, cv2.IMREAD_GRAYSCALE)\n",
    "    \n",
    "    cv2.namedWindow(\"Open & Close\")\n",
    "    cv2.namedWindow(\"Open & Close\", cv2.WINDOW_NORMAL)\n",
    "    cv2.resizeWindow(\"Open & Close\", img.shape[1], img.shape[0])\n",
    "    cv2.createTrackbar('Element:\\n 0: Rect \\n 1: Cross \\n 2: Ellipse', \"Open & Close\", 0, max_elem, morph)\n",
    "    cv2.createTrackbar('Kernel size:\\n 2n +1', \"Open & Close\", 0, max_kernel_size, morph)\n",
    "    cv2.createTrackbar('Open or Close:\\n 0: Open \\n 1: Close', \"Open & Close\", 0, 1, morph)\n",
    "    morph(0)\n",
    "    cv2.waitKey()\n",
    "\n",
    "    \n",
    "if __name__ == \"__main__\":\n",
    "    display(utils.start(open_close_main))"
   ]
  },
  {
   "cell_type": "markdown",
   "id": "44941dc1-2404-482b-86b3-0cf9a241bf62",
   "metadata": {
    "editable": false,
    "slideshow": {
     "slide_type": ""
    },
    "tags": []
   },
   "source": [
    "<div STYLE=\"width:65%;margin:auto;text-align:justify; align: center\">\n",
    "    <p STYLE=\"text-align:justify\">\n",
    "        <br><br>\n",
    "    </p>\n",
    "    <table STYLE=\"border-left: 1px solid #cdd0d4;border-right: 1px solid #cdd0d4;\">\n",
    "        <tbody >\n",
    "            <tr>\n",
    "    <td>\n",
    "    \n",
    "```python\n",
    "cv2.morphologyEx(img, morph_type, element)\n",
    "```\n",
    "    \n",
    "</td>\n",
    "        <td STYLE=\"min-width: 200px;max-width: 475px;\">\n",
    "            A <i>morphologyEx</i> függvénnyel több különböző morfológiai műveletet is el tudunk végezni. A fejezet szempontjából számunkra a nyitás és a zárás volt a fontos. Mind a két művelethez ugyan ezt a függvényt használjuk fel, csupán a paraméterként megadott <i>flag</i> változik. A flag lehet: \n",
    "            <ul>\n",
    "                <li><b>cv2.MORPH_OPEN</b></li>\n",
    "                <li><b>cv2.MORPH_CLOSE</b></li>\n",
    "            </ul>\n",
    "        </td>\n",
    "            </tr>\n",
    "        </tbody>\n",
    "    </table>\n",
    "</div>"
   ]
  },
  {
   "cell_type": "markdown",
   "id": "ff00b232-21cc-4404-8bfe-37df004a3324",
   "metadata": {
    "editable": false,
    "slideshow": {
     "slide_type": ""
    },
    "tags": []
   },
   "source": [
    "<center><h4>--------</h4></center>\n",
    "<center><h4>Önellenőrző teszt</h4></center>\n",
    "<center><h4>--------</h4></center>"
   ]
  },
  {
   "cell_type": "code",
   "execution_count": null,
   "id": "c0ba1bed-6ede-46b0-9124-cd1d834127df",
   "metadata": {
    "editable": false,
    "slideshow": {
     "slide_type": ""
    },
    "tags": []
   },
   "outputs": [],
   "source": [
    "### Ha nem látod a tesztet futtasd le ezt a kódot!\n",
    "from jupyterquiz import display_quiz\n",
    "import json\n",
    "\n",
    "with open('questions/onc.json', encoding='utf-8') as q:\n",
    "    quiz = json.load(q)\n",
    "    display_quiz(quiz)"
   ]
  },
  {
   "cell_type": "markdown",
   "id": "f525eb51-9ac0-4928-aea4-b2321130f2eb",
   "metadata": {
    "editable": false,
    "slideshow": {
     "slide_type": ""
    },
    "tags": []
   },
   "source": [
    "### <div id=\"Hit-or-Miss\" STYLE=\"width:65%;margin:auto;\" align = \"center\"><br><center>\"Hit-or-Miss\" transzformáció</center></div> ###"
   ]
  },
  {
   "cell_type": "markdown",
   "id": "951fff09-3c73-4695-b589-13f79e65d02d",
   "metadata": {
    "editable": false,
    "slideshow": {
     "slide_type": ""
    },
    "tags": []
   },
   "source": [
    "<div STYLE=\"width:65%;margin:auto;text-align:justify; align: center\">\n",
    "    <p STYLE=\"text-align:justify\">\n",
    "        A \"Hit-or-Miss\" transzformáció, olyan matematikai morfológiai művelet, amely segítséget nyújt a bizonyos minták detektálásában a bináris képeken.\n",
    "    </p>\n",
    "    <p STYLE=\"text-align:justify\">\n",
    "        A transzformációt definiálhatjuk úgy, hogy $$X \\otimes B = \\left\\{ x : B_1 \\subset X \\wedge B_2 \\subset X^C \\right\\},$$ vagy $$X \\otimes B = (X \\ominus B_1) \\cap (X^C \\ominus B_2).$$\n",
    "    </p>\n",
    "    <p STYLE=\"text-align:justify\">\n",
    "        Leegyszerűsítve, ez annyit jelent, hogy van két strukturáló elemünk $B_1$ és $B_2$. $B_1$ a keresendő minta előtér pixeleit, $B_2$ pedig a háttér pixeleit reprezentálja. Először dilatáljuk a bemeneti $X$ képünket $B_1$-el, majd vesszük $X$-nak a komplementerét (háttérpixelekből előtérpixelek, előtérpixelekből háttérpixelek lesznek) és erodáljuk $B_2$-vel. A két művelet eredményének vesszük a metszetét. A kimeneti kép azon pozíciókat fogja tartalmazni, ahol a keresett minta megtalálható.\n",
    "    </p>\n",
    "</div>"
   ]
  },
  {
   "cell_type": "markdown",
   "id": "a79c9274-2b59-4c40-98a6-da90c8a93152",
   "metadata": {
    "editable": false,
    "slideshow": {
     "slide_type": ""
    },
    "tags": []
   },
   "source": [
    "<center><h4>--------</h4></center>\n",
    "<center><h4>Példakód</h4></center>\n",
    "<center><h4>--------</h4></center>"
   ]
  },
  {
   "cell_type": "code",
   "execution_count": null,
   "id": "664b2ad6-c195-45dd-838d-7092b64bfefa",
   "metadata": {
    "slideshow": {
     "slide_type": ""
    },
    "tags": []
   },
   "outputs": [],
   "source": [
    "import cv2\n",
    "import sys\n",
    "from util import utils\n",
    "\n",
    "def hit_and_miss_main(self):\n",
    "    image, kernel = utils.generate_input()\n",
    "    hit_and_miss(image, kernel)\n",
    "\n",
    "def hit_and_miss(image, kernel):\n",
    "    rate = 50\n",
    "    \n",
    "    output_image = cv2.morphologyEx(image, cv2.MORPH_HITMISS, kernel)\n",
    "    visual_kernel = utils.convert_kernel_for_visualization(kernel)\n",
    "\n",
    "    resized_kernel  = cv2.resize(visual_kernel, None, fx = rate, fy = rate, interpolation = cv2.INTER_NEAREST)\n",
    "    cv2.imshow(\"Kernel\", resized_kernel )\n",
    "    cv2.moveWindow(\"Kernel\", 500, 200)\n",
    "    \n",
    "    image = cv2.resize(image, None, fx = rate, fy = rate, interpolation = cv2.INTER_NEAREST)\n",
    "    cv2.imshow(\"Bemenet\", image)\n",
    "    cv2.moveWindow(\"Bemenet\", 0, 200)\n",
    "    \n",
    "    output_image = cv2.resize(output_image, None , fx = rate, fy = rate, interpolation = cv2.INTER_NEAREST)\n",
    "    cv2.imshow(\"Hit or Miss\", output_image)\n",
    "    cv2.moveWindow(\"Hit or Miss\", 800, 200)\n",
    "    cv2.waitKey(0)\n",
    "    cv2.destroyAllWindows()\n",
    "    \n",
    "if __name__ == \"__main__\":\n",
    "    display(utils.start(hit_and_miss_main))"
   ]
  },
  {
   "cell_type": "markdown",
   "id": "5f7cfea4-1f78-45e8-b443-4ad4189d905e",
   "metadata": {
    "editable": false,
    "slideshow": {
     "slide_type": ""
    },
    "tags": []
   },
   "source": [
    "<div STYLE=\"width:65%;margin:auto;text-align:justify; align: center\">\n",
    "    <p STYLE=\"text-align:justify\">\n",
    "        <br><br>\n",
    "    </p>\n",
    "    <table STYLE=\"border-left: 1px solid #cdd0d4;border-right: 1px solid #cdd0d4;\">\n",
    "        <tbody >\n",
    "            <tr>\n",
    "    <td>\n",
    "    \n",
    "```python\n",
    "open_dst = cv2.morphologyEx(image, cv2.MORPH_HITMISS, kernel)\n",
    "```\n",
    "    \n",
    "</td>\n",
    "        <td STYLE=\"min-width: 200px;max-width: 475px;\">\n",
    "            Szintén a <i>morphologyEx</i> függvény lesz a segítségünkre. A hit-or-miss transzformáció megvalósításához a <b>cv2.MORPH_HITMISS</b> falg-et használjuk. Hitt-or-Miss esetén használhatunk mi magunk által definiált kernelt is. Ebben a kernelben −1 jelöli, ha a minta adott pixelének <font color=\"black\"><b>fekete</b></font>, 1, ha <font color=\"white\"><b>fehér</b></font> színűnek kell lennie. Abban az esetben, ha az érték 0, akkor nem érdekel minket a pixel értéke, lehet akár <font color=\"black\"><b>fekete</b></font> vagy <font color=\"white\"><b>fehér</b></font>.\n",
    "        </td>\n",
    "            </tr>\n",
    "        </tbody>\n",
    "    </table>\n",
    "</div>"
   ]
  },
  {
   "cell_type": "markdown",
   "id": "c8c85227-89a5-493d-ba84-bd1e736e8620",
   "metadata": {
    "editable": false,
    "slideshow": {
     "slide_type": ""
    },
    "tags": []
   },
   "source": [
    "## <div id=\"Fourier-transzformáció\" STYLE=\"width:65%;margin:auto;\" align = \"center\"><br><center>Fourier-transzformáció</center></div> ##"
   ]
  },
  {
   "cell_type": "markdown",
   "id": "47e51408-cff2-4624-8110-65925bcf9945",
   "metadata": {
    "editable": false,
    "slideshow": {
     "slide_type": ""
    },
    "tags": []
   },
   "source": [
    "<div STYLE=\"width:65%;margin:auto;text-align:justify; align: center\">\n",
    "    <p STYLE=\"text-align:justify\">\n",
    "        A lineáris integráltranszformációk gyakran használtak a képfeldolgozás területén, ugyanis lehetővé teszik számunkra a képeket ábrázolását egy olyan tartományban, amelyben az információ is jobban látható, így a problémák megoldása is egyszerűbbé válik. Az egyik leggyakrabban használt transzformáció a Fourier transzformáció.\n",
    "    </p>\n",
    "</div>"
   ]
  },
  {
   "cell_type": "markdown",
   "id": "33322e21-f510-422d-a4c5-afe23f44d684",
   "metadata": {
    "editable": false,
    "slideshow": {
     "slide_type": ""
    },
    "tags": []
   },
   "source": [
    "<div STYLE=\"width:65%;margin:auto;text-align:justify; align: center\">\n",
    "    <p STYLE=\"text-align:justify\">\n",
    "        Fourier transzformáció 1D-ben: $$ F(\\xi) = \\int_{- \\infty}^{\\infty} f(t)e^{-2\\pi i \\xi t} \\ dt$$ és annak inverze:$$ f(t)= \\int_{- \\infty}^{\\infty} F(\\xi)e^{2 \\pi i \\xi t} \\ d\\xi$$\n",
    "    </p><br><br>\n",
    "    <p STYLE=\"text-align:justify\">\n",
    "        Fourier transzformáció 2D-ben: $$F(u,v) = \\int_{-\\infty}^{\\infty}\\int_{-\\infty}^{\\infty} f(x,y)e^{-2\\pi i (ux+vy)} \\ dx \\  dy$$ és annak inverze: $$f(x,y) = \\int_{-\\infty}^{\\infty}\\int_{-\\infty}^{\\infty} F(u,v)e^{2 \\pi i (ux+vy)} \\ du \\ dv$$.<br><br>\n",
    "        A transzformáció felírható diszkrét formában is:\n",
    "        $$ \n",
    "            \\begin{align}\n",
    "                F(u,v) &= \\frac{1}{MN} \\sum_{m=0}^{M-1} \\sum_{n=0}^{N-1} f(m,n) \\exp\\left(-2\\pi i \\left( \\frac{mu}{M} + \\frac{nv}{N} \\right) \\right) \\\\\n",
    "                f(m,n) &= \\sum_{u=0}^{M-1} \\sum_{v=0}^{N-1} F(u,v) \\exp \\left( 2 \\pi i \\left( \\frac{mu}{M} + \\frac{nv}{N} \\right) \\right)\n",
    "            \\end{align} \n",
    "        $$\n",
    "    </p>\n",
    "    <p>&nbsp;</p>\n",
    "</div>"
   ]
  },
  {
   "attachments": {},
   "cell_type": "markdown",
   "id": "bd8aa9aa-318e-49b4-b97e-8ab1e1998d9c",
   "metadata": {
    "editable": false,
    "slideshow": {
     "slide_type": ""
    },
    "tags": []
   },
   "source": [
    "<div STYLE=\"width:65%;margin:auto;text-align:justify; align: center\">\n",
    "    <p STYLE=\"text-align:justify\">\n",
    "        Ha alkalmazzuk a Fourier transzformációt Lennára akkor a következőt kapjuk eredményül.\n",
    "    </p>\n",
    "    <center><img STYLE=\"width:65%; margin-left: 30px\" src=\"img/Fourier.png\"></center><br><br>\n",
    "    <p STYLE=\"text-align:justify\">\n",
    "        Nem, ez nem egy távoli csillag rossz minőségű felvétele, hanem Lenna transzformálva. A transzformáltat felhasználhatjuk különböző szűrési metódusokhoz. Néhányra a következő fejezetekben láthatunk példát. Akármelyik szűrőről is lesz szó a szűrés folyamata mindig  ugyan az lesz:\n",
    "    </p> \n",
    "<center>\n",
    "    \n",
    "[![](https://mermaid.ink/img/pako:eNp1j8FOg0AQhl9lMydIgBQEuuzBxBZNelGT0otsD5uybYllttkuxkJ4GI8ejY9AfC8R08SLc5r_zzf_zLSwUYUEBq7rcjSlOUhGls3Xh-7fTxxHl-NOi-OeZCnHm3xx_7jK1sR1r8nMyu9UrUupSaYFnpqt0lX_tin7z7VNOM5Gam5Zl0Db5jgfzdTKF_gidUP-T-CYjuxt_rDKfpaCA5XUlSiL4eCWIyEczF5WkgMb2kLoZw4cu4ETtVHLM26AGV1LB7Sqd3tgW3E4Dao-FsLItBTDY9UFOQp8UuqvBNbCK7AwCL1oGtGEUpoEAQ0dOAOjvhdGcTAJojD2o5hOOweacd73Jr_lB35C_fCq-wYcmHSL?type=svg)](https://mermaid.live/edit#pako:eNp1j8FOg0AQhl9lMydIgBQEuuzBxBZNelGT0otsD5uybYllttkuxkJ4GI8ejY9AfC8R08SLc5r_zzf_zLSwUYUEBq7rcjSlOUhGls3Xh-7fTxxHl-NOi-OeZCnHm3xx_7jK1sR1r8nMyu9UrUupSaYFnpqt0lX_tin7z7VNOM5Gam5Zl0Db5jgfzdTKF_gidUP-T-CYjuxt_rDKfpaCA5XUlSiL4eCWIyEczF5WkgMb2kLoZw4cu4ETtVHLM26AGV1LB7Sqd3tgW3E4Dao-FsLItBTDY9UFOQp8UuqvBNbCK7AwCL1oGtGEUpoEAQ0dOAOjvhdGcTAJojD2o5hOOweacd73Jr_lB35C_fCq-wYcmHSL)\n",
    "\n",
    "</center>\n",
    "</div>"
   ]
  },
  {
   "cell_type": "markdown",
   "id": "2c3e21c6-26fa-4c85-8e50-a08edd8213d7",
   "metadata": {
    "editable": false,
    "slideshow": {
     "slide_type": ""
    },
    "tags": []
   },
   "source": [
    "<center><h4>--------</h4></center>\n",
    "<center><h4>Példakód</h4></center>\n",
    "<center><h4>--------</h4></center>"
   ]
  },
  {
   "cell_type": "code",
   "execution_count": null,
   "id": "b998d421-652a-41ea-971b-86d6f7737b4b",
   "metadata": {
    "editable": true,
    "slideshow": {
     "slide_type": ""
    },
    "tags": []
   },
   "outputs": [],
   "source": [
    "import cv2\n",
    "import sys\n",
    "from util import utils\n",
    "import numpy as np\n",
    "\n",
    "def fourier_main(self):\n",
    "    filename = utils.browse_images(self)\n",
    "    img = cv2.imread(filename, cv2.IMREAD_GRAYSCALE)\n",
    "    fourier = np.fft.fft2(img)\n",
    "    fourier_shift = np.fft.fftshift(fourier)\n",
    "    magnitude = np.log(np.abs(fourier_shift)) / 20\n",
    "\n",
    "    cv2.imshow('Eredeti Kep', img)\n",
    "    cv2.imshow('Fourier Transform', magnitude)\n",
    "    cv2.waitKey(0)\n",
    "    cv2.destroyAllWindows()\n",
    "\n",
    "if __name__ == \"__main__\":\n",
    "    display(utils.start(fourier_main))\n"
   ]
  },
  {
   "cell_type": "markdown",
   "id": "441b980f-447f-44f0-b578-2c5a176c6dae",
   "metadata": {
    "editable": false,
    "slideshow": {
     "slide_type": ""
    },
    "tags": []
   },
   "source": [
    "<div STYLE=\"width:65%;margin:auto;text-align:justify; align: center\">\n",
    "    <p STYLE=\"text-align:justify\">\n",
    "        <br><br>\n",
    "    </p>\n",
    "    <table STYLE=\"border-left: 1px solid #cdd0d4;border-right: 1px solid #cdd0d4;\">\n",
    "        <tbody >\n",
    "            <tr>\n",
    "                <td>\n",
    "    \n",
    "```python\n",
    "np.fft.fft2(img)\n",
    "```\n",
    "    \n",
    "</td>\n",
    "        <td STYLE=\"min-width: 200px;max-width: 475px;\">\n",
    "           A <i>np.fft.fft2</i> függvény kiszámolja a bemenet (ez esetben a kép) 2D-s diszkrét Fourier transzformáltját. Visszaadja a diszkrét transzformációval kiszámolt komplex értékek tömbjét.\n",
    "        </td>\n",
    "            </tr>\n",
    "            <tr>\n",
    "                <td>\n",
    "    \n",
    "```python\n",
    "np.fft.fftshift(fourier)\n",
    "```\n",
    "\n",
    "</td>\n",
    "        <td STYLE=\"min-width: 200px;max-width: 475px;\">\n",
    "           Ez a függvény csupán annyit tesz, hogy a zéró frekvenciájú komponenst a spektrum közepére tolja.\n",
    "        </td>\n",
    "            </tr>\n",
    "            <tr>\n",
    "                <td>\n",
    "    \n",
    "```python\n",
    "np.log(np.abs(fourier_shift)) / 20\n",
    "```\n",
    "\n",
    "</td>\n",
    "        <td STYLE=\"min-width: 200px;max-width: 475px;\">\n",
    "            A kód ezen része valójában csak a vizualizáció miatt szükséges. A <i>log</i> függvény a kapott értékek logaritmikus skálázását hajtja végre, a $20$-as osztó pedig csak egy bevett szokás, de lényegében mind a két műveletet transzformáció vizuális reprezentálásához használjuk.\n",
    "        </td>\n",
    "            </tr>\n",
    "        </tbody>\n",
    "    </table>\n",
    "</div>"
   ]
  },
  {
   "cell_type": "markdown",
   "id": "61150740-e28c-4fb8-a474-52db1dc975ba",
   "metadata": {
    "editable": false,
    "slideshow": {
     "slide_type": ""
    },
    "tags": []
   },
   "source": [
    "### <div id=\"Ideális Aluláteresztő Szűrő\" STYLE=\"width:65%;margin:auto;\" align = \"center\"><br><center>Ideális Aluláteresztő Szűrő</center></div> ###\n",
    "<p STYLE=\"text-align:center;color:gray\">Ideal Low pass Filter</p>"
   ]
  },
  {
   "cell_type": "markdown",
   "id": "dc6d0dcb-1f4f-4038-8853-298eaeec03b1",
   "metadata": {
    "editable": false,
    "slideshow": {
     "slide_type": ""
    },
    "tags": []
   },
   "source": [
    "<div STYLE=\"width:65%;margin:auto;text-align:justify; align: center\"><img STYLE=\"width:30%; float:right; margin-left: 30px\" src=\"img/LowPassFilt.png\">\n",
    "    <p STYLE=\"text-align:justify\">\n",
    "        Az Ideális Aluláteresztő Szűrő Egy meghatározott sugarú körön kívül minden frekvenciát eldob, azon belül megtart.\n",
    "    </p>\n",
    "    <p STYLE=\"text-align:justify\">\n",
    "        Állítsuk elő a kép Fourier transzformáltját, majd vegyük a következő szűrő függvényt: \n",
    "        $$\n",
    "            \\begin{align}\n",
    "                H(u,v) =\n",
    "                    \\begin{dcases}\n",
    "                        1, & ha\\  \\rho(u,v) \\leq \\omega,\\\\\n",
    "                        0, & egyébként.\n",
    "                    \\end{dcases}\n",
    "            \\end{align}\n",
    "        $$\n",
    "    </p>\n",
    "    <p STYLE=\"text-align:justify\">\n",
    "        Ebben a függvényben $\\rho(u,v)$ a távolság függvényünk, ami megadja az $(u,v)$ koordináta és a Fourier transzformált origója közötti távolságot. $\\omega$, az úgynevezett\" vágási frekvencia\", egy olyan érték, amely meghatározza az origótól való maximális távolságot. $H(u,v)$ értéket vehetjük egy szorzó tényezőnek, amivel a Fourier transzformált $(u,v)$ koordinátáján lévő értéket szorozzuk be és amelynek értéke $1$, ha $(u,v)$ vágási frekvencián belül van, $0$, ha azon kívül esik.\n",
    "    </p>  \n",
    "</div>"
   ]
  },
  {
   "cell_type": "markdown",
   "id": "d35e94c2-c3e1-4dc2-b7b9-e2ea6ad65917",
   "metadata": {
    "editable": false,
    "slideshow": {
     "slide_type": ""
    },
    "tags": []
   },
   "source": [
    "<center><h4>--------</h4></center>\n",
    "<center><h4>Példakód</h4></center>\n",
    "<center><h4>--------</h4></center>"
   ]
  },
  {
   "cell_type": "code",
   "execution_count": null,
   "id": "7f1e8d85-7aba-41b5-88e2-73565a080c8f",
   "metadata": {
    "slideshow": {
     "slide_type": ""
    },
    "tags": []
   },
   "outputs": [],
   "source": [
    "import cv2\n",
    "import sys\n",
    "import os\n",
    "from util import utils\n",
    "import numpy as np\n",
    "from PIL import Image as im \n",
    "\n",
    "img = None\n",
    "\n",
    "def calc_fourier():\n",
    "    fourier = np.fft.fft2(img)\n",
    "    fourier_shift = np.fft.fftshift(fourier)\n",
    "    return fourier, fourier_shift\n",
    "\n",
    "def ideal_low_pass(r):\n",
    "    global img\n",
    "    \n",
    "    fourier, fourier_shift = calc_fourier()\n",
    "    mask = np.zeros_like(img)\n",
    "    mask = cv2.circle(mask, (mask.shape[1] // 2, mask.shape[0] // 2), r, (255,255,255), -1)\n",
    "    cv2.imshow('Mask', mask)\n",
    "    \n",
    "    fourier_shift_masked = np.multiply(fourier_shift, mask) / 255\n",
    "\n",
    "    #img_back = np.abs(np.fft.ifft2(fourier_shift, axes=(0,1))).clip(0,255).astype(np.uint8)\n",
    "    img_masked = np.abs(np.fft.ifft2(fourier_shift_masked, axes=(0,1))).clip(0,255).astype(np.uint8)   \n",
    "    \n",
    "    cv2.imshow('ILPF', img_masked)\n",
    "\n",
    "def ideal_low_pass_main(self):\n",
    "    global img\n",
    "    \n",
    "    filename = utils.browse_images(self)\n",
    "    if filename is None or not os.path.exists(filename):\n",
    "        print(\"Image file not selected or does not exist.\")\n",
    "        return\n",
    "\n",
    "    img = cv2.imread(filename, cv2.IMREAD_GRAYSCALE)\n",
    "    if img is None:\n",
    "        print(\"Failed to load image.\")\n",
    "        return\n",
    "\n",
    "\n",
    "    magnitude = np.log(np.abs(calc_fourier()[1] )) / 20\n",
    "    \n",
    "    cv2.namedWindow(\"ILPF\", cv2.WINDOW_NORMAL)\n",
    "    cv2.resizeWindow(\"ILPF\", img.shape[1], img.shape[0])    \n",
    "    cv2.createTrackbar(\"Radius\", \"ILPF\", 0, img.shape[1], ideal_low_pass)\n",
    "    ideal_low_pass(0)\n",
    "\n",
    "    cv2.imshow('Original Image', img)\n",
    "    cv2.imshow('Fourier Transform', magnitude)\n",
    "    cv2.waitKey(0)\n",
    "    cv2.destroyAllWindows()\n",
    "\n",
    "if __name__ == \"__main__\":\n",
    "    display(utils.start(ideal_low_pass_main))\n"
   ]
  },
  {
   "cell_type": "markdown",
   "id": "24221352-4152-4cbd-bf2c-a7faf43ddb0b",
   "metadata": {
    "editable": false,
    "slideshow": {
     "slide_type": ""
    },
    "tags": []
   },
   "source": [
    "### <div id=\"Ideális Felüláteresztő Szűrő\" STYLE=\"width:65%;margin:auto;\" align = \"center\"><br><center>Ideális Felüláteresztő Szűrő</center></div> ###\n",
    "<p STYLE=\"text-align:center;color:gray\">Ideal High pass Filter</p>"
   ]
  },
  {
   "cell_type": "markdown",
   "id": "08d1197c-68e2-4a2a-bf6f-2782a9f50cea",
   "metadata": {
    "editable": false,
    "slideshow": {
     "slide_type": ""
    },
    "tags": []
   },
   "source": [
    "<div STYLE=\"width:65%;margin:auto;text-align:justify; align: center\"\">\n",
    "    <p STYLE=\"text-align:justify\">\n",
    "        Az előző szűrő párja. Működési elve ugyanaz, mint az aluláteresztő esetén, azzal a különbséggel, hogy a vágási frekvencián túl lévő értékeket tartja meg, és az azon belül lévőket dobja el. A függvényben az alábbi módosítás kell eszközölni.\n",
    "        $$\n",
    "            \\begin{align}\n",
    "                H(u,v) =\n",
    "                    \\begin{dcases}\n",
    "                        1, & ha\\ \\rho(u,v) \\ge \\omega, \\\\\n",
    "                        0, & különben.\n",
    "                    \\end{dcases}\n",
    "            \\end{align}\n",
    "        $$\n",
    "    </p>\n",
    "    <p>&nbsp;</p>\n",
    "</div>"
   ]
  },
  {
   "cell_type": "markdown",
   "id": "c964ae2d-64f6-42c3-a0c3-39098440c481",
   "metadata": {
    "editable": false,
    "slideshow": {
     "slide_type": ""
    },
    "tags": []
   },
   "source": [
    "<div STYLE=\"width:65%;margin:auto;text-align:justify; align: center\">\n",
    "    <p STYLE=\"text-align:justify\">\n",
    "        A fent tárgyalt filterek használatának egy igen kellemetlen mellékhatása lehet az úgynevezett gyűrűzés effektus.\n",
    "    </p>\n",
    "    <center><img STYLE=\"width:30%; margin-left: 30px\" src=\"img/ringing.png\"></center>\n",
    "</div>"
   ]
  },
  {
   "cell_type": "markdown",
   "id": "e4585750-2302-4b3d-a2fd-fccadf1a562c",
   "metadata": {
    "editable": false,
    "slideshow": {
     "slide_type": ""
    },
    "tags": []
   },
   "source": [
    "<center><h4>--------</h4></center>\n",
    "<center><h4>Példakód</h4></center>\n",
    "<center><h4>--------</h4></center>"
   ]
  },
  {
   "cell_type": "code",
   "execution_count": null,
   "id": "25006d6a-db77-4226-b2a7-e956b627b804",
   "metadata": {
    "editable": true,
    "slideshow": {
     "slide_type": ""
    },
    "tags": []
   },
   "outputs": [],
   "source": [
    "import cv2\n",
    "import sys\n",
    "from util import utils\n",
    "import numpy as np\n",
    "\n",
    "img = None\n",
    "\n",
    "def calc_fourier():\n",
    "    fourier = np.fft.fft2(img)\n",
    "    fourier_shift = np.fft.fftshift(fourier)\n",
    "    return fourier, fourier_shift\n",
    "\n",
    "def calc_mask(r):\n",
    "    mask = np.zeros_like(img)\n",
    "    mask = cv2.circle(mask, (mask.shape[1] // 2, mask.shape[0] // 2), r, (255,255,255), -1)\n",
    "    mask = 255 - mask\n",
    "    cv2.imshow('Mask', mask)\n",
    "\n",
    "    return mask\n",
    "\n",
    "def ideal_high_pass(r):\n",
    "    global img\n",
    "    \n",
    "    mask = calc_mask(r)\n",
    "    fourier, fourier_shift = calc_fourier()\n",
    "    \n",
    "    fourier_shift_masked = np.multiply(fourier_shift, mask) / 255\n",
    "\n",
    "    img_back = np.abs(np.fft.ifft2(fourier_shift, axes=(0,1))).clip(0,255).astype(np.uint8)\n",
    "    img_masked = np.abs(np.fft.ifft2(fourier_shift_masked, axes=(0,1))).clip(0,255).astype(np.uint8)   \n",
    "    \n",
    "    cv2.imshow(\"IHPF\", img_masked)\n",
    "\n",
    "def ideal_high_pass_main(self):\n",
    "    global img\n",
    "    \n",
    "    filename = utils.browse_images(self)\n",
    "\n",
    "    img = cv2.imread(filename, cv2.IMREAD_GRAYSCALE)\n",
    "    if img is None:\n",
    "        print(\"Failed to load image.\")\n",
    "        return\n",
    "\n",
    "    magnitude = np.log(np.abs(calc_fourier()[1])) / 20\n",
    "    \n",
    "    cv2.namedWindow(\"IHPF\", cv2.WINDOW_NORMAL)\n",
    "    cv2.resizeWindow(\"IHPF\", img.shape[1], img.shape[0])\n",
    "    cv2.createTrackbar(\"Radius\", \"IHPF\", 0, img.shape[1], ideal_high_pass)\n",
    "    ideal_high_pass(0)\n",
    "\n",
    "    cv2.imshow('Original Image', img)\n",
    "    cv2.imshow('Fourier Transform', magnitude)\n",
    "    cv2.waitKey(0)\n",
    "    cv2.destroyAllWindows()\n",
    "\n",
    "if __name__ == \"__main__\":\n",
    "    display(utils.start(ideal_high_pass_main))\n"
   ]
  },
  {
   "cell_type": "markdown",
   "id": "3d5661ae-19ae-4eb5-a85c-08186661130e",
   "metadata": {
    "editable": false,
    "slideshow": {
     "slide_type": ""
    },
    "tags": []
   },
   "source": [
    "### <div id=\"Butterworth Szűrő\" STYLE=\"width:65%;margin:auto;\" align = \"center\"><br><center>Butterworth Szűrő</center></div> ###\n",
    "<p STYLE=\"text-align:center;color:gray\">Butterworth Filter</p>"
   ]
  },
  {
   "cell_type": "markdown",
   "id": "63ed0937-d44e-49fd-a4e3-7c41c59d67c3",
   "metadata": {
    "editable": false,
    "slideshow": {
     "slide_type": ""
    },
    "tags": []
   },
   "source": [
    "<div STYLE=\"width:65%;margin:auto;text-align:justify; align: center\">\n",
    "    <p STYLE=\"text-align:justify\">\n",
    "        A gyűrűzés effektus elkerülése végett használhatjuk az ebben a fejezetben tárgyalt Butterwort Aluláteresztő Szűrőt. $$H(u,v) = \\frac{1}{1 + \\left( \\frac{\\rho(u,v)}{\\omega} \\right)^{2n}}.$$\n",
    "    </p>\n",
    "    <p STYLE=\"text-align:justify\">\n",
    "        Az Ideális szűrő esetén minden olyan értéket \"eldobtunk\", ami a vágási frekvencián kívülre (vagy belülre) esett, így egy igen éles határvonal rajzolódott ki a szúrés után. A Butterworth szűrő ezzel ellentétben sokkal \"lágyabb\" határvonalat generál. A vágási frekvencia közelében lévő értékektől nem szabadulunk meg teljesen, csupán \"tompítjuk\" őket. Minél nagyobb $n$-et választunk, annál élesebb határvonalat kapunk.\n",
    "    </p><center><img STYLE=\"width:65%; margin-left: 30px\" src=\"img/butterworth.png\"></center>\n",
    "    <p STYLE=\"text-align:justify\">\n",
    "        <br>A fenti aluláteresztő szűrőt könnyedén átalakíthatjuk felüláteresztővé az alábbi apró módisítással: $$H(u,v) = \\frac{1}{1 + \\left( \\frac{\\omega}{\\rho(u,v)} \\right)^{2n}}.$$\n",
    "    </p>\n",
    "</div>"
   ]
  },
  {
   "cell_type": "markdown",
   "id": "87ab79a0-2a37-42dd-ab16-9f369fe73de0",
   "metadata": {
    "editable": false,
    "slideshow": {
     "slide_type": ""
    },
    "tags": []
   },
   "source": [
    "<center><h4>--------</h4></center>\n",
    "<center><h4>Példakód</h4></center>\n",
    "<center><h4>--------</h4></center>"
   ]
  },
  {
   "cell_type": "code",
   "execution_count": null,
   "id": "a2b9770a-f315-4732-aa84-1aabdf3a370c",
   "metadata": {
    "slideshow": {
     "slide_type": ""
    },
    "tags": []
   },
   "outputs": [],
   "source": [
    "import cv2\n",
    "import sys\n",
    "from util import utils\n",
    "import numpy as np\n",
    "\n",
    "radius = None\n",
    "img = None\n",
    "\n",
    "def on_change_trackbar(val):\n",
    "    global radius\n",
    "    butterworth(radius)\n",
    "\n",
    "def calc_fourier():\n",
    "    global img\n",
    "    fourier = np.fft.fft2(img)\n",
    "    fourier_shift = np.fft.fftshift(fourier)\n",
    "    return fourier, fourier_shift\n",
    "\n",
    "def calc_rho(mask_shape):\n",
    "    u, v = np.indices(mask_shape)\n",
    "    rho = np.sqrt((u - mask_shape[0] / 2) ** 2 + (v - mask_shape[1] / 2) ** 2)\n",
    "    return rho\n",
    "    \n",
    "def get_mask(val):\n",
    "    global img, radius\n",
    "    mask = np.zeros(img.shape, dtype=np.float32)\n",
    "    n = cv2.getTrackbarPos(\"N\", \"Butterworth\")\n",
    "    rho = calc_rho(mask.shape)\n",
    "    if(val == 0):\n",
    "        mask = 1 / (1 + (rho / radius)**(2 * n))\n",
    "    elif(val == 1):\n",
    "        mask = 1 / (1 + (radius / rho)**(2 * n))\n",
    "    \n",
    "    cv2.imshow('Mask', mask)\n",
    "    return mask\n",
    "\n",
    "def butterworth(r):\n",
    "    global img, radius\n",
    "    radius = r\n",
    "\n",
    "    mask = get_mask(cv2.getTrackbarPos('0: Low Pass 1: High Pass \\n', \"Butterworth\"))\n",
    "    fourier, fourier_shift = calc_fourier()\n",
    "    \n",
    "    fourier_shift_masked = fourier_shift * mask / 255\n",
    "    img_back = np.abs(np.fft.ifft2(np.fft.ifftshift(fourier_shift_masked)))  \n",
    "    \n",
    "    cv2.imshow(\"Butterworth\", img_back)\n",
    "    \n",
    "def butterworth_main(self):\n",
    "    global img\n",
    "    \n",
    "    filename = utils.browse_images(self)\n",
    "\n",
    "    img = cv2.imread(filename, cv2.IMREAD_GRAYSCALE)\n",
    "    if img is None:\n",
    "        print(\"Failed to load image.\")\n",
    "        return\n",
    "\n",
    "    cv2.namedWindow(\"Butterworth\", cv2.WINDOW_NORMAL)\n",
    "    cv2.resizeWindow(\"Butterworth\", img.shape[1], img.shape[0])\n",
    "    cv2.createTrackbar(\"Radius\", \"Butterworth\", 1, img.shape[1],  butterworth)\n",
    "    cv2.createTrackbar(\"N\", \"Butterworth\", 1, 5, on_change_trackbar)\n",
    "    cv2.createTrackbar(\"0: Low Pass 1: High Pass \\n\", \"Butterworth\", 0, 1, on_change_trackbar)\n",
    "    butterworth(1)\n",
    "\n",
    "    cv2.imshow('Original Image', img)\n",
    "    cv2.imshow('Fourier Transform', np.log(np.abs(calc_fourier()[1])) / 20)\n",
    "    cv2.waitKey(0)\n",
    "    cv2.destroyAllWindows()\n",
    "\n",
    "if __name__ == \"__main__\":\n",
    "    display(utils.start(butterworth_main))"
   ]
  },
  {
   "cell_type": "markdown",
   "id": "0d299156-d02d-4721-8bc8-c040c7660823",
   "metadata": {
    "editable": false,
    "slideshow": {
     "slide_type": ""
    },
    "tags": []
   },
   "source": [
    "### <div id=\"Gauss Szűrő\" STYLE=\"width:65%;margin:auto;\" align = \"center\"><br><center>Gauss Szűrő</center></div> ###\n",
    "<p STYLE=\"text-align:center;color:gray\">Gaussian Filter</p>"
   ]
  },
  {
   "cell_type": "markdown",
   "id": "829daf27-59c1-4967-a4d0-cdcc3f40582e",
   "metadata": {
    "editable": false,
    "slideshow": {
     "slide_type": ""
    },
    "tags": []
   },
   "source": [
    "<div STYLE=\"width:65%;margin:auto;text-align:justify; align: center\">\n",
    "    <p STYLE=\"text-align:justify\">\n",
    "        Gauss Aluláteresztő Szűrő: $$ H(u,v) = e^{\\frac{-\\rho^{2}(u,v)}{2\\omega^2}}.$$\n",
    "    </p><center><img STYLE=\"width:65%; margin-left: 30px\" src=\"img/gauss.png\"></center>\n",
    "    <p STYLE=\"text-align:justify\">\n",
    "        <br>Hasonlóan a Butterworth-höz a Gauss szűrő is tompítja a vágási frekvencia körüli határvonalat. Ellenben viszont az előzővel itt nincs szükség egy másik paraméter bevezetésére a határ élesítéséhez.\n",
    "    </p>\n",
    "    <p STYLE=\"text-align:justify\">\n",
    "        Gauss Felüláteresztő Szűrő: $$H(u,v) = 1 - e^{\\frac{-\\rho^{2}(u,v)}{2\\omega^2}}.$$\n",
    "    </p>\n",
    "</div>"
   ]
  },
  {
   "cell_type": "markdown",
   "id": "1fdabfc4-3d36-47ba-a52c-7003e3331661",
   "metadata": {
    "editable": false,
    "slideshow": {
     "slide_type": ""
    },
    "tags": []
   },
   "source": [
    "<center><h4>--------</h4></center>\n",
    "<center><h4>Példakód</h4></center>\n",
    "<center><h4>--------</h4></center>"
   ]
  },
  {
   "cell_type": "code",
   "execution_count": null,
   "id": "71bee6cc-aaf7-42c5-b157-67af06a4423a",
   "metadata": {
    "editable": true,
    "slideshow": {
     "slide_type": ""
    },
    "tags": []
   },
   "outputs": [],
   "source": [
    "import cv2\n",
    "import sys\n",
    "from util import utils\n",
    "import numpy as np\n",
    "\n",
    "radius = None\n",
    "img = None\n",
    "\n",
    "def on_change_trackbar(val):\n",
    "    global radius \n",
    "    gaussian(radius)\n",
    "\n",
    "def calc_fourier():\n",
    "    global img\n",
    "    fourier = np.fft.fft2(img)\n",
    "    fourier_shift = np.fft.fftshift(fourier)\n",
    "    return fourier, fourier_shift\n",
    "\n",
    "def calc_rho(mask_shape):\n",
    "    u, v = np.indices(mask_shape)\n",
    "    rho = np.sqrt((u - mask_shape[0] / 2) ** 2 + (v - mask_shape[1] / 2) ** 2)\n",
    "    return rho\n",
    "\n",
    "def get_mask(val):\n",
    "    global img, radius \n",
    "    mask = np.zeros(img.shape, dtype=np.float32)\n",
    "    rho = calc_rho(mask.shape)\n",
    "    \n",
    "    if(val == 0):\n",
    "        mask = np.exp((-rho ** 2) / (2 * (radius ** 2)))\n",
    "    elif(val == 1):\n",
    "        mask = 1 - np.exp((-rho ** 2) / (2 * (radius ** 2)))\n",
    "        \n",
    "    cv2.imshow('Mask', mask)    \n",
    "    return mask\n",
    "\n",
    "def gaussian(r):\n",
    "    global img, radius  \n",
    "    radius = r\n",
    "\n",
    "    mask = get_mask(cv2.getTrackbarPos('0: Low Pass 1: High Pass \\n', \"Gaussian\"))\n",
    "    fourier, fourier_shift = calc_fourier()\n",
    "    \n",
    "    fourier_shift_masked = fourier_shift * mask / 255\n",
    "    img_back = np.abs(np.fft.ifft2(np.fft.ifftshift(fourier_shift_masked)))  \n",
    "    \n",
    "    cv2.imshow(\"Gaussian\", img_back)\n",
    "    \n",
    "def gaussian_main(self):\n",
    "    global img\n",
    "    \n",
    "    filename = utils.browse_images(self)\n",
    "\n",
    "    img = cv2.imread(filename, cv2.IMREAD_GRAYSCALE)\n",
    "    if img is None:\n",
    "        print(\"Failed to load image.\")\n",
    "        return\n",
    "\n",
    "    cv2.namedWindow(\"Gaussian\", cv2.WINDOW_NORMAL)\n",
    "    cv2.resizeWindow(\"Gaussian\", img.shape[1], img.shape[0])\n",
    "    cv2.createTrackbar(\"Radius\", \"Gaussian\", 1, img.shape[1],  gaussian)\n",
    "    cv2.createTrackbar('0: Low Pass 1: High Pass \\n', \"Gaussian\", 0, 1, on_change_trackbar)\n",
    "    gaussian(1)\n",
    "\n",
    "    cv2.imshow('Original Image', img)\n",
    "    cv2.imshow('Fourier Transform', np.log(np.abs(calc_fourier()[1])) / 20)\n",
    "    cv2.waitKey(0)\n",
    "    cv2.destroyAllWindows()\n",
    "\n",
    "if __name__ == \"__main__\":\n",
    "    display(utils.start(gaussian_main))"
   ]
  },
  {
   "cell_type": "markdown",
   "id": "740436d4-67be-4e1c-9ebc-bf40c42b1f0c",
   "metadata": {
    "editable": false,
    "slideshow": {
     "slide_type": ""
    },
    "tags": []
   },
   "source": [
    "### <div id=\"Mire használhatunk aluláteresztő szűrőt\" STYLE=\"width:65%;margin:auto;\" align = \"center\"><br><center>Mire használhatunk aluláteresztő szűrőt?</center></div> ###"
   ]
  },
  {
   "cell_type": "markdown",
   "id": "9faf0920-8c05-43b0-9add-7cc747162f01",
   "metadata": {
    "editable": false,
    "slideshow": {
     "slide_type": ""
    },
    "tags": []
   },
   "source": [
    "<div STYLE=\"width:65%;margin:auto;text-align:justify; align: center\">\n",
    "    <p STYLE=\"text-align:justify\">\n",
    "        Alapvetően három területen szokás felhasználni a fent tárgyalt aluláteresztő szűrőket.\n",
    "    </p>\n",
    "    <p STYLE=\"text-align:justify\">\n",
    "        Az egyik ilyen terület a gépi látás segítése, azon belül is a betűk felismerése. Számunkra a töredezett karakterek felismerés, például egy gyengébb minőségű nyomtatvány esetén, nem jelent nagy problémát, viszont a számítógépnek igen. A problémára megoldást jelenthet, ha a betűket egy kicsit \"elmaszatoljuk\", ahogy azt az alábbi ábra is szemlélteti. \n",
    "    </p><center><img STYLE=\"width:65%; margin-left: 30px\" src=\"img/filter_text.png\"></center>\n",
    "    <p STYLE=\"text-align:justify\"> A kiadó- és nyomtatás ipar is előszeretettel használja ezeket a szűrőket \"digitális kozmetikához\". A használatukkal kicsit elmoshatóak a képek, így azok \"lágyabbaknak\" hatnak, és bizonyos részletek is eltűnnek, eltompulnak.\n",
    "    </p><center><img STYLE=\"width:65%; margin-left: 30px\" src=\"img/filter_cosmetic.png\"></center>\n",
    "    <p STYLE=\"text-align:justify\">\n",
    "        Végül, de nem utolsó sorban használhatjuk a szűrőket zaj eltávolításához is. A lenti képen egy \"Nagyon Nagy Felbontású Radiométer\" (VHRR) által készített képet láthatunk Floridáról és a Mexikói-öbölről. Az eredeti képet jobban megvizsgálva észrevehetjük a vízszintes letapogatási vonalakat (<i>scan lines</i>). Ennek a zajnak az eltüntetésére egy nem túl elegáns, de működő megoldást biztosíthatnak a szűrők.\n",
    "    </p><center><img STYLE=\"width:65%; margin-left: 30px\" src=\"img/filter_scan.png\"></center>\n",
    "</div>"
   ]
  },
  {
   "cell_type": "markdown",
   "id": "22db2788-e6f5-4656-ac74-a9fd92c25a16",
   "metadata": {
    "editable": false,
    "slideshow": {
     "slide_type": ""
    },
    "tags": []
   },
   "source": [
    "### <div id=\"Mire használhatunk felüláteresztő szűrőt\" STYLE=\"width:65%;margin:auto;\" align = \"center\"><br><center>Mire használhatunk felüláteresztő szűrőt?</center></div> ###"
   ]
  },
  {
   "cell_type": "markdown",
   "id": "49dbe0a2-5ab3-48c3-8dc6-b30d005315d9",
   "metadata": {
    "editable": false,
    "slideshow": {
     "slide_type": ""
    },
    "tags": []
   },
   "source": [
    "<div STYLE=\"width:65%;margin:auto;text-align:justify; align: center\">\n",
    "    <p STYLE=\"text-align:justify\">\n",
    "        A felüláteresztő szűrők segítségével, éldetekálást hajthatunk végre. A lenti 3 kép közül a baloldali az eredeti, ami egy kicsit elmaszatolt ujjlenyomatot ábrázol. Középen az eredeti képre alkalmazott felüláteresztő szűrő eredményét látjuk, a jobboldalin pedig egy egyszerű küszöbölés kimenetét vizsgálhatjuk meg közelebbről. \n",
    "    </p><center><img STYLE=\"width:65%; margin-left: 30px\" src=\"img/high_pass.png\"></center>\n",
    "</div>"
   ]
  },
  {
   "cell_type": "markdown",
   "id": "34d354c2-d6d0-4605-8460-2ef708f64f66",
   "metadata": {
    "editable": false,
    "slideshow": {
     "slide_type": ""
    },
    "tags": []
   },
   "source": [
    "### <div id=\"Sávszűrők\" STYLE=\"width:65%;margin:auto;\" align = \"center\"><br><center>Sávszűrők</center></div> ###\n",
    "<p STYLE=\"text-align:center;color:gray\">Band-Pass Filters</p>"
   ]
  },
  {
   "cell_type": "markdown",
   "id": "e3f0044b-f29d-4162-b3e8-c4fffede6b3a",
   "metadata": {
    "editable": false,
    "slideshow": {
     "slide_type": ""
    },
    "tags": []
   },
   "source": [
    "<div STYLE=\"width:65%;margin:auto;text-align:justify; align: center\">\n",
    "    <p STYLE=\"text-align:justify\">\n",
    "        Ha a felül- és aluláteresztő szűrőket kombináljuk egymással, sávszűrőket kapunk. Ebből adódóan kettő vágási frekvenciánk lesz $\\omega_1$ és $\\omega_2$, ahol $\\omega_1$ $\\omega_2$. A sávszűrés csupán annyit tesz, hogy először veszünk egy felüláteresztő szűrőt $\\omega_1$−el, majd az aluláteresztő párját $\\omega_2$,-vel\n",
    "    </p>\n",
    "</div>"
   ]
  },
  {
   "cell_type": "markdown",
   "id": "7cb2f64d-cca3-4a71-9991-6b3952e2d9f0",
   "metadata": {
    "editable": false,
    "slideshow": {
     "slide_type": ""
    },
    "tags": []
   },
   "source": [
    "<center><h4>--------</h4></center>\n",
    "<center><h4>Önellenőrző teszt</h4></center>\n",
    "<center><h4>--------</h4></center>"
   ]
  },
  {
   "cell_type": "code",
   "execution_count": null,
   "id": "afa73917-5e35-4437-bf56-b39f79add3be",
   "metadata": {
    "editable": false,
    "slideshow": {
     "slide_type": ""
    },
    "tags": []
   },
   "outputs": [],
   "source": [
    "### Ha nem látod a tesztet futtasd le ezt a kódot!\n",
    "from jupyterquiz import display_quiz\n",
    "import json\n",
    "\n",
    "with open('questions/szures_fourier.json', encoding='utf-8') as q:\n",
    "    quiz = json.load(q)\n",
    "    display_quiz(quiz)"
   ]
  },
  {
   "cell_type": "markdown",
   "id": "2f3487df-87e0-4117-8a44-857f9ad65ecd",
   "metadata": {
    "editable": false,
    "slideshow": {
     "slide_type": ""
    },
    "tags": []
   },
   "source": [
    "## <div id=\"Élalapú szegmentáció\" STYLE=\"width:65%;margin:auto;\" align = \"center\"><br><center>Élalapú szegmentáció</center></div> ##"
   ]
  },
  {
   "cell_type": "markdown",
   "id": "73fea8bd-ba4b-45f1-8e38-b269f62de77f",
   "metadata": {
    "editable": false,
    "slideshow": {
     "slide_type": ""
    },
    "tags": []
   },
   "source": [
    "<div STYLE=\"width:65%;margin:auto;text-align:justify; align: center\">\n",
    "    <p STYLE=\"text-align:justify\">\n",
    "        Az élalapú szegmentálás a képen megjelenő régiók éleinek megtalálásán alapszik. Ehhez használhatunk belső- vagy külső határlekövető algoritmusokat, vagy éldetektorokat.\n",
    "    </p>\n",
    "</div>"
   ]
  },
  {
   "cell_type": "markdown",
   "id": "9fe299f1-6172-43e4-a4b9-0304ac114b4f",
   "metadata": {
    "editable": false,
    "slideshow": {
     "slide_type": ""
    },
    "tags": []
   },
   "source": [
    "### <div id=\"Belső határlekövetés\" STYLE=\"width:65%;margin:auto;\" align = \"center\"><br><center>Belső határlekövetés</center></div> ###\n",
    "<p STYLE=\"text-align:center;color:gray\">Inner Boundary Tracing</p>"
   ]
  },
  {
   "cell_type": "markdown",
   "id": "da0e7adf-043d-467a-b253-6ba03660b839",
   "metadata": {
    "editable": false,
    "slideshow": {
     "slide_type": ""
    },
    "tags": []
   },
   "source": [
    "<div STYLE=\"width:65%;margin:auto;text-align:justify; align: center\">\n",
    "    <p STYLE=\"text-align:justify\">\n",
    "        A belső határlekövetés algoritmussal egyes régiók belső határait határozhatjuk meg. Feltételezzük, hogy a bemeneti kép vagy bináris, vagy a régiók címkézve vannak.\n",
    "    </p>\n",
    "    <p STYLE=\"text-align:justify\">\n",
    "        Az algoritmus:\n",
    "        <ul>\n",
    "            <li>\n",
    "                Induljunk el a kép balfelső sarkában lévő pixeltől és lépkedjünk tovább pixelről pixelre addig, amíg nem találunk egy régiót. A talált pixel lesz a régió kezdő pontja, $P_0$.\n",
    "            </li>\n",
    "            <li>\n",
    "                Hozzunk létre egy <i>dir</i> változót, amely annak a lépésnek az irányát tartalmazza, amely irányból a jelenlegi határelemhez érkeztünk. A $P_0$ esetén a <i>dir</i> változó értéke mindig $7$. A különböző irányokhoz tartozó számértékek 8-szomszéd reláció esetén a lenti képen láthatóak.\n",
    "                    <center><img STYLE=\"width:25%; padding-top: 25px; padding-bottom: 25px;margin-left: 25px\" src=\"img/8-con.png\"></center>\n",
    "            </li>\n",
    "            <li>\n",
    "                Az óramutató járásával ellenkező irányban vizsgáljuk meg a határelem $3 \\times 3$-as szomszédságát, kezdve a $(dir+7) \\  mod \\  8 \\ $ irányba mutató pixellel, ha <i>dir</i> páros, ha páratlan, pedig $(dir+6) \\  mod \\  8$ irányba mutató pixellel. Ez első, azonos régióhoz tartozó pixel, amit a keresés során találunk lesz a következő határelem $P_n$. Elmentjük az irányt a <i>dir</i> változóba és folytatjuk az algoritmus a talált pixellel kivéve, ...\n",
    "            </li>\n",
    "            <li>\n",
    "                ... ha a jelenlegi $P_n$ határelem egyenlő a $P_1$ határelemmel, illetve az $P_{n-1}$ egyenlő $P_0$-val. Ebben az esetben megállunk.\n",
    "            </li>\n",
    "        </ul>\n",
    "    </p>\n",
    "</div>"
   ]
  },
  {
   "cell_type": "markdown",
   "id": "12641e57-cb3d-40f5-bd9e-23dcf60e5dfd",
   "metadata": {
    "editable": false,
    "slideshow": {
     "slide_type": ""
    },
    "tags": []
   },
   "source": [
    "<center><h4>--------</h4></center>\n",
    "<center><h4>Példakód</h4></center>\n",
    "<center><h4>--------</h4></center>"
   ]
  },
  {
   "cell_type": "code",
   "execution_count": null,
   "id": "eaff16a0-6e00-4302-9b19-a004b290d2ee",
   "metadata": {
    "editable": true,
    "slideshow": {
     "slide_type": ""
    },
    "tags": []
   },
   "outputs": [],
   "source": [
    "import cv2\n",
    "import sys\n",
    "from util import utils\n",
    "import numpy as np\n",
    "\n",
    "img = None\n",
    "\n",
    "def thresholding(val):\n",
    "    global img\n",
    "    \n",
    "    ret, thresh = cv2.threshold(img, val, 255, cv2.THRESH_BINARY)\n",
    "    #ret, thresh = cv2.threshold(img, val, 255, cv2.THRESH_OTSU) #Otsu módszer\n",
    "    cv2.imshow('IBT', thresh)\n",
    "    inner_boundary_tracing(thresh)\n",
    "\n",
    "def inner_boundary_tracing(binary):\n",
    "    global img\n",
    "    \n",
    "    contours, hierarchy  = cv2.findContours(binary, cv2.RETR_CCOMP, cv2.CHAIN_APPROX_SIMPLE)\n",
    "    inner_boundaries = np.zeros_like(img)\n",
    "\n",
    "    for i, contour in enumerate(contours):\n",
    "        if hierarchy[0][i][3] >= 0:\n",
    "            cv2.drawContours(inner_boundaries, [contour], -1, 255, 1)\n",
    "\n",
    "    cv2.imshow('Binary', binary)\n",
    "    cv2.imshow('IBT', inner_boundaries)\n",
    "    #cv2.imwrite(\"IBT.png\", inner_boundaries)\n",
    "\n",
    "def inner_boundary_tracing_main(self):\n",
    "    global img\n",
    "    \n",
    "    filename = utils.browse_images(self)\n",
    "\n",
    "    img = cv2.imread(filename, cv2.IMREAD_GRAYSCALE)\n",
    "    if img is None:\n",
    "        print(\"Failed to load image.\")\n",
    "        return 1\n",
    "\n",
    "    cv2.namedWindow('IBT', cv2.WINDOW_NORMAL)\n",
    "    cv2.resizeWindow('IBT', img.shape[1], img.shape[0])\n",
    "    cv2.createTrackbar(\"Threshold\", 'IBT', 127, 255, thresholding)\n",
    "    thresholding(127)\n",
    "    \n",
    "    cv2.imshow('Original', img)\n",
    "    \n",
    "    cv2.waitKey(0)\n",
    "    cv2.destroyAllWindows()\n",
    "\n",
    "if __name__ == \"__main__\":\n",
    "    display(utils.start(inner_boundary_tracing_main))"
   ]
  },
  {
   "cell_type": "markdown",
   "id": "c472f560-8895-4076-822b-48ff74c8db42",
   "metadata": {
    "editable": false,
    "slideshow": {
     "slide_type": ""
    },
    "tags": []
   },
   "source": [
    "<div STYLE=\"width:65%;margin:auto;text-align:justify; align: center\">\n",
    "    <p STYLE=\"text-align:justify\">\n",
    "        <br><br>\n",
    "    </p>\n",
    "    <table STYLE=\"border-left: 1px solid #cdd0d4;border-right: 1px solid #cdd0d4;\">\n",
    "        <tbody >\n",
    "            <tr>\n",
    "                <td>\n",
    "    \n",
    "```python\n",
    "cv2.findContours(binary, cv2.RETR_CCOMP, cv2.CHAIN_APPROX_SIMPLE)\n",
    "```\n",
    "    \n",
    "</td>\n",
    "        <td STYLE=\"min-width: 200px;max-width: 475px;\">\n",
    "           Visszatér a képen található objektumok kontúrjával és hierarchiájával.\n",
    "        </td>\n",
    "            </tr>\n",
    "        </tbody>\n",
    "    </table>\n",
    "</div>"
   ]
  },
  {
   "cell_type": "markdown",
   "id": "0c3d5858-e2f5-47e4-8bfc-0d94f3374a27",
   "metadata": {
    "editable": false,
    "slideshow": {
     "slide_type": ""
    },
    "tags": []
   },
   "source": [
    "### <div id=\"Külső határlekövetés\" STYLE=\"width:65%;margin:auto;\" align = \"center\"><br><center>Külső határlekövetés</center></div> ###\n",
    "<p STYLE=\"text-align:center;color:gray\">Outer Boundary Tracing</p>"
   ]
  },
  {
   "cell_type": "markdown",
   "id": "fca662da-4e48-407b-9f2b-2cdf34a5cdda",
   "metadata": {
    "editable": false,
    "slideshow": {
     "slide_type": ""
    },
    "tags": []
   },
   "source": [
    "<div STYLE=\"width:65%;margin:auto;text-align:justify; align: center\">\n",
    "    <p STYLE=\"text-align:justify\">\n",
    "        A külsőhatár lekövetése is hasonlóan történik, mint a belsőé, azzal a különbséggel, hogy itt olyan pixeleket keresünk, amelyek nem részei az objektumnak, csupán szomszédosak vele. \n",
    "        Az algoritmus annyiban változik, hogy 4-szomszéd relációt használunk a belsőhatár lekövetéséhez, illetve megjelöljük azokat a pixeleket, amik nem tartoznak a lekövetett objektumhoz. Egy ilyen szomszédos pixelt többször is megjelölhetünk.\n",
    "    </p><center><img STYLE=\"width:25%; padding-top: 25px; padding-bottom: 25px;margin-left: 25px\" src=\"img/4-con.png\"></center>\n",
    "    <p STYLE=\"text-align:justify\">\n",
    "        A megjelölt külső határpixelek a lenti módon vizualizálhatóak. A pöttyök azt jelölik, hogy egy pixelt hányszor azonosítottunk, mint külső határelemet.\n",
    "    </p><center><img STYLE=\"width:50%; padding-top: 25px; padding-bottom: 25px;margin-left: 25px\" src=\"img/outer_bound.png\"></center>\n",
    "</div>"
   ]
  },
  {
   "cell_type": "code",
   "execution_count": null,
   "id": "e229e4a7-bc31-427f-bc16-20abcf362f23",
   "metadata": {
    "editable": true,
    "slideshow": {
     "slide_type": ""
    },
    "tags": []
   },
   "outputs": [],
   "source": [
    "import cv2\n",
    "import sys\n",
    "from util import utils\n",
    "import numpy as np\n",
    "\n",
    "img = None\n",
    "\n",
    "def thresholding(val):\n",
    "    global img\n",
    "    \n",
    "    ret, thresh = cv2.threshold(img, val, 255, cv2.THRESH_BINARY)\n",
    "    #ret, thresh = cv2.threshold(img, val, 255, cv2.THRESH_OTSU) #Otsu módszer\n",
    "    cv2.imshow('OBT', thresh)\n",
    "    outer_boundary_tracing(thresh)\n",
    "\n",
    "def outer_boundary_tracing(binary):\n",
    "    global img\n",
    "    \n",
    "    contours, hierarchy  = cv2.findContours(binary, cv2.RETR_CCOMP, cv2.CHAIN_APPROX_SIMPLE)\n",
    "    outer_boundaries = np.zeros_like(img)\n",
    "\n",
    "    for i, contour in enumerate(contours):\n",
    "        if hierarchy[0][i][3] == -1:\n",
    "            cv2.drawContours(outer_boundaries, [contour], -1, 255, 1)\n",
    "\n",
    "    cv2.imshow('Binary', binary)\n",
    "    cv2.imshow('OBT', outer_boundaries)\n",
    "\n",
    "def outer_boundary_tracing_main(self):\n",
    "    global img\n",
    "    \n",
    "    filename = utils.browse_images(self)\n",
    "\n",
    "    img = cv2.imread(filename, cv2.IMREAD_GRAYSCALE)\n",
    "    if img is None:\n",
    "        print(\"Failed to load image.\")\n",
    "        return 1\n",
    "\n",
    "    cv2.namedWindow('OBT', cv2.WINDOW_NORMAL)\n",
    "    cv2.resizeWindow('OBT', img.shape[1], img.shape[0])\n",
    "    cv2.createTrackbar(\"Threshold\", 'OBT', 127, 255, thresholding)\n",
    "    thresholding(127)\n",
    "    \n",
    "    cv2.imshow('Original', img)\n",
    "    cv2.waitKey(0)\n",
    "    cv2.destroyAllWindows()\n",
    "\n",
    "if __name__ == \"__main__\":\n",
    "    display(utils.start(outer_boundary_tracing_main))"
   ]
  },
  {
   "cell_type": "markdown",
   "id": "b124e369-d7ba-4d34-94ec-a9307594d1b0",
   "metadata": {
    "editable": false,
    "slideshow": {
     "slide_type": ""
    },
    "tags": []
   },
   "source": [
    "<center><h4>--------</h4></center>\n",
    "<center><h4>Önellenőrző teszt</h4></center>\n",
    "<center><h4>--------</h4></center>"
   ]
  },
  {
   "cell_type": "code",
   "execution_count": null,
   "id": "0ba01617-d458-45d2-a555-b7c403b24b74",
   "metadata": {
    "editable": false,
    "slideshow": {
     "slide_type": ""
    },
    "tags": []
   },
   "outputs": [],
   "source": [
    "### Ha nem látod a tesztet futtasd le ezt a kódot!\n",
    "from jupyterquiz import display_quiz\n",
    "import json\n",
    "\n",
    "with open('questions/hat_kov.json', encoding='utf-8') as q:\n",
    "    quiz = json.load(q)\n",
    "    display_quiz(quiz)"
   ]
  },
  {
   "cell_type": "markdown",
   "id": "36c78839-2fad-4a93-9476-add07c4e87f1",
   "metadata": {
    "editable": false,
    "slideshow": {
     "slide_type": ""
    },
    "tags": []
   },
   "source": [
    "## <div id=\"Éldetektorok\" STYLE=\"width:65%;margin:auto;\" align = \"center\"><br><center>Éldetektorok</center></div> ##\n",
    "<p STYLE=\"text-align:center;color:gray\">Edge detectors</p>"
   ]
  },
  {
   "cell_type": "markdown",
   "id": "4557ab14-773f-488e-b51d-a886294963e4",
   "metadata": {
    "editable": false,
    "slideshow": {
     "slide_type": ""
    },
    "tags": []
   },
   "source": [
    "<div STYLE=\"width:65%;margin:auto;text-align:justify; align: center\">\n",
    "    <p STYLE=\"text-align:justify\">\n",
    "        Az éldetektorok az intenzitás értékek változását detektálják és  élként detektálnak minden olyan pixelt, ahol a intenzitás értéke nagyot változik a szomszédokhoz képest. Hét éldetektáló operátort fogunk megvizsgálni: Roberts, Prewitt, Sobel, Robinson, Kirsch, Laplace és LoG. De előbb a gradiensről.\n",
    "    </p>\n",
    "</div>"
   ]
  },
  {
   "cell_type": "markdown",
   "id": "5c35c69b-94f0-439b-8bcb-e212c804487c",
   "metadata": {
    "editable": false,
    "slideshow": {
     "slide_type": ""
    },
    "tags": []
   },
   "source": [
    "<div STYLE=\"width:65%;margin:auto;text-align:justify; align: center\">\n",
    "    <p STYLE=\"text-align:justify\">\n",
    "        Egy kép gradiensét a kép $(x,y)$ koordinátáján a következő vektor adja meg: \n",
    "        $$\n",
    "        \\begin{align}\n",
    "            \\nabla f(x,y) &\\equiv grad[f(x,y)] =\n",
    "                \\begin{bmatrix}\n",
    "                    g_{x}(x,y)\\\\\n",
    "                    g_{y}(x,y)\n",
    "                \\end{bmatrix} = \n",
    "                \\begin{bmatrix}\n",
    "                    \\frac{\\partial f(x,y)}{\\partial x} \\\\\n",
    "                    \\frac{\\partial f(x,y)}{\\partial y}\n",
    "                 \\end{bmatrix}\n",
    "        \\end{align}\n",
    "        $$\n",
    "        Ez a vektor az adott pontban lévő legnagyobb változás irányát adja meg. Ha a gradiens vektort $−90^\\circ$-al elforgatjuk, megkapjuk az él irányát. A vektor hossza pedig megadja nekünk a változás mértékét az előbb kiszámolt gradiens irányában: $$M(x,y) = ||\\nabla f(x,y)|| = \\sqrt{g^2_x(x,y) + g^2_y(x,y)}.$$\n",
    "        Az $M(x,y)$ a bemeneti kép méreteivel megegyező kép lesz, amire <i>gradiens kép</i>ként hivatkozunk.<br>Kiszámolni a minden egyes pixelre a gradienseket és a vektor hosszakat számításigényes lehet ezért inkább approximáljuk (azaz közelítjük) ezeket az értékeket.\n",
    "    </p><br>\n",
    "</div>"
   ]
  },
  {
   "cell_type": "markdown",
   "id": "596a8525-a5c0-453d-9428-3cf9271e87cf",
   "metadata": {
    "editable": false,
    "slideshow": {
     "slide_type": ""
    },
    "tags": []
   },
   "source": [
    "<div STYLE=\"width:65%;margin:auto;text-align:justify; align: center\">\n",
    "    <p STYLE=\"text-align:justify\">\n",
    "        <b><i>Roberts operátor:<i></b>\n",
    "    </p>\n",
    "    <div STYLE=\"margin-left: 45%; margin-right: auto;\">\n",
    "        <table STYLE=\"text-align:center; display: inline-block; float: center;\">\n",
    "            <tr>\n",
    "                <td STYLE=\"padding: 15px;\" colspan=\"2\"><center>$h_1$</center></td>\n",
    "            </tr>\n",
    "            <tr>\n",
    "                <td STYLE=\"padding: 15px;\">$−1$</td>\n",
    "                <td STYLE=\"padding: 15px;\">$ 0$</td>\n",
    "            </tr>\n",
    "            <tr>\n",
    "                <td STYLE=\"padding: 15px;\">$ 0$</td>\n",
    "                <td STYLE=\"padding: 15px;\">$ 1$</td>\n",
    "            </tr>\n",
    "        </table>\n",
    "        <table STYLE=\"text-align:center; display: inline-block; float:center;\">\n",
    "            <tr>\n",
    "                <td STYLE=\"padding: 15px;\" colspan=\"2\"><center>$h_2$</center></td>\n",
    "            </tr>\n",
    "            <tr>\n",
    "                <td STYLE=\"padding: 15px;\">$ 0$</td>\n",
    "                <td STYLE=\"padding: 15px;\">$-1$</td>\n",
    "            </tr>\n",
    "            <tr>\n",
    "                <td STYLE=\"padding: 15px;\">$ 1$</td>\n",
    "                <td STYLE=\"padding: 15px;\">$ 0$</td>\n",
    "            </tr>\n",
    "        </table>\n",
    "    </div>\n",
    "    <p STYLE=\"text-align:justify\"> Az egyik legrégebbi operátor 1965-ből maradt ránk. Ennek a kernelnek a célja a átlós élek megtalálása. A gradiens képet a fent leírt két kernel és a bemeneti kép konvolúciójával kapjuk meg, az élképet pedig a gradiensek hosszának kiszámolásával.\n",
    "        <br>\n",
    "        Ez lesz az egyetlen olyan kernelünk, amely $2 \\times 2$ -es mátrixot használ. Ennek oka, hogy bár ezek a mátrixok egyszerűek, nem használhatóak olyan hatékonyan, mint azok, amelyek középpontosan szimmetrikusak. Ebből adódóan a legkisebb mátrix, amit használni érdemes $3 \\times 3$-as.\n",
    "    </p><br>\n",
    "</div>"
   ]
  },
  {
   "cell_type": "markdown",
   "id": "9711563c-9f4b-4b05-ba9d-117c96fe39ae",
   "metadata": {
    "editable": false,
    "slideshow": {
     "slide_type": ""
    },
    "tags": []
   },
   "source": [
    "<center><h4>--------</h4></center>\n",
    "<center><h4>Példakód</h4></center>\n",
    "<center><h4>--------</h4></center>"
   ]
  },
  {
   "cell_type": "code",
   "execution_count": null,
   "id": "ba25ad56-41f3-4337-9f8e-37985c82af66",
   "metadata": {
    "editable": true,
    "slideshow": {
     "slide_type": ""
    },
    "tags": []
   },
   "outputs": [],
   "source": [
    "import cv2\n",
    "import sys\n",
    "from util import utils\n",
    "import numpy as np\n",
    "\n",
    "roberts_cross_h_1 = np.array( [[-1, 0 ], \n",
    "                               [0,  1]], dtype=np.float32) \n",
    "  \n",
    "roberts_cross_h_2 = np.array( [[ 0, -1 ], \n",
    "                               [ 1,  0]], dtype=np.float32) \n",
    "\n",
    "def roberts_cross_main(self):\n",
    "    global roberts_cross_h_1, roberts_cross_h_2\n",
    "    \n",
    "    filename = utils.browse_images(self)\n",
    "\n",
    "    img = cv2.imread(filename, cv2.IMREAD_GRAYSCALE)\n",
    "    if img is None:\n",
    "        print(\"Failed to load image.\")\n",
    "        return 1\n",
    "\n",
    "    conv_h_1 = cv2.filter2D(img, -1, roberts_cross_h_1).astype(np.float32)\n",
    "    conv_h_2 = cv2.filter2D(img, -1, roberts_cross_h_2).astype(np.float32)\n",
    "\n",
    "    edge_image = np.sqrt(np.power(conv_h_1, 2) + np.power(conv_h_2, 2)).astype(np.uint8)\n",
    "    \n",
    "    cv2.imshow('Original', img)\n",
    "    cv2.imshow('Edge Image',edge_image)\n",
    "    cv2.waitKey(0)\n",
    "    cv2.destroyAllWindows()\n",
    "\n",
    "if __name__ == \"__main__\":\n",
    "    display(utils.start(roberts_cross_main))"
   ]
  },
  {
   "cell_type": "markdown",
   "id": "4be12c81-3bda-4ce1-8c05-33e01b80f11b",
   "metadata": {
    "editable": false,
    "slideshow": {
     "slide_type": ""
    },
    "tags": []
   },
   "source": [
    "<div STYLE=\"width:65%;margin:auto;text-align:justify; align: center\">\n",
    "    <p STYLE=\"text-align:justify\">\n",
    "        Az ebben a fejezetben látható kódok nagyrészt ugyan azt csinálják, lényegében csak az operátorok változnak. Ebből kifolyólag az itt leírt kódmagyarázat érvényes lesz a többi példára is.\n",
    "        <br><br>\n",
    "    </p>\n",
    "    <table STYLE=\"border-left: 1px solid #cdd0d4;border-right: 1px solid #cdd0d4;\">\n",
    "        <tbody >\n",
    "            <tr>\n",
    "                <td>\n",
    "    \n",
    "```python\n",
    "cv2.filter2D(img, -1, roberts_cross_h_1).astype(np.float32)\n",
    "```\n",
    "    \n",
    "</td>\n",
    "        <td STYLE=\"min-width: 200px;max-width: 475px;\">\n",
    "            Ezzel a függvénnyel 2D-s konvolúciót hajthatunk végre a képen. Első paramétere a kép, második a kimeneti kép mélysége (a $−1$ érték azt jelenti, hogy a kimenet mélysége megegyezik a bemenetével), a harmadik pedig a kernel. A float értékké való átalakítás a következő művelet elvégzése miatt szükséges.\n",
    "        </td>\n",
    "            </tr>\n",
    "        <tr>\n",
    "                <td>\n",
    "    \n",
    "```python\n",
    "np.sqrt(np.power(edge_image_h_1, 2) + np.power(edge_image_h_2, 2)).astype(np.uint8)\n",
    "```\n",
    "    \n",
    "</td>\n",
    "        <td STYLE=\"min-width: 200px;max-width: 475px;\">\n",
    "            Itt történik az approximált gradiensek hosszának kiszámolása. A hosszak meghatározása után, visszaalakítjuk az értékeket floatról unsigned intre, hogy megjeleníthessük az élképet.\n",
    "        </td>\n",
    "            </tr>\n",
    "        </tbody>\n",
    "    </table>\n",
    "</div>"
   ]
  },
  {
   "cell_type": "markdown",
   "id": "ce3336bf-796f-4385-b1a8-abf4c3752005",
   "metadata": {
    "editable": false,
    "slideshow": {
     "slide_type": ""
    },
    "tags": []
   },
   "source": [
    "<div STYLE=\"width:65%;margin:auto;text-align:justify; align: center\">\n",
    "    <p STYLE=\"text-align:justify\">\n",
    "        <b><i>Prewitt</i> Operátor:</b> \n",
    "    </p>\n",
    "    <div STYLE=\"margin-left: 40%; margin-right: auto;\">\n",
    "        <table STYLE=\"text-align:center; display: inline-block; float: center;\">\n",
    "            <tr>\n",
    "                <td STYLE=\"padding: 15px;\" colspan=\"3\"><center>$h_1$</center></td>\n",
    "            </tr>\n",
    "            <tr>\n",
    "                <td STYLE=\"padding: 15px;\">$−1$</td>\n",
    "                <td STYLE=\"padding: 15px;\">$0$</td>\n",
    "                <td STYLE=\"padding: 15px;\">$1$</td>\n",
    "            </tr>\n",
    "            <tr>\n",
    "                <td STYLE=\"padding: 15px;\">$−1$</td>\n",
    "                <td STYLE=\"padding: 15px;\">$0$</td>\n",
    "                <td STYLE=\"padding: 15px;\">$1$</td>\n",
    "            </tr>\n",
    "            <tr>\n",
    "                <td STYLE=\"padding: 15px;\">$-1$</td>\n",
    "                <td STYLE=\"padding: 15px;\">$0$</td>\n",
    "                <td STYLE=\"padding: 15px;\">$1$</td>\n",
    "            </tr>\n",
    "        </table>\n",
    "        <table STYLE=\"text-align:center; display: inline-block; float:center;\">\n",
    "            <tr>\n",
    "                <td STYLE=\"padding: 15px;\" colspan=\"3\"><center>$h_2$</center></td>\n",
    "            </tr>\n",
    "            <tr>\n",
    "                <td STYLE=\"padding: 15px;\">$-1$</td>\n",
    "                <td STYLE=\"padding: 15px;\">$-1$</td>\n",
    "                <td STYLE=\"padding: 15px;\">$-1$</td>\n",
    "            </tr>\n",
    "            <tr>\n",
    "                <td STYLE=\"padding: 15px;\">$0$</td>\n",
    "                <td STYLE=\"padding: 15px;\">$0$</td>\n",
    "                <td STYLE=\"padding: 15px;\">$0$</td>\n",
    "            </tr>\n",
    "            <tr>\n",
    "                <td STYLE=\"padding: 15px;\">$1$</td>\n",
    "                <td STYLE=\"padding: 15px;\">$1$</td>\n",
    "                <td STYLE=\"padding: 15px;\">$1$</td>\n",
    "            </tr>\n",
    "        </table>\n",
    "    </div>\n",
    "    <p STYLE=\"text-align:justify\">\n",
    "        A fenti kernelt használva képesek vagyunk detektálni a vízszintes és függőleges éleket (a módszer ugyanaz, mint a Roberts operátornál csak a kernel más). \n",
    "    </p>\n",
    "</div>"
   ]
  },
  {
   "cell_type": "markdown",
   "id": "7ccf161a-9e1c-4c3f-9e04-c1662a8c836a",
   "metadata": {
    "editable": false,
    "slideshow": {
     "slide_type": ""
    },
    "tags": []
   },
   "source": [
    "<center><h4>--------</h4></center>\n",
    "<center><h4>Példakód</h4></center>\n",
    "<center><h4>--------</h4></center>"
   ]
  },
  {
   "cell_type": "code",
   "execution_count": null,
   "id": "a059b112-e4e6-4fea-af80-ac8159ad66b0",
   "metadata": {
    "slideshow": {
     "slide_type": ""
    },
    "tags": []
   },
   "outputs": [],
   "source": [
    "import cv2\n",
    "import sys\n",
    "from util import utils\n",
    "import numpy as np\n",
    "\n",
    "prewitt_cross_h_1 = np.array( [[ -1, 0, 1 ], \n",
    "                               [ -1, 0, 1 ],\n",
    "                               [ -1, 0, 1 ]], dtype=np.float32 ) \n",
    "  \n",
    "prewitt_cross_h_2 = np.array( [[ -1, -1, -1 ], \n",
    "                               [ 0, 0, 0 ],\n",
    "                               [ 1, 1, 1]], dtype=np.float32 ) \n",
    "\n",
    "def prewitt_cross_main(self):\n",
    "    global prewitt_cross_h_1,prewitt_cross_h_2 \n",
    "    \n",
    "    filename = utils.browse_images(self)\n",
    "\n",
    "    img = cv2.imread(filename, cv2.IMREAD_GRAYSCALE)\n",
    "    if img is None:\n",
    "        print(\"Failed to load image.\")\n",
    "        return 1\n",
    "\n",
    "    conv_h_1 = cv2.filter2D(img, -1, prewitt_cross_h_1).astype(np.float32)\n",
    "    conv_h_2 = cv2.filter2D(img, -1, prewitt_cross_h_2).astype(np.float32)\n",
    "\n",
    "    edge_image = cv2.sqrt( cv2.pow(conv_h_1, 2) + cv2.pow(conv_h_2, 2)).astype(np.uint8)\n",
    "    \n",
    "    cv2.imshow('Original', img)\n",
    "    cv2.imshow('Edge Image', edge_image)\n",
    "    cv2.waitKey(0)\n",
    "    cv2.destroyAllWindows()\n",
    "\n",
    "if __name__ == \"__main__\":\n",
    "    display(utils.start(prewitt_cross_main))"
   ]
  },
  {
   "cell_type": "markdown",
   "id": "884151e9-ab55-411c-a083-c59d4ab732d5",
   "metadata": {
    "editable": false,
    "slideshow": {
     "slide_type": ""
    },
    "tags": []
   },
   "source": [
    "<div STYLE=\"width:65%;margin:auto;text-align:justify; align: center\">\n",
    "    <p STYLE=\"text-align:justify\">\n",
    "        <b><i>Sobel</i> Operátor:</b> \n",
    "    </p>\n",
    "    <div STYLE=\"margin-top:25px;margin-bottom:25px;width:50%;margin-left: auto;margin-right: auto; display:flex;flex-wrap: wrap;justify-content: center;align-items: center;gap: 10px;\">\n",
    "        <table STYLE=\"text-align:center;style=align-self: center\">\n",
    "            <tr>\n",
    "                <td STYLE=\"padding: 15px;\" colspan=\"3\"><center>$h_1$</center></td>\n",
    "            </tr>\n",
    "            <tr>\n",
    "                <td STYLE=\"padding: 15px;\">$−1$</td>\n",
    "                <td STYLE=\"padding: 15px;\">$0$</td>\n",
    "                <td STYLE=\"padding: 15px;\">$1$</td>\n",
    "            </tr>\n",
    "            <tr>\n",
    "                <td STYLE=\"padding: 15px;\">$−2$</td>\n",
    "                <td STYLE=\"padding: 15px;\">$0$</td>\n",
    "                <td STYLE=\"padding: 15px;\">$2$</td>\n",
    "            </tr>\n",
    "            <tr>\n",
    "                <td STYLE=\"padding: 15px;\">$-1$</td>\n",
    "                <td STYLE=\"padding: 15px;\">$0$</td>\n",
    "                <td STYLE=\"padding: 15px;\">$1$</td>\n",
    "            </tr>\n",
    "        </table>\n",
    "        <table STYLE=\"text-align:center;style=align-self: center\">\n",
    "            <tr>\n",
    "                <td STYLE=\"padding: 15px;\" colspan=\"3\"><center>$h_2$</center></td>\n",
    "            </tr>\n",
    "            <tr>\n",
    "                <td STYLE=\"padding: 15px;\">$-1$</td>\n",
    "                <td STYLE=\"padding: 15px;\">$-2$</td>\n",
    "                <td STYLE=\"padding: 15px;\">$-1$</td>\n",
    "            </tr>\n",
    "            <tr>\n",
    "                <td STYLE=\"padding: 15px;\">$0$</td>\n",
    "                <td STYLE=\"padding: 15px;\">$0$</td>\n",
    "                <td STYLE=\"padding: 15px;\">$0$</td>\n",
    "            </tr>\n",
    "            <tr>\n",
    "                <td STYLE=\"padding: 15px;\">$1$</td>\n",
    "                <td STYLE=\"padding: 15px;\">$2$</td>\n",
    "                <td STYLE=\"padding: 15px;\">$1$</td>\n",
    "            </tr>\n",
    "        </table>\n",
    "    </div>\n",
    "</div>"
   ]
  },
  {
   "cell_type": "markdown",
   "id": "b26f06b7-f790-4b75-836c-caa5dd204fa4",
   "metadata": {
    "editable": false,
    "slideshow": {
     "slide_type": ""
    },
    "tags": []
   },
   "source": [
    "<center><h4>--------</h4></center>\n",
    "<center><h4>Példakód</h4></center>\n",
    "<center><h4>--------</h4></center>"
   ]
  },
  {
   "cell_type": "code",
   "execution_count": null,
   "id": "7636ad7f-35ed-4222-aa9f-048c028f03a2",
   "metadata": {
    "slideshow": {
     "slide_type": ""
    },
    "tags": []
   },
   "outputs": [],
   "source": [
    "import cv2\n",
    "import sys\n",
    "from util import utils\n",
    "import numpy as np\n",
    "\n",
    "sobel_cross_h_1 = np.array( [[ -1, 0, 1 ], \n",
    "                               [ -2, 0, 2 ],\n",
    "                               [ -1, 0, 1 ]], dtype=np.float32 ) \n",
    "  \n",
    "sobel_cross_h_2 = np.array( [[ -1, -2, -1 ], \n",
    "                               [ 0, 0, 0 ],\n",
    "                               [ 1, 2, 1]], dtype=np.float32 ) \n",
    "\n",
    "def sobel_cross_main(self):\n",
    "    global sobel_cross_h_1, sobel_cross_h_2\n",
    "    \n",
    "    filename = utils.browse_images(self)\n",
    "\n",
    "    img = cv2.imread(filename, cv2.IMREAD_GRAYSCALE)\n",
    "    if img is None:\n",
    "        print(\"Failed to load image.\")\n",
    "        return 1\n",
    "\n",
    "    conv_h_1 = cv2.filter2D(img, -1, sobel_cross_h_1).astype(np.float32)\n",
    "    conv_h_2 = cv2.filter2D(img, -1, sobel_cross_h_2).astype(np.float32)\n",
    "\n",
    "    edge_image = cv2.sqrt( cv2.pow(conv_h_1, 2) + cv2.pow(conv_h_2, 2)).astype(np.uint8)\n",
    "    \n",
    "    cv2.imshow('Original', img)\n",
    "    cv2.imshow('Edge Image', edge_image)\n",
    "    cv2.waitKey(0)\n",
    "    cv2.destroyAllWindows()\n",
    "\n",
    "if __name__ == \"__main__\":\n",
    "    display(utils.start(sobel_cross_main))"
   ]
  },
  {
   "cell_type": "markdown",
   "id": "ce6984ad-d595-4e14-bfba-4513191fc15c",
   "metadata": {
    "editable": false,
    "slideshow": {
     "slide_type": ""
    },
    "tags": []
   },
   "source": [
    "<div STYLE=\"width:65%;margin:auto;text-align:justify; align: center\">\n",
    "    <p STYLE=\"text-align:justify\">\n",
    "        <b><i>Robinson</i> Operátor:</b> \n",
    "    </p>\n",
    "    <div STYLE=\"margin-top:25px;margin-bottom:25px;width:50%;margin-left: auto;margin-right: auto; display:flex;flex-wrap: wrap;justify-content: center;align-items: center;gap: 10px;\">\n",
    "        <table STYLE=\"text-align:center;style=align-self: center\">\n",
    "            <tr>\n",
    "                <td STYLE=\"padding: 15px;\" colspan=\"3\"><center>Észak</center></td>\n",
    "            </tr>\n",
    "            <tr>\n",
    "                <td STYLE=\"padding: 15px;\">$−1$</td>\n",
    "                <td STYLE=\"padding: 15px;\">$0$</td>\n",
    "                <td STYLE=\"padding: 15px;\">$1$</td>\n",
    "            </tr>\n",
    "            <tr>\n",
    "                <td STYLE=\"padding: 15px;\">$−2$</td>\n",
    "                <td STYLE=\"padding: 15px;\">$0$</td>\n",
    "                <td STYLE=\"padding: 15px;\">$2$</td>\n",
    "            </tr>\n",
    "            <tr>\n",
    "                <td STYLE=\"padding: 15px;\">$-1$</td>\n",
    "                <td STYLE=\"padding: 15px;\">$0$</td>\n",
    "                <td STYLE=\"padding: 15px;\">$1$</td>\n",
    "            </tr>\n",
    "        </table>\n",
    "        <table STYLE=\"text-align:center;style=align-self: center\">\n",
    "            <tr>\n",
    "                <td STYLE=\"padding: 15px;\" colspan=\"3\"><center>Északnyugat</center></td>\n",
    "            </tr>\n",
    "            <tr>\n",
    "                <td STYLE=\"padding: 15px;\">$0$</td>\n",
    "                <td STYLE=\"padding: 15px;\">$1$</td>\n",
    "                <td STYLE=\"padding: 15px;\">$2$</td>\n",
    "            </tr>\n",
    "            <tr>\n",
    "                <td STYLE=\"padding: 15px;\">$-1$</td>\n",
    "                <td STYLE=\"padding: 15px;\">$0$</td>\n",
    "                <td STYLE=\"padding: 15px;\">$1$</td>\n",
    "            </tr>\n",
    "            <tr>\n",
    "                <td STYLE=\"padding: 15px;\">$-2$</td>\n",
    "                <td STYLE=\"padding: 15px;\">$-1$</td>\n",
    "                <td STYLE=\"padding: 15px;\">$0$</td>\n",
    "            </tr>\n",
    "        </table>\n",
    "    </div>\n",
    "    <div STYLE=\"margin-top:25px;margin-bottom:25px;width:50%;margin-left: auto;margin-right: auto; display:flex;flex-wrap: wrap;justify-content: center;align-items: center;gap: 10px;\">\n",
    "       <table STYLE=\"text-align:center;style=align-self: center\">\n",
    "            <tr>\n",
    "                <td STYLE=\"padding: 15px;\" colspan=\"3\"><center>Nyugat</center></td>\n",
    "            </tr>\n",
    "            <tr>\n",
    "                <td STYLE=\"padding: 15px;\">$1$</td>\n",
    "                <td STYLE=\"padding: 15px;\">$2$</td>\n",
    "                <td STYLE=\"padding: 15px;\">$1$</td>\n",
    "            </tr>\n",
    "            <tr>\n",
    "                <td STYLE=\"padding: 15px;\">$0$</td>\n",
    "                <td STYLE=\"padding: 15px;\">$0$</td>\n",
    "                <td STYLE=\"padding: 15px;\">$0$</td>\n",
    "            </tr>\n",
    "            <tr>\n",
    "                <td STYLE=\"padding: 15px;\">$-1$</td>\n",
    "                <td STYLE=\"padding: 15px;\">$-2$</td>\n",
    "                <td STYLE=\"padding: 15px;\">$-1$</td>\n",
    "            </tr>\n",
    "        </table>\n",
    "        <table STYLE=\"text-align:center;style=align-self: center\">\n",
    "            <tr>\n",
    "                <td STYLE=\"padding: 15px;\" colspan=\"3\"><center>Délnyugat</center></td>\n",
    "            </tr>\n",
    "            <tr>\n",
    "                <td STYLE=\"padding: 15px;\">$2$</td>\n",
    "                <td STYLE=\"padding: 15px;\">$1$</td>\n",
    "                <td STYLE=\"padding: 15px;\">$0$</td>\n",
    "            </tr>\n",
    "            <tr>\n",
    "                <td STYLE=\"padding: 15px;\">$1$</td>\n",
    "                <td STYLE=\"padding: 15px;\">$0$</td>\n",
    "                <td STYLE=\"padding: 15px;\">$-1$</td>\n",
    "            </tr>\n",
    "            <tr>\n",
    "                <td STYLE=\"padding: 15px;\">$0$</td>\n",
    "                <td STYLE=\"padding: 15px;\">$-1$</td>\n",
    "                <td STYLE=\"padding: 15px;\">$-2$</td>\n",
    "            </tr>\n",
    "        </table>\n",
    "    </div>\n",
    "    <center>$\\dots$</center><br>\n",
    "    <p STYLE=\"text-align:justify\">\n",
    "        A Robinson operátort gyakran Robinson Iránytű kernelnek is nevezik. A súlyok a kernelben ugyan azok, mint a Sobel esetén. A különbség annyi, hogy itt $8$ maszkunk van (nyolc égtáj) a $2$ helyett, ezáltal nyolc irányban tudunk éleket meghatározni.\n",
    "    </p>\n",
    "</div>"
   ]
  },
  {
   "cell_type": "markdown",
   "id": "321448d4-9fe0-461b-8ae0-8c54178ca0f9",
   "metadata": {
    "editable": false,
    "slideshow": {
     "slide_type": ""
    },
    "tags": []
   },
   "source": [
    "<center><h4>--------</h4></center>\n",
    "<center><h4>Példakód</h4></center>\n",
    "<center><h4>--------</h4></center>"
   ]
  },
  {
   "cell_type": "code",
   "execution_count": null,
   "id": "cedc2950-ceeb-4f22-b68d-adac2081f7ea",
   "metadata": {
    "slideshow": {
     "slide_type": ""
    },
    "tags": []
   },
   "outputs": [],
   "source": [
    "import cv2\n",
    "import sys\n",
    "from util import utils\n",
    "import numpy as np\n",
    "\n",
    "img = None\n",
    "\n",
    "robinson = [np.array(  [[ -1,  0,  1 ], \n",
    "                        [ -2,  0,  2 ],\n",
    "                        [ -1,  0,  1 ]], dtype=np.float32 ),\n",
    "            \n",
    "            np.array(  [[  0,  1,  2 ], \n",
    "                        [ -1,  0,  1 ],\n",
    "                        [ -2, -1,  0]], dtype=np.float32 ),\n",
    "            \n",
    "            np.array(  [[  1,  2,  1 ], \n",
    "                        [  0,  0,  0 ],\n",
    "                        [ -1, -2, -1 ]], dtype=np.float32 ),\n",
    "            \n",
    "           np.array(   [[  2,  1,  0 ], \n",
    "                        [  1,  0, -1 ],\n",
    "                        [  0, -1, -2 ]], dtype=np.float32 ),\n",
    "            \n",
    "           np.array(   [[  1,  0, -1 ], \n",
    "                        [  2,  0, -2 ],\n",
    "                        [  1,  0, -1 ]], dtype=np.float32 ),\n",
    "            \n",
    "            np.array(  [[  0, -1, -2 ], \n",
    "                        [  1,  0, -1 ],\n",
    "                        [  2,  1,  0 ]], dtype=np.float32 ), \n",
    "            \n",
    "            np.array(  [[ -1, -2, -1 ], \n",
    "                        [  0,  0,  0 ],\n",
    "                        [  1,  2,  1 ]], dtype=np.float32 ),\n",
    "            \n",
    "            np.array(  [[ -2, -1,  0 ], \n",
    "                        [ -1,  0,  1 ],\n",
    "                        [  0,  1,  2 ]], dtype=np.float32 )]\n",
    "\n",
    "def rotate_compass(val):\n",
    "    compass = robinson[val]\n",
    "    detect_edges(compass)\n",
    "\n",
    "def detect_edges(compass):\n",
    "    global img\n",
    "    \n",
    "    conv_rob = (cv2.filter2D(img, -1, compass).astype(np.float32)).astype(np.uint8)\n",
    "    cv2.imshow(\"Robinson Compass\", conv_rob)\n",
    "\n",
    "def robinson_compass_main(self):\n",
    "    global img\n",
    "    \n",
    "    filename = utils.browse_images(self)\n",
    "\n",
    "    img = cv2.imread(filename, cv2.IMREAD_GRAYSCALE)\n",
    "    if img is None:\n",
    "        print(\"Failed to load image.\")\n",
    "        return 1\n",
    "\n",
    "    cv2.namedWindow(\"Robinson Compass\", cv2.WINDOW_NORMAL)\n",
    "    cv2.resizeWindow(\"Robinson Compass\", img.shape[1], img.shape[0])\n",
    "    cv2.createTrackbar(\"0: 0\\n 45: 1\\n 90: 2\\n 135: 3\\n 180: 4\\n 225: 5\\n 270: 6\\n 315: 7\", \"Robinson Compass\", 0, 8, rotate_compass)\n",
    "    rotate_compass(0)\n",
    "    \n",
    "    cv2.imshow('Original', img)\n",
    "    cv2.waitKey(0)\n",
    "    cv2.destroyAllWindows()\n",
    "\n",
    "if __name__ == \"__main__\":\n",
    "    display(utils.start(robinson_compass_main))"
   ]
  },
  {
   "cell_type": "markdown",
   "id": "f64f7b09-8c9d-4ead-9994-70f4b738a4ab",
   "metadata": {
    "editable": false,
    "slideshow": {
     "slide_type": ""
    },
    "tags": []
   },
   "source": [
    "<div STYLE=\"width:65%;margin:auto;text-align:justify; align: center\">\n",
    "    <p STYLE=\"text-align:justify\">\n",
    "        <b><i>Kirsch</i> Operátor:</b> \n",
    "    </p>\n",
    "    <div STYLE=\"margin-top:25px;margin-bottom:25px;width:50%;margin-left: auto;margin-right: auto; display:flex;flex-wrap: wrap;justify-content: center;align-items: center;gap: 10px;\">\n",
    "        <table STYLE=\"text-align:center;align-self:center;\">\n",
    "            <tr>\n",
    "                <td STYLE=\"padding: 15px;\" colspan=\"3\"><center>Észak</center></td>\n",
    "            </tr>\n",
    "            <tr>\n",
    "                <td STYLE=\"padding: 15px;\">$−3$</td>\n",
    "                <td STYLE=\"padding: 15px;\">$−3$</td>\n",
    "                <td STYLE=\"padding: 15px;\">$5$</td>\n",
    "            </tr>\n",
    "            <tr>\n",
    "                <td STYLE=\"padding: 15px;\">$−3$</td>\n",
    "                <td STYLE=\"padding: 15px;\">$0$</td>\n",
    "                <td STYLE=\"padding: 15px;\">$5$</td>\n",
    "            </tr>\n",
    "            <tr>\n",
    "                <td STYLE=\"padding: 15px;\">$-3$</td>\n",
    "                <td STYLE=\"padding: 15px;\">$-3$</td>\n",
    "                <td STYLE=\"padding: 15px;\">$5$</td>\n",
    "            </tr>\n",
    "        </table>\n",
    "        <table STYLE=\"text-align:center;align-self:center;\">\n",
    "            <tr>\n",
    "                <td STYLE=\"padding: 15px;\" colspan=\"3\"><center>Északnyugat</center></td>\n",
    "            </tr>\n",
    "            <tr>\n",
    "                <td STYLE=\"padding: 15px;\">$-3$</td>\n",
    "                <td STYLE=\"padding: 15px;\">$5$</td>\n",
    "                <td STYLE=\"padding: 15px;\">$5$</td>\n",
    "            </tr>\n",
    "            <tr>\n",
    "                <td STYLE=\"padding: 15px;\">$-3$</td>\n",
    "                <td STYLE=\"padding: 15px;\">$0$</td>\n",
    "                <td STYLE=\"padding: 15px;\">$5$</td>\n",
    "            </tr>\n",
    "            <tr>\n",
    "                <td STYLE=\"padding: 15px;\">$-3$</td>\n",
    "                <td STYLE=\"padding: 15px;\">$-3$</td>\n",
    "                <td STYLE=\"padding: 15px;\">$-3$</td>\n",
    "            </tr>\n",
    "        </table>\n",
    "    </div>\n",
    "    <div STYLE=\"margin-top:25px;margin-bottom:25px;width:50%;margin-left: auto;margin-right: auto; display:flex;flex-wrap: wrap;justify-content: center;align-items: center;gap: 10px;\">\n",
    "        <table STYLE=\"text-align:center;align-self:center\">\n",
    "            <tr>\n",
    "                <td STYLE=\"padding: 15px;\" colspan=\"3\"><center>Nyugat</center></td>\n",
    "            </tr>\n",
    "            <tr>\n",
    "                <td STYLE=\"padding: 15px;\">$5$</td>\n",
    "                <td STYLE=\"padding: 15px;\">$5$</td>\n",
    "                <td STYLE=\"padding: 15px;\">$5$</td>\n",
    "            </tr>\n",
    "            <tr>\n",
    "                <td STYLE=\"padding: 15px;\">$-3$</td>\n",
    "                <td STYLE=\"padding: 15px;\">$0$</td>\n",
    "                <td STYLE=\"padding: 15px;\">$-3$</td>\n",
    "            </tr>\n",
    "            <tr>\n",
    "                <td STYLE=\"padding: 15px;\">$-3$</td>\n",
    "                <td STYLE=\"padding: 15px;\">$-3$</td>\n",
    "                <td STYLE=\"padding: 15px;\">$-3$</td>\n",
    "            </tr>\n",
    "        </table>\n",
    "        <table STYLE=\"text-align:center;align-self:center;\">\n",
    "            <tr>\n",
    "                <td STYLE=\"padding: 15px;\" colspan=\"3\"><center>Délnyugat</center></td>\n",
    "            </tr>\n",
    "            <tr>\n",
    "                <td STYLE=\"padding: 15px;\">$5$</td>\n",
    "                <td STYLE=\"padding: 15px;\">$5$</td>\n",
    "                <td STYLE=\"padding: 15px;\">$-3$</td>\n",
    "            </tr>\n",
    "            <tr>\n",
    "                <td STYLE=\"padding: 15px;\">$5$</td>\n",
    "                <td STYLE=\"padding: 15px;\">$0$</td>\n",
    "                <td STYLE=\"padding: 15px;\">$-3$</td>\n",
    "            </tr>\n",
    "            <tr>\n",
    "                <td STYLE=\"padding: 15px;\">$-3$</td>\n",
    "                <td STYLE=\"padding: 15px;\">$-3$</td>\n",
    "                <td STYLE=\"padding: 15px;\">$-3$</td>\n",
    "            </tr>\n",
    "        </table>\n",
    "    </div>\n",
    "    <center>$\\dots$</center><br>\n",
    "</div>"
   ]
  },
  {
   "cell_type": "markdown",
   "id": "24b73d40-ddab-4f3a-80fb-01cae3286b7e",
   "metadata": {
    "editable": false,
    "slideshow": {
     "slide_type": ""
    },
    "tags": []
   },
   "source": [
    "<center><h4>--------</h4></center>\n",
    "<center><h4>Példakód</h4></center>\n",
    "<center><h4>--------</h4></center>"
   ]
  },
  {
   "cell_type": "code",
   "execution_count": null,
   "id": "bedd68dd-052f-480c-963b-2a2e6b2648de",
   "metadata": {
    "editable": true,
    "slideshow": {
     "slide_type": ""
    },
    "tags": []
   },
   "outputs": [],
   "source": [
    "import cv2\n",
    "import sys\n",
    "from util import utils\n",
    "import numpy as np\n",
    "\n",
    "img = None\n",
    "\n",
    "kirsch  = [np.array(  [ [ -3, -3,  5 ], \n",
    "                        [ -3,  0,  5 ],\n",
    "                        [ -3, -3,  5 ]], dtype=np.float32 ),\n",
    "           \n",
    "            np.array(  [[ -3,  5,  5 ], \n",
    "                        [ -3,  0,  5 ],\n",
    "                        [ -3, -3, -3 ]], dtype=np.float32 ),\n",
    "           \n",
    "            np.array(  [[  5,  5,  5 ], \n",
    "                        [ -3,  0, -3 ],\n",
    "                        [ -3, -3, -3 ]], dtype=np.float32 ),\n",
    "           \n",
    "           np.array(   [[  5,  5, -3 ], \n",
    "                        [  5,  0, -3 ],\n",
    "                        [ -3, -3, -3 ]], dtype=np.float32 ),\n",
    "           \n",
    "           np.array(   [[  5, -3, -3 ], \n",
    "                        [  5,  0, -3 ],\n",
    "                        [  5, -3, -3 ]], dtype=np.float32 ),\n",
    "           \n",
    "            np.array(  [[ -3, -3, -3 ], \n",
    "                        [  5,  0, -3 ],\n",
    "                        [  5,  5, -3 ]], dtype=np.float32 ), \n",
    "           \n",
    "            np.array(  [[ -3, -3, -3 ], \n",
    "                        [ -3,  0, -3 ],\n",
    "                        [  5,  5,  5 ]], dtype=np.float32 ),\n",
    "           \n",
    "            np.array(  [[ -3, -3, -3 ], \n",
    "                        [ -3,  0,  5 ],\n",
    "                        [ -3,  5,  5 ]], dtype=np.float32 )]\n",
    "\n",
    "def rotate_compass(val):\n",
    "    global kirsch\n",
    "    compass = kirsch[val]\n",
    "    detect_edges(compass)\n",
    "\n",
    "def detect_edges(compass):\n",
    "    global img\n",
    "    \n",
    "    edge_image = (cv2.filter2D(img, -1, compass).astype(np.float32)).astype(np.uint8)\n",
    "    cv2.imshow(\"Kirsch Compass\", edge_image)\n",
    "\n",
    "def kirsch_compass_main(self):\n",
    "    global img\n",
    "    \n",
    "    filename = utils.browse_images(self)\n",
    "\n",
    "    img = cv2.imread(filename, cv2.IMREAD_GRAYSCALE)\n",
    "    if img is None:\n",
    "        print(\"Failed to load image.\")\n",
    "        return 1\n",
    "\n",
    "    cv2.namedWindow(\"Kirsch Compass\", cv2.WINDOW_NORMAL)\n",
    "    cv2.resizeWindow(\"Kirsch Compass\", img.shape[1], img.shape[0])\n",
    "    cv2.createTrackbar( \"0: 0\\n 45: 1\\n 90: 2\\n 135: 3\\n 180: 4\\n 225: 5\\n 270: 6\\n 315: 7\", \"Kirsch Compass\", 0, 8, rotate_compass)\n",
    "    rotate_compass(0)\n",
    "    \n",
    "    cv2.imshow('Original', img)\n",
    "    cv2.waitKey(0)\n",
    "    cv2.destroyAllWindows()\n",
    "\n",
    "if __name__ == \"__main__\":\n",
    "    display(utils.start(kirsch_compass_main))"
   ]
  },
  {
   "cell_type": "markdown",
   "id": "10778c89-7f9c-47c1-8eed-20a744a3588f",
   "metadata": {
    "editable": false,
    "slideshow": {
     "slide_type": ""
    },
    "tags": []
   },
   "source": [
    "<div STYLE=\"width:65%;margin:auto;text-align:justify; align: center\">\n",
    "    <p STYLE=\"text-align:justify\">\n",
    "        <b><i>Laplace</i> Operátor:</b> \n",
    "    </p>\n",
    "    <div STYLE=\"margin-top:25px;margin-bottom:25px;width:50%;margin-left: auto;margin-right: auto; display:flex;flex-wrap: wrap;justify-content: center;align-items: center;gap: 10px;\">\n",
    "        <table STYLE=\"text-align:center;style=align-self: center\">\n",
    "            <tr>\n",
    "                <td STYLE=\"padding: 15px;\" colspan=\"3\"><center>Laplace</center></td>\n",
    "            </tr>\n",
    "            <tr>\n",
    "                <td STYLE=\"padding: 15px;\">$0$</td>\n",
    "                <td STYLE=\"padding: 15px;\">$1$</td>\n",
    "                <td STYLE=\"padding: 15px;\">$0$</td>\n",
    "            </tr>\n",
    "            <tr>\n",
    "                <td STYLE=\"padding: 15px;\">$1$</td>\n",
    "                <td STYLE=\"padding: 15px;\">$−4$</td>\n",
    "                <td STYLE=\"padding: 15px;\">$1$</td>\n",
    "            </tr>\n",
    "            <tr>\n",
    "                <td STYLE=\"padding: 15px;\">$0$</td>\n",
    "                <td STYLE=\"padding: 15px;\">$1$</td>\n",
    "                <td STYLE=\"padding: 15px;\">$0$</td>\n",
    "            </tr>\n",
    "        </table>\n",
    "    </div>\n",
    "    <p STYLE=\"text-align:justify\">\n",
    "        A Laplace operátor a $$\\frac{\\partial^{2}{f}}{\\partial{x^2}} = f[i, j+1] -2f[i,j] + f[i,j-1]$$ és a $$\\frac{\\partial^{2}{f}}{\\partial{y^2}} = f[i+1, j] -2f[i,j] + f[i-1,j]$$ parciális deriváltakat approximáló operátor. Szerencsére a két egyenlőséget összevonhatjuk egybe, így csak egy kernelünk lesz.\n",
    "    </p>\n",
    "</div>"
   ]
  },
  {
   "cell_type": "markdown",
   "id": "0a93ad5a-8a38-4898-bac4-3ad049ed2614",
   "metadata": {
    "editable": false,
    "slideshow": {
     "slide_type": ""
    },
    "tags": []
   },
   "source": [
    "<center><h4>--------</h4></center>\n",
    "<center><h4>Példakód</h4></center>\n",
    "<center><h4>--------</h4></center>"
   ]
  },
  {
   "cell_type": "code",
   "execution_count": null,
   "id": "e7e951e2-3a14-465d-8360-f338619de6fa",
   "metadata": {
    "slideshow": {
     "slide_type": ""
    },
    "tags": []
   },
   "outputs": [],
   "source": [
    "import cv2\n",
    "import sys\n",
    "from util import utils\n",
    "import numpy as np\n",
    "\n",
    "\n",
    "#laplace = np.array( [[ 0,  1,  0 ], \n",
    "#                     [ 1, -4,  1 ],\n",
    "#                     [ 0,  1,  0 ]], dtype=np.float32 ) \n",
    "\n",
    "def laplace_main(self):    \n",
    "    filename = utils.browse_images(self)\n",
    "\n",
    "    img = cv2.imread(filename, cv2.IMREAD_GRAYSCALE)\n",
    "    \n",
    "    if img is None:\n",
    "        print(\"Failed to load image.\")\n",
    "        return 1\n",
    "\n",
    "    edge_image = cv2.Laplacian(img, cv2.CV_8U , ksize=3)\n",
    "    \n",
    "    cv2.imshow('Original', img)\n",
    "    cv2.imshow('Edge Image', edge_image)\n",
    "    cv2.waitKey(0)\n",
    "    cv2.destroyAllWindows()\n",
    "\n",
    "if __name__ == \"__main__\":\n",
    "    display(utils.start(laplace_main))"
   ]
  },
  {
   "cell_type": "markdown",
   "id": "af455ec1-1b63-4f47-a20d-c9f8a799b59f",
   "metadata": {
    "editable": false,
    "slideshow": {
     "slide_type": ""
    },
    "tags": []
   },
   "source": [
    "<div STYLE=\"width:65%;margin:auto;text-align:justify; align: center\">\n",
    "    <p STYLE=\"text-align:justify\">\n",
    "        <b><i>LoG (Laplacian of Gaussian)</i> Operátor:</b> \n",
    "    </p>\n",
    "     <div STYLE=\"margin-top:25px;margin-bottom:25px;width:50%;margin-left: auto;margin-right: auto; display:flex;flex-wrap: wrap;justify-content: center;align-items: center;gap: 10px;\">\n",
    "        <table STYLE=\"text-align:center;style=align-self: center\">\n",
    "            <tr>\n",
    "                <td STYLE=\"padding: 15px;\" colspan=\"5\"><center>Laplace operátor $(5×5)$</center></td>\n",
    "            </tr>\n",
    "            <tr>\n",
    "                <td STYLE=\"padding: 15px;\">$0$</td>\n",
    "                <td STYLE=\"padding: 15px;\">$0$</td>\n",
    "                <td STYLE=\"padding: 15px;\">$−1$</td>\n",
    "                <td STYLE=\"padding: 15px;\">$0$</td>\n",
    "                <td STYLE=\"padding: 15px;\">$0$</td>\n",
    "            </tr>\n",
    "            <tr>\n",
    "                <td STYLE=\"padding: 15px;\">$0$</td>\n",
    "                <td STYLE=\"padding: 15px;\">$-1$</td>\n",
    "                <td STYLE=\"padding: 15px;\">$-2$</td>\n",
    "                <td STYLE=\"padding: 15px;\">$-1$</td>\n",
    "                <td STYLE=\"padding: 15px;\">$0$</td>\n",
    "            </tr>\n",
    "            <tr>\n",
    "                <td STYLE=\"padding: 15px;\">$-1$</td>\n",
    "                <td STYLE=\"padding: 15px;\">$-2$</td>\n",
    "                <td STYLE=\"padding: 15px;\">$16$</td>\n",
    "                <td STYLE=\"padding: 15px;\">$-2$</td>\n",
    "                <td STYLE=\"padding: 15px;\">$-1$</td>\n",
    "            </tr>\n",
    "            <tr>\n",
    "                <td STYLE=\"padding: 15px;\">$0$</td>\n",
    "                <td STYLE=\"padding: 15px;\">$-1$</td>\n",
    "                <td STYLE=\"padding: 15px;\">$-2$</td>\n",
    "                <td STYLE=\"padding: 15px;\">$-1$</td>\n",
    "                <td STYLE=\"padding: 15px;\">$0$</td>\n",
    "            </tr>\n",
    "            <tr>\n",
    "                <td STYLE=\"padding: 15px;\">$0$</td>\n",
    "                <td STYLE=\"padding: 15px;\">$0$</td>\n",
    "                <td STYLE=\"padding: 15px;\">$-1$</td>\n",
    "                <td STYLE=\"padding: 15px;\">$0$</td>\n",
    "                <td STYLE=\"padding: 15px;\">$0$</td>\n",
    "            </tr>\n",
    "        </table>\n",
    "     </div>\n",
    "    <p STYLE=\"text-align:justify\">\n",
    "        Valójában a <b>LoG</b> inkább két algoritmus kombinációja, semmint egyetlen operátor. Az éldetektálás előtt a képen Gauss-elmosást alkalmazunk, így megszabadulhatunk a képen lévő zajtól. Minél nagyobb $\\sigma$-t használunk a Gauss szűréshez, annál zajmentesebb képet kaphatunk, viszont, annál több fontos élinformációt is veszíthetünk, például előfordulhat, hogy két egymáshoz közel álló él egyszerűen összemosódik. Szintén megérheti kísérletezni a kernel méretével. Fent egy Laplace operátor látható $5 \\times 5$-ös méretben.\n",
    "    </p>\n",
    "</div>"
   ]
  },
  {
   "cell_type": "markdown",
   "id": "f0490e87-ad70-4964-b2ff-63063c7431fd",
   "metadata": {
    "editable": false,
    "slideshow": {
     "slide_type": ""
    },
    "tags": []
   },
   "source": [
    "<center><h4>--------</h4></center>\n",
    "<center><h4>Példakód</h4></center>\n",
    "<center><h4>--------</h4></center>"
   ]
  },
  {
   "cell_type": "code",
   "execution_count": null,
   "id": "141385bc-a944-48cb-998b-b236f990906d",
   "metadata": {
    "editable": true,
    "slideshow": {
     "slide_type": ""
    },
    "tags": []
   },
   "outputs": [],
   "source": [
    "import cv2\n",
    "import sys\n",
    "from util import utils\n",
    "import numpy as np\n",
    "\n",
    "img = None\n",
    "blurred = None\n",
    "\n",
    "\n",
    "def set_sigma(val):\n",
    "    global img, blurred\n",
    "    \n",
    "    blurred = cv2.GaussianBlur(img, (val, val), 0)\n",
    "    cv2.imshow('Blurred', blurred)\n",
    "    calc_laplace(cv2.getTrackbarPos(\"Size of Kernel\", \"LoG\"))\n",
    "\n",
    "def calc_laplace(val):\n",
    "    global blurred\n",
    "    \n",
    "    edge_image = cv2.Laplacian(blurred, cv2.CV_8U , ksize=cv2.getTrackbarPos(\"Size of Kernel\",\"LoG\"))\n",
    "    cv2.imshow(\"LoG\", edge_image)\n",
    "\n",
    "def log_main(self):\n",
    "    global img\n",
    "    \n",
    "    filename = utils.browse_images(self)\n",
    "\n",
    "    img = cv2.imread(filename, cv2.IMREAD_GRAYSCALE)\n",
    "    if img is None:\n",
    "        print(\"Failed to load image.\")\n",
    "        return 1\n",
    "\n",
    "    cv2.namedWindow(\"LoG\", cv2.WINDOW_NORMAL)\n",
    "    cv2.resizeWindow(\"LoG\", img.shape[1], img.shape[0])\n",
    "    cv2.createTrackbar(\"Gaussian Blur\", \"LoG\", 1, 10, set_sigma)\n",
    "    cv2.createTrackbar(\"Size of Kernel\", \"LoG\", 3, 7, calc_laplace)\n",
    "    set_sigma(1)\n",
    "    \n",
    "    cv2.imshow('Original', img)\n",
    "    cv2.waitKey(0)\n",
    "    cv2.destroyAllWindows()\n",
    "\n",
    "if __name__ == \"__main__\":\n",
    "    display(utils.start(log_main))"
   ]
  },
  {
   "cell_type": "markdown",
   "id": "eff31d7d-d240-418c-bff0-7ed88266fd02",
   "metadata": {
    "editable": false,
    "slideshow": {
     "slide_type": ""
    },
    "tags": []
   },
   "source": [
    "<div STYLE=\"width:65%;margin:auto;text-align:justify; align: center\">\n",
    "    <p STYLE=\"text-align:justify\">\n",
    "        Az ebben a fejezetben látható kódok nagyrészt ugyan azt csinálják, lényegében csak az operátorok változnak. Ebből kifolyólag az itt leírt kódmagyarázat érvényes lesz a többi példára is.\n",
    "        <br><br>\n",
    "    </p>\n",
    "    <table STYLE=\"border-left: 1px solid #cdd0d4;border-right: 1px solid #cdd0d4;\">\n",
    "        <tbody >\n",
    "            <tr>\n",
    "                <td>\n",
    "    \n",
    "```python\n",
    "cv2.GaussianBlur(img, (val, val), 0)\n",
    "```\n",
    "    \n",
    "</td>\n",
    "                <td STYLE=\"min-width: 200px;max-width: 475px;\">\n",
    "                    A LoG-hoz szükséges Gauss-elmosást végzi el. A tuple a homályosításhoz használt kernel méretét adja meg. A benne lévő értékek csak pozitív páratlanok lehetnek.\n",
    "                </td>\n",
    "            </tr>\n",
    "            <tr>\n",
    "                <td>\n",
    "    \n",
    "```python\n",
    "cv2.Laplacian(blured, cv2.CV_8U , ksize=cv2.getTrackbarPos(trackbar_laplacian_size,window_title))\n",
    "```\n",
    "    \n",
    "</td>\n",
    "        <td STYLE=\"min-width: 200px;max-width: 475px;\">\n",
    "            A függvény alkalmazza a megadott képre a Laplace operátort a megadott méretben. Az operátor mérete páratlan egész szám.\n",
    "        </td>\n",
    "            </tr>\n",
    "        </tbody>\n",
    "    </table>\n",
    "</div>"
   ]
  },
  {
   "cell_type": "code",
   "execution_count": null,
   "id": "7bcdeeab-b7f8-4276-8463-0565abf62188",
   "metadata": {
    "editable": false,
    "slideshow": {
     "slide_type": ""
    },
    "tags": []
   },
   "outputs": [],
   "source": [
    "### Ha nem látod a tesztet futtasd le ezt a kódot!\n",
    "from jupyterquiz import display_quiz\n",
    "import json\n",
    "\n",
    "with open('questions/edge_det.json', encoding='utf-8') as q:\n",
    "    quiz = json.load(q)\n",
    "    display_quiz(quiz)"
   ]
  },
  {
   "cell_type": "markdown",
   "id": "942a298a-238c-444b-a1c7-e63026aff997",
   "metadata": {
    "editable": false,
    "slideshow": {
     "slide_type": ""
    },
    "tags": []
   },
   "source": [
    "## <div id=\"Jellemzőkiemelés\" STYLE=\"width:65%;margin:auto;\" align = \"center\"><br><center>Jellemzőkiemelés</center></div> ##"
   ]
  },
  {
   "cell_type": "markdown",
   "id": "dece28d4-dd28-477e-a813-317bd700685c",
   "metadata": {
    "editable": false,
    "slideshow": {
     "slide_type": ""
    },
    "tags": []
   },
   "source": [
    "<div STYLE=\"width:65%;margin:auto;text-align:justify; align: center\">\n",
    "    <p STYLE=\"text-align:justify\">\n",
    "        Szegmentáció után a következő lépés tipikusan a jellemzőkiemelés (<i>Feature extraction</i>) szokott lenni. Két részre szokás bontani a jellemzőkiemelést: <i>jellemző detektálás</i> és <i>jellemző leírás</i>. Például sarok detektálást követően leírhatjuk, hogy hol vannak a sarkok és merre mutatnak.\n",
    "    </p>\n",
    "</div>"
   ]
  },
  {
   "cell_type": "markdown",
   "id": "e287e74c-ec54-4cb4-9f3c-d9e27121db6c",
   "metadata": {
    "editable": false,
    "slideshow": {
     "slide_type": ""
    },
    "tags": []
   },
   "source": [
    "### <div id=\"Régiók azonosítása\" STYLE=\"width:65%;margin:auto;\" align = \"center\"><br><center>Régiók azonosítása</center></div> ###"
   ]
  },
  {
   "cell_type": "markdown",
   "id": "9de7afba-0f50-4cf9-8ce7-75d50de526da",
   "metadata": {
    "editable": false,
    "slideshow": {
     "slide_type": ""
    },
    "tags": []
   },
   "source": [
    "<div STYLE=\"width:65%;margin:auto;text-align:justify; align: center\">\n",
    "    <p STYLE=\"text-align:justify\">\n",
    "        Régiók azonosítása során sorról sorra haladunk a kép pixelein és megpróbálunk minden nem nulla értékű $R(i,j)$ pixelhez hozzárendelni egy nem nulla értékű $v$ címkét. A $v$ értékét a vizsgált pixel szomszédos pixeleinek címkéje alapján határozzuk meg. Ha a vizsgált pixel $R(i,j)$, akkor annak bal oldali szomszédja $R(i,j−1)$ a felső szomszédja pedig $R(i−1,j)$.<br>\n",
    "        Ha $R(i,j)$ előtér pixel és ...\n",
    "        <ul>\n",
    "            <li>\n",
    "                ... mind a két szomszédja háttér pixel, akkor $R(i,j)$ kap egy még nem használt címkét.\n",
    "            </li>\n",
    "            <li>\n",
    "                ... van legalább egy olyan szomszédja ($R(i,j-1)$ vagy $R(i-1,j)$), ami rendelkezik nem null értékű címkével, akkor ezt a címkét rendeljük hozzá $R(i,j)$-hez. \n",
    "            </li>           \n",
    "            <li>\n",
    "                ... mind a két szomszédja rendelkezik nem null értékű címkével, és ezen címkék értékei megegyeznek, akkor rendeljünk hozzá a vizsgált pixelhez egy azonos értékű címkét.\n",
    "            </li>\n",
    "            <li>\n",
    "                ... mind a két szomszédja rendelkezik nem null értékű címkével, de ezen címkék értékei nem egyeznek meg (<i>címkeütközés</i>), válasszuk ki az egyik szomszéd címkéjét és rendeljük hozzá $R(i,j)$-hez, majd tároljuk el a címkepárost, mint egyenlő címkék. Miután végigértünk, \"összeolvasszuk\" az ütköző régiókat.\n",
    "            </li>\n",
    "        </ul><br>\n",
    "    Az alábbi ábrán láthatunk egy példát a régiók azonosítására. Pirossal vannak jelölve azok a pixelek, amelyeknél ütközést tapasztaltunk.\n",
    "    </p>\n",
    "</div>"
   ]
  },
  {
   "cell_type": "markdown",
   "id": "d9b5eaeb-8867-42db-a9a0-4b06fe79fce8",
   "metadata": {
    "editable": false,
    "slideshow": {
     "slide_type": ""
    },
    "tags": []
   },
   "source": [
    "<div style=\"width: 65%; margin: auto; text-align: justify; align: center; padding-top:25px;\">\n",
    "    <table style=\"text-align: center;\">\n",
    "        <tbody>\n",
    "            <tr>\n",
    "                <td style=\"width: 25px; height: 25px;\" bgcolor=\"black\">&nbsp;</td>\n",
    "                <td style=\"width: 25px; height: 25px; color: black; font-weight: bold;\" bgcolor=\"white\">$1$</td>\n",
    "                <td style=\"width: 25px; height: 25px; color: black; font-weight: bold;\" bgcolor=\"white\">$1$</td>\n",
    "                <td style=\"width: 25px; height: 25px; color: black; font-weight: bold;\" bgcolor=\"white\">$1$</td>\n",
    "                <td style=\"width: 25px; height: 25px;\" bgcolor=\"black\">&nbsp;</td>\n",
    "                <td style=\"width: 25px; height: 25px;\" bgcolor=\"black\">&nbsp;</td>\n",
    "                <td style=\"width: 25px; height: 25px;\" bgcolor=\"black\">&nbsp;</td>\n",
    "                <td style=\"width: 25px; height: 25px;\" bgcolor=\"black\">&nbsp;</td>\n",
    "                <td style=\"width: 25px; height: 25px;\" bgcolor=\"black\">&nbsp;</td>\n",
    "                <td style=\"width: 25px; height: 25px;\" bgcolor=\"black\">&nbsp;</td>\n",
    "            </tr>\n",
    "            <tr>\n",
    "                <td style=\"width: 25px; height: 25px; color: black; font-weight: bold;\" bgcolor=\"white\">$2$</td>\n",
    "                <td style=\"width: 25px; height: 25px;\" bgcolor=\"black\">&nbsp;</td>\n",
    "                <td style=\"width: 25px; height: 25px;\" bgcolor=\"black\">&nbsp;</td>\n",
    "                <td style=\"width: 25px; height: 25px; color: black; font-weight: bold;\" bgcolor=\"white\">$1$</td>\n",
    "                <td style=\"width: 25px; height: 25px; color: black; font-weight: bold;\" bgcolor=\"white\">$1$</td>\n",
    "                <td style=\"width: 25px; height: 25px; color: black; font-weight: bold;\" bgcolor=\"white\">$1$</td>\n",
    "                <td style=\"width: 25px; height: 25px;\" bgcolor=\"black\">&nbsp;</td>\n",
    "                <td style=\"width: 25px; height: 25px;\" bgcolor=\"black\">&nbsp;</td>\n",
    "                <td style=\"width: 25px; height: 25px;\" bgcolor=\"black\">&nbsp;</td>\n",
    "                <td style=\"width: 25px; height: 25px; color: black; font-weight: bold;\" bgcolor=\"white\">$3$</td>\n",
    "            </tr>\n",
    "            <tr>\n",
    "                <td style=\"width: 25px; height: 25px;\" bgcolor=\"black\">&nbsp;</td>\n",
    "                <td style=\"width: 25px; height: 25px;\" bgcolor=\"black\">&nbsp;</td>\n",
    "                <td style=\"width: 25px; height: 25px;\" bgcolor=\"black\">&nbsp;</td>\n",
    "                <td style=\"width: 25px; height: 25px;\" bgcolor=\"black\">&nbsp;</td>\n",
    "                <td style=\"width: 25px; height: 25px;\" bgcolor=\"black\">&nbsp;</td>\n",
    "                <td style=\"width: 25px; height: 25px;\" bgcolor=\"black\">&nbsp;</td>\n",
    "                <td style=\"width: 25px; height: 25px;\" bgcolor=\"black\">&nbsp;</td>\n",
    "                <td style=\"width: 25px; height: 25px;\" bgcolor=\"black\">&nbsp;</td>\n",
    "                <td style=\"width: 25px; height: 25px; color: black; font-weight: bold;\" bgcolor=\"white\">$4$</td>\n",
    "                <td style=\"width: 25px; height: 25px; color: red; font-weight: bold;\" bgcolor=\"white\">$3$</td>\n",
    "            </tr>\n",
    "            <tr>\n",
    "                <td style=\"width: 25px; height: 25px;\" bgcolor=\"black\">&nbsp;</td>\n",
    "                <td style=\"width: 25px; height: 25px;\" bgcolor=\"black\">&nbsp;</td>\n",
    "                <td style=\"width: 25px; height: 25px;\" bgcolor=\"black\">&nbsp;</td>\n",
    "                <td style=\"width: 25px; height: 25px; color: black; font-weight: bold;\" bgcolor=\"white\">$5$</td>\n",
    "                <td style=\"width: 25px; height: 25px; color: black; font-weight: bold;\" bgcolor=\"white\">$5$</td>\n",
    "                <td style=\"width: 25px; height: 25px; color: black; font-weight: bold;\" bgcolor=\"white\">$5$</td>\n",
    "                <td style=\"width: 25px; height: 25px;\" bgcolor=\"black\">&nbsp;</td>\n",
    "                <td style=\"width: 25px; height: 25px;\" bgcolor=\"black\">&nbsp;</td>\n",
    "                <td style=\"width: 25px; height: 25px;\" bgcolor=\"black\">&nbsp;</td>\n",
    "                <td style=\"width: 25px; height: 25px;\" bgcolor=\"black\">&nbsp;</td>\n",
    "            </tr>\n",
    "            <tr>\n",
    "                <td style=\"width: 25px; height: 25px;\" bgcolor=\"black\">&nbsp;</td>\n",
    "                <td style=\"width: 25px; height: 25px; color: black; font-weight: bold;\" bgcolor=\"white\">$6$</td>\n",
    "                <td style=\"width: 25px; height: 25px;\" bgcolor=\"black\">&nbsp;</td>\n",
    "                <td style=\"width: 25px; height: 25px;\" bgcolor=\"black\">&nbsp;</td>\n",
    "                <td style=\"width: 25px; height: 25px; color: black; font-weight: bold;\" bgcolor=\"white\">$5$</td>\n",
    "                <td style=\"width: 25px; height: 25px;\" bgcolor=\"black\">&nbsp;</td>\n",
    "                <td style=\"width: 25px; height: 25px; color: black; font-weight: bold;\" bgcolor=\"white\">$7$</td>\n",
    "                <td style=\"width: 25px; height: 25x;\" bgcolor=\"black\">&nbsp;</td>\n",
    "                <td style=\"width: 25px; height: 25px;\" bgcolor=\"black\">&nbsp;</td>\n",
    "                <td style=\"width: 25px; height: 25px;\" bgcolor=\"black\">&nbsp;</td>\n",
    "            </tr>\n",
    "            <tr>\n",
    "                <td style=\"width: 25px; height: 25px;\" bgcolor=\"black\">&nbsp;</td>\n",
    "                <td style=\"width: 25px; height: 25px; color: black; font-weight: bold;\" bgcolor=\"white\">$6$</td>\n",
    "                <td style=\"width: 25px; height: 25px; color: black; font-weight: bold;\" bgcolor=\"white\">$6$</td>\n",
    "                <td style=\"width: 25px; height: 25px; color: black; font-weight: bold;\" bgcolor=\"white\">$6$</td>\n",
    "                <td style=\"width: 25px; height: 25px; color: red; font-weight: bold;\" bgcolor=\"white\">$5$</td>\n",
    "                <td style=\"width: 25px; height: 25px; color: black; font-weight: bold;\" bgcolor=\"white\">$5$</td>\n",
    "                <td style=\"width: 25px; height: 25px;\" bgcolor=\"black\">&nbsp;</td>\n",
    "                <td style=\"width: 25px; height: 25px;\" bgcolor=\"black\">&nbsp;</td>\n",
    "                <td style=\"width: 25px; height: 25px;\" bgcolor=\"black\">&nbsp;</td>\n",
    "                <td style=\"width: 25px; height: 25px;\" bgcolor=\"black\">&nbsp;</td>\n",
    "            </tr>\n",
    "            <tr>\n",
    "                <td style=\"width: 25px; height: 25px;\" bgcolor=\"black\">&nbsp;</td>\n",
    "                <td style=\"width: 25px; height: 25px;\" bgcolor=\"black\">&nbsp;</td>\n",
    "                <td style=\"width: 25px; height: 25px;\" bgcolor=\"black\">&nbsp;</td>\n",
    "                <td style=\"width: 25px; height: 25px; color: black; font-weight: bold;\" bgcolor=\"white\">$6$</td>\n",
    "                <td style=\"width: 25px; height: 25px; color: red; font-weight: bold;\" bgcolor=\"white\">$5$</td>\n",
    "                <td style=\"width: 25px; height: 25px; color: black; font-weight: bold;\" bgcolor=\"white\">$5$</td>\n",
    "                <td style=\"width: 25px; height: 25px;\" bgcolor=\"black\">&nbsp;</td>\n",
    "                <td style=\"width: 25px; height: 25px;\" bgcolor=\"black\">&nbsp;</td>\n",
    "                <td style=\"width: 25px; height: 25px;\" bgcolor=\"black\">&nbsp;</td>\n",
    "                <td style=\"width: 25px; height: 25px;\" bgcolor=\"black\">&nbsp;</td>\n",
    "            </tr>\n",
    "        </tbody>\n",
    "    </table>\n",
    "</div>"
   ]
  },
  {
   "cell_type": "markdown",
   "id": "719e3a2e-c884-44a7-9d3f-112a9e033b8a",
   "metadata": {
    "editable": false,
    "slideshow": {
     "slide_type": ""
    },
    "tags": []
   },
   "source": [
    "$$\\boldsymbol{\\Bigg\\Downarrow}$$"
   ]
  },
  {
   "cell_type": "markdown",
   "id": "06037ae8-eedc-453e-a094-203658b2da6b",
   "metadata": {
    "editable": false,
    "slideshow": {
     "slide_type": ""
    },
    "tags": []
   },
   "source": [
    "<div style=\"width: 65%; margin: auto; text-align: justify; align: center;\">\n",
    "    <table style=\"text-align: center;\">\n",
    "        <tbody>\n",
    "            <tr>\n",
    "                <td style=\"width: 25px; height: 25px;\" bgcolor=\"black\">&nbsp;</td>\n",
    "                <td style=\"width: 25px; height: 25px; color: black; font-weight: bold;\" bgcolor=\"white\">$1$</td>\n",
    "                <td style=\"width: 25px; height: 25px; color: black; font-weight: bold;\" bgcolor=\"white\">$1$</td>\n",
    "                <td style=\"width: 25px; height: 25px; color: black; font-weight: bold;\" bgcolor=\"white\">$1$</td>\n",
    "                <td style=\"width: 25px; height: 25px;\" bgcolor=\"black\">&nbsp;</td>\n",
    "                <td style=\"width: 25px; height: 25px;\" bgcolor=\"black\">&nbsp;</td>\n",
    "                <td style=\"width: 25px; height: 25px;\" bgcolor=\"black\">&nbsp;</td>\n",
    "                <td style=\"width: 25px; height: 25px;\" bgcolor=\"black\">&nbsp;</td>\n",
    "                <td style=\"width: 25px; height: 25px;\" bgcolor=\"black\">&nbsp;</td>\n",
    "                <td style=\"width: 25px; height: 25px;\" bgcolor=\"black\">&nbsp;</td>\n",
    "            </tr>\n",
    "            <tr>\n",
    "                <td style=\"width: 25px; height: 25px; color: black; font-weight: bold;\" bgcolor=\"white\">$2$</td>\n",
    "                <td style=\"width: 25px; height: 25px;\" bgcolor=\"black\">&nbsp;</td>\n",
    "                <td style=\"width: 25px; height: 25px;\" bgcolor=\"black\">&nbsp;</td>\n",
    "                <td style=\"width: 25px; height: 25px; color: black; font-weight: bold;\" bgcolor=\"white\">$1$</td>\n",
    "                <td style=\"width: 25px; height: 25px; color: black; font-weight: bold;\" bgcolor=\"white\">$1$</td>\n",
    "                <td style=\"width: 25px; height: 25px; color: black; font-weight: bold;\" bgcolor=\"white\">$1$</td>\n",
    "                <td style=\"width: 25px; height: 25px;\" bgcolor=\"black\">&nbsp;</td>\n",
    "                <td style=\"width: 25px; height: 25px;\" bgcolor=\"black\">&nbsp;</td>\n",
    "                <td style=\"width: 25px; height: 25px;\" bgcolor=\"black\">&nbsp;</td>\n",
    "                <td style=\"width: 25px; height: 25px; color: black; font-weight: bold;\" bgcolor=\"white\">$3$</td>\n",
    "            </tr>\n",
    "            <tr>\n",
    "                <td style=\"width: 25px; height: 25px;\" bgcolor=\"black\">&nbsp;</td>\n",
    "                <td style=\"width: 25px; height: 25px;\" bgcolor=\"black\">&nbsp;</td>\n",
    "                <td style=\"width: 25px; height: 25px;\" bgcolor=\"black\">&nbsp;</td>\n",
    "                <td style=\"width: 25px; height: 25px;\" bgcolor=\"black\">&nbsp;</td>\n",
    "                <td style=\"width: 25px; height: 25px;\" bgcolor=\"black\">&nbsp;</td>\n",
    "                <td style=\"width: 25px; height: 25px;\" bgcolor=\"black\">&nbsp;</td>\n",
    "                <td style=\"width: 25px; height: 25px;\" bgcolor=\"black\">&nbsp;</td>\n",
    "                <td style=\"width: 25px; height: 25px;\" bgcolor=\"black\">&nbsp;</td>\n",
    "                <td style=\"width: 25px; height: 25px; color: black; font-weight: bold;\" bgcolor=\"white\">$3$</td>\n",
    "                <td style=\"width: 25px; height: 25px; color: black; font-weight: bold;\" bgcolor=\"white\">$3$</td>\n",
    "            </tr>\n",
    "            <tr>\n",
    "                <td style=\"width: 25px; height: 25px;\" bgcolor=\"black\">&nbsp;</td>\n",
    "                <td style=\"width: 25px; height: 25px;\" bgcolor=\"black\">&nbsp;</td>\n",
    "                <td style=\"width: 25px; height: 25px;\" bgcolor=\"black\">&nbsp;</td>\n",
    "                <td style=\"width: 25px; height: 25px; color: black; font-weight: bold;\" bgcolor=\"white\">$5$</td>\n",
    "                <td style=\"width: 25px; height: 25px; color: black; font-weight: bold;\" bgcolor=\"white\">$5$</td>\n",
    "                <td style=\"width: 25px; height: 25px; color: black; font-weight: bold;\" bgcolor=\"white\">$5$</td>\n",
    "                <td style=\"width: 25px; height: 25px;\" bgcolor=\"black\">&nbsp;</td>\n",
    "                <td style=\"width: 25px; height: 25px;\" bgcolor=\"black\">&nbsp;</td>\n",
    "                <td style=\"width: 25px; height: 25x;\" bgcolor=\"black\">&nbsp;</td>\n",
    "                <td style=\"width: 25px; height: 25px;\" bgcolor=\"black\">&nbsp;</td>\n",
    "            </tr>\n",
    "            <tr>\n",
    "                <td style=\"width: 25px; height: 25px;\" bgcolor=\"black\">&nbsp;</td>\n",
    "                <td style=\"width: 25px; height: 25px; color: black; font-weight: bold;\" bgcolor=\"white\">$5$</td>\n",
    "                <td style=\"width: 25px; height: 25px;\" bgcolor=\"black\">&nbsp;</td>\n",
    "                <td style=\"width: 25px; height: 25px;\" bgcolor=\"black\">&nbsp;</td>\n",
    "                <td style=\"width: 25px; height: 25px; color: black; font-weight: bold;\" bgcolor=\"white\">$5$</td>\n",
    "                <td style=\"width: 25px; height: 25px;\" bgcolor=\"black\">&nbsp;</td>\n",
    "                <td style=\"width: 25px; height: 25px; color: black; font-weight: bold;\" bgcolor=\"white\">$7$</td>\n",
    "                <td style=\"width: 25px; height: 25px;\" bgcolor=\"black\">&nbsp;</td>\n",
    "                <td style=\"width: 25px; height: 25px;\" bgcolor=\"black\">&nbsp;</td>\n",
    "                <td style=\"width: 25px; height: 25px;\" bgcolor=\"black\">&nbsp;</td>\n",
    "            </tr>\n",
    "            <tr>\n",
    "                <td style=\"width: 25px; height: 25px;\" bgcolor=\"black\">&nbsp;</td>\n",
    "                <td style=\"width: 25px; height: 25px; color: black; font-weight: bold;\" bgcolor=\"white\">$5$</td>\n",
    "                <td style=\"width: 25px; height: 25px; color: black; font-weight: bold;\" bgcolor=\"white\">$5$</td>\n",
    "                <td style=\"width: 25px; height: 25px; color: black; font-weight: bold;\" bgcolor=\"white\">$5$</td>\n",
    "                <td style=\"width: 25px; height: 25px; color: black; font-weight: bold;\" bgcolor=\"white\">$5$</td>\n",
    "                <td style=\"width: 25px; height: 25px; color: black; font-weight: bold;\" bgcolor=\"white\">$5$</td>\n",
    "                <td style=\"width: 25px; height: 25px;\" bgcolor=\"black\">&nbsp;</td>\n",
    "                <td style=\"width: 25px; height: 25px;\" bgcolor=\"black\">&nbsp;</td>\n",
    "                <td style=\"width: 25px; height: 25px;\" bgcolor=\"black\">&nbsp;</td>\n",
    "                <td style=\"width: 25px; height: 25px;\" bgcolor=\"black\">&nbsp;</td>\n",
    "            </tr>\n",
    "            <tr>\n",
    "                <td style=\"width: 25px; height: 25px;\" bgcolor=\"black\">&nbsp;</td>\n",
    "                <td style=\"width: 25px; height: 25px;\" bgcolor=\"black\">&nbsp;</td>\n",
    "                <td style=\"width: 25px; height: 25px;\" bgcolor=\"black\">&nbsp;</td>\n",
    "                <td style=\"width: 25px; height: 25px; color: black; font-weight: bold;\" bgcolor=\"white\">$5$</td>\n",
    "                <td style=\"width: 25px; height: 25px; color: black; font-weight: bold;\" bgcolor=\"white\">$5$</td>\n",
    "                <td style=\"width: 25px; height: 25px; color: black; font-weight: bold;\" bgcolor=\"white\">$5$</td>\n",
    "                <td style=\"width: 25px; height: 25px;\" bgcolor=\"black\">&nbsp;</td>\n",
    "                <td style=\"width: 25px; height: 25px;\" bgcolor=\"black\">&nbsp;</td>\n",
    "                <td style=\"width: 25px; height: 25px;\" bgcolor=\"black\">&nbsp;</td>\n",
    "                <td style=\"width: 25px; height: 25px;\" bgcolor=\"black\">&nbsp;</td>\n",
    "            </tr>\n",
    "        </tbody>\n",
    "    </table>\n",
    "</div>"
   ]
  },
  {
   "cell_type": "code",
   "execution_count": null,
   "id": "f365349d-4fb6-447d-97b1-1a66ae87c1ae",
   "metadata": {
    "editable": true,
    "slideshow": {
     "slide_type": ""
    },
    "tags": []
   },
   "outputs": [],
   "source": [
    "import cv2\n",
    "import sys\n",
    "import numpy as np\n",
    "from scipy.ndimage import label \n",
    "from util import utils\n",
    "\n",
    "np.set_printoptions(threshold=sys.maxsize)\n",
    "\n",
    "img = None\n",
    "inv = 0\n",
    "\n",
    "def invert(val):\n",
    "    global inv \n",
    "    inv = val\n",
    "    thresholding(cv2.getTrackbarPos(\"Threshold\", \"Labeling\"))\n",
    "\n",
    "def thresholding(val):\n",
    "    global img, inv\n",
    "\n",
    "    if inv == 0:\n",
    "        _, thresh = cv2.threshold(img, val, 255, cv2.THRESH_BINARY)\n",
    "        #_, thresh = cv2.threshold(img, val, 255, cv2.THRESH_OTSU) #Otsu módszer\n",
    "    else:\n",
    "        _, thresh = cv2.threshold(img, val, 255, cv2.THRESH_BINARY_INV)\n",
    "        inv_img = (255-img)\n",
    "        #_, thresh = cv2.threshold(inv_img, val, 255, cv2.THRESH_OTSU) #Otsu módszer\n",
    "        \n",
    "    cv2.imshow('B&W', thresh)\n",
    "    labeling(thresh)\n",
    "\n",
    "def labeling(thresh):   \n",
    "    labeled_array, _ = label(thresh)\n",
    "    \n",
    "    labels_unique = np.unique(labeled_array)    \n",
    "    label_map = {label: i for i, label in enumerate(labels_unique)}\n",
    "    merged_labels = np.vectorize(label_map.get)(labeled_array)\n",
    "    random_colors = np.random.randint(0, 256, size=(len(labels_unique), 3))\n",
    "    random_colors[0] = 0 \n",
    "\n",
    "    output_image = random_colors[merged_labels]\n",
    "\n",
    "    cv2.imshow(\"Labeling\", output_image.astype(np.uint8))\n",
    "    \n",
    "def labeling_main(self):\n",
    "    global img \n",
    "    filename = utils.browse_images(self)\n",
    "\n",
    "    img = cv2.imread(filename, cv2.IMREAD_GRAYSCALE)\n",
    "    if img is None:\n",
    "        print(\"Failed to load image.\")\n",
    "        return 1    \n",
    "    \n",
    "    cv2.namedWindow(\"Labeling\", cv2.WINDOW_NORMAL)\n",
    "    cv2.resizeWindow(\"Labeling\", img.shape[1], img.shape[0])\n",
    "    cv2.createTrackbar(\"Threshold\", \"Labeling\", 127, 255, thresholding)\n",
    "    cv2.createTrackbar(\"Invert\", \"Labeling\", 0, 1, invert)\n",
    "    thresholding(127)\n",
    "    \n",
    "    cv2.imshow('Original', img)\n",
    "    cv2.waitKey(0)\n",
    "    cv2.destroyAllWindows()\n",
    "\n",
    "if __name__ == \"__main__\":\n",
    "    display(utils.start(labeling_main))\n"
   ]
  },
  {
   "cell_type": "markdown",
   "id": "38a81407-4ee3-4b33-9795-8298db39ddaa",
   "metadata": {
    "editable": false,
    "slideshow": {
     "slide_type": ""
    },
    "tags": []
   },
   "source": [
    "<div STYLE=\"width:65%;margin:auto;text-align:justify; align: center\">\n",
    "    <table STYLE=\"border-left: 1px solid #cdd0d4;border-right: 1px solid #cdd0d4;\">\n",
    "        <tbody >\n",
    "            <tr>\n",
    "                <td>\n",
    "    \n",
    "```python\n",
    "label(thresh)\n",
    "```\n",
    "    \n",
    "</td>\n",
    "                <td STYLE=\"min-width: 200px;max-width: 475px;\">\n",
    "                    A <i>scipy.ndimage</i> csomag része a <i>label</i> függvény. A fentiekben elmagyarázott címkézést hajtja végre.\n",
    "                </td>\n",
    "            </tr>\n",
    "        </tbody>\n",
    "    </table>\n",
    "</div>"
   ]
  },
  {
   "cell_type": "markdown",
   "id": "49320c32-b1d8-452b-89e5-5c74158a6ea8",
   "metadata": {
    "editable": false,
    "slideshow": {
     "slide_type": ""
    },
    "tags": []
   },
   "source": [
    "### <div id=\"Egyszerű geometrikus szegély reprezentáció\" STYLE=\"width:65%;margin:auto;\" align = \"center\"><br><center>Egyszerű geometrikus szegély reprezentáció</center></div> ###"
   ]
  },
  {
   "cell_type": "markdown",
   "id": "1cf43a0f-cdae-4208-b12b-5b26e7f7840a",
   "metadata": {
    "editable": false,
    "slideshow": {
     "slide_type": ""
    },
    "tags": []
   },
   "source": [
    "<div STYLE=\"width:65%;margin:auto;text-align:justify; align: center\">\n",
    "    <p STYLE=\"text-align:justify\">\n",
    "        <ul>\n",
    "            <li>\n",
    "                <b><i>Szegély hossza</i>:</b> A vízszintes és függőleges lépések egységnyi, az átlósak pedig $\\sqrt{2}$.\n",
    "            </li>\n",
    "            <li>\n",
    "                <b><i>Görbület</i>:</b> Az összes, szegélyt alkotó pixel és azon pixelek száma közötti arány, amelyeknél az irány jelentősen változik.\n",
    "            </li>\n",
    "            <li>\n",
    "                <b><i>Görbületi enrgia</i>:</b> A $c(k)$ szegély görbületnek és a $L$ szegély hossznak a négyzetösszege.\n",
    "            </li>\n",
    "            <li>\n",
    "                <b><i>Szignatúra</i>:</b> A szignatúra a 2D-s szegély 1D-s leképezése. Legegyszerűbben úgy állíthatjuk elő, hogy lemérjük a szegély elemei és a középpont közötti távolságokat. Ezeket a távolságokat megjelenítve az alábbiakhoz hasonló függvényképeket kapunk.\n",
    "            </li>\n",
    "            <center><img STYLE=\"width:65%; padding-top: 25px; padding-bottom: 25px;margin-left: 25px\" src=\"img/signature.png\"></center>\n",
    "            <li>\n",
    "                <b><i>Szegélyek Fourier transzformációja</i></b>\n",
    "            </li>\n",
    "            <li>\n",
    "                <b><i>B-spline</i></b>\n",
    "            </li>\n",
    "            <li>\n",
    "                <b><i>Hough transform</i></b>\n",
    "            </li>\n",
    "        </ul>\n",
    "    </p>\n",
    "</div>"
   ]
  },
  {
   "cell_type": "markdown",
   "id": "6131800f-7c13-46ec-af11-24b7ec6ff0b6",
   "metadata": {
    "editable": false,
    "slideshow": {
     "slide_type": ""
    },
    "tags": []
   },
   "source": [
    "### <div id=\"Hough-transzformáció\" STYLE=\"width:65%;margin:auto;\" align = \"center\"><br><center>Hough-transzformáció</center></div> ###"
   ]
  },
  {
   "cell_type": "markdown",
   "id": "c652a76c-321a-4a1e-b251-9749fec54390",
   "metadata": {
    "editable": false,
    "slideshow": {
     "slide_type": ""
    },
    "tags": []
   },
   "source": [
    "<div STYLE=\"width:65%;margin:auto;text-align:justify; align: center\">\n",
    "    <p STYLE=\"text-align:justify\">\n",
    "        Előfordulhat, hogy olyan élképekkel kel dolgoznunk, amelyeken a számunkra érdekes alakzatok lehetséges elhelyezkedése ismeretlen, az élek nem teljesek (például valami részlegesen eltakarja), vagy a kép zajos. Amennyiben az alakzat leírható matematikailag, a <i>Hough-transzformáció</i> jöhet segítségünkre.<br>Vegyük a legegyszerűbb esetet, és detektáljunk egyenes vonalakat. Egy olyan egyenest, amely áthalad az $(x_i, y_i)$ ponton a $$y_i = ax_i + b$$ képlettel tudunk leírni az $xy$ síkon (<i>image space</i>). A $(x_i,y_i)$ ponton végtelen sok egyenes áthalad, de mindegyik más $a$ és $b$ értékkel rendelkezik. Ha a képletete úgy írjuk fel, mint $$b = -a x_i + y_i$$ akkor az a paramétertérben ($ab$ sík) egy olyan egyenes egyenletét eredményezi, ahol $(x_i,y_i)$ fix és az egyenesen megtalálható összes $(b,a)$ érték az első képletbe való behelyettesítéssel olyan egyenest ad, ami átmegy az $(x_i, y_i)$ ponton. Ha egy másik $(x_j,y_j)$ ponthoz tartozó egyenes a paramétertérben az $(a′,b′)$ pontban keresztezi a $(x_i,y_i)$-hez tartozót, akkor a keresztmetszetben lévő pont annak az egyenesnek a paraméterei lesznek ami átmegy a $(x_i, y_i)$ és $(x_j, y_j)$ ponton is az $xy$ síkban. Problémát jelent az, hogy minél közelebb van az egyenes a függőlegeshez, annál közelebb lesz az $a$ végtelenhez. Ezen probléma kiküszöböléséhez, használhatjuk az egyenes normál reprezentációját: $$x_i cos\\theta + y_i sin\\theta = \\rho,$$ ahol $\\rho$ a origóból az egyenesre mutató legrövidebb normálvektor hossza és $\\theta$ a $\\rho$ $x$-koordinátával bezárt szöge. \n",
    "<br> A transzformáció megkezdése előtt a képen éldetektálást kell végrehajtanunk, amihez használhatjuk a fentebb leírt éldetektorokat is (a diverzitás jegyében mi a Canny éldetektort fogjuk használni a lenit kódrészletben). Az  élképen megjelenő élpontok lesznek a $(x_i,y_i)$ pontjaink. Az algoritmus kiszámolja a lehetséges $(\\rho, θ)$ értékeket minden élponthoz. Ezeket ábrázolva a Hough térben sinuszoid görbéket kapunk. A teret úgynevezett <i>akkumulátor cellákra</i> osszuk fel, majd minden olyan cella értékét, amelyen a görbe áthalad növeljük egyel. Az algoritmus végeztével a nagy értékű akkumulátor cellák jelzik a vonal meglétét a képen. Az akkumulátorcellák mérete fontos mivel, ha túl nagyok különböző vonalak egymásba olvadhatnak, ha túl kicsik akkor kimaradhatnak.<br> Az algoritmus kiterjeszthető nem egyenes szerű élek detektálására is, mint például a körvonal.\n",
    "<br>A Hough-transzformáció végrehajtása lassú lehet, ezért időnként érdemesebb a Probabilisztikus Hough-transzformáció használata. A hagyományos transzformáció az egyenes detektálásához, minden élpontot figyelembe vesz, míg a probabilisztikus csak élpontok egy véletlenszerűen kiválasztott részhalmazával foglalkozik. Persze a kisebb halmaz gyorsabb futást eredményez viszont, ha a halmaz túl kicsi, bizonyos detektálandó alakzatok elveszhetnek.\n",
    "    </p>\n",
    "</div>"
   ]
  },
  {
   "cell_type": "code",
   "execution_count": null,
   "id": "8b4d0398-f0be-40f1-82d2-e5acb14b5ecb",
   "metadata": {
    "editable": true,
    "slideshow": {
     "slide_type": ""
    },
    "tags": []
   },
   "outputs": [],
   "source": [
    "import cv2\n",
    "import sys\n",
    "import math\n",
    "import numpy as np\n",
    "from scipy.ndimage import label \n",
    "from util import utils\n",
    "\n",
    "def hough_main(self):\n",
    "    global img \n",
    "    filename = utils.browse_images(self)\n",
    "\n",
    "    img = cv2.imread(filename)\n",
    "    img_gray = cv2.cvtColor(img, cv2.COLOR_BGR2GRAY)\n",
    "\n",
    "    if img is None:\n",
    "        print(\"Failed to load image.\")\n",
    "        return 1    \n",
    "\n",
    "    edges = cv2.Canny(img_gray, 100, 200, apertureSize=3)\n",
    "    lines = cv2.HoughLines(edges, 1.0, np.pi / 180, 250)  \n",
    "\n",
    "    cdst = cv2.cvtColor(edges, cv2.COLOR_GRAY2BGR)\n",
    "    cdstP = np.copy(cdst)\n",
    "    \n",
    "    if lines is not None:\n",
    "        for i in range(0, len(lines)):\n",
    "            rho = lines[i][0][0]\n",
    "            theta = lines[i][0][1]\n",
    "            a = math.cos(theta)\n",
    "            b = math.sin(theta)\n",
    "            x0 = a * rho\n",
    "            y0 = b * rho\n",
    "            pt1 = (int(x0 + 1000*(-b)), int(y0 + 1000*(a)))\n",
    "            pt2 = (int(x0 - 1000*(-b)), int(y0 - 1000*(a)))\n",
    "            cv2.line(cdst, pt1, pt2, (0,0,255), 2, cv2.LINE_AA)\n",
    "\n",
    "    linesP = cv2.HoughLinesP(edges, 1, np.pi / 180, 50, None, 50, 10)\n",
    "    \n",
    "    if linesP is not None:\n",
    "        for i in range(0, len(linesP)):\n",
    "            l = linesP[i][0]\n",
    "            cv2.line(cdstP, (l[0], l[1]), (l[2], l[3]), (0,0,255), 1, cv2.LINE_AA)\n",
    "    \n",
    "    cv2.imshow('Original', img)\n",
    "    cv2.imshow('Hough Lines', cdst)\n",
    "    cv2.imshow('Hough Lines (Probabilistic)', cdstP)\n",
    "    cv2.imshow('Canny', edges)\n",
    "    cv2.waitKey(0)\n",
    "    cv2.destroyAllWindows()\n",
    "\n",
    "if __name__ == \"__main__\":\n",
    "    display(utils.start(hough_main))"
   ]
  },
  {
   "cell_type": "markdown",
   "id": "236b4076-f44b-4b01-97c0-ea7ba0f1ab91",
   "metadata": {
    "editable": false,
    "slideshow": {
     "slide_type": ""
    },
    "tags": []
   },
   "source": [
    "<div STYLE=\"width:65%;margin:auto;text-align:justify; align: center\">\n",
    "    <table STYLE=\"border-left: 1px solid #cdd0d4;border-right: 1px solid #cdd0d4;\">\n",
    "        <tbody >\n",
    "            <tr>\n",
    "                <td>\n",
    "    \n",
    "```python\n",
    "cv2.Canny(img_gray, 100, 200, apertureSize=3)\n",
    "```\n",
    "    \n",
    "</td>\n",
    "                <td STYLE=\"min-width: 200px;max-width: 475px;\">\n",
    "                    A transzformációhoz szükségünk van egy élképre. Az élkép előállításához most a Canny algoritmust használtuk.\n",
    "                </td>\n",
    "            </tr>\n",
    "            <tr>\n",
    "                <td>\n",
    "                    \n",
    "```python\n",
    "cv2.HoughLines(edges, 1.0, np.pi / 180, 250)\n",
    "```\n",
    "</td>\n",
    "                <td STYLE=\"min-width: 200px;max-width: 475px;\">\n",
    "                    A függvény végrehajtja a bináris élképünkön a sztenderd Hough transzformációt. Természetesen szükség van egy inputképre, ami a bináris élképünk. A második paraméter a $\\rho$ paraméter felbontása pixelekben megadva, a harmadik pedig a $\\theta$ paraméter felbontása radiánban kifejezve ($\\frac{\\pi}{180} \\approx 0.01745\\ rad$, azaz $1^\\circ$). A negyedik paraméterünk egy küszöbérték, amely megadja, hogy minimum mekkora értékkel kel rendelkeznie egy akkumulátor cellának, ahhoz, hogy vonalként detektáljuk a rajta áthaladó alakzatot.\n",
    "                </td>\n",
    "            </tr>\n",
    "            <tr>\n",
    "                <td>\n",
    "                    \n",
    "```python\n",
    "cv2.HoughLinesP(edges, 1, np.pi / 180, 50, None, 50, 10)\n",
    "```\n",
    "</td>\n",
    "                <td STYLE=\"min-width: 200px;max-width: 475px;\">\n",
    "                    Ez a függvény a valószínűségi Hough transzformációt hajtja végre. Lényegében csak a két utolsó paraméter különbözik az előzőtől. Az utolsó előtti paraméter itt a minimális vonalhosszúságot jelöli, az utolsó pedig a két pont közötti maximális hézagot. A segédlet nem részletezi ezt az algoritmust de, <a href=\"https://core.ac.uk/download/pdf/47168821.pdf\">ebben</a> a tanulmányban többet is megtudhattok róla.\n",
    "                </td>\n",
    "            </tr>\n",
    "        </tbody>\n",
    "    </table>\n",
    "</div>"
   ]
  },
  {
   "cell_type": "code",
   "execution_count": null,
   "id": "3bcb856e-c35b-4fda-9fd0-7a8ac43359e0",
   "metadata": {
    "editable": false,
    "slideshow": {
     "slide_type": ""
    },
    "tags": []
   },
   "outputs": [],
   "source": [
    "### Ha nem látod a tesztet futtasd le ezt a kódot!\n",
    "from jupyterquiz import display_quiz\n",
    "import json\n",
    "\n",
    "with open('questions/jel_kie.json', encoding='utf-8') as q:\n",
    "    quiz = json.load(q)\n",
    "    display_quiz(quiz)"
   ]
  },
  {
   "cell_type": "markdown",
   "id": "cc43ff6f-86c0-42bd-9957-4cd672c8727c",
   "metadata": {
    "editable": false,
    "slideshow": {
     "slide_type": "slide"
    },
    "tags": []
   },
   "source": [
    "## <div id=\"Felhasznált irodalom\" STYLE=\"width:70%;margin:auto;\" align = \"center\"><br><center>Felhasznált irodalom</center></div> ##"
   ]
  },
  {
   "cell_type": "markdown",
   "id": "9d43bc5c-624e-48c2-9579-1068663b6e1f",
   "metadata": {
    "editable": false,
    "raw_mimetype": "",
    "slideshow": {
     "slide_type": "fragment"
    },
    "tags": []
   },
   "source": [
    "_<p STYLE=\"text-align: center\">Dr. Fazekas Attila: Képfeldolgozás és Orvosi Képalkotás (diasor)</p>_\n",
    "_<p STYLE=\"text-align: center\"><a target=\"_blank\" href=\"https://ijarcce.com/wp-content/uploads/2022/06/IJARCCE.2022.11672.pdf\">Digital Image Processing: Its History and Application</a></p>_\n",
    "_<p STYLE=\"text-align: center\"><a target=\"_blank\" href=\"https://dl.icdst.org/pdfs/files4/01c56e081202b62bd7d3b4f8545775fb.pdf\">Rafael C. Gonzalez, Richard E. Woods: Digital Image Processing (Fourth Edition)</a></p>_\n",
    "_<p STYLE=\"text-align: center\"><a target=\"_blank\" href=\"https://docs.opencv.org/4.10.0\">OpenCV dokumentáció</a></p>_\n",
    "_<p STYLE=\"text-align: center\"><a target=\"_blank\" href=\"https://www.geeksforgeeks.org\">GeeksforGeeks</a></p>_\n",
    "_<p STYLE=\"text-align: center\"><a target=\"_blank\" href=\"https://homepages.inf.ed.ac.uk/rbf/HIPR2/hough.htm\">Hough Transform (The University of Edinburgh )\n",
    "</a></p>_"
   ]
  }
 ],
 "metadata": {
  "kernelspec": {
   "display_name": "Python 3 (ipykernel)",
   "language": "python",
   "name": "python3"
  },
  "language_info": {
   "codemirror_mode": {
    "name": "ipython",
    "version": 3
   },
   "file_extension": ".py",
   "mimetype": "text/x-python",
   "name": "python",
   "nbconvert_exporter": "python",
   "pygments_lexer": "ipython3",
   "version": "3.12.3"
  },
  "toc": {
   "base_numbering": 0
  },
  "widgets": {
   "application/vnd.jupyter.widget-state+json": {
    "state": {},
    "version_major": 2,
    "version_minor": 0
   }
  }
 },
 "nbformat": 4,
 "nbformat_minor": 5
}
