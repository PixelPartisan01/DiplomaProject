{
 "cells": [
  {
   "cell_type": "markdown",
   "id": "90ec2938-341d-4c87-bb78-d6ec3aeb2ff6",
   "metadata": {
    "editable": true,
    "slideshow": {
     "slide_type": "slide"
    },
    "tags": []
   },
   "source": [
    "# <div STYLE=\"width:65%;margin:auto;\" align = \"center\"><a id=\"1\"><center>__Képfeldolgozás__</center></a></div> #\n",
    "<font size=\"2\"><center>`Írta: Váradi Sándor`<center></font><br><br>"
   ]
  },
  {
   "cell_type": "markdown",
   "id": "06eb313f-b2f3-4308-8105-1f177d2063ab",
   "metadata": {},
   "source": [
    "# <div STYLE=\"width:70%;margin:auto;\" align = \"center\"><br><a id=\"index\"><center>Tartalomjegyzék<center></a></div> #"
   ]
  },
  {
   "cell_type": "markdown",
   "id": "38e0f492-51c8-4fa2-ad6a-f5ebef0712ec",
   "metadata": {},
   "source": [
    "<div STYLE=\"width:65%;margin:auto;\" align = \"center\">\n",
    "<p><a href=\"#1\">Képfeldolgozás</a><br></p>\n",
    "<p><a href=\"#index\">Tartalomjegyzék</a><br></p>\n",
    "<p STYLE=\"text-indent: 25px;\"><a href=\"#1.1\">A képfeldolgozás és annak nehézségei</a></p>\n",
    "<p STYLE=\"text-indent: 25px;\"><a href=\"#1.2\">A képek matematikai háttere</a></p>\n",
    "    <p STYLE=\"text-indent: 50px;\"><a href=\"#1.21\">Önellenőrző teszt</a></p>\n",
    "<p STYLE=\"text-indent: 25px;\"><a href=\"#1.3\">Képek előfeldolgozása</a></p>\n",
    "    <p STYLE=\"text-indent: 50px;\"><a href=\"#1.31\">Pixelfényerő transzformáció</a></p>\n",
    "        <p STYLE=\"text-indent: 75px;\"><a href=\"#1.311\">Szürkeárnyalatos transzformáció</a></p>\n",
    "        <p STYLE=\"text-indent: 75px;\"><a href=\"#1.312\">Hisztogram kiegyenlítés</a></p>\n",
    "    <p STYLE=\"text-indent: 50px;\"><a href=\"#1.32\">Szűrés</a></p>\n",
    "        <p STYLE=\"text-indent: 75px;\"><a href=\"#1.321\">Zaj szűrése</a></p>\n",
    "<p STYLE=\"text-indent: 25px;\"><a href=\"#1.4\">Matematikai Morfológia</a></p>\n",
    "    <p STYLE=\"text-indent: 50px;\"><a href=\"#1.41\">Dilatáció és Erózió</a></p>\n",
    "    <p STYLE=\"text-indent: 50px;\"><a href=\"#1.42\">Nyitás és Zárás</a></p>\n",
    "    <p STYLE=\"text-indent: 50px;\"><a href=\"#1.43\">\"Hit-or-Miss\" transzformáció</a></p>\n",
    "<p STYLE=\"text-indent: 25px;\"><a href=\"#1.5\">Fourier-transzformáció</a></p>\n",
    "    <p STYLE=\"text-indent: 50px;\"><a href=\"#1.51\">Ideális Aluláteresztő szűrő</a></p>\n",
    "    <p STYLE=\"text-indent: 50px;\"><a href=\"#1.52\">Ideális Felüláteresztő Szűrő</a></p>\n",
    "    <p STYLE=\"text-indent: 50px;\"><a href=\"#1.53\">Butterworth Szűrő</a></p>\n",
    "    <p STYLE=\"text-indent: 50px;\"><a href=\"#1.54\">Gauss Szűrő</a></p>\n",
    "<p><a href=\"#2\">Felhasznált irodalom</a><br></p>\n",
    "</div>"
   ]
  },
  {
   "cell_type": "markdown",
   "id": "499c4fd9-cdcf-47f0-9f93-dd73d6a33739",
   "metadata": {
    "editable": true,
    "slideshow": {
     "slide_type": "slide"
    },
    "tags": []
   },
   "source": [
    "## <div STYLE=\"width:70%;margin:auto;\" align = \"center\"><br><a id=\"1.1\"><center>A képfeldolgozás és annak nehézségei<center></a></div> ##"
   ]
  },
  {
   "cell_type": "markdown",
   "id": "bf75d6d8-2fd1-413d-b344-f9cdfdd9f277",
   "metadata": {
    "editable": true,
    "slideshow": {
     "slide_type": "subslide"
    },
    "tags": []
   },
   "source": [
    "<div STYLE=\"width:65%;margin:auto;\" align = \"center\"><p STYLE = \"text-align:justify\">Számunkra a világ megértésében, elengedhetetlen szerepet játszik az érzékelés, többek között a látás. Így, ha mesterséges úton kívánunk olyan intelligenciát létrehozni (MI), amely az emberi intelligenciát hivatott imitálni, a látás szintén egy elengedhetetlen tényező. Viszont egy számítógép felépítése igencsak eltér az emberétől, így a gépi látás egyáltalán nem egy triviális probléma. Egyrészről szeretnénk a képeket az ember számára felfogható, másrészről pedig a gép számára értelmezhető  formába alakítani. A képfeldolgozás pontosan ezekre a problémákra keresi a megoldást.</p></div>"
   ]
  },
  {
   "cell_type": "markdown",
   "id": "4953c455-713c-4347-a31b-7d0f25c3951e",
   "metadata": {
    "editable": true,
    "raw_mimetype": "",
    "slideshow": {
     "slide_type": "subslide"
    },
    "tags": []
   },
   "source": [
    "<div STYLE=\"width:65%;margin:auto;\" align = \"center\">\n",
    "    <p STYLE=\"text-align:justify\">Habár képfeldolgozásról hivatalosan az 1960-as évektől kezdve beszélhetünk, a legelső digitális képfeldolgozás már az 1920-as években megtörtént, amikor Londonból New York-ba küldtek képeket víz alatti kábeleken keresztül.<br>1964-ben a <i>Ranger 7</i> nevezetű űrszonda sikeresen képeket továbbított a hold felszínéről. A hold felszínének számítógépes feltérképezése hatalmas siker volt.<br>A 2000-es évekre az általános célú számítógépek gyors elterjedésével a digitális képfeldolgozás lett a leggyakoribb képfeldolgozási forma.\n",
    "    </p>\n",
    "</div>"
   ]
  },
  {
   "cell_type": "markdown",
   "id": "841d25c8-02ff-4c3c-b795-962510be06c3",
   "metadata": {
    "editable": true,
    "slideshow": {
     "slide_type": "subslide"
    },
    "tags": []
   },
   "source": [
    "<div STYLE=\"width:65%;margin:auto;\" align = \"center\">\n",
    "    <p>A számítógépes képfeldolgozás során különféle nehézségekkel kel szembenéznünk. Az alábbi lista tartalmaz ezek közül egy párat:\n",
    "    <ul STYLE=\"text-align:justify\">\n",
    "        <li>Információ veszteség 3D-ből 2D-be alakítás során</li>\n",
    "            <dd>A képrögzítő eszközök (pl.: kamerák) általában csak 2D-ben tudnak rögzíteni, és csak egy szögből, így nehézséget jelenthet az objektumok térben való elhelyezkedésének megállapítása.</dd>\n",
    "        <li>Kép értelmezése</li>\n",
    "            <dd>Akárcsak számunkra, a számítógép számára is nehézséget okozhat a kép, illetve az azon megjelenő formák, objektumok felismerése, értelmezése.</dd>\n",
    "        <li>Zaj</li>\n",
    "            <dd>A túl sok zaj a kép olyan mértékű torzulásához vezethet, amelynél az eredeti információ visszaállítása nagyon nehéz, vagy akár nem is lehetséges.</dd>\n",
    "        <li>Túl sok adat</li>\n",
    "            <dd>Nagy felbontású képek lassíthatják a képfeldolgozási algoritmusokat.</dd>\n",
    "    </ul><br>\n",
    "    </p>\n",
    "</div>"
   ]
  },
  {
   "cell_type": "markdown",
   "id": "5c9bf324-ca9f-4436-bf75-173733c4f065",
   "metadata": {
    "editable": true,
    "slideshow": {
     "slide_type": "fragment"
    },
    "tags": []
   },
   "source": [
    "<div STYLE=\"width:70%;margin:auto;\" align = \"center\">\n",
    "    <div class=\"alert alert-block alert-info\">\n",
    "        <center><b>Feladat:</b> Próbáld meg megállapítani, hogy mit ábrázol az alábbi kép</center>\n",
    "    </div>\n",
    "</div>"
   ]
  },
  {
   "cell_type": "markdown",
   "id": "7110e981-4d7d-4d1f-807e-d3dbf41fc23a",
   "metadata": {
    "editable": true,
    "slideshow": {
     "slide_type": "fragment"
    },
    "tags": []
   },
   "source": [
    "<div STYLE=\"width:65%;margin:auto;\" align = \"center\">\n",
    "    <center>\n",
    "        <figure>\n",
    "            <img src=\"img/ezmiez.jpg\" alt=\"Mi van a képen?\" style=\"width:40%;padding:20px\">\n",
    "            <figcaption>Ez meg mi?</figcaption>\n",
    "        </figure>\n",
    "    </center>\n",
    "</div>"
   ]
  },
  {
   "cell_type": "raw",
   "id": "ccfcfe1f-5ef4-4c34-97c7-f6a12c89bbac",
   "metadata": {},
   "source": [
    "A jupyter valamiért teljesen tönkreteszi a LateX kódokat amiket írok."
   ]
  },
  {
   "cell_type": "code",
   "execution_count": null,
   "id": "a576fd1d-2ab4-449e-bcb5-789d83824b90",
   "metadata": {
    "editable": true,
    "jupyter": {
     "source_hidden": true
    },
    "slideshow": {
     "slide_type": ""
    },
    "tags": [
     "hide_output"
    ]
   },
   "outputs": [],
   "source": [
    "pip install jupyterquiz==2.7.0a3 jupytercards opencv-python -q"
   ]
  },
  {
   "cell_type": "code",
   "execution_count": null,
   "id": "c470caf0-16c8-440d-9681-69e8d1ae400e",
   "metadata": {
    "editable": true,
    "jupyter": {
     "source_hidden": true
    },
    "slideshow": {
     "slide_type": "fragment"
    },
    "tags": [
     "card"
    ]
   },
   "outputs": [],
   "source": [
    "# Ha nem jelenik meg a kártya, futtasd le a kódot\n",
    "#from jupytercards import md2json, display_flashcards\n",
    "#import json\n",
    "\n",
    "#with open('flashcards/flashcard_1.json', encoding='utf-8') as fc:\n",
    "#    data = json.load(fc)\n",
    "#    #print(data)\n",
    "#    display_flashcards(data)"
   ]
  },
  {
   "cell_type": "markdown",
   "id": "d9f751e3-faa1-42b3-8e41-f30ed9643c0d",
   "metadata": {
    "editable": true,
    "slideshow": {
     "slide_type": ""
    },
    "tags": []
   },
   "source": [
    "<div STYLE=\"width:65%;margin:auto;\">\n",
    "    <p STYLE=\"text-align:justify\"><img src=\"img/Amesroom.jpg\" alt=\"Ames szoba?\" STYLE=\"width:40%;margin-left:20px;float:right\">Tény, hogy a fenti kép elég becsapós volt, de tekintüsk meg a következő képet. Annak ellenére, hogy felismerjük rajta az embereket, a méretek valahogy nem tűnnek helyesnek. Az illúziót egyébként egy úgynevezett <i>Ames szobában</i> lehet elérni, ahol a padló és a szoba hátsó fala, direkt nem vízszintes.\n",
    "    </p>\n",
    "</div>"
   ]
  },
  {
   "cell_type": "markdown",
   "id": "4ba98327-5dc7-48cb-b2cd-e8e8f108e90c",
   "metadata": {},
   "source": [
    "## <div STYLE=\"width:65%;margin:auto;\" align = \"center\"><br><a id=\"1.2\"><center>A képek matematikai háttere</center></a></div> ##"
   ]
  },
  {
   "cell_type": "markdown",
   "id": "3e3b4575-397b-4951-8fd4-3ba4c999ac15",
   "metadata": {},
   "source": [
    "><div STYLE=\"width:65%;margin:auto;\" align = \"center\">\n",
    "    <p STYLE=\"text-align:justify\"><i>\n",
    "        <b>Definíció:</b></i> A Zn halmaz egy n dimenziós digitális sík, elemei pontok. A digitális sík egy véges és nem üres részhalmaza, n dimenziós digitális halmaz.<br>\n",
    "Legyen $f:X \\rightarrow \\{ 0,1,...,m-1 \\}, (m \\in N)$ egy függvény $X$ digitális halmaz felett értelmezve. Ezt a függvényt tekinthetjük egy digitális képnek, amely a szürke szín $m$ darab árnyalatból épül fel (szürkeségi szint).<br>\n",
    "A $(p, f(p)),$ $(p \\in X)$ <i>pixel</i>nek (<i>picture (x) element</i>) nevezzük, ahol $p$ a pixel koordinátája és $f(p)$ az adott koordinátán lévő pixel szürkeségi szintjét megadó függvény.\n",
    "    </p>\n",
    "</div>"
   ]
  },
  {
   "attachments": {},
   "cell_type": "markdown",
   "id": "260d31b2-2509-42a0-996c-db0cfecfe75a",
   "metadata": {},
   "source": [
    "><div STYLE=\"width:65%;margin:auto;\" align = \"center\">\n",
    "    <p STYLE=\"text-align:justify\"><i>\n",
    "        <b>Definíció:</b></i> Legyen f egy digitális kép adott X digitális halmaz felett. Azt a f digitális képet, amelynek szürkeségi szintje 2 (azaz csak két árnyalatból épül fel), bináris képnek hívjuk, ahol F={p∈X|f(p)=1} az előtér (<i>foreground</i>), B=p∈X|f(p)=0 a háttér (<i>background</i>). </p>\n",
    "    <center>\n",
    "        <figure>\n",
    "            <img STYLE=\"float:bottom;margin-left:15px;\" src=\"img/binary_image.png\">\n",
    "            <figcaption>Előtér és Háttér pixelek</figcaption>\n",
    "        </figure>\n",
    "    </center>\n",
    "</div>\n"
   ]
  },
  {
   "cell_type": "markdown",
   "id": "110ff446-deb4-4049-83b3-88217608d16e",
   "metadata": {},
   "source": [
    "### <div STYLE=\"width:65%;margin:auto;\" align = \"center\"><br><a id=\"1.21\"><center>Önellenőrző teszt</center></a></div> ###"
   ]
  },
  {
   "cell_type": "code",
   "execution_count": null,
   "id": "2898480a-6598-4624-acf5-7aee629c411c",
   "metadata": {
    "jupyter": {
     "source_hidden": true
    }
   },
   "outputs": [],
   "source": [
    "#Ha nem látod a tesztet futtasd le ezt a kódot!\n",
    "from jupyterquiz import display_quiz\n",
    "import json\n",
    "\n",
    "with open('questions/quiz_1.2.json', encoding='utf-8') as q:\n",
    "    quiz = json.load(q)\n",
    "    #print(data)\n",
    "    display_quiz(quiz)"
   ]
  },
  {
   "cell_type": "markdown",
   "id": "460b7109-ea86-4841-9340-a5935d83490a",
   "metadata": {},
   "source": [
    "## <div STYLE=\"width:65%;margin:auto;\" align = \"center\"><br><a id=\"1.3\"><center>Képek előfeldolgozása</center></a></div> ##"
   ]
  },
  {
   "cell_type": "markdown",
   "id": "30c41f2b-d913-48a3-9877-9162fdff6557",
   "metadata": {
    "editable": true,
    "slideshow": {
     "slide_type": ""
    },
    "tags": []
   },
   "source": [
    "<div STYLE=\"width:65%;margin:auto;text-align:justify\">\n",
    "    <p>\n",
    "    <div width=\"inherit\" STYLE=\"float:right;margin-left:20px;\">\n",
    "        <center><img width=\"60%\" src=\"img/Lenna_grayscale.jpg\" ><br><p STYLE=\"text-align:center\">Lenna szürkeárnyalatos képként tekinthető intenzitás képnek</p></center></div>\n",
    "        A képek előfeldolgozása alatt azt a folyamatot értjük, amely során a kép által tárolt adatokat, vagy a kép bizonyos jellemzőit javítjuk, esetleg a képen geometriai transzformációkat hajtunk végre további feldolgozás céljából. A folyamatot <i>intenzitás képeken</i> hajtjuk végre és a folyamat végén intenzitás képeket is kapunk vissza [Megjegyzés: az intenzitás képek alatt olyan adatmátrixokat értünk, amely a kép pixeleinek intenzitását reprezentálja egy bizonyos tartományon belül. Ilyen képek például a szürkeárnyalatos képek, ahol a pixelek intenzitás értéke $0$ és $1$ között mozog].<br><br>\n",
    "        A kép-előfeldolgozásnak a következő négy kategóriáját tudjuk elkülöníteni:\n",
    "        <ul>\n",
    "            <li>\n",
    "                Pixelfényerő transzformáció\n",
    "            </li>\n",
    "            <li>\n",
    "                Geometriai transzformáció\n",
    "            </li>\n",
    "            <li>\n",
    "                Képfeldolgozás lokális szomszédság felhasználásával\n",
    "            </li>\n",
    "            <li>\n",
    "                Képhelyreállítás\n",
    "            </li>\n",
    "        </ul>\n",
    "        <p STYLE=\"text-align:justify\">Ezen kategóriák közül fogunk példákat nézni néhányra az elkövetkező fejezetekben.</p>\n",
    "    </p>\n",
    "</div>"
   ]
  },
  {
   "cell_type": "markdown",
   "id": "b1cf2fbc-2434-48d1-8069-94d525ab73ee",
   "metadata": {},
   "source": [
    "### <div STYLE=\"width:65%;margin:auto;\" align = \"center\"><br><a id=\"1.31\"><center>Pixelfényerő transzformáció</center></a></div> ###\n",
    "<p STYLE=\"text-align:center;color:gray\">Pixel brightness transformation</p>"
   ]
  },
  {
   "cell_type": "markdown",
   "id": "59de8dfa-c260-4b3d-a2c1-777b081484db",
   "metadata": {},
   "source": [
    "<div STYLE=\"width:65%;margin:auto;text-align:justify\">\n",
    "    <p STYLE=\"text-align:justify\">\n",
    "        Talán az elnevezésből nem volt annyira nehéz kikövetkeztetni, hogy ez a transzformáció a pixelek fényerejét módosítja. A képfeldolgozási metódusok közül ez az egyik legegyszerűbb. Két fajtáját különböztetjük meg: szürkeárnyalatos transzformációk (<i>gray-scale transformation</i>) és fényerő korrekciók (<i>brightness corrections</i>).\n",
    "    </p>\n",
    "</div>"
   ]
  },
  {
   "cell_type": "markdown",
   "id": "e11cb493-c851-4d07-97ea-eacf72b3e07f",
   "metadata": {},
   "source": [
    "#### <div STYLE=\"width:65%;margin:auto;\" align = \"center\"><br><a id=\"1.311\"><center>Szürkeárnyalatos transzformáció</center></a></div> ####\n",
    "<p STYLE=\"text-align:center;color:gray\">Gray-scale transformation</p>"
   ]
  },
  {
   "cell_type": "markdown",
   "id": "d089421a-9109-4589-abd9-613bb7131ee7",
   "metadata": {},
   "source": [
    "<div STYLE=\"width:65%;margin:auto;text-align:justify\">\n",
    "    <p STYLE=\"text-align:justify\">A szürkeárnyalatos transzformációk, olyan metódusok, amelyek a pixelek fényerejét szeretnék $[p_0,p_k]$ tartomány beli értékekről, egy új $[q_0,q_k]$ tartománybeli értékre alakítani. Erre az egyik leggyakrabban használt szakaszonként megadott lineáris függvény, a fényerő küszöbölés [<i>brightness thresholding</i>].\n",
    "    </p>\n",
    "    <p STYLE=\"text-align:justify\">A módszer lénygében a következő: \n",
    "        <ul>\n",
    "            <li>Vegyünk fel $n$ küszöbértéket, jelöljük ezeket $k$-val ($k_0,k_1,...,k_n$).</li>\n",
    "            <li>Létrejött $n+1$ darab tartományunk, mindegyikhez határozzunk meg egy szürkeségi szint értéket.</li>\n",
    "            <li>Minden egyes pixel értékét, attól függően, hogy melyik tartományba esnek, írjuk felül a tartományhoz rendelt szürkeségi értékkel.</li>\n",
    "        </ul>\n",
    "    A módszer nagyszerűen használható a képek fekete-fehérré alakításhoz, avagy binarizációjához (ekkor $n=1$).\n",
    "    </p>\n",
    "    <p STYLE=\"text-align:justify\">\n",
    "        Hogy könnyebben megértsük miről is van szó, nézzünk meg egy példát. \n",
    "    </p>\n",
    "</div>"
   ]
  },
  {
   "cell_type": "markdown",
   "id": "55ea6e50-834b-475d-b79c-ca7e5664f777",
   "metadata": {},
   "source": [
    "<div STYLE=\"width:65%;margin:auto\">\n",
    "    <p STYLE=\"text-align:justify\">Az alábbi grafikon egy szürkeárnyalatos kép hisztogramját ábrázolja, ahol az i tengely a szürkeségi szinteket ($[0.0,1.0]$) reprezentálja, a $h(i)$ tengely, pedig azt mondja el nekünk, hogy az adott szürkeségi szinttel rendelkező pixelekből hány darab található a képen. Jelöljünk ki egy $k$ küszöbértéket. A küszöbérték kiválasztásában segíthet, a hisztogram, a lenti példában a küszöbértékként azt a szürkeárnyalatot választottuk, amelyből a legkevesebb van a képen. Ezzel létrejött két tartományom, az egyikben a pixelek világossági értéke kisebb, a másikban bedig nagyobb vagy egyenlő, mint $k$. Az első tartományhoz hozzárendeljük a $0$ (azaz fekete), a másodikhoz pedig a $1$ (azaz fehér) világossági értéket. Azoknak a pixeleknek, amelyeknek az eredeti értékük $k$−nál kisebb volt, az új értékük $0$, a többi pixelnek pedig $1$ lesz.</p>\n",
    "    <center><img src=\"img/tresholding_histogram.png\"></center>\n",
    "</div>"
   ]
  },
  {
   "cell_type": "markdown",
   "id": "6419419d-de18-4077-8722-461b37647dd4",
   "metadata": {},
   "source": [
    "<div STYLE=\"width:65%;margin:auto;text-align:justify\">\n",
    "    <p STYLE=\"text-align:justify\">\n",
    "        <img src=\"img/fenykepesz.png\" width=\"30%\" STYLE=\"float:left;margin-right:20px;\">\n",
    "        <img src=\"img/fenykepesz_BW.png\" width=\"30%\" STYLE=\"float:right;margin-left:20px;\">\n",
    "        A fent részletezett küszöbölési megoldást alkalmazva a balra látható képre, a jobb oldali képet kapjuk. Mivel csak egy küszöbértéket választottunk, ezért a végeredményként kapott kép csak két árnyalatot tartalmaz (feketét és fehéret), ezért ezt 2-es szintű küszöbölésnek (<i>2-level tresholding</i>) nevezzük. Több küszöbérték kiválasztásával, magasabb szintekig is eljuthatunk. A lent lévő képeken például 3-as, 4-es és 5-ös szintű küszöbölés lett alkalmazva. Vegyük észre, hogy minél kevesebb küszöbértéket választunk, annál kevesebb részlet jelenik meg a képeken.\n",
    "        <img src=\"img/fenykepesz_3_4_5TH.png\">\n",
    "    </p>\n",
    "\n",
    "</div>"
   ]
  },
  {
   "cell_type": "markdown",
   "id": "bf722e3f-30f4-41a7-99c2-0d3c85b48856",
   "metadata": {},
   "source": [
    "<center><h4>--------</h4></center>\n",
    "<center><h4>Példakód</h4></center>\n",
    "<center><h4>--------</h4></center>"
   ]
  },
  {
   "cell_type": "markdown",
   "id": "7aef7291-ecd7-4ec9-aaee-7a6a2a51d1ec",
   "metadata": {},
   "source": [
    "#### <div STYLE=\"width:65%;margin:auto;\" align = \"center\"><br><a id=\"1.312\"><center>Hisztogram kiegyenlítés</center></a></div> ####\n",
    "<p STYLE=\"text-align:center;color:gray\">Histogram equalization</p>"
   ]
  },
  {
   "cell_type": "markdown",
   "id": "e3317c9e-e6d2-4427-8cbf-657db5c4a812",
   "metadata": {},
   "source": [
    "<div STYLE=\"width:65%;margin:auto;text-align:justify\">\n",
    "    <p STYLE=\"text-align:justify\">\n",
    "        Emlékezzünk vissza az előző fejezetben bemutatott hisztogramra. Megvizsgálva megállapíthattuk, hogy bizonyos intenzitási értékek erősen dominálnak, míg más értékekből alig van a képen. Fennállhat az igény arra, hogy a világossági értékek eloszlása egyenletesebb legyen (ennek eredményeképp a hisztogram is simább lesz). Mivel a hisztogram kiegyenlítés végén, a hisztogram maximum értéke közelebb lesz a minimumhoz, ez a módszer alkalmazható a képek kontrasztjának javításához.\n",
    "    </p>\n",
    "    <p STYLE=\"text-align:justify\">\n",
    "        Egy N×M méretű, $G$ szürkeárnyalatot tartalmazó kép esetén az algoritmus a következő:\n",
    "        <ul>\n",
    "            <li>Inicializáljunk egy $G$ hosszúságú, $0$ értékekkel feltöltött $H$ tömböt. Minden intenzitásértéknek feleltessünk meg egy indexet.</li>\n",
    "            <li>Generáljunk le egy hisztogramot. Menjünk végig a kép minden pixelén és számoljuk össze az intenzitásértékeket úgy, hogy inkrementáljuk az árnyalatoknak megfelelő indexex alatt található értéket a $H$ tömbben. Azaz, ha egy $p$ pixel intenzitása $g_p$, akkor: $H[g_p] = H[g_p] + 1$.</li>\n",
    "            <li>A hisztogramból állítsuk elő a kumulatív hisztogramot a következőképpen: \n",
    "                $$ \n",
    "                \\begin{align}\n",
    "                    &H_{c}[0] =H_{c}[0], \\\\\n",
    "                    &H[i] =H[i-1] \\\\ \n",
    "                    &i =1, ..., G-1 \n",
    "                \\end{align} \n",
    "                $$\n",
    "            </li>\n",
    "            <li>Hozzunk létre, egy $T$ tömböt és legyen $$T[p] = round \\left( \\dfrac{\\left(G-1\\right)}{\\left(N \\bullet M\\right)} \\bullet H_{c}[p] \\right)$$</li>\n",
    "        </ul>\n",
    "    </p>\n",
    "    <p STYLE=\"text-align:justify\">A kiegyenlítés hatásosságát az alábbi kép szemlélteti (jobbra az eredeti, balra a kiegyenlítésen átesett kép látható).</p>\n",
    "    <center><img src=\"img/hisequ.png\"></center>\n",
    "</div>"
   ]
  },
  {
   "cell_type": "markdown",
   "id": "2ff1aa70-cc53-4251-805f-06d6999b67fc",
   "metadata": {},
   "source": [
    "<center><h4>--------</h4></center>\n",
    "<center><h4>Példakód</h4></center>\n",
    "<center><h4>--------</h4></center>"
   ]
  },
  {
   "cell_type": "markdown",
   "id": "7cc0f47e-da42-4dbe-89b3-a9dbf8b4ef80",
   "metadata": {},
   "source": [
    "### <div STYLE=\"width:65%;margin:auto;\" align = \"center\"><br><a id=\"1.32\"><center>Szűrés</center></a></div> ###\n",
    "<p STYLE=\"text-align:center;color:gray\">Filtering</p>"
   ]
  },
  {
   "cell_type": "markdown",
   "id": "a32cc5aa-e868-4941-8935-9ceaf277d633",
   "metadata": {},
   "source": [
    "<div STYLE=\"width:65%;margin:auto;text-align:justify\">\n",
    "    <p STYLE=\"text-align:justify\">\n",
    "        Szűrésnek nevezünk azokat a műveleteket, amely során egy pixel új világossági értékét egy megfelelően kicsi szomszédságából állapítjuk meg.\n",
    "    </p>\n",
    "</div>"
   ]
  },
  {
   "cell_type": "markdown",
   "id": "1bde2bc1-039c-43b9-be4b-45001f7241f5",
   "metadata": {},
   "source": [
    "#### <div STYLE=\"width:65%;margin:auto;\" align = \"center\"><br><a id=\"1.321\"><center>Zaj szűrése</center></a></div> ####\n",
    "<p STYLE=\"text-align:center;color:gray\">Noise suppression</p>"
   ]
  },
  {
   "cell_type": "markdown",
   "id": "be2a95cc-aafc-443e-a676-c3c6fd930735",
   "metadata": {},
   "source": [
    "<div STYLE=\"width:65%;margin:auto;text-align:justify\">\n",
    "    <p STYLE=\"text-align:justify\">\n",
    "        Zajszűrés során, szeretnénk a zaj által torzult pixelek értékét az eredeti értékükhöz lehető legközelebbi értékre állítani. Ennek eléréséhez a pixelek egy kis szomszédságát fogjuk felhasználni. Mivel a pixelek eredeti színére a környező pixelek színéből fogunk következtetni, ezért annak az esélye, hogy egy torzult pixelt sikerül pontosan az eredeti értékére visszaállítani igen kicsi. \n",
    "    </p>\n",
    "    <p>Két, aránylag primitív zaj szűrési technikát fogunk megvizsgálni: az <b>átlagoló</b> és a <b>medián</b> szűrőt. </p>\n",
    "</div>"
   ]
  },
  {
   "cell_type": "markdown",
   "id": "1bad492e-3f56-4ece-a13f-5ca1660a12b6",
   "metadata": {},
   "source": [
    "<div STYLE=\"width:65%;margin:auto;text-align:justify\">\n",
    "    <p STYLE=\"text-align:justify\">\n",
    "        <b>ÁTLAGOLÓ SZŰRŐ:</b> Az átlagoló szűrő, egy pixel új értékét, a pixel  és a körülötte elhelyezkedő szomszédos pixelek értékének átlagából számolja ki. A lenti táblázat egy pixel (piros szám) új értékének meghatározását mutatja be. Vegyük észre, hogy a pixel körül gyanúsan sok 30 körüli érték van, így előfordulhat (bár nem állapítható meg biztosan), hogy a vizsgált pixel, illetve a szomszédságában lévő kicsi értékkel rendelkező pixelek torzultak. A módszer egyszerű átlagolást használ. Feltételezve, hogy az olvasó úgy jutott el idáig, hogy tud átlagot számolni, nem részletezném a folyamatot, ami a 9 darab szám átalgának kiszámolásához szükséges &#x1F601.\n",
    "    </p>\n",
    "</div>"
   ]
  },
  {
   "cell_type": "markdown",
   "id": "4b7d02c4-91a5-4ff8-91cf-ddb06206d5a4",
   "metadata": {},
   "source": [
    "| | Átlagoló Szűrő  | |\n",
    "|:--------:|:--------:|:--------:|\n",
    "|  1   |  33   |  36   |\n",
    "| 30  |  <font color='red'>20</font>   |  2   |\n",
    "|  29   |  5  |  30   |"
   ]
  },
  {
   "cell_type": "markdown",
   "id": "ec6df98b-01c5-4bd1-a328-4e152cfab58d",
   "metadata": {},
   "source": [
    "$$\\big\\Downarrow$$"
   ]
  },
  {
   "cell_type": "markdown",
   "id": "2d318fe2-e4a9-4ee5-aea3-d0d9680b0000",
   "metadata": {},
   "source": [
    "| | Átlagoló Szűrő  | |\n",
    "|:--------:|:--------:|:--------:|\n",
    "|  1   |  33   |  36   |\n",
    "| 30  |  <font color='red'>21</font>   |  2   |\n",
    "|  29   |  5  |  30   |"
   ]
  },
  {
   "cell_type": "markdown",
   "id": "46fcea6d-c961-44ec-bc9d-39179cd3d2ac",
   "metadata": {},
   "source": [
    "<div STYLE=\"width:65%;margin:auto;text-align:justify\">\n",
    "    <p STYLE=\"text-align:justify\">\n",
    "        $20.6666666666667 \\approx 21$. Nem sokat változott az eredeti értékéhezhez képest. A szomszédok alapján arra számítottunk volna, hogy ennek a pixelenek is az intenzitás értéke $30$ közelében lesz. Az átlagoló szűrő nagy problémája magából az átlagolás műveletéből adódik, ugyanis a számtani közepet nagyban befolyásolják a szélsőségesen eltérő értékek. Vegyük példának újra Lennát. Vizsgáljuk meg a a képet szűrés előtt és után!\n",
    "    </p>\n",
    "    <center><img STYLE=\"width:50%\" src=\"img/AVGFILT.png\"></center>\n",
    "</div>"
   ]
  },
  {
   "cell_type": "markdown",
   "id": "6407e59d-b2db-42e9-9658-8676f5bedfd6",
   "metadata": {},
   "source": [
    "<center><h4>--------</h4></center>\n",
    "<center><h4>Példakód</h4></center>\n",
    "<center><h4>--------</h4></center>"
   ]
  },
  {
   "cell_type": "markdown",
   "id": "7ecd4a70-b784-468b-ae80-5128bb487d3e",
   "metadata": {},
   "source": [
    "<br>\n",
    "<div STYLE=\"width:65%;margin:auto;text-align:justify\">\n",
    "    <p STYLE=\"text-align:justify\">\n",
    "        <b>MEDIÁN SZŰRŐ:</b>Jelentős javulást tudunk elérni az előző módszerhez képes a medián szűrővel. Az elv ugyan az mint az előbb, csak most helyzeti középértéket használunk átlag helyett. Alkalmazzuk ezt a módszert az előző példára.\n",
    "    </p>\n",
    "</div>"
   ]
  },
  {
   "cell_type": "markdown",
   "id": "b8d1ab7e-d6d7-448e-9651-0aaf31eefa77",
   "metadata": {},
   "source": [
    "| | Medián Szűrő  | |\n",
    "|:--------:|:--------:|:--------:|\n",
    "|  1   |  33   |  36   |\n",
    "| 30  |  <font color='red'>20</font>   |  2   | \n",
    "|  29   |  5  |  30   |"
   ]
  },
  {
   "cell_type": "markdown",
   "id": "d152e72c-b04f-48c5-806d-70693bd14ea9",
   "metadata": {},
   "source": [
    "$$\\big\\Downarrow$$"
   ]
  },
  {
   "cell_type": "markdown",
   "id": "35dbe624-4cbb-474c-9370-c628a5fc543d",
   "metadata": {},
   "source": [
    "| | Medián Szűrő  | |\n",
    "|:--------:|:--------:|:--------:|\n",
    "|  1   |  33   |  36   |\n",
    "| 30  |  <font color='red'>29</font>   |  2   | \n",
    "|  29   |  5  |  30   |"
   ]
  },
  {
   "cell_type": "markdown",
   "id": "79b4eb5c-ea60-4da3-bf97-0e8fd7d00cb8",
   "metadata": {},
   "source": [
    "<br>\n",
    "<div STYLE=\"width:65%;margin:auto;text-align:justify\">\n",
    "    <p STYLE=\"text-align:justify\">\n",
    "        Sikeresen elértük, hogy egy valamivel szimpatikusabb értéket válasszunk új intenzitás értékként. Nézzük is meg, hogy fest Lenna, ezt a módszer alkalmazzuk.\n",
    "    </p>\n",
    "    <center><img STYLE=\"width:50%\" src=\"img/MEDFILT.png\"></center>\n",
    "</div>"
   ]
  },
  {
   "cell_type": "markdown",
   "id": "94a5f306-63c8-4657-bbc8-b77794191a94",
   "metadata": {},
   "source": [
    "<br>\n",
    "<div STYLE=\"width:65%;margin:auto;text-align:justify\">\n",
    "    <p STYLE=\"text-align:justify\">\n",
    "        Az előző példákban mindíg $9 \\times 9$-es ablakméretet használtunk, de ez persze nincs kőbe vésve. Bármekkorát használhatunk, a különböző ablakok különböző eredményeket adhatnak vissza. Jellemzően minél nagyobb az ablak annál nagyobb az elmosódás. Az elmosódás növelését az iterációk számával (hányszor megyünk végig minden pixelen) is növelhetjük. Ez utóbbival nem árthat óvatosnak lenni. Ha túl sok az iteráció, végeredményül kaphatunk egy egyszínű képet.\n",
    "    </p>\n",
    "</div>"
   ]
  },
  {
   "cell_type": "markdown",
   "id": "b0dd90fc-8386-4435-b3d6-07d443a5fd4a",
   "metadata": {},
   "source": [
    "<center><h4>--------</h4></center>\n",
    "<center><h4>Példakód</h4></center>\n",
    "<center><h4>--------</h4></center>"
   ]
  },
  {
   "cell_type": "markdown",
   "id": "fafac960-8805-47f5-9af3-9ec33c622d9e",
   "metadata": {},
   "source": [
    "## <div STYLE=\"width:65%;margin:auto;\" align = \"center\"><br><a id=\"1.4\"><center>Matematikai Morfológia</center></a></div> ##"
   ]
  },
  {
   "cell_type": "markdown",
   "id": "97d805f6-4c29-45cd-9b31-dca187df0bff",
   "metadata": {},
   "source": [
    "<br>\n",
    "<div STYLE=\"width:65%;margin:auto;text-align:justify\">\n",
    "    <p STYLE=\"text-align:justify\">\n",
    "        A matematikai morfológia két úriember, Georges Matheron és Jean Serra nevéhez köthető. A matematikai morfológia halmazelméleten alapszik, ezért képeket halamzokként reprezentáljuk. Alapvetően egy olyan eszközként használjuk, aminek segítségével végrehajthatunk elő- illetve utófeldolgozást a képeken, mint például szűrés vagy metszés, kivonhatunk olyan összetevőket a képpből, amelyek hasznosak lehetnek a régió alalkjának ábrázolásában vagy leírásában, mint a konvex burok, szegmentálhatunk, illetve mennyiségi leírást adhatunk a képen megjelenő objektumokról (terület, kerület).\n",
    "    </p>\n",
    "</div>"
   ]
  },
  {
   "cell_type": "markdown",
   "id": "e92e3f38-4cf2-4d73-b079-33e79fb5bef4",
   "metadata": {},
   "source": [
    "<div STYLE=\"width:65%;margin:auto;text-align:justify\">\n",
    "    <p STYLE=\"text-align:justify\">\n",
    "        $\\Psi (X) \\rightarrow X$(ahol $X$ pontok egy halmaza) morfológiai transzformáció a következő tulajdonságokkal rendelkezik:\n",
    "    </p>\n",
    "    <p STYLE=\"text-align:justify\">\n",
    "        <ol>\n",
    "            <li><b>Kompatibilitás az eltolással:</b></li>\n",
    "                <dd>Legyen  $\\Psi$ egy az $O$ koordinátarendszer középpontjától függő transzformáció és jelöljük ezt a transzformációt $\\Psi_O$-val. Ha minden pont el lett tolva egy $-h$ vektorral, akkor azt $\\Psi_{-h}$-val fejezzük ki. $$\\Psi_O(X_h) = \\Psi_{-h}(X)_h.$$ Ha $\\Psi$ nem függ $O$ origójától, akkor $$\\Psi(X_h) = \\Psi(X)_h.$$</dd><br>\n",
    "            <li><b>Kompatibilitás a méretváltozással:</b></li>\n",
    "                <dd>Legyen $\\lambda X$ homotetikus méretezése az $X$ ponthalmaznak. Jelölje $\\Psi\\lambda$ azt a transzformációt ami $\\lambda$ pizitív paramétertől függ. Ekkor $$\\Psi_\\lambda(X) = \\lambda\\Psi\\left(\\frac{1}{\\lambda} X\\right).$$<br> Ha $\\Psi$ nem függ $\\lambda$-tól, akkor $$\\Psi(\\lambda X) = \\lambda\\Psi(X).$$</dd><br>\n",
    "            <li><b>Local Knowlage:</b></li>\n",
    "                <dd>Ezen elv szerint egy nagyobb struktúrának egyszere csak egy része vizsgálható meg. Szimbolikusan ezt a következő formában írhatjuk le: $$\\left( \\left( \\Psi \\left( X \\cap Z \\right) \\right) \\cap Z' \\right).$$</dd><br>\n",
    "            <li><b>Felső Félig-folytonosság</b></li>\n",
    "                <dd></dd><br>\n",
    "        </ol>\n",
    "    </p>\n",
    "</div>"
   ]
  },
  {
   "cell_type": "markdown",
   "id": "b3cc0d89-4ee5-4c29-9f41-aecba980322c",
   "metadata": {},
   "source": [
    "### <div STYLE=\"width:65%;margin:auto;\" align = \"center\"><br><a id=\"1.41\"><center>Dilatáció és Erózió</center></a></div> ###"
   ]
  },
  {
   "cell_type": "markdown",
   "id": "74f23535-4827-466c-9268-dab7b55af99d",
   "metadata": {},
   "source": [
    "<br>\n",
    "<div STYLE=\"width:65%;margin:auto;text-align:justify\">\n",
    "    <p STYLE=\"text-align:justify\">\n",
    "        A dilatáció művelete során egy halmazt bővítünk ($X$, ez a képünk) egy másik halmaz felhasználásával ($B$, ez a \"struktúráló elem\"), jelölése $\\oplus$. Ezzel elérhetjük, hogy a képen lévő objektum bővüljön. <br> Bináris képek esetén a következőt csináljuk: \"Helyezzük\" a struktúráló elemünket a középső elemnél fogva a bal felső sarokban lévő pixelre (mint egy maszkot), majd páronkét hasonlítsuk össze a kép lefedett pixelei és a strukturáló elem értékeit. Ha, van legalább egy olyan érték pár, ahol mind a két érték $1$ (\"hit\"), akkor a kimeneten a vizsgált pixellel megegyezző helyen a pixel értéke $1$-lesz. Ha nincs ilyen pár, megtartjuk az eredeti értéket. Végigmegyünk a pixeleken. Gyorsíthatjuk az algoritmust, ha csak a $0$ értékű pixeleket vizsgáljuk, mivel az $1$-es értékű pixelelk értéke nem fog változni. <br>Formálisn leírhatjuk úgy, hogy $$X \\oplus B = \\{ p \\in Z^2 : p = x + b, x \\in X \\land b \\in B \\}.$$\n",
    "    </p>\n",
    "    <p STYLE=\"text-align:justify\">\n",
    "    De talán jobb, ha nézünk egy példát:<br>\n",
    "    </p>\n",
    "</div>"
   ]
  },
  {
   "cell_type": "markdown",
   "id": "4786e10f-81ec-4f36-9321-8f57efd47730",
   "metadata": {},
   "source": [
    "<div STYLE=\"width:65%;margin:auto;display:flex;align-items:baseline\">\n",
    "    <div STYLE=\"float:left;flex-grow:1;\">\n",
    "        <table STYLE=\"text-align:center;\">\n",
    "            <tr>\n",
    "                <td colspan=\"4\"><center>Bemeneti Bináris Kép ($X$)</center></td>\n",
    "            </tr>\n",
    "            <tr>\n",
    "                <td>1</td>\n",
    "                <td>0</td>\n",
    "                <td>0</td>\n",
    "                <td>0</td>\n",
    "            </tr>\n",
    "            <tr>\n",
    "                <td>1</td>\n",
    "                <td>1</td>\n",
    "                <td>0</td>\n",
    "                <td>0</td>\n",
    "            </tr>\n",
    "            <tr>\n",
    "                <td>1</td>\n",
    "                <td>1</td>\n",
    "                <td>1</td>\n",
    "                <td>0</td>\n",
    "            </tr>\n",
    "        </table>\n",
    "    </div>\n",
    "    <div STYLE = \"margin:auto;text-align:center;flex-grow:4\">\n",
    "        $\\oplus$\n",
    "    </div>\n",
    "    <div STYLE=\"float:right;flex-grow:2\">\n",
    "        <table STYLE=\"text-align:center;\">\n",
    "            <tr>\n",
    "                <td colspan=\"3\"><center>Struktúráló Elem $\\left(B\\right)$</center></td>\n",
    "            </tr>\n",
    "            <tr>\n",
    "                <td>0</td>\n",
    "                <td>1</td>\n",
    "                <td>0</td>\n",
    "            </tr>\n",
    "            <tr>\n",
    "                <td>1</td>\n",
    "                <td><font color='red'>1</font></td>\n",
    "                <td>1</td>\n",
    "            </tr>\n",
    "            <tr>\n",
    "                <td>0</td>\n",
    "                <td>1</td>\n",
    "                <td>0</td>\n",
    "            </tr>\n",
    "        </table>\n",
    "    </div>\n",
    "    <div STYLE = \"margin: auto;text-align:center;flex-grow:4\">\n",
    "        $\\Longrightarrow$\n",
    "    </div>\n",
    "    <div STYLE=\"float:right;flex-grow:1\">\n",
    "        <table STYLE=\"text-align:center;\">\n",
    "            <tr>\n",
    "                <td colspan=\"4\"><center>A kép dilatáció után</center></td>\n",
    "            </tr>\n",
    "            <tr>\n",
    "                <td>1</td>\n",
    "                <td>1</td>\n",
    "                <td>0</td>\n",
    "                <td>0</td>\n",
    "            </tr>\n",
    "            <tr>\n",
    "                <td>1</td>\n",
    "                <td>1</td>\n",
    "                <td>1</td>\n",
    "                <td>0</td>\n",
    "            </tr>\n",
    "            <tr>\n",
    "                <td>1</td>\n",
    "                <td>1</td>\n",
    "                <td>1</td>\n",
    "                <td>1</td>\n",
    "            </tr>\n",
    "        </table>\n",
    "    </div>\n",
    "</div>"
   ]
  },
  {
   "cell_type": "markdown",
   "id": "d598d63f-9a13-4ce3-81a3-f8077ec4d283",
   "metadata": {},
   "source": [
    "<center><h4>--------</h4></center>\n",
    "<center><h4>Példakód</h4></center>\n",
    "<center><h4>--------</h4></center>"
   ]
  },
  {
   "cell_type": "markdown",
   "id": "9ffbc9a0-6226-4779-9fb7-6b7b127b3676",
   "metadata": {},
   "source": [
    "<br>\n",
    "<div STYLE=\"width:65%;margin:auto;text-align:justify\">\n",
    "    <p STYLE=\"text-align:justify\">\n",
    "        Az erózió a dilatáció \"fordítottja\". Az algoritmus ugyan az lesz, azzal a különbséggel, hogy, ha van \"hit\", akor a pixel értékét $0$-ra állítjuk a kimeneti képen, illetve, ha a talált mintázat megegyezik a struktúráló elemmel, a pixel értékét békén hagyjuk (ezt hívjuk \"fit\"-nek). Itt is gyorsíthatunk az algoritmuson, csak itt a $0$-ás értékű pixelelket hagyjuk ki az $1$-es értékűk helyett. Így a képen megjelenő objektum csökkenését érjük el. Jelölése: $\\ominus$, formálisan felírva: $$X \\ominus B = \\{ p \\in Z^2 : p = x+b \\in X, \\forall b \\in B \\}$$<br> Példa:\n",
    "    </p>\n",
    "</div>"
   ]
  },
  {
   "cell_type": "markdown",
   "id": "f091fd0e-21e6-452e-b4e7-9e5e5ad906f3",
   "metadata": {},
   "source": [
    "<div STYLE=\"width:65%;margin:auto;display:flex;align-items:baseline\">\n",
    "    <div STYLE=\"float:left;flex-grow:1;\">\n",
    "        <table STYLE=\"text-align:center;\">\n",
    "            <tr>\n",
    "                <td colspan=\"4\"><center>Bemeneti Bináris Kép ($X$)</center></td>\n",
    "            </tr>\n",
    "            <tr>\n",
    "                <td>0</td>\n",
    "                <td>1</td>\n",
    "                <td>0</td>\n",
    "                <td>1</td>\n",
    "            </tr>\n",
    "            <tr>\n",
    "                <td>1</td>\n",
    "                <td>1</td>\n",
    "                <td>1</td>\n",
    "                <td>1</td>\n",
    "            </tr>\n",
    "            <tr>\n",
    "                <td>0</td>\n",
    "                <td>1</td>\n",
    "                <td>0</td>\n",
    "                <td>1</td>\n",
    "            </tr>\n",
    "        </table>\n",
    "    </div>\n",
    "    <div STYLE = \"margin:auto;text-align:center;flex-grow:4\">\n",
    "        $\\ominus$\n",
    "    </div>\n",
    "    <div STYLE=\"float:right;flex-grow:2\">\n",
    "        <table STYLE=\"text-align:center;\">\n",
    "            <tr>\n",
    "                <td colspan=\"3\"><center>Struktúráló Elem $\\left(B\\right)$</center></td>\n",
    "            </tr>\n",
    "            <tr>\n",
    "                <td>0</td>\n",
    "                <td>1</td>\n",
    "                <td>0</td>\n",
    "            </tr>\n",
    "            <tr>\n",
    "                <td>1</td>\n",
    "                <td><font color='red'>1</font></td>\n",
    "                <td>1</td>\n",
    "            </tr>\n",
    "            <tr>\n",
    "                <td>0</td>\n",
    "                <td>1</td>\n",
    "                <td>0</td>\n",
    "            </tr>\n",
    "        </table>\n",
    "    </div>\n",
    "    <div STYLE = \"margin: auto;text-align:center;flex-grow:4\">\n",
    "        $\\Longrightarrow$\n",
    "    </div>\n",
    "    <div STYLE=\"float:right;flex-grow:1\">\n",
    "        <table STYLE=\"text-align:center;\">\n",
    "            <tr>\n",
    "                <td colspan=\"4\"><center>A kép erózió után</center></td>\n",
    "            </tr>\n",
    "            <tr>\n",
    "                <td>0</td>\n",
    "                <td>0</td>\n",
    "                <td>0</td>\n",
    "                <td>0</td>\n",
    "            </tr>\n",
    "            <tr>\n",
    "                <td>0</td>\n",
    "                <td>1</td>\n",
    "                <td>0</td>\n",
    "                <td>1</td>\n",
    "            </tr>\n",
    "            <tr>\n",
    "                <td>0</td>\n",
    "                <td>0</td>\n",
    "                <td>0</td>\n",
    "                <td>0</td>\n",
    "            </tr>\n",
    "        </table>\n",
    "    </div>\n",
    "</div>"
   ]
  },
  {
   "cell_type": "markdown",
   "id": "d1001f27-d6a1-4dca-9d91-35078c0cb5a9",
   "metadata": {},
   "source": [
    "<center><h4>--------</h4></center>\n",
    "<center><h4>Példakód</h4></center>\n",
    "<center><h4>--------</h4></center>"
   ]
  },
  {
   "cell_type": "markdown",
   "id": "aed56f6b-f7cc-4c69-a9eb-7ad757fcf346",
   "metadata": {},
   "source": [
    "### <div STYLE=\"width:65%;margin:auto;\" align = \"center\"><br><a id=\"1.42\"><center>Nyitás és Zárás</center></a></div> ###"
   ]
  },
  {
   "cell_type": "markdown",
   "id": "8f9f5020-9b53-4566-97b3-585722ff3252",
   "metadata": {},
   "source": [
    "<br>\n",
    "<div STYLE=\"width:65%;margin:auto;text-align:justify\"><img STYLE=\"width:60%; float:right; margin-left: 30px\" src=\"img/Open_Close.png\"></center>\n",
    "    <p STYLE=\"text-align:justify\">\n",
    "    Bár az előző fejezetben úgy fogalmaztam, hogy az erózió a dilatáció \"fordítottja\", ez nem teljesen igaz. A két művelet egymásnak nem inverz transzformációi, azaz egy dilatáció után elvégzett erózió, nem adja vissza az eredeti képet és vice-versa. Viszont a két művelet egymás utáni elvégzése ad nekünk két újabb morfológiai műveletet: a Nyitást és a Zárást.\n",
    "    </p>\n",
    "    <p STYLE=\"text-align:justify\">\n",
    "        <b>Nyitás:</b> Jele: ∘. A kép erózióját követően dilatációt alkalmazunk (természetesen itt is van agy bemeneti X kép és egy B struktúráló elem). A nyitás művelet eltávolítja a képről az apró elemeket.\n",
    "    </p>\n",
    "    <p STYLE=\"text-align:justify\">\n",
    "        <b>Zárás:</b> Jele: ∙. A kép dilatálását erózió követi. A nyitással ellentétben a zárás nem eltávolít, hanem hozzáad a képhez. Összezárja, illetve feltölti a kissebb lyukakat, nyílásokat.\n",
    "    </p>\n",
    "</div>"
   ]
  },
  {
   "cell_type": "markdown",
   "id": "f525eb51-9ac0-4928-aea4-b2321130f2eb",
   "metadata": {},
   "source": [
    "### <div STYLE=\"width:65%;margin:auto;\" align = \"center\"><br><a id=\"1.43\"><center>\"Hit-or-Miss\" transzformáció</center></a></div> ###"
   ]
  },
  {
   "cell_type": "raw",
   "id": "5c6a204f-4d9f-4de8-b108-517dac913aaa",
   "metadata": {},
   "source": [
    "Nem vagyok benne biztos, hogy jól értelmezem."
   ]
  },
  {
   "cell_type": "raw",
   "id": "fd36496e-10f0-425b-b110-0c36ba6cd6d9",
   "metadata": {},
   "source": [
    "Átírni!"
   ]
  },
  {
   "cell_type": "markdown",
   "id": "951fff09-3c73-4695-b589-13f79e65d02d",
   "metadata": {},
   "source": [
    "<div STYLE=\"width:65%;margin:auto;text-align:justify\">\n",
    "    <p STYLE=\"text-align:justify\">\n",
    "        A \"Hit-or-Miss\" transzformormáció, olyan matematikai morfológiai művelet, amley segítséget nyújt a bizonyos minták detektálásában a bináris képeken.\n",
    "    </p>\n",
    "    <p STYLE=\"text-align:justify\">\n",
    "        A transzformációt definiálhatjuk úgy, hogy $$X \\otimes B = \\{ x:B_1 \\subset X \\land B_2 \\subset X^C \\},$$ vagy $$ X \\otimes B = (X \\ominus B) \\cap (X^C \\oplus B_2).$$\n",
    "    </p>\n",
    "    <p STYLE=\"text-align:justify\">\n",
    "        Leegyszerűsítve, ez annyit jelent, hogy van két struktúráló elemünk $B_1$ és $B_2$. $B_1$ a keresendő minta előtér pixeleit, $B_2$ pedig a háttér pixeleit reprezentálja. Elősször dilatáljuk a bemeneti A képünket $B_1$-el, majd vegyük $A$-nak az ellentétét (háttérpixelekből előtérpixelek, előtérpixelekből háttérpixelek lesznek) és dilatáljuk $B_2$-vel. A két művelet eredményének vesszük a metszetét. A kimeneti kép azon pozíciókat fogja tartalmazni, ahol a keresett minta megtalálható.\n",
    "    </p>\n",
    "</div>"
   ]
  },
  {
   "cell_type": "markdown",
   "id": "a79c9274-2b59-4c40-98a6-da90c8a93152",
   "metadata": {},
   "source": [
    "<center><h4>--------</h4></center>\n",
    "<center><h4>Példakód</h4></center>\n",
    "<center><h4>--------</h4></center>"
   ]
  },
  {
   "cell_type": "code",
   "execution_count": null,
   "id": "664b2ad6-c195-45dd-838d-7092b64bfefa",
   "metadata": {
    "slideshow": {
     "slide_type": ""
    },
    "tags": []
   },
   "outputs": [],
   "source": [
    "import cv2 as cv\n",
    "import numpy as np\n",
    "import sys\n",
    "import tkinter as tk\n",
    "from tkinter import *\n",
    "import ipywidgets as widgets\n",
    "\n",
    "def main(self):\n",
    "    input_image, kernel = generate_input()\n",
    "    hit_and_miss(input_image, kernel)\n",
    "\n",
    "def hit_and_miss(input_image, kernel):\n",
    "    output_image = cv.morphologyEx(input_image, cv.MORPH_HITMISS, kernel)\n",
    "    \n",
    "    rate = 50\n",
    "    kernel = (kernel + 1) * 127\n",
    "    kernel = np.uint8(kernel)\n",
    "    kernel = cv.resize(kernel, None, fx = rate, fy = rate, interpolation = cv.INTER_NEAREST)\n",
    "    cv.imshow(\"Kernel\", kernel)\n",
    "    cv.moveWindow(\"Kernel\", 500, 250)\n",
    "    \n",
    "    input_image = cv.resize(input_image, None, fx = rate, fy = rate, interpolation = cv.INTER_NEAREST)\n",
    "    cv.imshow(\"Bemenet\", input_image)\n",
    "    cv.moveWindow(\"Bemenet\", 0, 200)\n",
    "    \n",
    "    output_image = cv.resize(output_image, None , fx = rate, fy = rate, interpolation = cv.INTER_NEAREST)\n",
    "    cv.imshow(\"Hit or Miss\", output_image)\n",
    "    cv.moveWindow(\"Hit or Miss\", 800, 200)\n",
    "    cv.waitKey(0)\n",
    "    cv.destroyAllWindows()\n",
    "\n",
    "#####################################################################################################\n",
    "####################################### Ez itt nem fontos ###########################################\n",
    "#####################################################################################################\n",
    "def generate_input():\n",
    "\n",
    "#    kernel = np.array((\n",
    "#        [-1, -1, 0],\n",
    "#        [-1,  1, 1],\n",
    "#        [ 0,  1, 0]), dtype=\"int\")\n",
    "\n",
    "    kernel = np.array([[0 for x in range(3)] for y in range(3)], dtype=\"int\")\n",
    "    input_image = np.array([[0 for x in range(8)] for y in range(8)], dtype=\"uint8\")\n",
    "    \n",
    "    root = tk.Tk()\n",
    "    root.title(\"Bemeneti Kép\")\n",
    "    root.resizable(False, False)\n",
    "    \n",
    "    kern = tk.Toplevel(root)\n",
    "    kern.title(\"Kernel\")\n",
    "    kern.resizable(False, False)\n",
    "    \n",
    "    photo = tk.PhotoImage(width=1, height=1)\n",
    "    #photo2 = tk.PhotoImage(width=1, height=1)\n",
    "    \n",
    "    def on_click_input(button, row, col):\n",
    "        if button.cget('text') == \"255\":\n",
    "            button.config(text=\"0\", fg=\"white\", bg=\"black\")\n",
    "            input_image[button.grid_info()['row']][button.grid_info()['column']] = 0\n",
    "            #print(\"Button pos: {} {}\".format(button.grid_info()['row'], button.grid_info()['column']))\n",
    "        else:\n",
    "            button.config(text=\"255\", fg=\"black\", bg=\"white\")\n",
    "            input_image[button.grid_info()['row']][button.grid_info()['column']] = 255\n",
    "            #print(\"Button pos: {} {}\".format(button.grid_info()['row'], button.grid_info()['column']))\n",
    "\n",
    "    def on_click_kernel(button, row, col):\n",
    "        if button.cget('text') == \"0\":\n",
    "            button.config(text=\"1\", fg=\"black\", bg=\"white\")\n",
    "            kernel[button.grid_info()['row']][button.grid_info()['column']] = 1\n",
    "            #print(\"Button pos: {} {}\".format(button.grid_info()['row'], button.grid_info()['column']))\n",
    "        elif button.cget('text') == \"1\":\n",
    "            button.config(text=\"-1\", fg=\"white\", bg=\"black\")\n",
    "            kernel[button.grid_info()['row']][button.grid_info()['column']] = -1\n",
    "            #print(\"Button pos: {} {}\".format(button.grid_info()['row'], button.grid_info()['column']))\n",
    "        else:\n",
    "            button.config(text=\"0\", fg=\"white\", bg='#7f7f7f')\n",
    "            kernel[button.grid_info()['row']][button.grid_info()['column']] = 0\n",
    "\n",
    "    for row in range(8):\n",
    "        for col in range(8):\n",
    "            button = tk.Button(root, text=f'0')\n",
    "            button.config(fg=\"white\", bg=\"black\", image=photo, width=50, height=50,\n",
    "                          command=lambda button=button: on_click_input(button, row, col))\n",
    "            button.grid(row=row, column=col)\n",
    "            \n",
    "    for row in range(3):\n",
    "        for col in range(3):\n",
    "            button = tk.Button(kern, text=f'0')\n",
    "            button.config(fg=\"white\", bg='#7f7f7f', image=photo,\n",
    "                          width=50, height=50, \n",
    "                          command=lambda button=button: on_click_kernel(button, row, col))\n",
    "            button.grid(row=row, column=col)\n",
    "    \n",
    "    root.mainloop()\n",
    "    print(input_image)\n",
    "    print(kernel)\n",
    "\n",
    "    return input_image, kernel\n",
    "\n",
    "if __name__ == \"__main__\":\n",
    "    button = widgets.Button(\n",
    "        description=' START',\n",
    "        disabled=False,\n",
    "        button_style='success', # 'success', 'info', 'warning', 'danger' or ''\n",
    "        icon='play'\n",
    "    )\n",
    "    button.on_click(main)\n",
    "\n",
    "    box_layout = widgets.Layout(display='flex',\n",
    "                         flex_flow='column',\n",
    "                         align_items='center',\n",
    "                         width='100%')\n",
    "    box = widgets.HBox(children=[button], layout=box_layout)\n",
    "\n",
    "    display(box)\n",
    "\n",
    "#####################################################################################################\n",
    "#####################################################################################################\n",
    "#####################################################################################################"
   ]
  },
  {
   "cell_type": "markdown",
   "id": "c8c85227-89a5-493d-ba84-bd1e736e8620",
   "metadata": {},
   "source": [
    "## <div STYLE=\"width:65%;margin:auto;\" align = \"center\"><br><a id=\"1.5\"><center>Fourier-transzformáció</center></a></div> ##"
   ]
  },
  {
   "cell_type": "markdown",
   "id": "47e51408-cff2-4624-8110-65925bcf9945",
   "metadata": {},
   "source": [
    "<div STYLE=\"width:65%;margin:auto;text-align:justify\">\n",
    "    <p STYLE=\"text-align:justify\">\n",
    "        A lineáris integráltranszformációk gyakran használtak a képfeldolgozás területén, ugyanis lehetővé teszik számunkra a képeket ábrázolását egy olyan tartományban, amelyben az információ is jobban látható, így a problémák megoldása is egyszerűbbé válik. Az egyik leggyakrabban használt transzformáció a Fourier transzformáció.\n",
    "    </p>\n",
    "</div>"
   ]
  },
  {
   "cell_type": "markdown",
   "id": "33322e21-f510-422d-a4c5-afe23f44d684",
   "metadata": {},
   "source": [
    "<div STYLE=\"width:65%;margin:auto;text-align:justify\">\n",
    "    <p STYLE=\"text-align:justify\">\n",
    "        Fourier transzformáció 1D-ben: $$F(\\xi) = \\int_{-\\infty}^{\\infty} f(t)e^{-2\\pi i \\xi t} dt$$ és annak inverze: $$f(t) = \\int_{-\\infty}^{\\infty} F(\\xi)e^{2\\pi i \\xi t} d\\xi .$$\n",
    "    </p><br><br>\n",
    "    <p STYLE=\"text-align:justify\">\n",
    "        Fourier transzformáció 2D-ben: $$F(u,v) = \\int_{-\\infty}^{\\infty} \\int_{-\\infty}^{\\infty} f(x,y)e^{-2\\pi i(ux+vy)} dx \\  dy$$ és annak inverze: $$f(x,y) = \\int_{-\\infty}^{\\infty} \\int_{-\\infty}^{\\infty} F(u,v)e^{2\\pi i(ux+vy)} du \\  dv.$$\n",
    "        A transzformáció felírható diszkrét formában is:\n",
    "        $$ \n",
    "            \\begin{align}\n",
    "                &F(u,v) = \\frac{1}{MN} \\sum_{m=0}^{M-1} \\sum_{n=0}^{N-1} f(m,n) \\exp\\left(-2\\pi i \\left( \\frac{mu}{M} + \\frac{nv}{N} \\right) \\right) \\\\\n",
    "                &f(m,n) = \\sum_{u=0}^{M-1} \\sum_{v=0}^{N-1} F(u,v) \\exp \\left( 2 \\pi i \\left( \\frac{mu}{M} + \\frac{nv}{N} \\right) \\right)\n",
    "            \\end{align} \n",
    "        $$\n",
    "    </p>\n",
    "</div>"
   ]
  },
  {
   "cell_type": "markdown",
   "id": "7da49452-6e74-4f2e-a38a-398772ce9284",
   "metadata": {},
   "source": [
    "<div STYLE=\"width:65%;margin:auto;text-align:justify\">\n",
    "    <p STYLE=\"text-align:justify\">\n",
    "        Ha alkalmazzuk a Fourier transzformációt Lennára akkor a következőt kapjuk eredményül.\n",
    "    </p>\n",
    "    <center><img STYLE=\"width:60%; margin-left: 30px\" src=\"img/Fourier.png\"></center><br><br>\n",
    "    <p STYLE=\"text-align:justify\">\n",
    "        Nem, ez nem egy távoli csillag rossz mínőségű felvétele, hanem Lenna transzformálva. A transzformáltat felhasználhatjuk különböző szűrési metódusokhoz. Néhányra a következő fejezetekben láthatunk példát. Akármelyik szűrőről is lesz szó a szűrés folyamata mindíg ugyan az lesz:\n",
    "    <div STYLE=\"width:65%;margin:auto;\">\n",
    "        \n",
    "```mermaid\n",
    "    flowchart LR\n",
    "    A[INPUT] -->|Fourier transzformáció| B[Transzformált kép]\n",
    "    B -->|Szűrés| C[Szűrt transzformált kép] \n",
    "    C --> |Inverz Fourier transzformáció| D[OUTPUT]\n",
    "```\n",
    "\n",
    "</div>\n",
    "</div>"
   ]
  },
  {
   "cell_type": "markdown",
   "id": "61150740-e28c-4fb8-a474-52db1dc975ba",
   "metadata": {},
   "source": [
    "### <div STYLE=\"width:65%;margin:auto;\" align = \"center\"><br><a id=\"1.51\"><center>Ideális Aluláteresztő Szűrő</center></a></div> ###\n",
    "<p STYLE=\"text-align:center;color:gray\">Ideal Low pass Filter</p>"
   ]
  },
  {
   "cell_type": "markdown",
   "id": "dc6d0dcb-1f4f-4038-8853-298eaeec03b1",
   "metadata": {},
   "source": [
    "<div STYLE=\"width:65%;margin:auto;text-align:justify\"><img STYLE=\"width:30%; float:right; margin-left: 30px\" src=\"img/LowPassFilt.png\">\n",
    "    <p STYLE=\"text-align:justify\">\n",
    "        Az Ideális Aluláteresztő Szűrő Egy meghatározott sugarú körön kívül minden frekvenciát eldob, azon belül megtart.\n",
    "    </p>\n",
    "    <p STYLE=\"text-align:justify\">\n",
    "        Állítsuk elő a kép Fourier transzformáltját, majd vegyük a következő szűrő függvényt: \n",
    "        $$\n",
    "            \\begin{align}\n",
    "            H(u,v) =\n",
    "                \\begin{dcases*}\n",
    "                    1, & ha $\\rho(u,v) \\le \\omega$, \\\\\n",
    "                    0, & különben.\n",
    "                \\end{dcases*}\n",
    "            \\end{align}\n",
    "        $$\n",
    "    </p>\n",
    "    <p STYLE=\"text-align:justify\">\n",
    "        Ebben a függvényben $\\rho(u,v)$ a távolság függvényünk, ami megadja az $(u,v)$ koordináta és a Fourier transzformált origója közötti távolságot. $\\omega$, az úgynevezett\" vágási frekvencia\", egy olyan érték amely meghatározza az origótol való maximális távolságot. $H(u,v)$ értéket vehetjük egy szorzó tényezőnek, amivel a Fourier transzformált $(u,v)$ koordináján lévő értéket szorozzuk be és amelynek értéke $1$-ha $(u,v)$ vágási frekvencián belül van, $0$, ha azon kívül esik.\n",
    "    </p>  \n",
    "</div>"
   ]
  },
  {
   "cell_type": "markdown",
   "id": "24221352-4152-4cbd-bf2c-a7faf43ddb0b",
   "metadata": {},
   "source": [
    "### <div STYLE=\"width:65%;margin:auto;\" align = \"center\"><br><a id=\"1.52\"><center>Ideális Felüláteresztő Szűrő</center></a></div> ###\n",
    "<p STYLE=\"text-align:center;color:gray\">Ideal High pass Filter</p>"
   ]
  },
  {
   "cell_type": "markdown",
   "id": "08d1197c-68e2-4a2a-bf6f-2782a9f50cea",
   "metadata": {},
   "source": [
    "<div STYLE=\"width:65%;margin:auto;text-align:justify\">\n",
    "    <p STYLE=\"text-align:justify\">\n",
    "        Az előző szűrő párja. Működési elve ugyanaz, mint az aluláteresztő esetén, azzal a különbséggel, hogy a vágási frekvencián túl lévő értékeket tartja meg, és az azon belül lévőket dobja el. A fügvényben az alábbi módosítás kell eszközölni.\n",
    "        $$\n",
    "            \\begin{align}\n",
    "            H(u,v) =\n",
    "                \\begin{dcases*}\n",
    "                1, & ha $\\rho(u,v) \\ge \\omega$, \\\\\n",
    "                0, & különben.\n",
    "                \\end{dcases*}\n",
    "            \\end{align}\n",
    "        $$\n",
    "    </p>\n",
    "</div>"
   ]
  },
  {
   "cell_type": "markdown",
   "id": "c964ae2d-64f6-42c3-a0c3-39098440c481",
   "metadata": {},
   "source": [
    "<div STYLE=\"width:65%;margin:auto;text-align:justify\">\n",
    "    <p STYLE=\"text-align:justify\">\n",
    "        A fent tárgyalt filterek használatának egy igen kellemetlen mellékhatása lehet az úgynevezett gyűrűzés effektus.\n",
    "    </p>\n",
    "    <center><img STYLE=\"width:30%; margin-left: 30px\" src=\"img/ringing.png\"></center>\n",
    "</div>"
   ]
  },
  {
   "cell_type": "markdown",
   "id": "3d5661ae-19ae-4eb5-a85c-08186661130e",
   "metadata": {},
   "source": [
    "### <div STYLE=\"width:65%;margin:auto;\" align = \"center\"><br><a id=\"1.53\"><center>Butterworth Szűrő</center></a></div> ###\n",
    "<p STYLE=\"text-align:center;color:gray\">Butterworth Filter</p>"
   ]
  },
  {
   "cell_type": "markdown",
   "id": "63ed0937-d44e-49fd-a4e3-7c41c59d67c3",
   "metadata": {},
   "source": [
    "<div STYLE=\"width:65%;margin:auto;text-align:justify\">\n",
    "    <p STYLE=\"text-align:justify\">\n",
    "        A gyűrűzés effektus elkerülése végett használhatjuk az ebben a fejezetben tárgyalt Butterwort Aluláteresztő Szűrőt. $$H(u,v) = \\frac{1}{1+\\left( \\frac{\\rho(u,v)}{\\omega_0} \\right)^{2n}}$$\n",
    "    </p>\n",
    "    <p STYLE=\"text-align:justify\">\n",
    "        Az Ideális szűrő esetén minden olyan értéket \"eldobtunk\", ami a vágási frekvencián kívülre (vagy belülre) esett, így egy igen éles határvonal rajzolódott ki a szúrés után. A Butterworth szűrő ezzel ellentétben sokkal \"lágyabb\" határvonalat generál. A vagási frekvencia közelében lévő értékektől nem szabadulunk meg teljesen, csupán \"tompítjuk\" őket. Minél nagyobb $n$-et választunk, annál élesebb határvonalat kapunk.\n",
    "    </p><center><img STYLE=\"\" src=\"img/butterworth.png\"></center>\n",
    "    <p STYLE=\"text-align:justify\">\n",
    "        <br>A fenti aluláteresztő szűrőt könnyedén átalakíthatjuk felüláteresztővé az alábbi apró módisítással: $$H(u,v) = \\frac{1}{1+\\left( \\frac{\\omega_0}{\\rho(u,v)} \\right)^{2n}}$$\n",
    "    </p>\n",
    "</div>"
   ]
  },
  {
   "cell_type": "markdown",
   "id": "0d299156-d02d-4721-8bc8-c040c7660823",
   "metadata": {},
   "source": [
    "### <div STYLE=\"width:65%;margin:auto;\" align = \"center\"><br><a id=\"1.54\"><center>Gauss Szűrő</center></a></div> ###\n",
    "<p STYLE=\"text-align:center;color:gray\">Gaussian Filter</p>"
   ]
  },
  {
   "cell_type": "markdown",
   "id": "829daf27-59c1-4967-a4d0-cdcc3f40582e",
   "metadata": {},
   "source": [
    "<div STYLE=\"width:65%;margin:auto;text-align:justify\">\n",
    "    <p STYLE=\"text-align:justify\">\n",
    "        Gauss Aluláteresztő Szűrő: $$H(u,v) = e ^ {-\\frac{\\rho^2(u,v)}{2\\omega^2}}$$\n",
    "    </p><center><img STYLE=\"\" src=\"img/gauss.png\"></center>\n",
    "    <p STYLE=\"text-align:justify\">\n",
    "        <br>Hasonlóan a Butterworth-höz a Gauss szűrő is tompítja a vágási frekvencia körüli határvonalat. Ellenben viszont az előzővel itt nincs szükség egy másik paraméter bevezetésére a határ élesítéséhez. Minél nagyobb értéket választunk vágási frekvenciaként, annál elmosódottabb lesz a határ.\n",
    "    </p>\n",
    "    <p STYLE=\"text-align:justify\">\n",
    "        Gauss Felüláteresztő Szűrő: $$H(u,v) =1 - e ^ {-\\frac{\\rho^2(u,v)}{2\\omega^2}}$$\n",
    "    </p>\n",
    "</div>"
   ]
  },
  {
   "cell_type": "markdown",
   "id": "efb4a30a-d998-4b2d-93c2-c190c53e3069",
   "metadata": {
    "editable": true,
    "slideshow": {
     "slide_type": "slide"
    },
    "tags": []
   },
   "source": [
    "# <div STYLE=\"width:70%;margin:auto;\" align = \"center\"><br><a id=\"2\"><center>Felhasznált irodalom</center></a></div> #"
   ]
  },
  {
   "cell_type": "markdown",
   "id": "9d43bc5c-624e-48c2-9579-1068663b6e1f",
   "metadata": {
    "editable": true,
    "raw_mimetype": "",
    "slideshow": {
     "slide_type": "fragment"
    },
    "tags": []
   },
   "source": [
    "_<p STYLE=\"text-align: center\">Dr. Fazekas Attila: Képfeldolgozás és Orvosi Képalkotás (diasor)</p>_\n",
    "_<p STYLE=\"text-align: center\"><a target=\"_blank\" href=\"https://ijarcce.com/wp-content/uploads/2022/06/IJARCCE.2022.11672.pdf\">Digital Image Processing: Its History and Application</a></p>_\n",
    "_<p STYLE=\"text-align: center\"><a target=\"_blank\" href=\"https://dl.icdst.org/pdfs/files4/01c56e081202b62bd7d3b4f8545775fb.pdf\">Rafael C. Gonzalez, Richard E. Woods: Digital Image Processing (Fourth Edition)</a></p>_"
   ]
  },
  {
   "cell_type": "raw",
   "id": "9e4d3207-4304-4550-859d-38bdcbc0da39",
   "metadata": {},
   "source": [
    "Segítség a segédlet megírásához. Eltávolításra kerül!"
   ]
  },
  {
   "cell_type": "markdown",
   "id": "cde50cb1-7f0b-49b5-8ef1-37daa42707dc",
   "metadata": {},
   "source": [
    "<div STYLE=\"width:70%;margin:auto;\" align = \"center\">Container</div>"
   ]
  },
  {
   "cell_type": "markdown",
   "id": "b2281242-70cb-4686-8d49-a370ceca8ed1",
   "metadata": {
    "editable": true,
    "slideshow": {
     "slide_type": ""
    },
    "tags": []
   },
   "source": [
    "############# Markdown parser in Jupyter notebooks ##################\n",
    "\n",
    "<div class=\"alert alert-block alert-info\"> <b>NOTE</b> Use blue boxes for Tips and notes. </div>\n",
    "\n",
    "<div class=\"alert alert-block alert-success\"> Use green boxes sparingly, and only for some specific purpose that the other boxes can't cover. For example, if you have a lot of related content to link to, maybe you decide to use green boxes for related links from each section of a notebook. </div>\n",
    "\n",
    "<div class=\"alert alert-block alert-warning\"> Use yellow boxes for examples that are not inside code cells, or use for mathematical formulas if needed. </div>\n",
    "\n",
    "<div class=\"alert alert-block alert-danger\"> In general, just avoid the red boxes. </div>\n",
    "\n",
    "############# Markdown parser in Sphinx ##################\n",
    "\n",
    "<div class=\"admonition note\"> <p class=\"admonition-title\">Note</p> <p>You should note that the title will be automatically capitalized.</p> </div>\n",
    "\n",
    "<div class=\"admonition danger\"> <p class=\"admonition-title\">Don't try this at home</p> <p>...</p> </div>\n",
    "\n",
    "<div class=\"admonition important\"> <p>This is an admonition box without a title.</p> </div>"
   ]
  },
  {
   "cell_type": "markdown",
   "id": "dfdfed8f-9507-47d7-9c26-21e1c23e4224",
   "metadata": {},
   "source": [
    "<p STYLE=\"text-align:justify\">Lorem ipsum dolor sit amet, consectetur adipiscing elit. Etiam vitae tempus nisl. Sed eget tincidunt ipsum, vitae tempus lorem. Nullam sit amet erat sit amet velit rutrum mollis sit amet sit amet sapien. In vulputate tellus eget quam tincidunt ornare. Ut dui lorem, dictum non gravida vitae, feugiat sit amet neque. Morbi hendrerit justo tincidunt, ultrices ligula eget, varius nulla. Maecenas a metus et metus eleifend accumsan. Vestibulum finibus congue orci, id dictum ligula varius placerat. Pellentesque a risus in dui accumsan convallis a et nunc. Proin non lacinia sapien. Aenean libero quam, commodo et arcu a, efficitur tempus mauris. Maecenas ut nibh non purus egestas laoreet eget vitae libero. Aenean nec erat nulla. Morbi non posuere lacus, eu venenatis tortor. Etiam nec pharetra libero, non mollis ex.ome \n",
    "</p>"
   ]
  },
  {
   "cell_type": "markdown",
   "id": "7eecbf9b-e069-40e9-ae35-01f8f5ff8b8c",
   "metadata": {},
   "source": [
    "```python\n",
    "from pyomo.environ import *\n",
    "model = Concretemodel()\n",
    "```"
   ]
  },
  {
   "cell_type": "code",
   "execution_count": null,
   "id": "206ffbff-7d64-44f6-8e0c-cfcb597db31a",
   "metadata": {
    "jupyter": {
     "source_hidden": true
    }
   },
   "outputs": [],
   "source": [
    "from jupyterquiz import display_quiz\n",
    "import json \n",
    "\n",
    "with open(\"questions/quiz.json\", encoding='utf-8') as q:\n",
    "    questions = json.load(q)\n",
    "    #json.dump(questions, q, indent=4)\n",
    "    display_quiz(questions)"
   ]
  },
  {
   "cell_type": "code",
   "execution_count": null,
   "id": "deebbd11-0da5-48f0-b1d4-d1f4250b08d8",
   "metadata": {
    "jupyter": {
     "source_hidden": true
    }
   },
   "outputs": [],
   "source": [
    "import ipywidgets as widgets\n",
    "w = widgets.IntSlider()\n",
    "display(w)"
   ]
  },
  {
   "cell_type": "markdown",
   "id": "4389bb0a-0b0a-4090-bb92-7d357d813ad7",
   "metadata": {},
   "source": [
    "```\n",
    "pip install jupyterquiz==2.7.0a3 jupytercards opencv-python -q\n",
    "```"
   ]
  },
  {
   "cell_type": "markdown",
   "id": "a3df1aee-0421-490e-a9db-5235d4d7a2e2",
   "metadata": {},
   "source": [
    "```mermaid\n",
    "flowchart LR\n",
    "\n",
    "A[Hard] -->|Text| B(Round)\n",
    "B --> C{Decision}\n",
    "C -->|One| D[Result 1]\n",
    "C -->|Two| E[Result 2]\n",
    "```"
   ]
  },
  {
   "cell_type": "code",
   "execution_count": null,
   "id": "14b6f771-3988-4199-a279-ca5287c46262",
   "metadata": {
    "jupyter": {
     "source_hidden": true
    }
   },
   "outputs": [],
   "source": []
  }
 ],
 "metadata": {
  "kernelspec": {
   "display_name": "Python 3 (ipykernel)",
   "language": "python",
   "name": "python3"
  },
  "language_info": {
   "codemirror_mode": {
    "name": "ipython",
    "version": 3
   },
   "file_extension": ".py",
   "mimetype": "text/x-python",
   "name": "python",
   "nbconvert_exporter": "python",
   "pygments_lexer": "ipython3",
   "version": "3.11.4"
  },
  "toc": {
   "base_numbering": 0
  },
  "widgets": {
   "application/vnd.jupyter.widget-state+json": {
    "state": {
     "030294e46a2740d69acdb3be4436e0ba": {
      "model_module": "@jupyter-widgets/base",
      "model_module_version": "2.0.0",
      "model_name": "LayoutModel",
      "state": {}
     },
     "0311b50fb2104398a4751bf790386a22": {
      "model_module": "@jupyter-widgets/controls",
      "model_module_version": "2.0.0",
      "model_name": "ButtonModel",
      "state": {
       "button_style": "success",
       "description": " START",
       "icon": "play",
       "layout": "IPY_MODEL_90c38d9fa1f342d9a399f770b1c03e3b",
       "style": "IPY_MODEL_b7201b0e50f7496593f63aa886dc9a17",
       "tooltip": null
      }
     },
     "033d4dc543df4abaaf3183cd61026e26": {
      "model_module": "@jupyter-widgets/controls",
      "model_module_version": "2.0.0",
      "model_name": "ButtonModel",
      "state": {
       "button_style": "success",
       "description": " START",
       "icon": "play",
       "layout": "IPY_MODEL_537640933e114580888091a0681d048b",
       "style": "IPY_MODEL_1e8ca0273cd242c38a00ada722c46516",
       "tooltip": null
      }
     },
     "064e844de4a044fd9f0ae7a2dd98d376": {
      "model_module": "@jupyter-widgets/controls",
      "model_module_version": "2.0.0",
      "model_name": "HBoxModel",
      "state": {
       "children": [
        "IPY_MODEL_fac156de0b09451db9fbd8ac44080ad2"
       ],
       "layout": "IPY_MODEL_64f39bcd40ce4af1aaca24040302ba0f"
      }
     },
     "081578a47bae42da8aba785978085fa9": {
      "model_module": "@jupyter-widgets/base",
      "model_module_version": "2.0.0",
      "model_name": "LayoutModel",
      "state": {}
     },
     "0d9ac59f56f94e6fb839088ac680bc67": {
      "model_module": "@jupyter-widgets/base",
      "model_module_version": "2.0.0",
      "model_name": "LayoutModel",
      "state": {
       "align_items": "center",
       "display": "flex",
       "flex_flow": "column",
       "width": "100%"
      }
     },
     "0e8818a0e45f46368d11de1b37905d66": {
      "model_module": "@jupyter-widgets/controls",
      "model_module_version": "2.0.0",
      "model_name": "HBoxModel",
      "state": {
       "children": [
        "IPY_MODEL_9ce3cb5477694f34b3925427eb934a91"
       ],
       "layout": "IPY_MODEL_7e28d1ebb8cc4465917360ed853f8af7"
      }
     },
     "0f18e8bd1e0046f688dcdedab1a87649": {
      "model_module": "@jupyter-widgets/controls",
      "model_module_version": "2.0.0",
      "model_name": "ButtonStyleModel",
      "state": {
       "font_family": null,
       "font_size": null,
       "font_style": null,
       "font_variant": null,
       "font_weight": null,
       "text_color": null,
       "text_decoration": null
      }
     },
     "0f523575d54b49c9b6ecc4ed35cefa4c": {
      "model_module": "@jupyter-widgets/controls",
      "model_module_version": "2.0.0",
      "model_name": "ButtonModel",
      "state": {
       "button_style": "success",
       "description": " START",
       "icon": "play",
       "layout": "IPY_MODEL_cff5df0cf74249c590f6c8afe05a9935",
       "style": "IPY_MODEL_8043467c5d8f40f380af9895372713a7",
       "tooltip": null
      }
     },
     "11bc710c5f2e4c15aa1ed0d172b32d70": {
      "model_module": "@jupyter-widgets/controls",
      "model_module_version": "2.0.0",
      "model_name": "HBoxModel",
      "state": {
       "children": [
        "IPY_MODEL_0f523575d54b49c9b6ecc4ed35cefa4c"
       ],
       "layout": "IPY_MODEL_0d9ac59f56f94e6fb839088ac680bc67"
      }
     },
     "1581e843d656462fae1dc6c12efbab4b": {
      "model_module": "@jupyter-widgets/controls",
      "model_module_version": "2.0.0",
      "model_name": "ButtonStyleModel",
      "state": {
       "font_family": null,
       "font_size": null,
       "font_style": null,
       "font_variant": null,
       "font_weight": null,
       "text_color": null,
       "text_decoration": null
      }
     },
     "195ecccb187f470792cfa2e54fcda53a": {
      "model_module": "@jupyter-widgets/controls",
      "model_module_version": "2.0.0",
      "model_name": "HBoxModel",
      "state": {
       "children": [
        "IPY_MODEL_83e3aea527d141b8ae242d4630106716"
       ],
       "layout": "IPY_MODEL_8c3bb5dcce314c61a5a650cec16146a8"
      }
     },
     "1b4a775748c0414186cc6d7e9f7c4cd1": {
      "model_module": "@jupyter-widgets/controls",
      "model_module_version": "2.0.0",
      "model_name": "HBoxModel",
      "state": {
       "children": [
        "IPY_MODEL_fdb9135c7db94042af1eda0475c5b9b9"
       ],
       "layout": "IPY_MODEL_2ee7073ccaff42c58536b33c5fbc4e98"
      }
     },
     "1c3d1e6520c744f9ae65377854058b28": {
      "model_module": "@jupyter-widgets/controls",
      "model_module_version": "2.0.0",
      "model_name": "HBoxModel",
      "state": {
       "children": [
        "IPY_MODEL_4c861d5d2bc44b74a502689d748c6042"
       ],
       "layout": "IPY_MODEL_c5f491e592eb4f00ac1daf60358b22d0"
      }
     },
     "1cbccf4729484b198b1d2991124f28d9": {
      "model_module": "@jupyter-widgets/controls",
      "model_module_version": "2.0.0",
      "model_name": "ButtonModel",
      "state": {
       "button_style": "success",
       "description": " START",
       "icon": "play",
       "layout": "IPY_MODEL_92974314352a4c29996c558d576b9664",
       "style": "IPY_MODEL_ce967df952bc4300bc28228767763b5b",
       "tooltip": null
      }
     },
     "1d2732a90c114d5e83b14da2eb956988": {
      "model_module": "@jupyter-widgets/controls",
      "model_module_version": "2.0.0",
      "model_name": "ButtonModel",
      "state": {
       "button_style": "success",
       "description": " START",
       "icon": "play",
       "layout": "IPY_MODEL_e514fdcf2f0940e3808c3a5db8e34b87",
       "style": "IPY_MODEL_b5978f6ac2e642e49569ae525b4ee0ea",
       "tooltip": null
      }
     },
     "1d3b8983f6304f719f92905ca47bb51d": {
      "model_module": "@jupyter-widgets/base",
      "model_module_version": "2.0.0",
      "model_name": "LayoutModel",
      "state": {
       "align_items": "center",
       "display": "flex",
       "flex_flow": "column",
       "width": "100%"
      }
     },
     "1e8ca0273cd242c38a00ada722c46516": {
      "model_module": "@jupyter-widgets/controls",
      "model_module_version": "2.0.0",
      "model_name": "ButtonStyleModel",
      "state": {
       "font_family": null,
       "font_size": null,
       "font_style": null,
       "font_variant": null,
       "font_weight": null,
       "text_color": null,
       "text_decoration": null
      }
     },
     "21150ad95081486ab6c23902fec4e74c": {
      "model_module": "@jupyter-widgets/base",
      "model_module_version": "2.0.0",
      "model_name": "LayoutModel",
      "state": {}
     },
     "255323fe992d44a694feee6f02b9c9df": {
      "model_module": "@jupyter-widgets/controls",
      "model_module_version": "2.0.0",
      "model_name": "HBoxModel",
      "state": {
       "children": [
        "IPY_MODEL_0311b50fb2104398a4751bf790386a22"
       ],
       "layout": "IPY_MODEL_8586a270f5dc410eab944d2906d75580"
      }
     },
     "26cc1ac67b5141e285b01d9236d151c9": {
      "model_module": "@jupyter-widgets/controls",
      "model_module_version": "2.0.0",
      "model_name": "HBoxModel",
      "state": {
       "children": [
        "IPY_MODEL_d808960d11494a94897f7b2a386a9860"
       ],
       "layout": "IPY_MODEL_67fc9f20e8364f06ada28284bd20b24b"
      }
     },
     "2981610c383541619d70af255a2e6d45": {
      "model_module": "@jupyter-widgets/controls",
      "model_module_version": "2.0.0",
      "model_name": "ButtonStyleModel",
      "state": {
       "font_family": null,
       "font_size": null,
       "font_style": null,
       "font_variant": null,
       "font_weight": null,
       "text_color": null,
       "text_decoration": null
      }
     },
     "2ad8cb5c09224b50a5a89be05be893eb": {
      "model_module": "@jupyter-widgets/controls",
      "model_module_version": "2.0.0",
      "model_name": "HBoxModel",
      "state": {
       "children": [
        "IPY_MODEL_c8c591715a5845bd8f70c1bfb1cc431b"
       ],
       "layout": "IPY_MODEL_ddb1ce713d5849ec98a270af7eebae73"
      }
     },
     "2bd9a4418b0c4fe7b764e9663b2d0a3d": {
      "model_module": "@jupyter-widgets/base",
      "model_module_version": "2.0.0",
      "model_name": "LayoutModel",
      "state": {}
     },
     "2ee7073ccaff42c58536b33c5fbc4e98": {
      "model_module": "@jupyter-widgets/base",
      "model_module_version": "2.0.0",
      "model_name": "LayoutModel",
      "state": {
       "align_items": "center",
       "display": "flex",
       "flex_flow": "column",
       "width": "100%"
      }
     },
     "3036c283a5b2436f8a0a1bd20fe7b9ad": {
      "model_module": "@jupyter-widgets/base",
      "model_module_version": "2.0.0",
      "model_name": "LayoutModel",
      "state": {}
     },
     "33cdefbd43de466c8127e863420e7220": {
      "model_module": "@jupyter-widgets/base",
      "model_module_version": "2.0.0",
      "model_name": "LayoutModel",
      "state": {
       "align_items": "center",
       "display": "flex",
       "flex_flow": "column",
       "width": "100%"
      }
     },
     "3a92c5a841ba4a01b088b23074b05a5f": {
      "model_module": "@jupyter-widgets/base",
      "model_module_version": "2.0.0",
      "model_name": "LayoutModel",
      "state": {}
     },
     "3aa33ee8a31c47d8b3d8c2a96ebf8981": {
      "model_module": "@jupyter-widgets/controls",
      "model_module_version": "2.0.0",
      "model_name": "ButtonStyleModel",
      "state": {
       "font_family": null,
       "font_size": null,
       "font_style": null,
       "font_variant": null,
       "font_weight": null,
       "text_color": null,
       "text_decoration": null
      }
     },
     "3b3c6571e4ca4c62924ec9fb865885df": {
      "model_module": "@jupyter-widgets/controls",
      "model_module_version": "2.0.0",
      "model_name": "ButtonStyleModel",
      "state": {
       "font_family": null,
       "font_size": null,
       "font_style": null,
       "font_variant": null,
       "font_weight": null,
       "text_color": null,
       "text_decoration": null
      }
     },
     "40503bbc91e14327a2ee6d6e9c10645d": {
      "model_module": "@jupyter-widgets/base",
      "model_module_version": "2.0.0",
      "model_name": "LayoutModel",
      "state": {}
     },
     "4251d113e3184dc9957740b24a4e51da": {
      "model_module": "@jupyter-widgets/base",
      "model_module_version": "2.0.0",
      "model_name": "LayoutModel",
      "state": {
       "align_items": "center",
       "display": "flex",
       "flex_flow": "column",
       "width": "100%"
      }
     },
     "45a75e8ac0c64a05bf6886221d224e6d": {
      "model_module": "@jupyter-widgets/base",
      "model_module_version": "2.0.0",
      "model_name": "LayoutModel",
      "state": {
       "align_items": "center",
       "display": "flex",
       "flex_flow": "column",
       "width": "100%"
      }
     },
     "474b2f993fc84bef82df60d3e2b8c865": {
      "model_module": "@jupyter-widgets/controls",
      "model_module_version": "2.0.0",
      "model_name": "HBoxModel",
      "state": {
       "children": [
        "IPY_MODEL_1cbccf4729484b198b1d2991124f28d9"
       ],
       "layout": "IPY_MODEL_4eea076999e44463a18ba3f3cddcf863"
      }
     },
     "4b1c235c2130420eb7adae087a887d60": {
      "model_module": "@jupyter-widgets/base",
      "model_module_version": "2.0.0",
      "model_name": "LayoutModel",
      "state": {}
     },
     "4c155bcf0158417d908e9272a2467390": {
      "model_module": "@jupyter-widgets/base",
      "model_module_version": "2.0.0",
      "model_name": "LayoutModel",
      "state": {
       "align_items": "center",
       "display": "flex",
       "flex_flow": "column",
       "width": "100%"
      }
     },
     "4c861d5d2bc44b74a502689d748c6042": {
      "model_module": "@jupyter-widgets/controls",
      "model_module_version": "2.0.0",
      "model_name": "ButtonModel",
      "state": {
       "button_style": "success",
       "description": " START",
       "icon": "play",
       "layout": "IPY_MODEL_b7e8f71bf8c5408a95d8a5533eed734f",
       "style": "IPY_MODEL_e1da1aa1cb054850b01fded92229e201",
       "tooltip": null
      }
     },
     "4eea076999e44463a18ba3f3cddcf863": {
      "model_module": "@jupyter-widgets/base",
      "model_module_version": "2.0.0",
      "model_name": "LayoutModel",
      "state": {
       "align_items": "center",
       "display": "flex",
       "flex_flow": "column",
       "width": "100%"
      }
     },
     "537640933e114580888091a0681d048b": {
      "model_module": "@jupyter-widgets/base",
      "model_module_version": "2.0.0",
      "model_name": "LayoutModel",
      "state": {}
     },
     "550c12d46ed544ec8833223a32089060": {
      "model_module": "@jupyter-widgets/base",
      "model_module_version": "2.0.0",
      "model_name": "LayoutModel",
      "state": {
       "align_items": "center",
       "display": "flex",
       "flex_flow": "column",
       "width": "100%"
      }
     },
     "57e9a01fd7ec4595988847141b683c27": {
      "model_module": "@jupyter-widgets/base",
      "model_module_version": "2.0.0",
      "model_name": "LayoutModel",
      "state": {}
     },
     "59ca6c77ab8d4ca08038fb1c52f5721c": {
      "model_module": "@jupyter-widgets/controls",
      "model_module_version": "2.0.0",
      "model_name": "HBoxModel",
      "state": {
       "children": [
        "IPY_MODEL_8c4db45468a04e2ab67192c19a57016e"
       ],
       "layout": "IPY_MODEL_550c12d46ed544ec8833223a32089060"
      }
     },
     "6449ba5264ff4fde9a474e113bf745db": {
      "model_module": "@jupyter-widgets/controls",
      "model_module_version": "2.0.0",
      "model_name": "HBoxModel",
      "state": {
       "children": [
        "IPY_MODEL_8166b58daa7549b0882125b880ce9d40"
       ],
       "layout": "IPY_MODEL_45a75e8ac0c64a05bf6886221d224e6d"
      }
     },
     "64f39bcd40ce4af1aaca24040302ba0f": {
      "model_module": "@jupyter-widgets/base",
      "model_module_version": "2.0.0",
      "model_name": "LayoutModel",
      "state": {
       "align_items": "center",
       "display": "flex",
       "flex_flow": "column",
       "width": "100%"
      }
     },
     "67fc9f20e8364f06ada28284bd20b24b": {
      "model_module": "@jupyter-widgets/base",
      "model_module_version": "2.0.0",
      "model_name": "LayoutModel",
      "state": {
       "align_items": "center",
       "display": "flex",
       "flex_flow": "column",
       "width": "100%"
      }
     },
     "7066f55b4d0d43e2a3ae81f08548d6d7": {
      "model_module": "@jupyter-widgets/controls",
      "model_module_version": "2.0.0",
      "model_name": "HBoxModel",
      "state": {
       "children": [
        "IPY_MODEL_af88e7b519dc49819acc1cbc15bdb942"
       ],
       "layout": "IPY_MODEL_4c155bcf0158417d908e9272a2467390"
      }
     },
     "7e28d1ebb8cc4465917360ed853f8af7": {
      "model_module": "@jupyter-widgets/base",
      "model_module_version": "2.0.0",
      "model_name": "LayoutModel",
      "state": {
       "align_items": "center",
       "display": "flex",
       "flex_flow": "column",
       "width": "100%"
      }
     },
     "7fbae3a1efa94dd1be86f7dc99b4ff75": {
      "model_module": "@jupyter-widgets/controls",
      "model_module_version": "2.0.0",
      "model_name": "ButtonStyleModel",
      "state": {
       "font_family": null,
       "font_size": null,
       "font_style": null,
       "font_variant": null,
       "font_weight": null,
       "text_color": null,
       "text_decoration": null
      }
     },
     "8043467c5d8f40f380af9895372713a7": {
      "model_module": "@jupyter-widgets/controls",
      "model_module_version": "2.0.0",
      "model_name": "ButtonStyleModel",
      "state": {
       "font_family": null,
       "font_size": null,
       "font_style": null,
       "font_variant": null,
       "font_weight": null,
       "text_color": null,
       "text_decoration": null
      }
     },
     "8166b58daa7549b0882125b880ce9d40": {
      "model_module": "@jupyter-widgets/controls",
      "model_module_version": "2.0.0",
      "model_name": "ButtonModel",
      "state": {
       "button_style": "success",
       "description": " START",
       "icon": "play",
       "layout": "IPY_MODEL_4b1c235c2130420eb7adae087a887d60",
       "style": "IPY_MODEL_e2cdbf5f05894ee282d798f285b45181",
       "tooltip": null
      }
     },
     "818b6f95ba704b93a0e89a7b4d1c622c": {
      "model_module": "@jupyter-widgets/controls",
      "model_module_version": "2.0.0",
      "model_name": "HBoxModel",
      "state": {
       "children": [
        "IPY_MODEL_1d2732a90c114d5e83b14da2eb956988"
       ],
       "layout": "IPY_MODEL_90d050c0454147b2af60f9877a131135"
      }
     },
     "83e3aea527d141b8ae242d4630106716": {
      "model_module": "@jupyter-widgets/controls",
      "model_module_version": "2.0.0",
      "model_name": "ButtonModel",
      "state": {
       "button_style": "success",
       "description": " START",
       "icon": "play",
       "layout": "IPY_MODEL_2bd9a4418b0c4fe7b764e9663b2d0a3d",
       "style": "IPY_MODEL_7fbae3a1efa94dd1be86f7dc99b4ff75",
       "tooltip": null
      }
     },
     "8586a270f5dc410eab944d2906d75580": {
      "model_module": "@jupyter-widgets/base",
      "model_module_version": "2.0.0",
      "model_name": "LayoutModel",
      "state": {
       "align_items": "center",
       "display": "flex",
       "flex_flow": "column",
       "width": "100%"
      }
     },
     "85946109a3c84eddbaaa81628d5d00ef": {
      "model_module": "@jupyter-widgets/controls",
      "model_module_version": "2.0.0",
      "model_name": "ButtonModel",
      "state": {
       "button_style": "success",
       "description": " START",
       "icon": "sharp thin user",
       "layout": "IPY_MODEL_3036c283a5b2436f8a0a1bd20fe7b9ad",
       "style": "IPY_MODEL_1581e843d656462fae1dc6c12efbab4b",
       "tooltip": null
      }
     },
     "866b69abec6046059c213ea536fd8e48": {
      "model_module": "@jupyter-widgets/controls",
      "model_module_version": "2.0.0",
      "model_name": "ButtonStyleModel",
      "state": {
       "font_family": null,
       "font_size": null,
       "font_style": null,
       "font_variant": null,
       "font_weight": null,
       "text_color": null,
       "text_decoration": null
      }
     },
     "8c3bb5dcce314c61a5a650cec16146a8": {
      "model_module": "@jupyter-widgets/base",
      "model_module_version": "2.0.0",
      "model_name": "LayoutModel",
      "state": {
       "align_items": "center",
       "display": "flex",
       "flex_flow": "column",
       "width": "100%"
      }
     },
     "8c4db45468a04e2ab67192c19a57016e": {
      "model_module": "@jupyter-widgets/controls",
      "model_module_version": "2.0.0",
      "model_name": "ButtonModel",
      "state": {
       "button_style": "success",
       "description": "START",
       "layout": "IPY_MODEL_df1e57b9c4224c3eb2041076202fe4de",
       "style": "IPY_MODEL_eca0b08ac0f84069b021bed00b1d9140",
       "tooltip": null
      }
     },
     "90c38d9fa1f342d9a399f770b1c03e3b": {
      "model_module": "@jupyter-widgets/base",
      "model_module_version": "2.0.0",
      "model_name": "LayoutModel",
      "state": {}
     },
     "90d050c0454147b2af60f9877a131135": {
      "model_module": "@jupyter-widgets/base",
      "model_module_version": "2.0.0",
      "model_name": "LayoutModel",
      "state": {
       "align_items": "center",
       "display": "flex",
       "flex_flow": "column",
       "width": "100%"
      }
     },
     "9232f27a0f5944a4beb06ed4dfe15e91": {
      "model_module": "@jupyter-widgets/controls",
      "model_module_version": "2.0.0",
      "model_name": "HBoxModel",
      "state": {
       "children": [
        "IPY_MODEL_85946109a3c84eddbaaa81628d5d00ef"
       ],
       "layout": "IPY_MODEL_1d3b8983f6304f719f92905ca47bb51d"
      }
     },
     "92974314352a4c29996c558d576b9664": {
      "model_module": "@jupyter-widgets/base",
      "model_module_version": "2.0.0",
      "model_name": "LayoutModel",
      "state": {}
     },
     "961d75fdc88043079e1f2d48d04a2e6f": {
      "model_module": "@jupyter-widgets/controls",
      "model_module_version": "2.0.0",
      "model_name": "ButtonStyleModel",
      "state": {
       "font_family": null,
       "font_size": null,
       "font_style": null,
       "font_variant": null,
       "font_weight": null,
       "text_color": null,
       "text_decoration": null
      }
     },
     "96843afefb834c5eba3f323fa033f25b": {
      "model_module": "@jupyter-widgets/controls",
      "model_module_version": "2.0.0",
      "model_name": "ButtonStyleModel",
      "state": {
       "font_family": null,
       "font_size": null,
       "font_style": null,
       "font_variant": null,
       "font_weight": null,
       "text_color": null,
       "text_decoration": null
      }
     },
     "9ce3cb5477694f34b3925427eb934a91": {
      "model_module": "@jupyter-widgets/controls",
      "model_module_version": "2.0.0",
      "model_name": "ButtonModel",
      "state": {
       "button_style": "success",
       "description": " START",
       "icon": "play",
       "layout": "IPY_MODEL_081578a47bae42da8aba785978085fa9",
       "style": "IPY_MODEL_3aa33ee8a31c47d8b3d8c2a96ebf8981",
       "tooltip": null
      }
     },
     "a2de7fd5418d480fa8381e3080bfb737": {
      "model_module": "@jupyter-widgets/controls",
      "model_module_version": "2.0.0",
      "model_name": "ButtonStyleModel",
      "state": {
       "font_family": null,
       "font_size": null,
       "font_style": null,
       "font_variant": null,
       "font_weight": null,
       "text_color": null,
       "text_decoration": null
      }
     },
     "a371765809a344e998cb79436507f289": {
      "model_module": "@jupyter-widgets/base",
      "model_module_version": "2.0.0",
      "model_name": "LayoutModel",
      "state": {}
     },
     "a7e40e6305b1473f992714941fc934c1": {
      "model_module": "@jupyter-widgets/controls",
      "model_module_version": "2.0.0",
      "model_name": "ButtonModel",
      "state": {
       "button_style": "success",
       "description": " START",
       "icon": "play",
       "layout": "IPY_MODEL_40503bbc91e14327a2ee6d6e9c10645d",
       "style": "IPY_MODEL_e91f5d4c9f7149c4bdb4740df03013d9",
       "tooltip": null
      }
     },
     "af88e7b519dc49819acc1cbc15bdb942": {
      "model_module": "@jupyter-widgets/controls",
      "model_module_version": "2.0.0",
      "model_name": "ButtonModel",
      "state": {
       "button_style": "success",
       "description": " START",
       "icon": "play",
       "layout": "IPY_MODEL_bfb27eca4b1f4f04a77a3f9fdd65d186",
       "style": "IPY_MODEL_0f18e8bd1e0046f688dcdedab1a87649",
       "tooltip": null
      }
     },
     "b5978f6ac2e642e49569ae525b4ee0ea": {
      "model_module": "@jupyter-widgets/controls",
      "model_module_version": "2.0.0",
      "model_name": "ButtonStyleModel",
      "state": {
       "font_family": null,
       "font_size": null,
       "font_style": null,
       "font_variant": null,
       "font_weight": null,
       "text_color": null,
       "text_decoration": null
      }
     },
     "b7201b0e50f7496593f63aa886dc9a17": {
      "model_module": "@jupyter-widgets/controls",
      "model_module_version": "2.0.0",
      "model_name": "ButtonStyleModel",
      "state": {
       "font_family": null,
       "font_size": null,
       "font_style": null,
       "font_variant": null,
       "font_weight": null,
       "text_color": null,
       "text_decoration": null
      }
     },
     "b7e8f71bf8c5408a95d8a5533eed734f": {
      "model_module": "@jupyter-widgets/base",
      "model_module_version": "2.0.0",
      "model_name": "LayoutModel",
      "state": {}
     },
     "bfb0c00eca2a4b5da3f7aaf22313711a": {
      "model_module": "@jupyter-widgets/controls",
      "model_module_version": "2.0.0",
      "model_name": "HBoxModel",
      "state": {
       "children": [
        "IPY_MODEL_033d4dc543df4abaaf3183cd61026e26"
       ],
       "layout": "IPY_MODEL_c4e645a8ec1a4eb384ae459b15d82058"
      }
     },
     "bfb27eca4b1f4f04a77a3f9fdd65d186": {
      "model_module": "@jupyter-widgets/base",
      "model_module_version": "2.0.0",
      "model_name": "LayoutModel",
      "state": {}
     },
     "c4e645a8ec1a4eb384ae459b15d82058": {
      "model_module": "@jupyter-widgets/base",
      "model_module_version": "2.0.0",
      "model_name": "LayoutModel",
      "state": {
       "align_items": "center",
       "display": "flex",
       "flex_flow": "column",
       "width": "100%"
      }
     },
     "c587aaa3504d438eacc1e9e2b4cf865d": {
      "model_module": "@jupyter-widgets/controls",
      "model_module_version": "2.0.0",
      "model_name": "ButtonModel",
      "state": {
       "button_style": "success",
       "description": " START",
       "icon": "play",
       "layout": "IPY_MODEL_030294e46a2740d69acdb3be4436e0ba",
       "style": "IPY_MODEL_a2de7fd5418d480fa8381e3080bfb737",
       "tooltip": null
      }
     },
     "c5f491e592eb4f00ac1daf60358b22d0": {
      "model_module": "@jupyter-widgets/base",
      "model_module_version": "2.0.0",
      "model_name": "LayoutModel",
      "state": {
       "align_items": "center",
       "display": "flex",
       "flex_flow": "column",
       "width": "100%"
      }
     },
     "c6665b564bf1441d8e444af974118456": {
      "model_module": "@jupyter-widgets/controls",
      "model_module_version": "2.0.0",
      "model_name": "HBoxModel",
      "state": {
       "children": [
        "IPY_MODEL_f00acb1120ec4def9b7da581a2ea6e68"
       ],
       "layout": "IPY_MODEL_4251d113e3184dc9957740b24a4e51da"
      }
     },
     "c8c591715a5845bd8f70c1bfb1cc431b": {
      "model_module": "@jupyter-widgets/controls",
      "model_module_version": "2.0.0",
      "model_name": "ButtonModel",
      "state": {
       "button_style": "success",
       "description": "START",
       "icon": "play",
       "layout": "IPY_MODEL_a371765809a344e998cb79436507f289",
       "style": "IPY_MODEL_3b3c6571e4ca4c62924ec9fb865885df",
       "tooltip": null
      }
     },
     "cba5a0fbc16a482495e28266b6afe9a8": {
      "model_module": "@jupyter-widgets/base",
      "model_module_version": "2.0.0",
      "model_name": "LayoutModel",
      "state": {
       "align_items": "center",
       "display": "flex",
       "flex_flow": "column",
       "width": "100%"
      }
     },
     "ce967df952bc4300bc28228767763b5b": {
      "model_module": "@jupyter-widgets/controls",
      "model_module_version": "2.0.0",
      "model_name": "ButtonStyleModel",
      "state": {
       "font_family": null,
       "font_size": null,
       "font_style": null,
       "font_variant": null,
       "font_weight": null,
       "text_color": null,
       "text_decoration": null
      }
     },
     "cff5df0cf74249c590f6c8afe05a9935": {
      "model_module": "@jupyter-widgets/base",
      "model_module_version": "2.0.0",
      "model_name": "LayoutModel",
      "state": {}
     },
     "d808960d11494a94897f7b2a386a9860": {
      "model_module": "@jupyter-widgets/controls",
      "model_module_version": "2.0.0",
      "model_name": "ButtonModel",
      "state": {
       "button_style": "success",
       "description": " START",
       "icon": "sharp thin user",
       "layout": "IPY_MODEL_ef708686eeed4a399514aa39019ce968",
       "style": "IPY_MODEL_2981610c383541619d70af255a2e6d45",
       "tooltip": null
      }
     },
     "d9cbf7e5babf47e7aecf526e08e54046": {
      "model_module": "@jupyter-widgets/controls",
      "model_module_version": "2.0.0",
      "model_name": "HBoxModel",
      "state": {
       "children": [
        "IPY_MODEL_f9e208fc22924713aff2b8ce327117dc"
       ],
       "layout": "IPY_MODEL_f4d6257aaa4d44448bf29f44afe4c897"
      }
     },
     "ddb1ce713d5849ec98a270af7eebae73": {
      "model_module": "@jupyter-widgets/base",
      "model_module_version": "2.0.0",
      "model_name": "LayoutModel",
      "state": {
       "align_items": "center",
       "display": "flex",
       "flex_flow": "column",
       "width": "100%"
      }
     },
     "df1e57b9c4224c3eb2041076202fe4de": {
      "model_module": "@jupyter-widgets/base",
      "model_module_version": "2.0.0",
      "model_name": "LayoutModel",
      "state": {}
     },
     "e1da1aa1cb054850b01fded92229e201": {
      "model_module": "@jupyter-widgets/controls",
      "model_module_version": "2.0.0",
      "model_name": "ButtonStyleModel",
      "state": {
       "font_family": null,
       "font_size": null,
       "font_style": null,
       "font_variant": null,
       "font_weight": null,
       "text_color": null,
       "text_decoration": null
      }
     },
     "e2cdbf5f05894ee282d798f285b45181": {
      "model_module": "@jupyter-widgets/controls",
      "model_module_version": "2.0.0",
      "model_name": "ButtonStyleModel",
      "state": {
       "font_family": null,
       "font_size": null,
       "font_style": null,
       "font_variant": null,
       "font_weight": null,
       "text_color": null,
       "text_decoration": null
      }
     },
     "e514fdcf2f0940e3808c3a5db8e34b87": {
      "model_module": "@jupyter-widgets/base",
      "model_module_version": "2.0.0",
      "model_name": "LayoutModel",
      "state": {}
     },
     "e8551fb3db654c46a7456263b2674a40": {
      "model_module": "@jupyter-widgets/controls",
      "model_module_version": "2.0.0",
      "model_name": "HBoxModel",
      "state": {
       "children": [
        "IPY_MODEL_a7e40e6305b1473f992714941fc934c1"
       ],
       "layout": "IPY_MODEL_33cdefbd43de466c8127e863420e7220"
      }
     },
     "e91f5d4c9f7149c4bdb4740df03013d9": {
      "model_module": "@jupyter-widgets/controls",
      "model_module_version": "2.0.0",
      "model_name": "ButtonStyleModel",
      "state": {
       "font_family": null,
       "font_size": null,
       "font_style": null,
       "font_variant": null,
       "font_weight": null,
       "text_color": null,
       "text_decoration": null
      }
     },
     "ec48dc8295b648c0a6b9bb6c0859eb89": {
      "model_module": "@jupyter-widgets/controls",
      "model_module_version": "2.0.0",
      "model_name": "HBoxModel",
      "state": {
       "children": [
        "IPY_MODEL_c587aaa3504d438eacc1e9e2b4cf865d"
       ],
       "layout": "IPY_MODEL_cba5a0fbc16a482495e28266b6afe9a8"
      }
     },
     "eca0b08ac0f84069b021bed00b1d9140": {
      "model_module": "@jupyter-widgets/controls",
      "model_module_version": "2.0.0",
      "model_name": "ButtonStyleModel",
      "state": {
       "font_family": null,
       "font_size": null,
       "font_style": null,
       "font_variant": null,
       "font_weight": null,
       "text_color": null,
       "text_decoration": null
      }
     },
     "ef708686eeed4a399514aa39019ce968": {
      "model_module": "@jupyter-widgets/base",
      "model_module_version": "2.0.0",
      "model_name": "LayoutModel",
      "state": {}
     },
     "f00acb1120ec4def9b7da581a2ea6e68": {
      "model_module": "@jupyter-widgets/controls",
      "model_module_version": "2.0.0",
      "model_name": "ButtonModel",
      "state": {
       "button_style": "success",
       "description": " START",
       "icon": "play",
       "layout": "IPY_MODEL_21150ad95081486ab6c23902fec4e74c",
       "style": "IPY_MODEL_866b69abec6046059c213ea536fd8e48",
       "tooltip": null
      }
     },
     "f154fa6d2c6c4ee8ae0409f60c9aa383": {
      "model_module": "@jupyter-widgets/base",
      "model_module_version": "2.0.0",
      "model_name": "LayoutModel",
      "state": {}
     },
     "f2c80201984b4ff2bea1384ce07c7df8": {
      "model_module": "@jupyter-widgets/controls",
      "model_module_version": "2.0.0",
      "model_name": "ButtonStyleModel",
      "state": {
       "font_family": null,
       "font_size": null,
       "font_style": null,
       "font_variant": null,
       "font_weight": null,
       "text_color": null,
       "text_decoration": null
      }
     },
     "f4d6257aaa4d44448bf29f44afe4c897": {
      "model_module": "@jupyter-widgets/base",
      "model_module_version": "2.0.0",
      "model_name": "LayoutModel",
      "state": {
       "align_items": "center",
       "display": "flex",
       "flex_flow": "column",
       "width": "100%"
      }
     },
     "f9e208fc22924713aff2b8ce327117dc": {
      "model_module": "@jupyter-widgets/controls",
      "model_module_version": "2.0.0",
      "model_name": "ButtonModel",
      "state": {
       "button_style": "success",
       "description": " START",
       "icon": "play",
       "layout": "IPY_MODEL_57e9a01fd7ec4595988847141b683c27",
       "style": "IPY_MODEL_96843afefb834c5eba3f323fa033f25b",
       "tooltip": null
      }
     },
     "fac156de0b09451db9fbd8ac44080ad2": {
      "model_module": "@jupyter-widgets/controls",
      "model_module_version": "2.0.0",
      "model_name": "ButtonModel",
      "state": {
       "button_style": "success",
       "description": " START",
       "icon": "play",
       "layout": "IPY_MODEL_f154fa6d2c6c4ee8ae0409f60c9aa383",
       "style": "IPY_MODEL_961d75fdc88043079e1f2d48d04a2e6f",
       "tooltip": null
      }
     },
     "fdb9135c7db94042af1eda0475c5b9b9": {
      "model_module": "@jupyter-widgets/controls",
      "model_module_version": "2.0.0",
      "model_name": "ButtonModel",
      "state": {
       "button_style": "success",
       "description": "START",
       "icon": "play",
       "layout": "IPY_MODEL_3a92c5a841ba4a01b088b23074b05a5f",
       "style": "IPY_MODEL_f2c80201984b4ff2bea1384ce07c7df8",
       "tooltip": null
      }
     }
    },
    "version_major": 2,
    "version_minor": 0
   }
  }
 },
 "nbformat": 4,
 "nbformat_minor": 5
}
