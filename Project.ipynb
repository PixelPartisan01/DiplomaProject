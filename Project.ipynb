{
 "cells": [
  {
   "cell_type": "markdown",
   "id": "90ec2938-341d-4c87-bb78-d6ec3aeb2ff6",
   "metadata": {
    "editable": true,
    "slideshow": {
     "slide_type": "slide"
    },
    "tags": []
   },
   "source": [
    "# <div STYLE=\"width:70%;margin:auto;\" align = \"center\"><a id=\"1\"><center>__Képfeldolgozás__</center></a></div> #\n",
    "<font size=\"2\"><center>`Írta: Váradi Sándor`<center></font><br><br>"
   ]
  },
  {
   "cell_type": "markdown",
   "id": "38e0f492-51c8-4fa2-ad6a-f5ebef0712ec",
   "metadata": {},
   "source": [
    "<div STYLE=\"width:70%;margin:auto;\" align = \"center\">\n",
    "<p><a href=\"#1\">Képfeldolgozás</a><br></p>\n",
    "<p STYLE=\"text-indent: 25px;\"><a href=\"#1.1\">A képfeldolgozás és annak nehézségei</a></p>\n",
    "<p STYLE=\"text-indent: 25px;\"><a href=\"#1.2\">A képek matematikai háttere</a></p>\n",
    "<p STYLE=\"text-indent: 50px;\"><a href=\"#1.21\">Önellenőrző teszt</a></p>\n",
    "<p STYLE=\"text-indent: 25px;\"><a href=\"#1.3\">Képek előfeldolgozása</a></p>\n",
    "<p><a href=\"#2\">Felhasznált irodalom</a><br></p>\n",
    "</div>"
   ]
  },
  {
   "cell_type": "markdown",
   "id": "499c4fd9-cdcf-47f0-9f93-dd73d6a33739",
   "metadata": {
    "editable": true,
    "slideshow": {
     "slide_type": "slide"
    },
    "tags": []
   },
   "source": [
    "## <div STYLE=\"width:70%;margin:auto;\" align = \"center\"><br><a id=\"1.1\"><center>A képfeldolgozás és annak nehézségei<center></a></div> ##"
   ]
  },
  {
   "cell_type": "markdown",
   "id": "bf75d6d8-2fd1-413d-b344-f9cdfdd9f277",
   "metadata": {
    "editable": true,
    "slideshow": {
     "slide_type": "subslide"
    },
    "tags": []
   },
   "source": [
    "<div STYLE=\"width:70%;margin:auto;\" align = \"center\"><p STYLE = \"text-align:justify\">Számunkra a világ megértésében, elengedhetetlen szerepet játszik az érzékelés, többek között a látás. Így, ha mesterséges úton kívánunk olyan intelligenciát létrehozni (MI), amely az emberi intelligenciát hivatott imitálni, a látás szintén egy elengedhetetlen tényező. Viszont egy számítógép felépítése igencsak eltér az emeberétől, így a gépi látás egyáltalán nem egy triviális probléma. Egyrészről szeretnénk a képeket az ember számára felfogható, másrészről pedig a gép számára értelemzhető  formába alakítani. A képfeldolgozás pontosan ezekre a problémákra keresi a megoldást.</p></div>"
   ]
  },
  {
   "cell_type": "markdown",
   "id": "4953c455-713c-4347-a31b-7d0f25c3951e",
   "metadata": {
    "editable": true,
    "raw_mimetype": "",
    "slideshow": {
     "slide_type": "subslide"
    },
    "tags": []
   },
   "source": [
    "<div STYLE=\"width:70%;margin:auto;\" align = \"center\">\n",
    "    <p STYLE=\"text-align:justify\">Habár képfeldolgozásról hivatalosan az 1960-as évektől kezdve beszélhetünk, a legelső digitális képfeldolgozás már az 1920-as években megtörtént, amikor Londonból New York-ba küldtek képeket víz alatti kábeleken keresztül.<br>1964-ben a <i>Ranger 7</i> nevezetű űrszonda sikeresen képeket továbbított a hold felszínéről. A hold felszínének számítógépes feltérképezése hatalmas siker volt.<br>A 2000-es évekre az általános célú számítógépek gyors elterjedésével a digitális képfeldolgozás lett a leggyakoribb képfeldolgozási forma.\n",
    "    </p>\n",
    "</div>"
   ]
  },
  {
   "cell_type": "markdown",
   "id": "841d25c8-02ff-4c3c-b795-962510be06c3",
   "metadata": {
    "editable": true,
    "slideshow": {
     "slide_type": "subslide"
    },
    "tags": []
   },
   "source": [
    "<div STYLE=\"width:70%;margin:auto;\" align = \"center\">\n",
    "    <p>A számítógépes képfeldolgozás során különféle nehézségekkel kel szembenéznünk. Az alábbi lista tartalmaz ezek közül egy párat:\n",
    "    <ul STYLE=\"text-align:justify\">\n",
    "        <li>Információ veszteség 3D-ből 2D-be alakítás során</li>\n",
    "            <dd>A képrögzítő eszközök (pl.: kamerák) általában csak 2D-ben tudnak rögzíteni, és csak egy szögből, így a nehézséget jelenthet az objektumok térben való elhelyezkedésének megállapítása.</dd>\n",
    "        <li>Kép értelmezése</li>\n",
    "            <dd>Akárcsak számunkra, a számítógép számára is nehézséget okozhat a kép, illetve az azon megjelenő formák, objektumok felismerése, értelmezése.</dd>\n",
    "        <li>Zaj</li>\n",
    "            <dd>A túl sok zaj a kép olyan mértékű torzulásához vezethet, amelynél az eredeti információ visszaállítása nagyon nehéz, vagy akár nem is lehetséges.</dd>\n",
    "        <li>Túl sok adat</li>\n",
    "            <dd>Nagy felbontású képek lassíthatják a képfeldolgozási algoritmusokat.</dd>\n",
    "    </ul><br>\n",
    "    </p>\n",
    "</div>"
   ]
  },
  {
   "cell_type": "markdown",
   "id": "5c9bf324-ca9f-4436-bf75-173733c4f065",
   "metadata": {
    "editable": true,
    "slideshow": {
     "slide_type": "fragment"
    },
    "tags": []
   },
   "source": [
    "<div STYLE=\"width:70%;margin:auto;\" align = \"center\">\n",
    "    <div class=\"alert alert-block alert-info\">\n",
    "        <center><b>Feladat:</b> Próbáld meg megállapítani, hogy mit ábrázol az alábbi kép</center>\n",
    "    </div>\n",
    "</div>"
   ]
  },
  {
   "cell_type": "markdown",
   "id": "7110e981-4d7d-4d1f-807e-d3dbf41fc23a",
   "metadata": {
    "editable": true,
    "slideshow": {
     "slide_type": "fragment"
    },
    "tags": []
   },
   "source": [
    "<div STYLE=\"width:70%;margin:auto;\" align = \"center\">\n",
    "    <center>\n",
    "        <figure>\n",
    "            <img src=\"img/ezmiez.jpg\" alt=\"Mi van a képen?\" style=\"width:40%;padding:20px\">\n",
    "            <figcaption>Ez meg mi?</figcaption>\n",
    "        </figure>\n",
    "    </center>\n",
    "</div>"
   ]
  },
  {
   "cell_type": "code",
   "execution_count": 4,
   "id": "a576fd1d-2ab4-449e-bcb5-789d83824b90",
   "metadata": {
    "editable": true,
    "slideshow": {
     "slide_type": ""
    },
    "tags": [
     "hide_output"
    ]
   },
   "outputs": [
    {
     "name": "stdout",
     "output_type": "stream",
     "text": [
      "Note: you may need to restart the kernel to use updated packages.\n"
     ]
    }
   ],
   "source": [
    "pip install jupyterquiz==2.7.0a3 jupytercards opencv-python -q"
   ]
  },
  {
   "cell_type": "code",
   "execution_count": null,
   "id": "c470caf0-16c8-440d-9681-69e8d1ae400e",
   "metadata": {
    "editable": true,
    "slideshow": {
     "slide_type": "fragment"
    },
    "tags": [
     "card"
    ]
   },
   "outputs": [],
   "source": [
    "# Ha nem jelenik meg a kártya, futtasd le a kódot\n",
    "#from jupytercards import md2json, display_flashcards\n",
    "#import json\n",
    "\n",
    "#with open('flashcards/flashcard_1.json', encoding='utf-8') as fc:\n",
    "#    data = json.load(fc)\n",
    "#    #print(data)\n",
    "#    display_flashcards(data)"
   ]
  },
  {
   "cell_type": "markdown",
   "id": "d9f751e3-faa1-42b3-8e41-f30ed9643c0d",
   "metadata": {
    "editable": true,
    "slideshow": {
     "slide_type": ""
    },
    "tags": []
   },
   "source": [
    "<div STYLE=\"width:70%;margin:auto;\" align = \"center\">\n",
    "    <p STYLE=\"text-align:justify\"><img src=\"img/Amesroom.jpg\" alt=\"Ames szoba?\" STYLE=\"width:30%;margin-left:20px;float:right\"> Tény, hogy a fenti kép elég becsapós volt, de tekintüsk meg a következő képet. Annak ellenére, hogy felismerjük rajta az embereket, a méretek valahogy nem tűnnek helyesnek. Az illúziót egyébként egy úgynevezett <i>Ames szobában</i> lehet elérni, ahol a padló és a szoba hátsó fala, direkt nem vízszintes.\n",
    "    </p>\n",
    "</div>"
   ]
  },
  {
   "cell_type": "markdown",
   "id": "4ba98327-5dc7-48cb-b2cd-e8e8f108e90c",
   "metadata": {},
   "source": [
    "## <div STYLE=\"width:70%;margin:auto;\" align = \"center\"><br><a id=\"1.2\"><center>A képek matematikai háttere</center></a></div> ##"
   ]
  },
  {
   "cell_type": "markdown",
   "id": "bcc623ab-c85f-428d-a04d-88ca3ef8ed42",
   "metadata": {},
   "source": [
    "<div STYLE=\"width:70%;margin:auto;\" align = \"center\">\n",
    "    <div class=\"alert alert-block alert-info\">\n",
    "        <b>Feladat:</b> Olvasd el az alábbi definíciókat \n",
    "    </div>\n",
    "</div>"
   ]
  },
  {
   "cell_type": "markdown",
   "id": "3e3b4575-397b-4951-8fd4-3ba4c999ac15",
   "metadata": {},
   "source": [
    "><div STYLE=\"width:70%;margin:auto;\" align = \"center\"><div class=\"alert alert-block alert-warning\"><p STYLE=\"text-align:justify\"><i><b>Definíció:</b></i> A Zn halmaz egy n dimenziós digitális sík, elemei pontok. A digitális sík egy véges és nem üres részhalmaza, n dimenziós digitális halmaz.<br>\n",
    ">Legyen f:X→{0,1,...,m−1}, (m∈N) egy függvény X digitális halmaz felett értelmezve. Ezt a függvényt tekinthetjük egy digitális képnek, amely a szürke szín m darab árnyalatból épül fel (szürkeségi szint).<br>\n",
    ">A (p,f(p)), (p∈X) <i>pixel</i>nek (<i>picture (x) element</i>) nevezzük, ahol p a pixel koordinátája és f(p) az adott koordintátán lévő pixel szürkeségi szintjét megadó függvény.</p></div></div>"
   ]
  },
  {
   "attachments": {},
   "cell_type": "markdown",
   "id": "260d31b2-2509-42a0-996c-db0cfecfe75a",
   "metadata": {},
   "source": [
    "><div STYLE=\"width:70%;margin:auto;\" align = \"center\"><div class=\"alert alert-block alert-warning\"><p STYLE=\"text-align:justify\"><i><b>Definíció:</b></i> Legyen f egy digitális kép adott X digitális halamz felett. Azt a f digitális képet, amelynek szürkeségi szintje 2 (azaz csak két árnyalatból épül fel), bináris képnek hívjuk, ahol F={p∈X|f(p)=1} az előtér (<i>foreground</i>), B={p∈X|f(p)=0} a háttér (<i>background</i>).</p></div>\n",
    "><center>\n",
    ">    <figure>\n",
    ">        <img STYLE=\"float:bottom;margin-left:15px;\" src=\"img/binary_image.png\">\n",
    ">        <figcaption>Előtér és Háttér pixelek</figcaption>\n",
    ">    </figure>\n",
    "></center></div>\n"
   ]
  },
  {
   "cell_type": "markdown",
   "id": "110ff446-deb4-4049-83b3-88217608d16e",
   "metadata": {},
   "source": [
    "### <div STYLE=\"width:70%;margin:auto;\" align = \"center\"><br><a id=\"1.21\"><center>Önellenőrző teszt</center></a></div> ###"
   ]
  },
  {
   "cell_type": "code",
   "execution_count": null,
   "id": "2898480a-6598-4624-acf5-7aee629c411c",
   "metadata": {},
   "outputs": [],
   "source": [
    "#Ha nem látod a tesztet futtasd le ezt a kódot!\n",
    "from jupyterquiz import display_quiz\n",
    "import json\n",
    "\n",
    "with open('questions/quiz_1.2.json', encoding='utf-8') as q:\n",
    "    quiz = json.load(q)\n",
    "    #print(data)\n",
    "    display_quiz(quiz)"
   ]
  },
  {
   "cell_type": "markdown",
   "id": "460b7109-ea86-4841-9340-a5935d83490a",
   "metadata": {},
   "source": [
    "## <br><a id=\"1.3\"><center>Képek előfeldolgozása</center></a> ##"
   ]
  },
  {
   "cell_type": "markdown",
   "id": "30c41f2b-d913-48a3-9877-9162fdff6557",
   "metadata": {
    "editable": true,
    "slideshow": {
     "slide_type": ""
    },
    "tags": []
   },
   "source": [
    "<div STYLE=\"width:70%;margin:auto;\" align = \"center\">\n",
    "    <p STYLE=\"text-align:justify\"><div width=\"inherit\" STYLE=\"float:right;margin-left:20px;\"><img width=\"60%\" src=\"img/Lenna_grayscale.jpg\" ><br><center> Lenna szürkeárnyalatos képként tekinthető intenzitás képnek </center></div>\n",
    "        A képek előfeldolgozása alatt azt a folyamatot értjük, amely során a kép által tárolt adatokat, vagy a kép bizonyos jellemzőit javítjuk, esetleg a képen geometriai transzformációkat hajtunk végre további feldolgozás céljából. A folyamatot <i>intenzitás képeken</i> hajtjuk végre és a folyamat végén intenzitás képeket is kapunk vissza [Megjegyzés: az intenzitás képek alatt olyan adatmátrixokat értünk, amely a kép pixeleinek intenzitását reprezentálja egy bizonyos tartományon belül. Ilyen képek például a szürkeárnyalatos képek, ahol a pixelek intenzitás értéke 0 és 1 között mozog].<br><br>\n",
    "        A kép-előfeldolgozásnak a következő négy kategóriáját tudjuk elkülöníteni:\n",
    "        <ul>\n",
    "            <li>\n",
    "                Pixel intenzitás transzformáció\n",
    "            </li>\n",
    "            <li>\n",
    "                Geometriai transzformáció\n",
    "            </li>\n",
    "            <li>\n",
    "                Képfeldolgozás lokális szomszédság felhasználásával\n",
    "            </li>\n",
    "            <li>\n",
    "                Képhelyreállítás\n",
    "            </li>\n",
    "        </ul>\n",
    "        <p STYLE=\"text-align:justify\">Ezen kategórák közül fogunk példátkat nézni néhányra elkövetkező fejezetekben.</p>\n",
    "    </p>\n",
    "</div>"
   ]
  },
  {
   "cell_type": "markdown",
   "id": "efb4a30a-d998-4b2d-93c2-c190c53e3069",
   "metadata": {
    "editable": true,
    "slideshow": {
     "slide_type": "slide"
    },
    "tags": []
   },
   "source": [
    "# <div STYLE=\"width:70%;margin:auto;\" align = \"center\"><br><a id=\"2\"><center>Felhasznált irodalom</center></a></div> #"
   ]
  },
  {
   "cell_type": "markdown",
   "id": "9d43bc5c-624e-48c2-9579-1068663b6e1f",
   "metadata": {
    "editable": true,
    "raw_mimetype": "",
    "slideshow": {
     "slide_type": "fragment"
    },
    "tags": []
   },
   "source": [
    "_<p STYLE=\"text-align: center\">Dr. Fazekas Attila: Képfeldolgozás és Orvosi Képalkotás (diasor)</p>_\n",
    "_<p STYLE=\"text-align: center\"><a target=\"_blank\" href=\"https://ijarcce.com/wp-content/uploads/2022/06/IJARCCE.2022.11672.pdf\">Digital Image Processing: Its History and Application</a></p>_"
   ]
  },
  {
   "cell_type": "raw",
   "id": "9e4d3207-4304-4550-859d-38bdcbc0da39",
   "metadata": {},
   "source": [
    "Segítség a segédlet megírásához. Eltávolításra kerül."
   ]
  },
  {
   "cell_type": "markdown",
   "id": "cde50cb1-7f0b-49b5-8ef1-37daa42707dc",
   "metadata": {},
   "source": [
    "<div STYLE=\"width:70%;margin:auto;\" align = \"center\">Container</div>"
   ]
  },
  {
   "cell_type": "markdown",
   "id": "b2281242-70cb-4686-8d49-a370ceca8ed1",
   "metadata": {
    "editable": true,
    "slideshow": {
     "slide_type": ""
    },
    "tags": []
   },
   "source": [
    "############# Markdown parser in Jupyter notebooks ##################\n",
    "\n",
    "<div class=\"alert alert-block alert-info\"> <b>NOTE</b> Use blue boxes for Tips and notes. </div>\n",
    "\n",
    "<div class=\"alert alert-block alert-success\"> Use green boxes sparingly, and only for some specific purpose that the other boxes can't cover. For example, if you have a lot of related content to link to, maybe you decide to use green boxes for related links from each section of a notebook. </div>\n",
    "\n",
    "<div class=\"alert alert-block alert-warning\"> Use yellow boxes for examples that are not inside code cells, or use for mathematical formulas if needed. </div>\n",
    "\n",
    "<div class=\"alert alert-block alert-danger\"> In general, just avoid the red boxes. </div>\n",
    "\n",
    "############# Markdown parser in Sphinx ##################\n",
    "\n",
    "<div class=\"admonition note\"> <p class=\"admonition-title\">Note</p> <p>You should note that the title will be automatically capitalized.</p> </div>\n",
    "\n",
    "<div class=\"admonition danger\"> <p class=\"admonition-title\">Don't try this at home</p> <p>...</p> </div>\n",
    "\n",
    "<div class=\"admonition important\"> <p>This is an admonition box without a title.</p> </div>"
   ]
  },
  {
   "cell_type": "markdown",
   "id": "dfdfed8f-9507-47d7-9c26-21e1c23e4224",
   "metadata": {},
   "source": [
    "<p STYLE=\"text-align:justify\">Lorem ipsum dolor sit amet, consectetur adipiscing elit. Etiam vitae tempus nisl. Sed eget tincidunt ipsum, vitae tempus lorem. Nullam sit amet erat sit amet velit rutrum mollis sit amet sit amet sapien. In vulputate tellus eget quam tincidunt ornare. Ut dui lorem, dictum non gravida vitae, feugiat sit amet neque. Morbi hendrerit justo tincidunt, ultrices ligula eget, varius nulla. Maecenas a metus et metus eleifend accumsan. Vestibulum finibus congue orci, id dictum ligula varius placerat. Pellentesque a risus in dui accumsan convallis a et nunc. Proin non lacinia sapien. Aenean libero quam, commodo et arcu a, efficitur tempus mauris. Maecenas ut nibh non purus egestas laoreet eget vitae libero. Aenean nec erat nulla. Morbi non posuere lacus, eu venenatis tortor. Etiam nec pharetra libero, non mollis ex.ome \n",
    "</p>"
   ]
  },
  {
   "cell_type": "markdown",
   "id": "7eecbf9b-e069-40e9-ae35-01f8f5ff8b8c",
   "metadata": {},
   "source": [
    "```python\n",
    "from pyomo.environ import *\n",
    "model = Concretemodel()\n",
    "```"
   ]
  },
  {
   "cell_type": "code",
   "execution_count": null,
   "id": "206ffbff-7d64-44f6-8e0c-cfcb597db31a",
   "metadata": {},
   "outputs": [],
   "source": [
    "from jupyterquiz import display_quiz\n",
    "import json \n",
    "\n",
    "with open(\"questions/quiz.json\", encoding='utf-8') as q:\n",
    "    questions = json.load(q)\n",
    "    #json.dump(questions, q, indent=4)\n",
    "    display_quiz(questions)"
   ]
  },
  {
   "cell_type": "code",
   "execution_count": null,
   "id": "deebbd11-0da5-48f0-b1d4-d1f4250b08d8",
   "metadata": {},
   "outputs": [],
   "source": [
    "import ipywidgets as widgets\n",
    "w = widgets.IntSlider()\n",
    "display(w)"
   ]
  },
  {
   "cell_type": "markdown",
   "id": "4389bb0a-0b0a-4090-bb92-7d357d813ad7",
   "metadata": {},
   "source": [
    "```\n",
    "pip install jupyterquiz==2.7.0a3 jupytercards opencv-python -q\n",
    "```"
   ]
  },
  {
   "cell_type": "code",
   "execution_count": null,
   "id": "95ef9760-3a97-4c5c-a678-d34c5aba3275",
   "metadata": {},
   "outputs": [],
   "source": []
  }
 ],
 "metadata": {
  "kernelspec": {
   "display_name": "Python 3 (ipykernel)",
   "language": "python",
   "name": "python3"
  },
  "language_info": {
   "codemirror_mode": {
    "name": "ipython",
    "version": 3
   },
   "file_extension": ".py",
   "mimetype": "text/x-python",
   "name": "python",
   "nbconvert_exporter": "python",
   "pygments_lexer": "ipython3",
   "version": "3.11.4"
  },
  "toc": {
   "base_numbering": 0
  },
  "widgets": {
   "application/vnd.jupyter.widget-state+json": {
    "state": {},
    "version_major": 2,
    "version_minor": 0
   }
  }
 },
 "nbformat": 4,
 "nbformat_minor": 5
}
